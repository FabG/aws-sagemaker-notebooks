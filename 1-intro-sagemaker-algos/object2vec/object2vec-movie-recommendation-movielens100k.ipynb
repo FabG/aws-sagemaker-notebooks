{
 "cells": [
  {
   "cell_type": "markdown",
   "metadata": {},
   "source": [
    "# An Introduction to SageMaker ObjectToVec model for MovieLens recommendation\n",
    "\n",
    "\n",
    "1. [Background](#Background)\n",
    "1. [Data exploration and preparation](#Data-exploration-and-preparation)\n",
    "1. [Rating prediction task](#Rating-prediction-task)\n",
    "1. [Recommendation task](#Recommendation-task)\n",
    "1. [Movie retrieval in the embedding space](#Movie-retrieval-in-the-embedding-space)"
   ]
  },
  {
   "cell_type": "markdown",
   "metadata": {},
   "source": [
    "# Background\n",
    "\n",
    "### ObjectToVec\n",
    "*Object2Vec* is a highly customizable multi-purpose algorithm that can learn embeddings of pairs of objects. The embeddings are learned such that it preserves their pairwise **similarities** in the original space.\n",
    "- **Similarity** is user-defined: users need to provide the algorithm with pairs of objects that they define as similar (1) or dissimilar (0); alternatively, the users can define similarity in a continuous sense (provide a real-valued similarity score)\n",
    "- The learned embeddings can be used to efficiently compute nearest neighbors of objects, as well as to visualize natural clusters of related objects in the embedding space. In addition, the embeddings can also be used as features of the corresponding objects in downstream supervised tasks such as classification or regression"
   ]
  },
  {
   "cell_type": "markdown",
   "metadata": {},
   "source": [
    "## In this notebook example:\n",
    "We demonstrate how Object2Vec can be used to solve problems arising in recommendation systems. Specifically,\n",
    "\n",
    "- We provide the algorithm with (UserID, MovieID) pairs; for each such pair, we also provide a \"label\" that tells the algorithm whether the user and movie are similar or not\n",
    "\n",
    "     * When the labels are real-valued, we use the algorithm to predict the exact ratings of a movie given a user\n",
    "     * When the labels are binary, we use the algorithm to recommendation movies to users\n",
    "\n",
    "- The diagram below shows the customization of our model to the problem of predicting movie ratings, using a dataset that provides `(UserID, ItemID, Rating)` samples. Here, ratings are real-valued"
   ]
  },
  {
   "cell_type": "markdown",
   "metadata": {},
   "source": [
    "<img style=\"float:middle\" src=\"image_ml_rating.png\" width=\"480\">"
   ]
  },
  {
   "cell_type": "markdown",
   "metadata": {},
   "source": [
    "### Dataset\n",
    "- We use the MovieLens 100k dataset: https://grouplens.org/datasets/movielens/100k/"
   ]
  },
  {
   "cell_type": "markdown",
   "metadata": {},
   "source": [
    "### Use cases\n",
    "\n",
    "- Task 1: Rating prediction (regression)\n",
    "- Task 2: Movie recommendation (classification)\n",
    "- Task 3: Nearest-neighbor movie retrieval in the learned embedding space"
   ]
  },
  {
   "cell_type": "markdown",
   "metadata": {},
   "source": [
    "### Before running the notebook\n",
    "- Please use a Python 3 kernel for the notebook\n",
    "- Please make sure you have `jsonlines` package installed (if not, you can run the command below to install it)"
   ]
  },
  {
   "cell_type": "code",
   "execution_count": 1,
   "metadata": {},
   "outputs": [
    {
     "name": "stdout",
     "output_type": "stream",
     "text": [
      "Collecting jsonlines\n",
      "  Downloading jsonlines-1.2.0-py2.py3-none-any.whl (7.6 kB)\n",
      "Requirement already satisfied: six in /home/ec2-user/anaconda3/envs/python3/lib/python3.6/site-packages (from jsonlines) (1.14.0)\n",
      "Installing collected packages: jsonlines\n",
      "Successfully installed jsonlines-1.2.0\n",
      "\u001b[33mWARNING: You are using pip version 20.0.2; however, version 20.2.3 is available.\n",
      "You should consider upgrading via the '/home/ec2-user/anaconda3/envs/python3/bin/python -m pip install --upgrade pip' command.\u001b[0m\n"
     ]
    }
   ],
   "source": [
    "!pip install jsonlines"
   ]
  },
  {
   "cell_type": "code",
   "execution_count": 2,
   "metadata": {},
   "outputs": [],
   "source": [
    "import os\n",
    "import sys\n",
    "import csv, jsonlines\n",
    "import numpy as np\n",
    "import copy\n",
    "import random"
   ]
  },
  {
   "cell_type": "code",
   "execution_count": 3,
   "metadata": {},
   "outputs": [],
   "source": [
    "%matplotlib inline\n",
    "import matplotlib.pyplot as plt"
   ]
  },
  {
   "cell_type": "markdown",
   "metadata": {},
   "source": [
    "# Data exploration and preparation"
   ]
  },
  {
   "cell_type": "markdown",
   "metadata": {},
   "source": [
    "### License\n",
    "Please be aware of the following requirements about ackonwledgment, copyright and availability, cited from the [data set description page](http://files.grouplens.org/datasets/movielens/ml-100k-README.txt).\n",
    ">The data set may be used for any research\n",
    "purposes under the following conditions:\n",
    "     * The user may not state or imply any endorsement from the\n",
    "       University of Minnesota or the GroupLens Research Group.\n",
    "     * The user must acknowledge the use of the data set in\n",
    "       publications resulting from the use of the data set\n",
    "       (see below for citation information).\n",
    "     * The user may not redistribute the data without separate\n",
    "       permission.\n",
    "     * The user may not use this information for any commercial or\n",
    "       revenue-bearing purposes without first obtaining permission\n",
    "       from a faculty member of the GroupLens Research Project at the\n",
    "       University of Minnesota.\n",
    "If you have any further questions or comments, please contact GroupLens \\<grouplens-info@cs.umn.edu\\>. "
   ]
  },
  {
   "cell_type": "code",
   "execution_count": 4,
   "metadata": {},
   "outputs": [
    {
     "name": "stdout",
     "output_type": "stream",
     "text": [
      "Archive:  ml-100k.zip\n",
      "   creating: ml-100k/\n",
      "  inflating: ml-100k/allbut.pl       \n",
      "  inflating: ml-100k/mku.sh          \n",
      "  inflating: ml-100k/README          \n",
      "  inflating: ml-100k/u.data          \n",
      "  inflating: ml-100k/u.genre         \n",
      "  inflating: ml-100k/u.info          \n",
      "  inflating: ml-100k/u.item          \n",
      "  inflating: ml-100k/u.occupation    \n",
      "  inflating: ml-100k/u.user          \n",
      "  inflating: ml-100k/u1.base         \n",
      "  inflating: ml-100k/u1.test         \n",
      "  inflating: ml-100k/u2.base         \n",
      "  inflating: ml-100k/u2.test         \n",
      "  inflating: ml-100k/u3.base         \n",
      "  inflating: ml-100k/u3.test         \n",
      "  inflating: ml-100k/u4.base         \n",
      "  inflating: ml-100k/u4.test         \n",
      "  inflating: ml-100k/u5.base         \n",
      "  inflating: ml-100k/u5.test         \n",
      "  inflating: ml-100k/ua.base         \n",
      "  inflating: ml-100k/ua.test         \n",
      "  inflating: ml-100k/ub.base         \n",
      "  inflating: ml-100k/ub.test         \n"
     ]
    },
    {
     "name": "stderr",
     "output_type": "stream",
     "text": [
      "  % Total    % Received % Xferd  Average Speed   Time    Time     Time  Current\n",
      "                                 Dload  Upload   Total   Spent    Left  Speed\n",
      "100 4808k  100 4808k    0     0  5591k      0 --:--:-- --:--:-- --:--:-- 5584k\n"
     ]
    }
   ],
   "source": [
    "%%bash\n",
    "\n",
    "curl -o ml-100k.zip http://files.grouplens.org/datasets/movielens/ml-100k.zip\n",
    "unzip ml-100k.zip\n",
    "rm ml-100k.zip"
   ]
  },
  {
   "cell_type": "markdown",
   "metadata": {},
   "source": [
    "Let's first create some utility functions for data exploration and preprocessing"
   ]
  },
  {
   "cell_type": "code",
   "execution_count": 5,
   "metadata": {},
   "outputs": [],
   "source": [
    "## some utility functions\n",
    "\n",
    "def load_csv_data(filename, delimiter, verbose=True):\n",
    "    \"\"\"\n",
    "    input: a file readable as csv and separated by a delimiter\n",
    "    and has format users - movies - ratings - etc\n",
    "    output: a list, where each row of the list is of the form\n",
    "    {'in0':userID, 'in1':movieID, 'label':rating}\n",
    "    \"\"\"\n",
    "    to_data_list = list()\n",
    "    users = list()\n",
    "    movies = list()\n",
    "    ratings = list()\n",
    "    unique_users = set()\n",
    "    unique_movies = set()\n",
    "    with open(filename, 'r') as csvfile:\n",
    "        reader = csv.reader(csvfile, delimiter=delimiter)\n",
    "        for count, row in enumerate(reader):\n",
    "            #if count!=0:\n",
    "            to_data_list.append({'in0':[int(row[0])], 'in1':[int(row[1])], 'label':float(row[2])})\n",
    "            users.append(row[0])\n",
    "            movies.append(row[1])\n",
    "            ratings.append(float(row[2]))\n",
    "            unique_users.add(row[0])\n",
    "            unique_movies.add(row[1])\n",
    "    if verbose:\n",
    "        print(\"In file {}, there are {} ratings\".format(filename, len(ratings)))\n",
    "        print(\"The ratings have mean: {}, median: {}, and variance: {}\".format(\n",
    "                                            round(np.mean(ratings), 2), \n",
    "                                            round(np.median(ratings), 2), \n",
    "                                            round(np.var(ratings), 2)))\n",
    "        print(\"There are {} unique users and {} unique movies\".format(len(unique_users), len(unique_movies)))\n",
    "    return to_data_list\n",
    "\n",
    "\n",
    "def csv_to_augmented_data_dict(filename, delimiter):\n",
    "    \"\"\"\n",
    "    Input: a file that must be readable as csv and separated by delimiter (to make columns)\n",
    "    has format users - movies - ratings - etc\n",
    "    Output:\n",
    "      Users dictionary: keys as user ID's; each key corresponds to a list of movie ratings by that user\n",
    "      Movies dictionary: keys as movie ID's; each key corresponds a list of ratings of that movie by different users\n",
    "    \"\"\"\n",
    "    to_users_dict = dict() \n",
    "    to_movies_dict = dict()\n",
    "    with open(filename, 'r') as csvfile:\n",
    "        reader = csv.reader(csvfile, delimiter=delimiter)\n",
    "        for count, row in enumerate(reader):\n",
    "            #if count!=0:\n",
    "            if row[0] not in to_users_dict:\n",
    "                to_users_dict[row[0]] = [(row[1], row[2])]\n",
    "            else:\n",
    "                to_users_dict[row[0]].append((row[1], row[2]))\n",
    "            if row[1] not in to_movies_dict:\n",
    "                to_movies_dict[row[1]] = list(row[0])\n",
    "            else:\n",
    "                to_movies_dict[row[1]].append(row[0])\n",
    "    return to_users_dict, to_movies_dict\n",
    "\n",
    "\n",
    "def user_dict_to_data_list(user_dict):\n",
    "    # turn user_dict format to data list format (acceptable to the algorithm)\n",
    "    data_list = list()\n",
    "    for user, movie_rating_list in user_dict.items():\n",
    "        for movie, rating in movie_rating_list:\n",
    "            data_list.append({'in0':[int(user)], 'in1':[int(movie)], 'label':float(rating)})\n",
    "    return data_list\n",
    "\n",
    "def divide_user_dicts(user_dict, sp_ratio_dict):\n",
    "    \"\"\"\n",
    "    Input: A user dictionary, a ration dictionary\n",
    "         - format of sp_ratio_dict = {'train':0.8, \"test\":0.2}\n",
    "    Output: \n",
    "        A dictionary of dictionaries, with key corresponding to key provided by sp_ratio_dict\n",
    "        and each key corresponds to a subdivded user dictionary\n",
    "    \"\"\"\n",
    "    ratios = [val for _, val in sp_ratio_dict.items()]\n",
    "    assert np.sum(ratios) == 1, \"the sampling ratios must sum to 1!\"\n",
    "    divided_dict = {}\n",
    "    for user, movie_rating_list in user_dict.items():\n",
    "        sub_movies_ptr = 0\n",
    "        sub_movies_list = []\n",
    "        #movie_list, _ = zip(*movie_rating_list)\n",
    "        #print(movie_list)\n",
    "        for i, ratio in enumerate(ratios):\n",
    "            if i < len(ratios)-1:\n",
    "                sub_movies_ptr_end = sub_movies_ptr + int(len(movie_rating_list)*ratio)\n",
    "                sub_movies_list.append(movie_rating_list[sub_movies_ptr:sub_movies_ptr_end])\n",
    "                sub_movies_ptr = sub_movies_ptr_end\n",
    "            else:\n",
    "                sub_movies_list.append(movie_rating_list[sub_movies_ptr:])\n",
    "        for subset_name in sp_ratio_dict.keys():\n",
    "            if subset_name not in divided_dict:\n",
    "                divided_dict[subset_name] = {user: sub_movies_list.pop(0)}\n",
    "            else:\n",
    "                #access sub-dictionary\n",
    "                divided_dict[subset_name][user] = sub_movies_list.pop(0)\n",
    "    \n",
    "    return divided_dict\n",
    "\n",
    "def write_csv_to_jsonl(jsonl_fname, csv_fname, csv_delimiter):\n",
    "    \"\"\"\n",
    "    Input: a file readable as csv and separated by delimiter (to make columns)\n",
    "        - has format users - movies - ratings - etc\n",
    "    Output: a jsonline file converted from the csv file\n",
    "    \"\"\"\n",
    "    with jsonlines.open(jsonl_fname, mode='w') as writer:\n",
    "        with open(csv_fname, 'r') as csvfile:\n",
    "            reader = csv.reader(csvfile, delimiter=csv_delimiter)\n",
    "            for count, row in enumerate(reader):\n",
    "                #print(row)\n",
    "                #if count!=0:\n",
    "                writer.write({'in0':[int(row[0])], 'in1':[int(row[1])], 'label':float(row[2])})\n",
    "        print('Created {} jsonline file'.format(jsonl_fname))\n",
    "                    \n",
    "    \n",
    "def write_data_list_to_jsonl(data_list, to_fname):\n",
    "    \"\"\"\n",
    "    Input: a data list, where each row of the list is a Python dictionary taking form\n",
    "    {'in0':userID, 'in1':movieID, 'label':rating}\n",
    "    Output: save the list as a jsonline file\n",
    "    \"\"\"\n",
    "    with jsonlines.open(to_fname, mode='w') as writer:\n",
    "        for row in data_list:\n",
    "            #print(row)\n",
    "            writer.write({'in0':row['in0'], 'in1':row['in1'], 'label':row['label']})\n",
    "    print(\"Created {} jsonline file\".format(to_fname))\n",
    "\n",
    "def data_list_to_inference_format(data_list, binarize=True, label_thres=3):\n",
    "    \"\"\"\n",
    "    Input: a data list\n",
    "    Output: test data and label, acceptable by SageMaker for inference\n",
    "    \"\"\"\n",
    "    data_ = [({\"in0\":row['in0'], 'in1':row['in1']}, row['label']) for row in data_list]\n",
    "    data, label = zip(*data_)\n",
    "    infer_data = {\"instances\":data}\n",
    "    if binarize:\n",
    "        label = get_binarized_label(list(label), label_thres)\n",
    "    return infer_data, label\n",
    "\n",
    "\n",
    "def get_binarized_label(data_list, thres):\n",
    "    \"\"\"\n",
    "    Input: data list\n",
    "    Output: a binarized data list for recommendation task\n",
    "    \"\"\"\n",
    "    for i, row in enumerate(data_list):\n",
    "        if type(row) is dict:\n",
    "            #if i < 10:\n",
    "                #print(row['label'])\n",
    "            if row['label'] > thres:\n",
    "                #print(row)\n",
    "                data_list[i]['label'] = 1\n",
    "            else:\n",
    "                data_list[i]['label'] = 0\n",
    "        else:\n",
    "            if row > thres:\n",
    "                data_list[i] = 1\n",
    "            else:\n",
    "                data_list[i] = 0\n",
    "    return data_list\n"
   ]
  },
  {
   "cell_type": "code",
   "execution_count": 6,
   "metadata": {},
   "outputs": [
    {
     "name": "stdout",
     "output_type": "stream",
     "text": [
      "In file ml-100k/ua.base, there are 90570 ratings\n",
      "The ratings have mean: 3.52, median: 4.0, and variance: 1.27\n",
      "There are 943 unique users and 1680 unique movies\n",
      "In file ml-100k/ua.test, there are 9430 ratings\n",
      "The ratings have mean: 3.59, median: 4.0, and variance: 1.25\n",
      "There are 943 unique users and 1129 unique movies\n"
     ]
    }
   ],
   "source": [
    "## Load data and shuffle\n",
    "prefix = 'ml-100k'\n",
    "train_path = os.path.join(prefix, 'ua.base')\n",
    "valid_path = os.path.join(prefix, 'ua.test')\n",
    "test_path = os.path.join(prefix, 'ub.test')\n",
    "\n",
    "train_data_list = load_csv_data(train_path, '\\t')\n",
    "random.shuffle(train_data_list)\n",
    "validation_data_list = load_csv_data(valid_path, '\\t')\n",
    "random.shuffle(validation_data_list)"
   ]
  },
  {
   "cell_type": "code",
   "execution_count": 7,
   "metadata": {},
   "outputs": [],
   "source": [
    "to_users_dict, to_movies_dict = csv_to_augmented_data_dict(train_path, '\\t')"
   ]
  },
  {
   "cell_type": "markdown",
   "metadata": {},
   "source": [
    "### We perform some data exploration"
   ]
  },
  {
   "cell_type": "code",
   "execution_count": 8,
   "metadata": {},
   "outputs": [
    {
     "name": "stdout",
     "output_type": "stream",
     "text": [
      "The min, max, and median 'movies per user' is 10, 727, and 55.0\n",
      "The min, max, and median 'users per movie' is 1, 495, and 25.0\n",
      "In the training set\n",
      "There are 213 users with no more than 20 movies\n",
      "There are 12 movies with no more than 2 user\n"
     ]
    },
    {
     "data": {
      "text/plain": [
       "Text(0.5, 1.0, 'Users per movie')"
      ]
     },
     "execution_count": 8,
     "metadata": {},
     "output_type": "execute_result"
    },
    {
     "data": {
      "image/png": "[encoded data removed]",
      "text/plain": [
       "<Figure size 432x288 with 1 Axes>"
      ]
     },
     "metadata": {
      "needs_background": "light"
     },
     "output_type": "display_data"
    },
    {
     "data": {
      "image/png": "[encoded data removed]",
      "text/plain": [
       "<Figure size 432x288 with 1 Axes>"
      ]
     },
     "metadata": {
      "needs_background": "light"
     },
     "output_type": "display_data"
    }
   ],
   "source": [
    "## Calculate min, max, median of number of movies per user\n",
    "movies_per_user = [len(val) for key, val in to_users_dict.items()]\n",
    "\n",
    "print(\"The min, max, and median 'movies per user' is {}, {}, and {}\".format(np.amin(movies_per_user),\n",
    "                                                                         np.amax(movies_per_user),\n",
    "                                                                         np.median(movies_per_user)))\n",
    "users_per_movie = [len(val) for key, val in to_movies_dict.items()]\n",
    "print(\"The min, max, and median 'users per movie' is {}, {}, and {}\".format(np.amin(users_per_movie),\n",
    "                                                                         np.amax(users_per_movie),\n",
    "                                                                          np.median(users_per_movie)))\n",
    "\n",
    "\n",
    "count = 0\n",
    "n_movies_lower_bound = 20\n",
    "for n_movies in movies_per_user:\n",
    "    if n_movies <= n_movies_lower_bound:\n",
    "        count += 1\n",
    "print(\"In the training set\")\n",
    "print('There are {} users with no more than {} movies'.format(count, n_movies_lower_bound))\n",
    "#\n",
    "count = 0\n",
    "n_users_lower_bound = 2\n",
    "for n_users in users_per_movie:\n",
    "    if n_users <= n_users_lower_bound:\n",
    "        count += 1\n",
    "print('There are {} movies with no more than {} user'.format(count, n_users_lower_bound))\n",
    "\n",
    "\n",
    "## figures\n",
    "\n",
    "f = plt.figure(1)\n",
    "plt.hist(movies_per_user)\n",
    "plt.title(\"Movies per user\")\n",
    "##\n",
    "g = plt.figure(2)\n",
    "plt.hist(users_per_movie)\n",
    "plt.title(\"Users per movie\")"
   ]
  },
  {
   "cell_type": "markdown",
   "metadata": {},
   "source": [
    "Since the number of movies with an extremely small number of users (<3) is negligible compared to the total number of movies, we will not remove movies from the data set (same applies for users) "
   ]
  },
  {
   "cell_type": "code",
   "execution_count": 9,
   "metadata": {},
   "outputs": [
    {
     "name": "stdout",
     "output_type": "stream",
     "text": [
      "Created train_r.jsonl jsonline file\n",
      "Created validation_r.jsonl jsonline file\n"
     ]
    }
   ],
   "source": [
    "## Save training and validation data locally for rating-prediction (regression) task\n",
    "\n",
    "write_data_list_to_jsonl(copy.deepcopy(train_data_list), 'train_r.jsonl')\n",
    "write_data_list_to_jsonl(copy.deepcopy(validation_data_list), 'validation_r.jsonl')"
   ]
  },
  {
   "cell_type": "code",
   "execution_count": 10,
   "metadata": {},
   "outputs": [
    {
     "name": "stdout",
     "output_type": "stream",
     "text": [
      "Created train_c.jsonl jsonline file\n",
      "Created validation_c.jsonl jsonline file\n"
     ]
    }
   ],
   "source": [
    "## Save training and validation data locally for recommendation (classification) task\n",
    "\n",
    "### binarize the data \n",
    "\n",
    "train_c = get_binarized_label(copy.deepcopy(train_data_list), 3.0)\n",
    "valid_c = get_binarized_label(copy.deepcopy(validation_data_list), 3.0)\n",
    "\n",
    "write_data_list_to_jsonl(train_c, 'train_c.jsonl')\n",
    "write_data_list_to_jsonl(valid_c, 'validation_c.jsonl')"
   ]
  },
  {
   "cell_type": "markdown",
   "metadata": {},
   "source": [
    "**We check whether the two classes are balanced after binarization**"
   ]
  },
  {
   "cell_type": "code",
   "execution_count": 11,
   "metadata": {},
   "outputs": [
    {
     "name": "stdout",
     "output_type": "stream",
     "text": [
      "There are 0.5510213094843768 fraction of positive ratings in train_c.jsonl\n",
      "There are 0.5799575821845175 fraction of positive ratings in validation_c.jsonl\n"
     ]
    }
   ],
   "source": [
    "train_c_label = [row['label'] for row in train_c]\n",
    "valid_c_label = [row['label'] for row in valid_c]\n",
    "\n",
    "print(\"There are {} fraction of positive ratings in train_c.jsonl\".format(\n",
    "                                np.count_nonzero(train_c_label)/len(train_c_label)))\n",
    "print(\"There are {} fraction of positive ratings in validation_c.jsonl\".format(\n",
    "                                np.sum(valid_c_label)/len(valid_c_label)))"
   ]
  },
  {
   "cell_type": "markdown",
   "metadata": {},
   "source": [
    "# Rating prediction task "
   ]
  },
  {
   "cell_type": "code",
   "execution_count": 12,
   "metadata": {},
   "outputs": [],
   "source": [
    "def get_mse_loss(res, labels):\n",
    "    if type(res) is dict:\n",
    "        res = res['predictions']\n",
    "    assert len(res)==len(labels), 'result and label length mismatch!'\n",
    "    loss = 0\n",
    "    for row, label in zip(res, labels):\n",
    "        if type(row)is dict:\n",
    "            loss += (row['scores'][0]-label)**2\n",
    "        else:\n",
    "            loss += (row-label)**2\n",
    "    return round(loss/float(len(labels)), 2)"
   ]
  },
  {
   "cell_type": "code",
   "execution_count": 13,
   "metadata": {},
   "outputs": [],
   "source": [
    "valid_r_data, valid_r_label = data_list_to_inference_format(copy.deepcopy(validation_data_list), binarize=False)"
   ]
  },
  {
   "cell_type": "markdown",
   "metadata": {},
   "source": [
    "#### We first test the problem on two baseline algorithms"
   ]
  },
  {
   "cell_type": "markdown",
   "metadata": {},
   "source": [
    "## Baseline 1\n",
    "\n",
    "A naive approach to predict movie ratings on unseen data is to use the global average of the user predictions in the training data"
   ]
  },
  {
   "cell_type": "code",
   "execution_count": 14,
   "metadata": {},
   "outputs": [
    {
     "name": "stdout",
     "output_type": "stream",
     "text": [
      "The Baseline 1 (global rating average) prediction is 3.52\n",
      "The validation mse loss of the Baseline 1 is 1.26\n"
     ]
    }
   ],
   "source": [
    "train_r_label = [row['label'] for row in copy.deepcopy(train_data_list)]\n",
    "\n",
    "bs1_prediction = round(np.mean(train_r_label), 2)\n",
    "print('The Baseline 1 (global rating average) prediction is {}'.format(bs1_prediction))\n",
    "print(\"The validation mse loss of the Baseline 1 is {}\".format(\n",
    "                                     get_mse_loss(len(valid_r_label)*[bs1_prediction], valid_r_label)))"
   ]
  },
  {
   "cell_type": "markdown",
   "metadata": {},
   "source": [
    "## Baseline 2"
   ]
  },
  {
   "cell_type": "markdown",
   "metadata": {},
   "source": [
    "Now we use a better baseline, which is to perform prediction on unseen data based on the user-averaged ratings of movies on training data"
   ]
  },
  {
   "cell_type": "code",
   "execution_count": 15,
   "metadata": {},
   "outputs": [],
   "source": [
    "def bs2_predictor(test_data, user_dict, is_classification=False, thres=3):\n",
    "    test_data = copy.deepcopy(test_data['instances'])\n",
    "    predictions = list()\n",
    "    for row in test_data:\n",
    "        userID = str(row[\"in0\"][0])\n",
    "        # predict movie ID based on local average of user's prediction\n",
    "        local_movies, local_ratings = zip(*user_dict[userID])\n",
    "        local_ratings = [float(score) for score in local_ratings]\n",
    "        predictions.append(np.mean(local_ratings))\n",
    "        if is_classification:\n",
    "            predictions[-1] = int(predictions[-1] > 3)\n",
    "    return predictions"
   ]
  },
  {
   "cell_type": "code",
   "execution_count": 16,
   "metadata": {},
   "outputs": [
    {
     "name": "stdout",
     "output_type": "stream",
     "text": [
      "The validation loss of the Baseline 2 (user-based rating average) is 1.09\n"
     ]
    }
   ],
   "source": [
    "bs2_prediction = bs2_predictor(valid_r_data, to_users_dict, is_classification=False)\n",
    "print(\"The validation loss of the Baseline 2 (user-based rating average) is {}\".format(\n",
    "                                     get_mse_loss(bs2_prediction, valid_r_label)))"
   ]
  },
  {
   "cell_type": "markdown",
   "metadata": {},
   "source": [
    "Next, we will use *Object2Vec* to predict the movie ratings"
   ]
  },
  {
   "cell_type": "markdown",
   "metadata": {},
   "source": [
    "## Model training and inference"
   ]
  },
  {
   "cell_type": "markdown",
   "metadata": {},
   "source": [
    "#### Define S3 bucket that hosts data and model, and upload data to S3"
   ]
  },
  {
   "cell_type": "code",
   "execution_count": 18,
   "metadata": {
    "tags": [
     "parameters"
    ]
   },
   "outputs": [],
   "source": [
    "import boto3 \n",
    "import os\n",
    " \n",
    "bucket = 'fab-sagemaker'\n",
    "input_prefix = 'object2vec-movielens/input'\n",
    "output_prefix = 'object2vec-movielens/output'"
   ]
  },
  {
   "cell_type": "markdown",
   "metadata": {},
   "source": [
    "#### Upload data to S3 and make data paths"
   ]
  },
  {
   "cell_type": "code",
   "execution_count": 19,
   "metadata": {},
   "outputs": [
    {
     "name": "stderr",
     "output_type": "stream",
     "text": [
      "'s3_input' class will be renamed to 'TrainingInput' in SageMaker Python SDK v2.\n",
      "'s3_input' class will be renamed to 'TrainingInput' in SageMaker Python SDK v2.\n"
     ]
    },
    {
     "name": "stdout",
     "output_type": "stream",
     "text": [
      "Uploaded train data to s3://fab-sagemaker/object2vec-movielens/input/rating/train/train_r.jsonl and defined input path\n",
      "Uploaded validation data to s3://fab-sagemaker/object2vec-movielens/input/rating/validation/validation_r.jsonl and defined input path\n",
      "Trained model will be saved at s3://fab-sagemaker/object2vec-movielens/output\n"
     ]
    }
   ],
   "source": [
    "from sagemaker.session import s3_input\n",
    "\n",
    "s3_client = boto3.client('s3')\n",
    "input_paths = {}\n",
    "output_path = os.path.join('s3://', bucket, output_prefix)\n",
    "\n",
    "for data_name in ['train', 'validation']:\n",
    "    pre_key = os.path.join(input_prefix, 'rating', f'{data_name}')\n",
    "    fname = '{}_r.jsonl'.format(data_name)\n",
    "    data_path = os.path.join('s3://', bucket, pre_key, fname)\n",
    "    s3_client.upload_file(fname, bucket, os.path.join(pre_key, fname))\n",
    "    input_paths[data_name] = s3_input(data_path, distribution='ShardedByS3Key', content_type='application/jsonlines')\n",
    "    print('Uploaded {} data to {} and defined input path'.format(data_name, data_path))\n",
    "\n",
    "print('Trained model will be saved at', output_path)"
   ]
  },
  {
   "cell_type": "markdown",
   "metadata": {},
   "source": [
    "### Get ObjectToVec algorithm image"
   ]
  },
  {
   "cell_type": "code",
   "execution_count": 20,
   "metadata": {},
   "outputs": [
    {
     "name": "stderr",
     "output_type": "stream",
     "text": [
      "'get_image_uri' method will be deprecated in favor of 'ImageURIProvider' class in SageMaker Python SDK v2.\n"
     ]
    },
    {
     "name": "stdout",
     "output_type": "stream",
     "text": [
      "arn:aws:iam::640463227255:role/service-role/AmazonSageMaker-ExecutionRole-20200822T102773\n"
     ]
    }
   ],
   "source": [
    "import sagemaker\n",
    "from sagemaker import get_execution_role\n",
    "\n",
    "sess = sagemaker.Session()\n",
    "\n",
    "role = get_execution_role()\n",
    "print(role)\n",
    "\n",
    "## Get docker image of ObjectToVec algorithm\n",
    "from sagemaker.amazon.amazon_estimator import get_image_uri\n",
    "container = get_image_uri(boto3.Session().region_name, 'object2vec')"
   ]
  },
  {
   "cell_type": "markdown",
   "metadata": {},
   "source": [
    "### Training"
   ]
  },
  {
   "cell_type": "markdown",
   "metadata": {},
   "source": [
    "#### We first define training hyperparameters"
   ]
  },
  {
   "cell_type": "code",
   "execution_count": 21,
   "metadata": {},
   "outputs": [],
   "source": [
    "hyperparameters = {\n",
    "    \"_kvstore\": \"device\",\n",
    "    \"_num_gpus\": \"auto\",\n",
    "    \"_num_kv_servers\": \"auto\",\n",
    "    \"bucket_width\": 0,\n",
    "    \"early_stopping_patience\": 3,\n",
    "    \"early_stopping_tolerance\": 0.01,\n",
    "    \"enc0_cnn_filter_width\": 3,\n",
    "    \"enc0_layers\": \"auto\",\n",
    "    \"enc0_max_seq_len\": 1,\n",
    "    \"enc0_network\": \"pooled_embedding\",\n",
    "    \"enc0_token_embedding_dim\": 300,\n",
    "    \"enc0_vocab_size\": 944,\n",
    "    \"enc1_layers\": \"auto\",\n",
    "    \"enc1_max_seq_len\": 1,\n",
    "    \"enc1_network\": \"pooled_embedding\",\n",
    "    \"enc1_token_embedding_dim\": 300,\n",
    "    \"enc1_vocab_size\": 1684,\n",
    "    \"enc_dim\": 1024,\n",
    "    \"epochs\": 20,\n",
    "    \"learning_rate\": 0.001,\n",
    "    \"mini_batch_size\": 64,\n",
    "    \"mlp_activation\": \"tanh\",\n",
    "    \"mlp_dim\": 256,\n",
    "    \"mlp_layers\": 1,\n",
    "    \"num_classes\": 2,\n",
    "    \"optimizer\": \"adam\",\n",
    "    \"output_layer\": \"mean_squared_error\"\n",
    "}"
   ]
  },
  {
   "cell_type": "code",
   "execution_count": 22,
   "metadata": {},
   "outputs": [
    {
     "name": "stderr",
     "output_type": "stream",
     "text": [
      "Parameter image_name will be renamed to image_uri in SageMaker Python SDK v2.\n"
     ]
    },
    {
     "name": "stdout",
     "output_type": "stream",
     "text": [
      "2020-10-06 17:12:00 Starting - Starting the training job...\n",
      "2020-10-06 17:12:03 Starting - Launching requested ML instances......\n",
      "2020-10-06 17:13:26 Starting - Preparing the instances for training............\n",
      "2020-10-06 17:15:31 Downloading - Downloading input data\n",
      "2020-10-06 17:15:31 Training - Downloading the training image.....\u001b[34mDocker entrypoint called with argument(s): train\u001b[0m\n",
      "\u001b[34mRunning default environment configuration script\u001b[0m\n",
      "\u001b[34m[10/06/2020 17:16:11 INFO 140130936940352] Reading default configuration from /opt/amazon/lib/python2.7/site-packages/algorithm/default-input.json: {u'comparator_list': u'hadamard, concat, abs_diff', u'enc0_vocab_file': u'', u'output_layer': u'softmax', u'enc0_cnn_filter_width': 3, u'epochs': 30, u'mlp_dim': 512, u'enc0_freeze_pretrained_embedding': u'true', u'mlp_layers': 2, u'_num_kv_servers': u'auto', u'weight_decay': 0, u'enc0_pretrained_embedding_file': u'', u'token_embedding_storage_type': u'dense', u'enc0_token_embedding_dim': 300, u'tied_token_embedding_weight': u'false', u'learning_rate': 0.0004, u'enc1_cnn_filter_width': 3, u'negative_sampling_rate': 0, u'enc0_network': u'hcnn', u'enc1_layers': u'auto', u'early_stopping_patience': 3, u'optimizer': u'adam', u'_tuning_objective_metric': u'', u'early_stopping_tolerance': 0.01, u'dropout': 0, u'bucket_width': 0, u'enc_dim': 4096, u'enc1_vocab_file': u'', u'enc1_freeze_pretrained_embedding': u'true', u'enc0_layers': u'auto', u'mini_batch_size': 32, u'enc1_pretrained_embedding_file': u'', u'num_classes': 2, u'_num_gpus': u'auto', u'enc1_token_embedding_dim': 300, u'mlp_activation': u'linear', u'enc1_network': u'enc0', u'_kvstore': u'auto_gpu'}\u001b[0m\n",
      "\u001b[34m[10/06/2020 17:16:11 INFO 140130936940352] Reading provided configuration from /opt/ml/input/config/hyperparameters.json: {u'output_layer': u'mean_squared_error', u'enc0_cnn_filter_width': u'3', u'epochs': u'20', u'mlp_dim': u'256', u'mlp_layers': u'1', u'_num_kv_servers': u'auto', u'mini_batch_size': u'64', u'enc0_token_embedding_dim': u'300', u'enc1_network': u'pooled_embedding', u'enc0_network': u'pooled_embedding', u'enc1_layers': u'auto', u'early_stopping_patience': u'3', u'optimizer': u'adam', u'enc1_max_seq_len': u'1', u'early_stopping_tolerance': u'0.01', u'learning_rate': u'0.001', u'bucket_width': u'0', u'enc_dim': u'1024', u'enc0_layers': u'auto', u'enc0_max_seq_len': u'1', u'num_classes': u'2', u'_num_gpus': u'auto', u'mlp_activation': u'tanh', u'enc1_token_embedding_dim': u'300', u'_kvstore': u'device', u'enc1_vocab_size': u'1684', u'enc0_vocab_size': u'944'}\u001b[0m\n",
      "\u001b[34m[10/06/2020 17:16:11 INFO 140130936940352] Final configuration: {u'comparator_list': u'hadamard, concat, abs_diff', u'enc0_vocab_file': u'', u'output_layer': u'mean_squared_error', u'enc0_cnn_filter_width': u'3', u'epochs': u'20', u'mlp_dim': u'256', u'enc0_freeze_pretrained_embedding': u'true', u'mlp_layers': u'1', u'_num_kv_servers': u'auto', u'weight_decay': 0, u'enc0_pretrained_embedding_file': u'', u'enc0_max_seq_len': u'1', u'token_embedding_storage_type': u'dense', u'enc0_token_embedding_dim': u'300', u'tied_token_embedding_weight': u'false', u'learning_rate': u'0.001', u'enc1_cnn_filter_width': 3, u'negative_sampling_rate': 0, u'enc0_network': u'pooled_embedding', u'enc1_layers': u'auto', u'early_stopping_patience': u'3', u'optimizer': u'adam', u'enc1_max_seq_len': u'1', u'_tuning_objective_metric': u'', u'early_stopping_tolerance': u'0.01', u'dropout': 0, u'bucket_width': u'0', u'enc_dim': u'1024', u'enc1_vocab_file': u'', u'enc1_freeze_pretrained_embedding': u'true', u'enc0_layers': u'auto', u'mini_batch_size': u'64', u'enc1_pretrained_embedding_file': u'', u'num_classes': u'2', u'_num_gpus': u'auto', u'enc1_token_embedding_dim': u'300', u'mlp_activation': u'tanh', u'enc1_network': u'pooled_embedding', u'_kvstore': u'device', u'enc1_vocab_size': u'1684', u'enc0_vocab_size': u'944'}\u001b[0m\n",
      "\u001b[34mProcess 1 is a worker.\u001b[0m\n",
      "\u001b[34m[10/06/2020 17:16:11 INFO 140130936940352] Using default worker.\u001b[0m\n",
      "\u001b[34m[10/06/2020 17:16:11 INFO 140130936940352] Loaded iterator creator application/jsonlines for content type ('application/jsonlines', '1.0')\u001b[0m\n",
      "\u001b[34m[10/06/2020 17:16:11 INFO 140130936940352] create_iter params {u'comparator_list': u'hadamard, concat, abs_diff', u'enc0_vocab_file': u'', u'output_layer': u'mean_squared_error', u'enc0_cnn_filter_width': u'3', u'epochs': u'20', u'mlp_dim': u'256', u'enc0_freeze_pretrained_embedding': u'true', u'mlp_layers': u'1', u'_num_kv_servers': u'auto', u'weight_decay': 0, u'enc0_pretrained_embedding_file': u'', u'enc0_max_seq_len': u'1', u'token_embedding_storage_type': u'dense', u'enc0_token_embedding_dim': u'300', u'tied_token_embedding_weight': u'false', u'learning_rate': u'0.001', u'enc1_cnn_filter_width': 3, u'negative_sampling_rate': 0, u'enc0_network': u'pooled_embedding', u'enc1_layers': u'auto', u'early_stopping_patience': u'3', u'optimizer': u'adam', u'enc1_max_seq_len': u'1', u'_tuning_objective_metric': u'', u'early_stopping_tolerance': u'0.01', u'dropout': 0, u'bucket_width': u'0', u'enc_dim': u'1024', u'enc1_vocab_file': u'', u'enc1_freeze_pretrained_embedding': u'true', u'enc0_layers': u'auto', u'mini_batch_size': u'64', u'enc1_pretrained_embedding_file': u'', u'num_classes': u'2', u'_num_gpus': u'auto', u'enc1_token_embedding_dim': u'300', u'mlp_activation': u'tanh', u'enc1_network': u'pooled_embedding', u'_kvstore': u'device', u'enc1_vocab_size': u'1684', u'enc0_vocab_size': u'944'}\u001b[0m\n",
      "\u001b[34m[10/06/2020 17:16:11 INFO 140130936940352] create_iter content_params {}\u001b[0m\n",
      "\u001b[34m[10/06/2020 17:16:11 INFO 140130936940352] Parameters of encoders: [{u'layers': u'auto', u'vocab_size': u'944', u'network': u'pooled_embedding', u'vocab_file': u'', u'cnn_filter_width': u'3', u'token_embedding_dim': u'300', u'max_seq_len': u'1', u'freeze_pretrained_embedding': u'true', u'pretrained_embedding_file': u''}, {u'layers': u'auto', u'vocab_size': u'1684', u'network': u'pooled_embedding', u'vocab_file': u'', u'cnn_filter_width': 3, u'token_embedding_dim': u'300', u'max_seq_len': u'1', u'freeze_pretrained_embedding': u'true', u'pretrained_embedding_file': u''}]\u001b[0m\n",
      "\u001b[34m[10/06/2020 17:16:11 INFO 140130936940352] output_layer is set to mean_squared_error. Ignoring the hyperparameter 'num_classes'.\u001b[0m\n",
      "\u001b[34m[10/06/2020 17:16:11 INFO 140130936940352] Inconsistent enc_dim and token_embedding_dim found for token-embedding-encoder: 1024 vs 300. Setting token embedding dim to be 1024\u001b[0m\n",
      "\u001b[34m[10/06/2020 17:16:11 INFO 140130936940352] Inconsistent enc_dim and token_embedding_dim found for token-embedding-encoder: 1024 vs 300. Setting token embedding dim to be 1024\u001b[0m\n",
      "\u001b[34m[10/06/2020 17:16:11 INFO 140130936940352] Encoder configs: [{'vocab_size': 944, 'enc_index': 0, 'pretrained_embedding_file_path': None, 'vocab_dict': None, 'token_embedding_dim': 1024, 'vocab_file': '', 'freeze_pretrained_embedding': True, 'num_layers': 1, 'is_train': True, 'dropout': 0.0, 'pretrained_embedding_file': ''}, {'vocab_size': 1684, 'enc_index': 1, 'pretrained_embedding_file_path': None, 'vocab_dict': None, 'token_embedding_dim': 1024, 'vocab_file': '', 'freeze_pretrained_embedding': True, 'num_layers': 1, 'is_train': True, 'dropout': 0.0, 'pretrained_embedding_file': ''}]\u001b[0m\n",
      "\u001b[34m[10/06/2020 17:16:11 INFO 140130936940352] Config: {'comparator_list': ['hadamard', 'concat', 'abs_diff'], 'epochs': 20, 'mini_batch_size': 64, 'optimizer': 'adam', 'output_layer': 'mean_squared_error', 'token_embedding_storage_type': 'dense', 'mlp_dim': 256, 'early_stopping_tolerance': 0.01, 'dropout': 0.0, 'bucket_width': 0, 'enc_dim': 1024, 'negative_sampling_rate': 0, 'early_stopping_patience': 3, 'learning_rate': 0.001, 'max_seq_lens': [1, 1], 'tied_token_embedding_weight': False, 'enc_configs': [{'vocab_size': 944, 'enc_index': 0, 'pretrained_embedding_file_path': None, 'vocab_dict': None, 'token_embedding_dim': 1024, 'vocab_file': '', 'freeze_pretrained_embedding': True, 'num_layers': 1, 'is_train': True, 'dropout': 0.0, 'pretrained_embedding_file': ''}, {'vocab_size': 1684, 'enc_index': 1, 'pretrained_embedding_file_path': None, 'vocab_dict': None, 'token_embedding_dim': 1024, 'vocab_file': '', 'freeze_pretrained_embedding': True, 'num_layers': 1, 'is_train': True, 'dropout': 0.0, 'pretrained_embedding_file': ''}], 'mlp_layers': 1, 'weight_decay': 0.0, 'mlp_activation': 'tanh', 'num_classes': None}\u001b[0m\n",
      "\u001b[34m[10/06/2020 17:16:11 INFO 140130936940352] use bucketing: False\u001b[0m\n",
      "\u001b[34m[10/06/2020 17:16:11 INFO 140130936940352] Creating data iterator for /opt/ml/input/data/train\u001b[0m\n",
      "\u001b[34m[10/06/2020 17:16:14 INFO 140130936940352] Source words: 90570\u001b[0m\n",
      "\u001b[34m[10/06/2020 17:16:14 INFO 140130936940352] Target words: 90570\u001b[0m\n",
      "\u001b[34m[10/06/2020 17:16:14 INFO 140130936940352] Total: 90570 samples in 1 buckets\u001b[0m\n",
      "\u001b[34m[10/06/2020 17:16:14 INFO 140130936940352] Bucket of (1, 1) : 90570 samples in 1415 batches of 64, approx 64.0 words/batch\u001b[0m\n",
      "\u001b[34m[10/06/2020 17:16:14 INFO 140130936940352] 0 sentence pairs discarded\u001b[0m\n",
      "\u001b[34m[10/06/2020 17:16:14 INFO 140130936940352] fill up mode: replicate\u001b[0m\n",
      "\u001b[34m[10/06/2020 17:16:14 INFO 140130936940352] \u001b[0m\n",
      "\u001b[34m[10/06/2020 17:16:14 INFO 140130936940352] Negative sampling not used\u001b[0m\n",
      "\u001b[34m[10/06/2020 17:16:14 INFO 140130936940352] Replicating 54 random sentences from bucket (1, 1) to size it to multiple of 64\u001b[0m\n",
      "\u001b[34m[10/06/2020 17:16:14 INFO 140130936940352] Bucket batch sizes: [BucketBatchSize(batch_size=64, average_words_per_batch=64)]\u001b[0m\n",
      "\u001b[34m[10/06/2020 17:16:14 INFO 140130936940352] create_iter params {u'comparator_list': u'hadamard, concat, abs_diff', u'enc0_vocab_file': u'', u'output_layer': u'mean_squared_error', u'enc0_cnn_filter_width': u'3', u'epochs': u'20', u'mlp_dim': u'256', u'enc0_freeze_pretrained_embedding': u'true', u'mlp_layers': u'1', u'_num_kv_servers': u'auto', u'weight_decay': 0, u'enc0_pretrained_embedding_file': u'', u'enc0_max_seq_len': u'1', u'token_embedding_storage_type': u'dense', u'enc0_token_embedding_dim': u'300', u'tied_token_embedding_weight': u'false', u'learning_rate': u'0.001', u'enc1_cnn_filter_width': 3, u'negative_sampling_rate': 0, u'enc0_network': u'pooled_embedding', u'enc1_layers': u'auto', u'early_stopping_patience': u'3', u'optimizer': u'adam', u'enc1_max_seq_len': u'1', u'_tuning_objective_metric': u'', u'early_stopping_tolerance': u'0.01', u'dropout': 0, u'bucket_width': u'0', u'enc_dim': u'1024', u'enc1_vocab_file': u'', u'enc1_freeze_pretrained_embedding': u'true', u'enc0_layers': u'auto', u'mini_batch_size': u'64', u'enc1_pretrained_embedding_file': u'', u'num_classes': u'2', u'_num_gpus': u'auto', u'enc1_token_embedding_dim': u'300', u'mlp_activation': u'tanh', u'enc1_network': u'pooled_embedding', u'_kvstore': u'device', u'enc1_vocab_size': u'1684', u'enc0_vocab_size': u'944'}\u001b[0m\n",
      "\u001b[34m[10/06/2020 17:16:14 INFO 140130936940352] create_iter content_params {}\u001b[0m\n",
      "\u001b[34m[10/06/2020 17:16:14 INFO 140130936940352] Parameters of encoders: [{u'layers': u'auto', u'vocab_size': u'944', u'network': u'pooled_embedding', u'vocab_file': u'', u'cnn_filter_width': u'3', u'token_embedding_dim': u'300', u'max_seq_len': u'1', u'freeze_pretrained_embedding': u'true', u'pretrained_embedding_file': u''}, {u'layers': u'auto', u'vocab_size': u'1684', u'network': u'pooled_embedding', u'vocab_file': u'', u'cnn_filter_width': 3, u'token_embedding_dim': u'300', u'max_seq_len': u'1', u'freeze_pretrained_embedding': u'true', u'pretrained_embedding_file': u''}]\u001b[0m\n",
      "\u001b[34m[10/06/2020 17:16:14 INFO 140130936940352] output_layer is set to mean_squared_error. Ignoring the hyperparameter 'num_classes'.\u001b[0m\n",
      "\u001b[34m[10/06/2020 17:16:14 INFO 140130936940352] Inconsistent enc_dim and token_embedding_dim found for token-embedding-encoder: 1024 vs 300. Setting token embedding dim to be 1024\u001b[0m\n",
      "\u001b[34m[10/06/2020 17:16:14 INFO 140130936940352] Inconsistent enc_dim and token_embedding_dim found for token-embedding-encoder: 1024 vs 300. Setting token embedding dim to be 1024\u001b[0m\n",
      "\u001b[34m[10/06/2020 17:16:14 INFO 140130936940352] Encoder configs: [{'vocab_size': 944, 'enc_index': 0, 'pretrained_embedding_file_path': None, 'vocab_dict': None, 'token_embedding_dim': 1024, 'vocab_file': '', 'freeze_pretrained_embedding': True, 'num_layers': 1, 'is_train': True, 'dropout': 0.0, 'pretrained_embedding_file': ''}, {'vocab_size': 1684, 'enc_index': 1, 'pretrained_embedding_file_path': None, 'vocab_dict': None, 'token_embedding_dim': 1024, 'vocab_file': '', 'freeze_pretrained_embedding': True, 'num_layers': 1, 'is_train': True, 'dropout': 0.0, 'pretrained_embedding_file': ''}]\u001b[0m\n",
      "\u001b[34m[10/06/2020 17:16:14 INFO 140130936940352] Config: {'comparator_list': ['hadamard', 'concat', 'abs_diff'], 'epochs': 20, 'mini_batch_size': 64, 'optimizer': 'adam', 'output_layer': 'mean_squared_error', 'token_embedding_storage_type': 'dense', 'mlp_dim': 256, 'early_stopping_tolerance': 0.01, 'dropout': 0.0, 'bucket_width': 0, 'enc_dim': 1024, 'negative_sampling_rate': 0, 'early_stopping_patience': 3, 'learning_rate': 0.001, 'max_seq_lens': [1, 1], 'tied_token_embedding_weight': False, 'enc_configs': [{'vocab_size': 944, 'enc_index': 0, 'pretrained_embedding_file_path': None, 'vocab_dict': None, 'token_embedding_dim': 1024, 'vocab_file': '', 'freeze_pretrained_embedding': True, 'num_layers': 1, 'is_train': True, 'dropout': 0.0, 'pretrained_embedding_file': ''}, {'vocab_size': 1684, 'enc_index': 1, 'pretrained_embedding_file_path': None, 'vocab_dict': None, 'token_embedding_dim': 1024, 'vocab_file': '', 'freeze_pretrained_embedding': True, 'num_layers': 1, 'is_train': True, 'dropout': 0.0, 'pretrained_embedding_file': ''}], 'mlp_layers': 1, 'weight_decay': 0.0, 'mlp_activation': 'tanh', 'num_classes': None}\u001b[0m\n",
      "\u001b[34m[10/06/2020 17:16:14 INFO 140130936940352] use bucketing: False\u001b[0m\n",
      "\u001b[34m[10/06/2020 17:16:14 INFO 140130936940352] Creating data iterator for /opt/ml/input/data/validation\u001b[0m\n",
      "\u001b[34m[10/06/2020 17:16:14 INFO 140130936940352] Source words: 9430\u001b[0m\n",
      "\u001b[34m[10/06/2020 17:16:14 INFO 140130936940352] Target words: 9430\u001b[0m\n",
      "\u001b[34m[10/06/2020 17:16:14 INFO 140130936940352] Total: 9430 samples in 1 buckets\u001b[0m\n",
      "\u001b[34m[10/06/2020 17:16:14 INFO 140130936940352] Bucket of (1, 1) : 9430 samples in 147 batches of 64, approx 64.0 words/batch\u001b[0m\n",
      "\u001b[34m[10/06/2020 17:16:14 INFO 140130936940352] 0 sentence pairs discarded\u001b[0m\n",
      "\u001b[34m[10/06/2020 17:16:14 INFO 140130936940352] fill up mode: replicate\u001b[0m\n",
      "\u001b[34m[10/06/2020 17:16:14 INFO 140130936940352] \u001b[0m\n",
      "\u001b[34m[10/06/2020 17:16:14 INFO 140130936940352] Negative sampling not used\u001b[0m\n",
      "\u001b[34m[10/06/2020 17:16:14 INFO 140130936940352] Replicating 42 random sentences from bucket (1, 1) to size it to multiple of 64\u001b[0m\n",
      "\u001b[34m[10/06/2020 17:16:14 INFO 140130936940352] Parameters of encoders: [{u'layers': u'auto', u'vocab_size': u'944', u'network': u'pooled_embedding', u'vocab_file': u'', u'cnn_filter_width': u'3', u'token_embedding_dim': u'300', u'max_seq_len': u'1', u'freeze_pretrained_embedding': u'true', u'pretrained_embedding_file': u''}, {u'layers': u'auto', u'vocab_size': u'1684', u'network': u'pooled_embedding', u'vocab_file': u'', u'cnn_filter_width': 3, u'token_embedding_dim': u'300', u'max_seq_len': u'1', u'freeze_pretrained_embedding': u'true', u'pretrained_embedding_file': u''}]\u001b[0m\n",
      "\u001b[34m[10/06/2020 17:16:14 INFO 140130936940352] output_layer is set to mean_squared_error. Ignoring the hyperparameter 'num_classes'.\u001b[0m\n",
      "\u001b[34m[10/06/2020 17:16:14 INFO 140130936940352] Inconsistent enc_dim and token_embedding_dim found for token-embedding-encoder: 1024 vs 300. Setting token embedding dim to be 1024\u001b[0m\n",
      "\u001b[34m[10/06/2020 17:16:14 INFO 140130936940352] Inconsistent enc_dim and token_embedding_dim found for token-embedding-encoder: 1024 vs 300. Setting token embedding dim to be 1024\u001b[0m\n",
      "\u001b[34m[10/06/2020 17:16:14 INFO 140130936940352] Encoder configs: [{'vocab_size': 944, 'enc_index': 0, 'pretrained_embedding_file_path': None, 'vocab_dict': None, 'token_embedding_dim': 1024, 'vocab_file': '', 'freeze_pretrained_embedding': True, 'num_layers': 1, 'is_train': True, 'dropout': 0.0, 'pretrained_embedding_file': ''}, {'vocab_size': 1684, 'enc_index': 1, 'pretrained_embedding_file_path': None, 'vocab_dict': None, 'token_embedding_dim': 1024, 'vocab_file': '', 'freeze_pretrained_embedding': True, 'num_layers': 1, 'is_train': True, 'dropout': 0.0, 'pretrained_embedding_file': ''}]\u001b[0m\n",
      "\u001b[34m[10/06/2020 17:16:14 INFO 140130936940352] Config: {'comparator_list': ['hadamard', 'concat', 'abs_diff'], 'epochs': 20, 'mini_batch_size': 64, 'optimizer': 'adam', 'output_layer': 'mean_squared_error', 'token_embedding_storage_type': 'dense', 'mlp_dim': 256, 'early_stopping_tolerance': 0.01, 'dropout': 0.0, 'bucket_width': 0, 'enc_dim': 1024, 'negative_sampling_rate': 0, 'early_stopping_patience': 3, 'learning_rate': 0.001, 'max_seq_lens': [1, 1], 'tied_token_embedding_weight': False, 'enc_configs': [{'vocab_size': 944, 'enc_index': 0, 'pretrained_embedding_file_path': None, 'vocab_dict': None, 'token_embedding_dim': 1024, 'vocab_file': '', 'freeze_pretrained_embedding': True, 'num_layers': 1, 'is_train': True, 'dropout': 0.0, 'pretrained_embedding_file': ''}, {'vocab_size': 1684, 'enc_index': 1, 'pretrained_embedding_file_path': None, 'vocab_dict': None, 'token_embedding_dim': 1024, 'vocab_file': '', 'freeze_pretrained_embedding': True, 'num_layers': 1, 'is_train': True, 'dropout': 0.0, 'pretrained_embedding_file': ''}], 'mlp_layers': 1, 'weight_decay': 0.0, 'mlp_activation': 'tanh', 'num_classes': None}\u001b[0m\n",
      "\u001b[34m[10/06/2020 17:16:14 INFO 140130936940352] Creating new state\u001b[0m\n",
      "\u001b[34m[10/06/2020 17:16:14 INFO 140130936940352] params {u'comparator_list': u'hadamard, concat, abs_diff', u'enc0_vocab_file': u'', u'output_layer': u'mean_squared_error', u'enc0_cnn_filter_width': u'3', u'epochs': u'20', u'mlp_dim': u'256', u'enc0_freeze_pretrained_embedding': u'true', u'mlp_layers': u'1', u'_num_kv_servers': u'auto', u'weight_decay': 0, u'enc0_pretrained_embedding_file': u'', u'enc0_max_seq_len': u'1', u'token_embedding_storage_type': u'dense', u'enc0_token_embedding_dim': u'300', u'tied_token_embedding_weight': u'false', u'learning_rate': u'0.001', u'enc1_cnn_filter_width': 3, u'negative_sampling_rate': 0, u'enc0_network': u'pooled_embedding', u'enc1_layers': u'auto', u'early_stopping_patience': u'3', u'optimizer': u'adam', u'enc1_max_seq_len': u'1', u'_tuning_objective_metric': u'', u'early_stopping_tolerance': u'0.01', u'dropout': 0, u'bucket_width': u'0', u'enc_dim': u'1024', 'default_bucket_key': (1, 1), u'enc1_vocab_file': u'', u'enc1_freeze_pretrained_embedding': u'true', u'enc0_layers': u'auto', u'mini_batch_size': u'64', u'enc1_pretrained_embedding_file': u'', u'num_classes': u'2', u'_num_gpus': u'auto', u'enc1_token_embedding_dim': u'300', u'mlp_activation': u'tanh', u'enc1_network': u'pooled_embedding', u'_kvstore': u'device', u'enc1_vocab_size': u'1684', u'enc0_vocab_size': u'944'}\u001b[0m\n",
      "\u001b[34m[10/06/2020 17:16:14 INFO 140130936940352] default_bucket_key (1, 1)\u001b[0m\n",
      "\u001b[34m[10/06/2020 17:16:14 INFO 140130936940352] nvidia-smi took: 0.0251979827881 secs to identify 1 gpus\u001b[0m\n",
      "\u001b[34m[10/06/2020 17:16:14 INFO 140130936940352] Number of GPUs being used: 1\u001b[0m\n",
      "\u001b[34m[10/06/2020 17:16:14 INFO 140130936940352] context [gpu(0)]\u001b[0m\n",
      "\u001b[34m[10/06/2020 17:16:14 INFO 140130936940352] Create Store: device\u001b[0m\n",
      "\u001b[34m[10/06/2020 17:16:14 INFO 140130936940352] Number of GPUs being used: 1\u001b[0m\n",
      "\u001b[34m[10/06/2020 17:16:14 WARNING 140130936940352] dense token embedding is used in a multi-gpu setting...consider changing 'token_embedding_storage_type' to 'row_sparse'\u001b[0m\n",
      "\u001b[34m[10/06/2020 17:16:14 INFO 140130936940352] data_names: ['source', 'target']\u001b[0m\n",
      "\u001b[34m[10/06/2020 17:16:14 INFO 140130936940352] label_names: ['out_layer_label']\u001b[0m\n",
      "\u001b[34m________________________________________________________________________________________________________________________\u001b[0m\n",
      "\u001b[34mLayer (type)                                        Output Shape            Param #     Previous Layer                  \u001b[0m\n",
      "\u001b[34m========================================================================================================================\u001b[0m\n",
      "\u001b[34msource(null)                                        1                       0                                           \u001b[0m\n",
      "\u001b[34m________________________________________________________________________________________________________________________\u001b[0m\n",
      "\u001b[34membed_0(Embedding)                                  1x1024                  0           source                          \u001b[0m\n",
      "\u001b[34m________________________________________________________________________________________________________________________\u001b[0m\n",
      "\u001b[34m_not_equal_scalar0(_not_equal_scalar)               1                       0           source                          \u001b[0m\n",
      "\u001b[34m________________________________________________________________________________________________________________________\u001b[0m\n",
      "\u001b[34mreshape0(Reshape)                                   1x1                     0           _not_equal_scalar0              \u001b[0m\n",
      "\u001b[34m________________________________________________________________________________________________________________________\u001b[0m\n",
      "\u001b[34mbroadcast_mul0(broadcast_mul)                       1x1024                  0           embed_0                         \n",
      "                                                                                        reshape0                        \u001b[0m\n",
      "\u001b[34m________________________________________________________________________________________________________________________\u001b[0m\n",
      "\u001b[34msum0(sum)                                           1024                    0           broadcast_mul0                  \u001b[0m\n",
      "\u001b[34m________________________________________________________________________________________________________________________\u001b[0m\n",
      "\u001b[34msum1(sum)                                           1                       0           reshape0                        \u001b[0m\n",
      "\u001b[34m________________________________________________________________________________________________________________________\u001b[0m\n",
      "\u001b[34mzeros_like0(zeros_like)                             1                       0           sum1                            \u001b[0m\n",
      "\u001b[34m________________________________________________________________________________________________________________________\u001b[0m\n",
      "\u001b[34m_equal0(_equal)                                     1                       0           sum1                            \n",
      "                                                                                        zeros_like0                     \u001b[0m\n",
      "\u001b[34m________________________________________________________________________________________________________________________\u001b[0m\n",
      "\u001b[34m_plus0(elemwise_add)                                1                       0           sum1                            \n",
      "                                                                                        _equal0                         \u001b[0m\n",
      "\u001b[34m________________________________________________________________________________________________________________________\u001b[0m\n",
      "\u001b[34mbroadcast_div0(broadcast_div)                       1024                    0           sum0                            \n",
      "                                                                                        _plus0                          \u001b[0m\n",
      "\u001b[34m________________________________________________________________________________________________________________________\u001b[0m\n",
      "\u001b[34mdropout0(Dropout)                                   1024                    0           broadcast_div0                  \u001b[0m\n",
      "\u001b[34m________________________________________________________________________________________________________________________\u001b[0m\n",
      "\u001b[34membed_1(Embedding)                                  1x1024                  0                                           \u001b[0m\n",
      "\u001b[34m________________________________________________________________________________________________________________________\u001b[0m\n",
      "\u001b[34m_not_equal_scalar1(_not_equal_scalar)               1                       0                                           \u001b[0m\n",
      "\u001b[34m________________________________________________________________________________________________________________________\u001b[0m\n",
      "\u001b[34mreshape1(Reshape)                                   1x1                     0           _not_equal_scalar1              \u001b[0m\n",
      "\u001b[34m________________________________________________________________________________________________________________________\u001b[0m\n",
      "\u001b[34mbroadcast_mul1(broadcast_mul)                       1x1024                  0           embed_1                         \n",
      "                                                                                        reshape1                        \u001b[0m\n",
      "\u001b[34m________________________________________________________________________________________________________________________\u001b[0m\n",
      "\u001b[34msum2(sum)                                           1024                    0           broadcast_mul1                  \u001b[0m\n",
      "\u001b[34m________________________________________________________________________________________________________________________\u001b[0m\n",
      "\u001b[34msum3(sum)                                           1                       0           reshape1                        \u001b[0m\n",
      "\u001b[34m________________________________________________________________________________________________________________________\u001b[0m\n",
      "\u001b[34mzeros_like1(zeros_like)                             1                       0           sum3                            \u001b[0m\n",
      "\u001b[34m________________________________________________________________________________________________________________________\u001b[0m\n",
      "\u001b[34m_equal1(_equal)                                     1                       0           sum3                            \n",
      "                                                                                        zeros_like1                     \u001b[0m\n",
      "\u001b[34m________________________________________________________________________________________________________________________\u001b[0m\n",
      "\u001b[34m_plus1(elemwise_add)                                1                       0           sum3                            \n",
      "                                                                                        _equal1                         \u001b[0m\n",
      "\u001b[34m________________________________________________________________________________________________________________________\u001b[0m\n",
      "\u001b[34mbroadcast_div1(broadcast_div)                       1024                    0           sum2                            \n",
      "                                                                                        _plus1                          \u001b[0m\n",
      "\u001b[34m________________________________________________________________________________________________________________________\u001b[0m\n",
      "\u001b[34mdropout1(Dropout)                                   1024                    0           broadcast_div1                  \u001b[0m\n",
      "\u001b[34m________________________________________________________________________________________________________________________\u001b[0m\n",
      "\u001b[34m_mul0(elemwise_mul)                                 1024                    0           dropout0                        \n",
      "                                                                                        dropout1                        \u001b[0m\n",
      "\u001b[34m________________________________________________________________________________________________________________________\u001b[0m\n",
      "\u001b[34m_minus0(elemwise_sub)                               1024                    0           dropout0                        \n",
      "                                                                                        dropout1                        \u001b[0m\n",
      "\u001b[34m________________________________________________________________________________________________________________________\u001b[0m\n",
      "\u001b[34mabs0(abs)                                           1024                    0           _minus0                         \u001b[0m\n",
      "\u001b[34m________________________________________________________________________________________________________________________\u001b[0m\n",
      "\u001b[34mconcat0(Concat)                                     4096                    0           _mul0                           \n",
      "                                                                                        dropout0                        \n",
      "                                                                                        dropout1                        \n",
      "                                                                                        abs0                            \u001b[0m\n",
      "\u001b[34m________________________________________________________________________________________________________________________\u001b[0m\n",
      "\u001b[34mmlp_fc0(FullyConnected)                             256                     1048832     concat0                         \u001b[0m\n",
      "\u001b[34m________________________________________________________________________________________________________________________\u001b[0m\n",
      "\u001b[34mactivation0(Activation)                             256                     0           mlp_fc0                         \u001b[0m\n",
      "\u001b[34m________________________________________________________________________________________________________________________\u001b[0m\n",
      "\u001b[34mdropout2(Dropout)                                   256                     0           activation0                     \u001b[0m\n",
      "\u001b[34m________________________________________________________________________________________________________________________\u001b[0m\n",
      "\u001b[34moutput_layer(FullyConnected)                        1                       257         dropout2                        \u001b[0m\n",
      "\u001b[34m________________________________________________________________________________________________________________________\u001b[0m\n",
      "\u001b[34mout_layer(LinearRegressionOutput)                   1                       0           output_layer                    \u001b[0m\n",
      "\u001b[34m========================================================================================================================\u001b[0m\n",
      "\u001b[34mTotal params: 1049089\u001b[0m\n",
      "\u001b[34m________________________________________________________________________________________________________________________\u001b[0m\n",
      "\u001b[34m[10/06/2020 17:16:14 INFO 140130936940352] data_shapes [DataDesc[source,(64, 1),<type 'numpy.float32'>,NTC], DataDesc[target,(64, 1),<type 'numpy.float32'>,NTC]]\u001b[0m\n",
      "\u001b[34m[10/06/2020 17:16:14 INFO 140130936940352] label_shapes [DataDesc[out_layer_label,(64,),<type 'numpy.float32'>,NTC]]\u001b[0m\n",
      "\u001b[34m[10/06/2020 17:16:14 INFO 140130936940352] fixed_param_names: []\u001b[0m\n",
      "\u001b[34m[10/06/2020 17:16:14 INFO 140130936940352] Initialized BucketingPlus Module\u001b[0m\n",
      "\n",
      "2020-10-06 17:16:06 Training - Training image download completed. Training in progress.\u001b[34m[10/06/2020 17:16:20 INFO 140130936940352] arg_params keys for module initialization: []\u001b[0m\n",
      "\u001b[34m[10/06/2020 17:16:20 INFO 140130936940352] all params:['output_layer_weight', 'mlp_fc0_weight', 'mlp_fc0_bias', 'output_layer_bias', 'embed_1_weight', 'embed_0_weight']\u001b[0m\n",
      "\u001b[34m#metrics {\"Metrics\": {\"initialize.time\": {\"count\": 1, \"max\": 5714.289903640747, \"sum\": 5714.289903640747, \"min\": 5714.289903640747}}, \"EndTime\": 1602004580.626671, \"Dimensions\": {\"Host\": \"algo-1\", \"Operation\": \"training\", \"Algorithm\": \"ObjectToVec\"}, \"StartTime\": 1602004571.740895}\n",
      "\u001b[0m\n",
      "\u001b[34m#metrics {\"Metrics\": {\"Max Batches Seen Between Resets\": {\"count\": 1, \"max\": 0, \"sum\": 0.0, \"min\": 0}, \"Number of Batches Since Last Reset\": {\"count\": 1, \"max\": 0, \"sum\": 0.0, \"min\": 0}, \"Number of Records Since Last Reset\": {\"count\": 1, \"max\": 0, \"sum\": 0.0, \"min\": 0}, \"Total Batches Seen\": {\"count\": 1, \"max\": 0, \"sum\": 0.0, \"min\": 0}, \"Total Records Seen\": {\"count\": 1, \"max\": 0, \"sum\": 0.0, \"min\": 0}, \"Max Records Seen Between Resets\": {\"count\": 1, \"max\": 0, \"sum\": 0.0, \"min\": 0}, \"Reset Count\": {\"count\": 1, \"max\": 0, \"sum\": 0.0, \"min\": 0}}, \"EndTime\": 1602004580.62688, \"Dimensions\": {\"Host\": \"algo-1\", \"Meta\": \"init_train_data_iter\", \"Operation\": \"training\", \"Algorithm\": \"ObjectToVec\"}, \"StartTime\": 1602004580.626813}\n",
      "\u001b[0m\n",
      "\u001b[34m[10/06/2020 17:16:21 INFO 140130936940352] Epoch: 0, batches: 100, num_examples: 6400, 14304.4 samples/sec, epoch time so far: 0:00:00.447414\u001b[0m\n",
      "\u001b[34m[10/06/2020 17:16:21 INFO 140130936940352] #011Training metrics: mean_squared_error: 1.661 mean_absolute_error: 0.998 \u001b[0m\n",
      "\u001b[34m[10/06/2020 17:16:21 INFO 140130936940352] Epoch: 0, batches: 200, num_examples: 12800, 15068.6 samples/sec, epoch time so far: 0:00:00.849448\u001b[0m\n",
      "\u001b[34m[10/06/2020 17:16:21 INFO 140130936940352] #011Training metrics: mean_squared_error: 1.405 mean_absolute_error: 0.927 \u001b[0m\n",
      "\u001b[34m[10/06/2020 17:16:21 INFO 140130936940352] Epoch: 0, batches: 300, num_examples: 19200, 15291.5 samples/sec, epoch time so far: 0:00:01.255599\u001b[0m\n",
      "\u001b[34m[10/06/2020 17:16:21 INFO 140130936940352] #011Training metrics: mean_squared_error: 1.287 mean_absolute_error: 0.891 \u001b[0m\n",
      "\u001b[34m[10/06/2020 17:16:22 INFO 140130936940352] Epoch: 0, batches: 400, num_examples: 25600, 15449.7 samples/sec, epoch time so far: 0:00:01.656987\u001b[0m\n",
      "\u001b[34m[10/06/2020 17:16:22 INFO 140130936940352] #011Training metrics: mean_squared_error: 1.227 mean_absolute_error: 0.872 \u001b[0m\n",
      "\u001b[34m[10/06/2020 17:16:22 INFO 140130936940352] Epoch: 0, batches: 500, num_examples: 32000, 15383.5 samples/sec, epoch time so far: 0:00:02.080146\u001b[0m\n",
      "\u001b[34m[10/06/2020 17:16:22 INFO 140130936940352] #011Training metrics: mean_squared_error: 1.184 mean_absolute_error: 0.858 \u001b[0m\n",
      "\u001b[34m[10/06/2020 17:16:23 INFO 140130936940352] Epoch: 0, batches: 600, num_examples: 38400, 15310.8 samples/sec, epoch time so far: 0:00:02.508028\u001b[0m\n",
      "\u001b[34m[10/06/2020 17:16:23 INFO 140130936940352] #011Training metrics: mean_squared_error: 1.150 mean_absolute_error: 0.846 \u001b[0m\n",
      "\u001b[34m[10/06/2020 17:16:23 INFO 140130936940352] Epoch: 0, batches: 700, num_examples: 44800, 15400.6 samples/sec, epoch time so far: 0:00:02.908971\u001b[0m\n",
      "\u001b[34m[10/06/2020 17:16:23 INFO 140130936940352] #011Training metrics: mean_squared_error: 1.124 mean_absolute_error: 0.837 \u001b[0m\n",
      "\u001b[34m[10/06/2020 17:16:24 INFO 140130936940352] Epoch: 0, batches: 800, num_examples: 51200, 15428.1 samples/sec, epoch time so far: 0:00:03.318628\u001b[0m\n",
      "\u001b[34m[10/06/2020 17:16:24 INFO 140130936940352] #011Training metrics: mean_squared_error: 1.101 mean_absolute_error: 0.828 \u001b[0m\n",
      "\u001b[34m[10/06/2020 17:16:24 INFO 140130936940352] Epoch: 0, batches: 900, num_examples: 57600, 15476.4 samples/sec, epoch time so far: 0:00:03.721797\u001b[0m\n",
      "\u001b[34m[10/06/2020 17:16:24 INFO 140130936940352] #011Training metrics: mean_squared_error: 1.084 mean_absolute_error: 0.822 \u001b[0m\n",
      "\u001b[34m[10/06/2020 17:16:24 INFO 140130936940352] Epoch: 0, batches: 1000, num_examples: 64000, 15515.6 samples/sec, epoch time so far: 0:00:04.124888\u001b[0m\n",
      "\u001b[34m[10/06/2020 17:16:24 INFO 140130936940352] #011Training metrics: mean_squared_error: 1.069 mean_absolute_error: 0.817 \u001b[0m\n",
      "\u001b[34m[10/06/2020 17:16:25 INFO 140130936940352] Epoch: 0, batches: 1100, num_examples: 70400, 15543.4 samples/sec, epoch time so far: 0:00:04.529258\u001b[0m\n",
      "\u001b[34m[10/06/2020 17:16:25 INFO 140130936940352] #011Training metrics: mean_squared_error: 1.057 mean_absolute_error: 0.812 \u001b[0m\n",
      "\u001b[34m[10/06/2020 17:16:25 INFO 140130936940352] Epoch: 0, batches: 1200, num_examples: 76800, 15569.4 samples/sec, epoch time so far: 0:00:04.932744\u001b[0m\n",
      "\u001b[34m[10/06/2020 17:16:25 INFO 140130936940352] #011Training metrics: mean_squared_error: 1.044 mean_absolute_error: 0.807 \u001b[0m\n",
      "\u001b[34m[10/06/2020 17:16:26 INFO 140130936940352] Epoch: 0, batches: 1300, num_examples: 83200, 15583.0 samples/sec, epoch time so far: 0:00:05.339150\u001b[0m\n",
      "\u001b[34m[10/06/2020 17:16:26 INFO 140130936940352] #011Training metrics: mean_squared_error: 1.036 mean_absolute_error: 0.804 \u001b[0m\n",
      "\u001b[34m[10/06/2020 17:16:26 INFO 140130936940352] Epoch: 0, batches: 1400, num_examples: 89600, 15607.2 samples/sec, epoch time so far: 0:00:05.740937\u001b[0m\n",
      "\u001b[34m[10/06/2020 17:16:26 INFO 140130936940352] #011Training metrics: mean_squared_error: 1.028 mean_absolute_error: 0.801 \u001b[0m\n",
      "\u001b[34m[10/06/2020 17:16:26 INFO 140130936940352] **************\u001b[0m\n",
      "\u001b[34m[10/06/2020 17:16:26 INFO 140130936940352] Completed Epoch: 0, time taken: 0:00:05.805254\u001b[0m\n",
      "\u001b[34m[10/06/2020 17:16:26 INFO 140130936940352] Epoch 0 Training metrics:   mean_squared_error: 1.026 mean_absolute_error: 0.801 \u001b[0m\n",
      "\u001b[34m[10/06/2020 17:16:26 INFO 140130936940352] #quality_metric: host=algo-1, epoch=0, train mean_squared_error <loss>=1.02614774873\u001b[0m\n",
      "\u001b[34m[10/06/2020 17:16:26 INFO 140130936940352] Epoch 0 Validation metrics: mean_squared_error: 0.942 mean_absolute_error: 0.772 \u001b[0m\n",
      "\u001b[34m[10/06/2020 17:16:26 INFO 140130936940352] #quality_metric: host=algo-1, epoch=0, validation mean_squared_error <loss>=0.942378284561\u001b[0m\n",
      "\u001b[34m[10/06/2020 17:16:26 INFO 140130936940352] **************\u001b[0m\n",
      "\u001b[34m#metrics {\"Metrics\": {\"epochs\": {\"count\": 1, \"max\": 20, \"sum\": 20.0, \"min\": 20}, \"early_stop.time\": {\"count\": 1, \"max\": 0.28586387634277344, \"sum\": 0.28586387634277344, \"min\": 0.28586387634277344}, \"update.time\": {\"count\": 1, \"max\": 6007.328033447266, \"sum\": 6007.328033447266, \"min\": 6007.328033447266}}, \"EndTime\": 1602004586.698129, \"Dimensions\": {\"Host\": \"algo-1\", \"Operation\": \"training\", \"Algorithm\": \"ObjectToVec\"}, \"StartTime\": 1602004580.626763}\n",
      "\u001b[0m\n",
      "\u001b[34m[10/06/2020 17:16:26 INFO 140130936940352] #progress_metric: host=algo-1, completed 5 % of epochs\u001b[0m\n",
      "\u001b[34m#metrics {\"Metrics\": {\"Max Batches Seen Between Resets\": {\"count\": 1, \"max\": 1416, \"sum\": 1416.0, \"min\": 1416}, \"Number of Batches Since Last Reset\": {\"count\": 1, \"max\": 1416, \"sum\": 1416.0, \"min\": 1416}, \"Number of Records Since Last Reset\": {\"count\": 1, \"max\": 90624, \"sum\": 90624.0, \"min\": 90624}, \"Total Batches Seen\": {\"count\": 1, \"max\": 1416, \"sum\": 1416.0, \"min\": 1416}, \"Total Records Seen\": {\"count\": 1, \"max\": 90624, \"sum\": 90624.0, \"min\": 90624}, \"Max Records Seen Between Resets\": {\"count\": 1, \"max\": 90624, \"sum\": 90624.0, \"min\": 90624}, \"Reset Count\": {\"count\": 1, \"max\": 1, \"sum\": 1.0, \"min\": 1}}, \"EndTime\": 1602004586.698463, \"Dimensions\": {\"Host\": \"algo-1\", \"Meta\": \"training_data_iter\", \"Operation\": \"training\", \"Algorithm\": \"ObjectToVec\", \"epoch\": 0}, \"StartTime\": 1602004580.690771}\n",
      "\u001b[0m\n",
      "\u001b[34m[10/06/2020 17:16:26 INFO 140130936940352] #throughput_metric: host=algo-1, train throughput=15084.2571431 records/second\u001b[0m\n",
      "\u001b[34m[10/06/2020 17:16:27 INFO 140130936940352] Epoch: 1, batches: 100, num_examples: 6400, 15705.8 samples/sec, epoch time so far: 0:00:00.407493\u001b[0m\n",
      "\u001b[34m[10/06/2020 17:16:27 INFO 140130936940352] #011Training metrics: mean_squared_error: 0.716 mean_absolute_error: 0.667 \u001b[0m\n",
      "\u001b[34m[10/06/2020 17:16:27 INFO 140130936940352] Epoch: 1, batches: 200, num_examples: 12800, 15429.7 samples/sec, epoch time so far: 0:00:00.829567\u001b[0m\n",
      "\u001b[34m[10/06/2020 17:16:27 INFO 140130936940352] #011Training metrics: mean_squared_error: 0.710 mean_absolute_error: 0.664 \u001b[0m\n",
      "\u001b[34m[10/06/2020 17:16:27 INFO 140130936940352] Epoch: 1, batches: 300, num_examples: 19200, 15158.0 samples/sec, epoch time so far: 0:00:01.266659\u001b[0m\n",
      "\u001b[34m[10/06/2020 17:16:27 INFO 140130936940352] #011Training metrics: mean_squared_error: 0.706 mean_absolute_error: 0.661 \u001b[0m\n",
      "\u001b[34m[10/06/2020 17:16:28 INFO 140130936940352] Epoch: 1, batches: 400, num_examples: 25600, 15021.1 samples/sec, epoch time so far: 0:00:01.704264\u001b[0m\n",
      "\u001b[34m[10/06/2020 17:16:28 INFO 140130936940352] #011Training metrics: mean_squared_error: 0.705 mean_absolute_error: 0.661 \u001b[0m\n",
      "\u001b[34m[10/06/2020 17:16:28 INFO 140130936940352] Epoch: 1, batches: 500, num_examples: 32000, 14837.5 samples/sec, epoch time so far: 0:00:02.156693\u001b[0m\n",
      "\u001b[34m[10/06/2020 17:16:28 INFO 140130936940352] #011Training metrics: mean_squared_error: 0.699 mean_absolute_error: 0.657 \u001b[0m\n",
      "\u001b[34m[10/06/2020 17:16:29 INFO 140130936940352] Epoch: 1, batches: 600, num_examples: 38400, 14455.2 samples/sec, epoch time so far: 0:00:02.656480\u001b[0m\n",
      "\u001b[34m[10/06/2020 17:16:29 INFO 140130936940352] #011Training metrics: mean_squared_error: 0.690 mean_absolute_error: 0.652 \u001b[0m\n",
      "\u001b[34m[10/06/2020 17:16:29 INFO 140130936940352] Epoch: 1, batches: 700, num_examples: 44800, 14596.9 samples/sec, epoch time so far: 0:00:03.069140\u001b[0m\n",
      "\u001b[34m[10/06/2020 17:16:29 INFO 140130936940352] #011Training metrics: mean_squared_error: 0.686 mean_absolute_error: 0.651 \u001b[0m\n",
      "\u001b[34m[10/06/2020 17:16:30 INFO 140130936940352] Epoch: 1, batches: 800, num_examples: 51200, 14739.5 samples/sec, epoch time so far: 0:00:03.473667\u001b[0m\n",
      "\u001b[34m[10/06/2020 17:16:30 INFO 140130936940352] #011Training metrics: mean_squared_error: 0.680 mean_absolute_error: 0.647 \u001b[0m\n",
      "\u001b[34m[10/06/2020 17:16:30 INFO 140130936940352] Epoch: 1, batches: 900, num_examples: 57600, 14859.4 samples/sec, epoch time so far: 0:00:03.876325\u001b[0m\n",
      "\u001b[34m[10/06/2020 17:16:30 INFO 140130936940352] #011Training metrics: mean_squared_error: 0.675 mean_absolute_error: 0.645 \u001b[0m\n",
      "\u001b[34m[10/06/2020 17:16:31 INFO 140130936940352] Epoch: 1, batches: 1000, num_examples: 64000, 14961.2 samples/sec, epoch time so far: 0:00:04.277719\u001b[0m\n",
      "\u001b[34m[10/06/2020 17:16:31 INFO 140130936940352] #011Training metrics: mean_squared_error: 0.670 mean_absolute_error: 0.642 \u001b[0m\n",
      "\u001b[34m[10/06/2020 17:16:31 INFO 140130936940352] Epoch: 1, batches: 1100, num_examples: 70400, 15026.5 samples/sec, epoch time so far: 0:00:04.685042\u001b[0m\n",
      "\u001b[34m[10/06/2020 17:16:31 INFO 140130936940352] #011Training metrics: mean_squared_error: 0.666 mean_absolute_error: 0.641 \u001b[0m\n",
      "\u001b[34m[10/06/2020 17:16:31 INFO 140130936940352] Epoch: 1, batches: 1200, num_examples: 76800, 15098.6 samples/sec, epoch time so far: 0:00:05.086552\u001b[0m\n",
      "\u001b[34m[10/06/2020 17:16:31 INFO 140130936940352] #011Training metrics: mean_squared_error: 0.665 mean_absolute_error: 0.640 \u001b[0m\n",
      "\u001b[34m[10/06/2020 17:16:32 INFO 140130936940352] Epoch: 1, batches: 1300, num_examples: 83200, 15142.7 samples/sec, epoch time so far: 0:00:05.494394\u001b[0m\n",
      "\u001b[34m[10/06/2020 17:16:32 INFO 140130936940352] #011Training metrics: mean_squared_error: 0.662 mean_absolute_error: 0.638 \u001b[0m\n",
      "\u001b[34m[10/06/2020 17:16:32 INFO 140130936940352] Epoch: 1, batches: 1400, num_examples: 89600, 15138.9 samples/sec, epoch time so far: 0:00:05.918541\u001b[0m\n",
      "\u001b[34m[10/06/2020 17:16:32 INFO 140130936940352] #011Training metrics: mean_squared_error: 0.660 mean_absolute_error: 0.638 \u001b[0m\n",
      "\u001b[34m[10/06/2020 17:16:32 INFO 140130936940352] **************\u001b[0m\n",
      "\u001b[34m[10/06/2020 17:16:32 INFO 140130936940352] Completed Epoch: 1, time taken: 0:00:05.983386\u001b[0m\n",
      "\u001b[34m[10/06/2020 17:16:32 INFO 140130936940352] Epoch 1 Training metrics:   mean_squared_error: 0.660 mean_absolute_error: 0.637 \u001b[0m\n",
      "\u001b[34m[10/06/2020 17:16:32 INFO 140130936940352] #quality_metric: host=algo-1, epoch=1, train mean_squared_error <loss>=0.659860356443\u001b[0m\n",
      "\u001b[34m[10/06/2020 17:16:32 INFO 140130936940352] Epoch 1 Validation metrics: mean_squared_error: 0.965 mean_absolute_error: 0.780 \u001b[0m\n",
      "\u001b[34m[10/06/2020 17:16:32 INFO 140130936940352] #quality_metric: host=algo-1, epoch=1, validation mean_squared_error <loss>=0.965284109921\u001b[0m\n",
      "\u001b[34m[10/06/2020 17:16:32 INFO 140130936940352] **************\u001b[0m\n",
      "\u001b[34m#metrics {\"Metrics\": {\"early_stop.time\": {\"count\": 1, \"max\": 0.03314018249511719, \"sum\": 0.03314018249511719, \"min\": 0.03314018249511719}, \"update.time\": {\"count\": 1, \"max\": 6185.29200553894, \"sum\": 6185.29200553894, \"min\": 6185.29200553894}}, \"EndTime\": 1602004592.912761, \"Dimensions\": {\"Host\": \"algo-1\", \"Operation\": \"training\", \"Algorithm\": \"ObjectToVec\"}, \"StartTime\": 1602004586.698226}\n",
      "\u001b[0m\n",
      "\u001b[34m[10/06/2020 17:16:32 INFO 140130936940352] #progress_metric: host=algo-1, completed 10 % of epochs\u001b[0m\n",
      "\u001b[34m#metrics {\"Metrics\": {\"Max Batches Seen Between Resets\": {\"count\": 1, \"max\": 1416, \"sum\": 1416.0, \"min\": 1416}, \"Number of Batches Since Last Reset\": {\"count\": 1, \"max\": 1416, \"sum\": 1416.0, \"min\": 1416}, \"Number of Records Since Last Reset\": {\"count\": 1, \"max\": 90624, \"sum\": 90624.0, \"min\": 90624}, \"Total Batches Seen\": {\"count\": 1, \"max\": 2832, \"sum\": 2832.0, \"min\": 2832}, \"Total Records Seen\": {\"count\": 1, \"max\": 181248, \"sum\": 181248.0, \"min\": 181248}, \"Max Records Seen Between Resets\": {\"count\": 1, \"max\": 90624, \"sum\": 90624.0, \"min\": 90624}, \"Reset Count\": {\"count\": 1, \"max\": 2, \"sum\": 2.0, \"min\": 2}}, \"EndTime\": 1602004592.913068, \"Dimensions\": {\"Host\": \"algo-1\", \"Meta\": \"training_data_iter\", \"Operation\": \"training\", \"Algorithm\": \"ObjectToVec\", \"epoch\": 1}, \"StartTime\": 1602004586.727439}\n",
      "\u001b[0m\n",
      "\u001b[34m[10/06/2020 17:16:32 INFO 140130936940352] #throughput_metric: host=algo-1, train throughput=14650.3025822 records/second\u001b[0m\n",
      "\u001b[34m[10/06/2020 17:16:33 INFO 140130936940352] Epoch: 2, batches: 100, num_examples: 6400, 15818.4 samples/sec, epoch time so far: 0:00:00.404591\u001b[0m\n",
      "\u001b[34m[10/06/2020 17:16:33 INFO 140130936940352] #011Training metrics: mean_squared_error: 0.272 mean_absolute_error: 0.401 \u001b[0m\n",
      "\u001b[34m[10/06/2020 17:16:33 INFO 140130936940352] Epoch: 2, batches: 200, num_examples: 12800, 15859.7 samples/sec, epoch time so far: 0:00:00.807079\u001b[0m\n",
      "\u001b[34m[10/06/2020 17:16:33 INFO 140130936940352] #011Training metrics: mean_squared_error: 0.268 mean_absolute_error: 0.398 \u001b[0m\n",
      "\u001b[34m[10/06/2020 17:16:34 INFO 140130936940352] Epoch: 2, batches: 300, num_examples: 19200, 15869.5 samples/sec, epoch time so far: 0:00:01.209869\u001b[0m\n",
      "\u001b[34m[10/06/2020 17:16:34 INFO 140130936940352] #011Training metrics: mean_squared_error: 0.268 mean_absolute_error: 0.397 \u001b[0m\n",
      "\u001b[34m[10/06/2020 17:16:34 INFO 140130936940352] Epoch: 2, batches: 400, num_examples: 25600, 15815.3 samples/sec, epoch time so far: 0:00:01.618682\u001b[0m\n",
      "\u001b[34m[10/06/2020 17:16:34 INFO 140130936940352] #011Training metrics: mean_squared_error: 0.266 mean_absolute_error: 0.395 \u001b[0m\n",
      "\u001b[34m[10/06/2020 17:16:34 INFO 140130936940352] Epoch: 2, batches: 500, num_examples: 32000, 15838.5 samples/sec, epoch time so far: 0:00:02.020392\u001b[0m\n",
      "\u001b[34m[10/06/2020 17:16:34 INFO 140130936940352] #011Training metrics: mean_squared_error: 0.266 mean_absolute_error: 0.395 \u001b[0m\n",
      "\u001b[34m[10/06/2020 17:16:35 INFO 140130936940352] Epoch: 2, batches: 600, num_examples: 38400, 15823.5 samples/sec, epoch time so far: 0:00:02.426765\u001b[0m\n",
      "\u001b[34m[10/06/2020 17:16:35 INFO 140130936940352] #011Training metrics: mean_squared_error: 0.266 mean_absolute_error: 0.395 \u001b[0m\n",
      "\u001b[34m[10/06/2020 17:16:35 INFO 140130936940352] Epoch: 2, batches: 700, num_examples: 44800, 15828.4 samples/sec, epoch time so far: 0:00:02.830364\u001b[0m\n",
      "\u001b[34m[10/06/2020 17:16:35 INFO 140130936940352] #011Training metrics: mean_squared_error: 0.266 mean_absolute_error: 0.395 \u001b[0m\n",
      "\u001b[34m[10/06/2020 17:16:36 INFO 140130936940352] Epoch: 2, batches: 800, num_examples: 51200, 15830.8 samples/sec, epoch time so far: 0:00:03.234205\u001b[0m\n",
      "\u001b[34m[10/06/2020 17:16:36 INFO 140130936940352] #011Training metrics: mean_squared_error: 0.267 mean_absolute_error: 0.396 \u001b[0m\n",
      "\u001b[34m[10/06/2020 17:16:36 INFO 140130936940352] Epoch: 2, batches: 900, num_examples: 57600, 15820.1 samples/sec, epoch time so far: 0:00:03.640948\u001b[0m\n",
      "\u001b[34m[10/06/2020 17:16:36 INFO 140130936940352] #011Training metrics: mean_squared_error: 0.268 mean_absolute_error: 0.397 \u001b[0m\n",
      "\u001b[34m[10/06/2020 17:16:36 INFO 140130936940352] Epoch: 2, batches: 1000, num_examples: 64000, 15826.4 samples/sec, epoch time so far: 0:00:04.043879\u001b[0m\n",
      "\u001b[34m[10/06/2020 17:16:36 INFO 140130936940352] #011Training metrics: mean_squared_error: 0.269 mean_absolute_error: 0.397 \u001b[0m\n",
      "\u001b[34m[10/06/2020 17:16:37 INFO 140130936940352] Epoch: 2, batches: 1100, num_examples: 70400, 15826.5 samples/sec, epoch time so far: 0:00:04.448241\u001b[0m\n",
      "\u001b[34m[10/06/2020 17:16:37 INFO 140130936940352] #011Training metrics: mean_squared_error: 0.271 mean_absolute_error: 0.399 \u001b[0m\n",
      "\u001b[34m[10/06/2020 17:16:37 INFO 140130936940352] Epoch: 2, batches: 1200, num_examples: 76800, 15722.1 samples/sec, epoch time so far: 0:00:04.884836\u001b[0m\n",
      "\u001b[34m[10/06/2020 17:16:37 INFO 140130936940352] #011Training metrics: mean_squared_error: 0.272 mean_absolute_error: 0.400 \u001b[0m\n",
      "\u001b[34m[10/06/2020 17:16:38 INFO 140130936940352] Epoch: 2, batches: 1300, num_examples: 83200, 15727.6 samples/sec, epoch time so far: 0:00:05.290072\u001b[0m\n",
      "\u001b[34m[10/06/2020 17:16:38 INFO 140130936940352] #011Training metrics: mean_squared_error: 0.273 mean_absolute_error: 0.401 \u001b[0m\n",
      "\u001b[34m[10/06/2020 17:16:38 INFO 140130936940352] Epoch: 2, batches: 1400, num_examples: 89600, 15730.8 samples/sec, epoch time so far: 0:00:05.695835\u001b[0m\n",
      "\u001b[34m[10/06/2020 17:16:38 INFO 140130936940352] #011Training metrics: mean_squared_error: 0.275 mean_absolute_error: 0.403 \u001b[0m\n",
      "\u001b[34m[10/06/2020 17:16:38 INFO 140130936940352] **************\u001b[0m\n",
      "\u001b[34m[10/06/2020 17:16:38 INFO 140130936940352] Completed Epoch: 2, time taken: 0:00:05.761067\u001b[0m\n",
      "\u001b[34m[10/06/2020 17:16:38 INFO 140130936940352] Epoch 2 Training metrics:   mean_squared_error: 0.276 mean_absolute_error: 0.403 \u001b[0m\n",
      "\u001b[34m[10/06/2020 17:16:38 INFO 140130936940352] #quality_metric: host=algo-1, epoch=2, train mean_squared_error <loss>=0.275722148086\u001b[0m\n",
      "\u001b[34m[10/06/2020 17:16:38 INFO 140130936940352] Epoch 2 Validation metrics: mean_squared_error: 0.941 mean_absolute_error: 0.761 \u001b[0m\n",
      "\u001b[34m[10/06/2020 17:16:38 INFO 140130936940352] #quality_metric: host=algo-1, epoch=2, validation mean_squared_error <loss>=0.94087454878\u001b[0m\n",
      "\u001b[34m[10/06/2020 17:16:38 INFO 140130936940352] **************\u001b[0m\n",
      "\u001b[34m#metrics {\"Metrics\": {\"early_stop.time\": {\"count\": 1, \"max\": 2.5680065155029297, \"sum\": 2.5680065155029297, \"min\": 2.5680065155029297}, \"update.time\": {\"count\": 1, \"max\": 5966.683864593506, \"sum\": 5966.683864593506, \"min\": 5966.683864593506}}, \"EndTime\": 1602004598.884758, \"Dimensions\": {\"Host\": \"algo-1\", \"Operation\": \"training\", \"Algorithm\": \"ObjectToVec\"}, \"StartTime\": 1602004592.912879}\n",
      "\u001b[0m\n",
      "\u001b[34m[10/06/2020 17:16:38 INFO 140130936940352] #progress_metric: host=algo-1, completed 15 % of epochs\u001b[0m\n",
      "\u001b[34m#metrics {\"Metrics\": {\"Max Batches Seen Between Resets\": {\"count\": 1, \"max\": 1416, \"sum\": 1416.0, \"min\": 1416}, \"Number of Batches Since Last Reset\": {\"count\": 1, \"max\": 1416, \"sum\": 1416.0, \"min\": 1416}, \"Number of Records Since Last Reset\": {\"count\": 1, \"max\": 90624, \"sum\": 90624.0, \"min\": 90624}, \"Total Batches Seen\": {\"count\": 1, \"max\": 4248, \"sum\": 4248.0, \"min\": 4248}, \"Total Records Seen\": {\"count\": 1, \"max\": 271872, \"sum\": 271872.0, \"min\": 271872}, \"Max Records Seen Between Resets\": {\"count\": 1, \"max\": 90624, \"sum\": 90624.0, \"min\": 90624}, \"Reset Count\": {\"count\": 1, \"max\": 3, \"sum\": 3.0, \"min\": 3}}, \"EndTime\": 1602004598.885074, \"Dimensions\": {\"Host\": \"algo-1\", \"Meta\": \"training_data_iter\", \"Operation\": \"training\", \"Algorithm\": \"ObjectToVec\", \"epoch\": 2}, \"StartTime\": 1602004592.918055}\n",
      "\u001b[0m\n",
      "\u001b[34m[10/06/2020 17:16:38 INFO 140130936940352] #throughput_metric: host=algo-1, train throughput=15187.0987418 records/second\u001b[0m\n",
      "\u001b[34m[10/06/2020 17:16:39 INFO 140130936940352] Epoch: 3, batches: 100, num_examples: 6400, 15695.5 samples/sec, epoch time so far: 0:00:00.407759\u001b[0m\n",
      "\u001b[34m[10/06/2020 17:16:39 INFO 140130936940352] #011Training metrics: mean_squared_error: 0.178 mean_absolute_error: 0.311 \u001b[0m\n",
      "\u001b[34m[10/06/2020 17:16:39 INFO 140130936940352] Epoch: 3, batches: 200, num_examples: 12800, 15633.3 samples/sec, epoch time so far: 0:00:00.818764\u001b[0m\n",
      "\u001b[34m[10/06/2020 17:16:39 INFO 140130936940352] #011Training metrics: mean_squared_error: 0.169 mean_absolute_error: 0.302 \u001b[0m\n",
      "\u001b[34m[10/06/2020 17:16:40 INFO 140130936940352] Epoch: 3, batches: 300, num_examples: 19200, 15717.5 samples/sec, epoch time so far: 0:00:01.221566\u001b[0m\n",
      "\u001b[34m[10/06/2020 17:16:40 INFO 140130936940352] #011Training metrics: mean_squared_error: 0.165 mean_absolute_error: 0.299 \u001b[0m\n",
      "\u001b[34m[10/06/2020 17:16:40 INFO 140130936940352] Epoch: 3, batches: 400, num_examples: 25600, 15728.4 samples/sec, epoch time so far: 0:00:01.627632\u001b[0m\n",
      "\u001b[34m[10/06/2020 17:16:40 INFO 140130936940352] #011Training metrics: mean_squared_error: 0.163 mean_absolute_error: 0.298 \u001b[0m\n",
      "\u001b[34m[10/06/2020 17:16:40 INFO 140130936940352] Epoch: 3, batches: 500, num_examples: 32000, 15753.0 samples/sec, epoch time so far: 0:00:02.031358\u001b[0m\n",
      "\u001b[34m[10/06/2020 17:16:40 INFO 140130936940352] #011Training metrics: mean_squared_error: 0.164 mean_absolute_error: 0.298 \u001b[0m\n",
      "\u001b[34m[10/06/2020 17:16:41 INFO 140130936940352] Epoch: 3, batches: 600, num_examples: 38400, 15773.8 samples/sec, epoch time so far: 0:00:02.434410\u001b[0m\n",
      "\u001b[34m[10/06/2020 17:16:41 INFO 140130936940352] #011Training metrics: mean_squared_error: 0.166 mean_absolute_error: 0.301 \u001b[0m\n",
      "\u001b[34m[10/06/2020 17:16:41 INFO 140130936940352] Epoch: 3, batches: 700, num_examples: 44800, 15795.8 samples/sec, epoch time so far: 0:00:02.836199\u001b[0m\n",
      "\u001b[34m[10/06/2020 17:16:41 INFO 140130936940352] #011Training metrics: mean_squared_error: 0.165 mean_absolute_error: 0.300 \u001b[0m\n",
      "\u001b[34m[10/06/2020 17:16:42 INFO 140130936940352] Epoch: 3, batches: 800, num_examples: 51200, 15806.2 samples/sec, epoch time so far: 0:00:03.239232\u001b[0m\n",
      "\u001b[34m[10/06/2020 17:16:42 INFO 140130936940352] #011Training metrics: mean_squared_error: 0.164 mean_absolute_error: 0.300 \u001b[0m\n",
      "\u001b[34m[10/06/2020 17:16:42 INFO 140130936940352] Epoch: 3, batches: 900, num_examples: 57600, 15810.6 samples/sec, epoch time so far: 0:00:03.643122\u001b[0m\n",
      "\u001b[34m[10/06/2020 17:16:42 INFO 140130936940352] #011Training metrics: mean_squared_error: 0.164 mean_absolute_error: 0.299 \u001b[0m\n",
      "\u001b[34m[10/06/2020 17:16:42 INFO 140130936940352] Epoch: 3, batches: 1000, num_examples: 64000, 15773.3 samples/sec, epoch time so far: 0:00:04.057496\u001b[0m\n",
      "\u001b[34m[10/06/2020 17:16:42 INFO 140130936940352] #011Training metrics: mean_squared_error: 0.163 mean_absolute_error: 0.299 \u001b[0m\n",
      "\u001b[34m[10/06/2020 17:16:43 INFO 140130936940352] Epoch: 3, batches: 1100, num_examples: 70400, 15746.6 samples/sec, epoch time so far: 0:00:04.470818\u001b[0m\n",
      "\u001b[34m[10/06/2020 17:16:43 INFO 140130936940352] #011Training metrics: mean_squared_error: 0.164 mean_absolute_error: 0.300 \u001b[0m\n",
      "\u001b[34m[10/06/2020 17:16:43 INFO 140130936940352] Epoch: 3, batches: 1200, num_examples: 76800, 15761.8 samples/sec, epoch time so far: 0:00:04.872530\u001b[0m\n",
      "\u001b[34m[10/06/2020 17:16:43 INFO 140130936940352] #011Training metrics: mean_squared_error: 0.164 mean_absolute_error: 0.301 \u001b[0m\n",
      "\u001b[34m[10/06/2020 17:16:44 INFO 140130936940352] Epoch: 3, batches: 1300, num_examples: 83200, 15769.1 samples/sec, epoch time so far: 0:00:05.276148\u001b[0m\n",
      "\u001b[34m[10/06/2020 17:16:44 INFO 140130936940352] #011Training metrics: mean_squared_error: 0.164 mean_absolute_error: 0.302 \u001b[0m\n",
      "\u001b[34m[10/06/2020 17:16:44 INFO 140130936940352] Epoch: 3, batches: 1400, num_examples: 89600, 15761.0 samples/sec, epoch time so far: 0:00:05.684908\u001b[0m\n",
      "\u001b[34m[10/06/2020 17:16:44 INFO 140130936940352] #011Training metrics: mean_squared_error: 0.164 mean_absolute_error: 0.302 \u001b[0m\n",
      "\u001b[34m[10/06/2020 17:16:44 INFO 140130936940352] **************\u001b[0m\n",
      "\u001b[34m[10/06/2020 17:16:44 INFO 140130936940352] Completed Epoch: 3, time taken: 0:00:05.749658\u001b[0m\n",
      "\u001b[34m[10/06/2020 17:16:44 INFO 140130936940352] Epoch 3 Training metrics:   mean_squared_error: 0.164 mean_absolute_error: 0.302 \u001b[0m\n",
      "\u001b[34m[10/06/2020 17:16:44 INFO 140130936940352] #quality_metric: host=algo-1, epoch=3, train mean_squared_error <loss>=0.164186061555\u001b[0m\n",
      "\u001b[34m[10/06/2020 17:16:44 INFO 140130936940352] Epoch 3 Validation metrics: mean_squared_error: 0.951 mean_absolute_error: 0.762 \u001b[0m\n",
      "\u001b[34m[10/06/2020 17:16:44 INFO 140130936940352] #quality_metric: host=algo-1, epoch=3, validation mean_squared_error <loss>=0.950723589675\u001b[0m\n",
      "\u001b[34m[10/06/2020 17:16:44 INFO 140130936940352] **************\u001b[0m\n",
      "\u001b[34m[10/06/2020 17:16:44 INFO 140130936940352] patience losses: [0.9423782845606675, 0.9652841099210687, 0.9408745487799516]\u001b[0m\n",
      "\u001b[34m[10/06/2020 17:16:44 INFO 140130936940352] min patience losses: 0.94087454878\u001b[0m\n",
      "\u001b[34m[10/06/2020 17:16:44 INFO 140130936940352] current loss: 0.950723589675\u001b[0m\n",
      "\u001b[34m[10/06/2020 17:16:44 INFO 140130936940352] absolute loss difference: 0.00984904089489\u001b[0m\n",
      "\u001b[34m[10/06/2020 17:16:44 INFO 140130936940352] Bad epoch: loss has not improved (enough). Bad count:1\u001b[0m\n",
      "\u001b[34m#metrics {\"Metrics\": {\"early_stop.time\": {\"count\": 1, \"max\": 0.5297660827636719, \"sum\": 0.5297660827636719, \"min\": 0.5297660827636719}, \"update.time\": {\"count\": 1, \"max\": 5949.850082397461, \"sum\": 5949.850082397461, \"min\": 5949.850082397461}}, \"EndTime\": 1602004604.861848, \"Dimensions\": {\"Host\": \"algo-1\", \"Operation\": \"training\", \"Algorithm\": \"ObjectToVec\"}, \"StartTime\": 1602004598.884851}\n",
      "\u001b[0m\n",
      "\u001b[34m[10/06/2020 17:16:44 INFO 140130936940352] #progress_metric: host=algo-1, completed 20 % of epochs\u001b[0m\n",
      "\u001b[34m#metrics {\"Metrics\": {\"Max Batches Seen Between Resets\": {\"count\": 1, \"max\": 1416, \"sum\": 1416.0, \"min\": 1416}, \"Number of Batches Since Last Reset\": {\"count\": 1, \"max\": 1416, \"sum\": 1416.0, \"min\": 1416}, \"Number of Records Since Last Reset\": {\"count\": 1, \"max\": 90624, \"sum\": 90624.0, \"min\": 90624}, \"Total Batches Seen\": {\"count\": 1, \"max\": 5664, \"sum\": 5664.0, \"min\": 5664}, \"Total Records Seen\": {\"count\": 1, \"max\": 362496, \"sum\": 362496.0, \"min\": 362496}, \"Max Records Seen Between Resets\": {\"count\": 1, \"max\": 90624, \"sum\": 90624.0, \"min\": 90624}, \"Reset Count\": {\"count\": 1, \"max\": 4, \"sum\": 4.0, \"min\": 4}}, \"EndTime\": 1602004604.862155, \"Dimensions\": {\"Host\": \"algo-1\", \"Meta\": \"training_data_iter\", \"Operation\": \"training\", \"Algorithm\": \"ObjectToVec\", \"epoch\": 3}, \"StartTime\": 1602004598.911968}\n",
      "\u001b[0m\n",
      "\u001b[34m[10/06/2020 17:16:44 INFO 140130936940352] #throughput_metric: host=algo-1, train throughput=15229.9923637 records/second\u001b[0m\n",
      "\u001b[34m[10/06/2020 17:16:45 INFO 140130936940352] Epoch: 4, batches: 100, num_examples: 6400, 15820.6 samples/sec, epoch time so far: 0:00:00.404535\u001b[0m\n",
      "\u001b[34m[10/06/2020 17:16:45 INFO 140130936940352] #011Training metrics: mean_squared_error: 0.125 mean_absolute_error: 0.263 \u001b[0m\n",
      "\u001b[34m[10/06/2020 17:16:45 INFO 140130936940352] Epoch: 4, batches: 200, num_examples: 12800, 15758.4 samples/sec, epoch time so far: 0:00:00.812265\u001b[0m\n",
      "\u001b[34m[10/06/2020 17:16:45 INFO 140130936940352] #011Training metrics: mean_squared_error: 0.121 mean_absolute_error: 0.259 \u001b[0m\n",
      "\u001b[34m[10/06/2020 17:16:46 INFO 140130936940352] Epoch: 4, batches: 300, num_examples: 19200, 15823.2 samples/sec, epoch time so far: 0:00:01.213406\u001b[0m\n",
      "\u001b[34m[10/06/2020 17:16:46 INFO 140130936940352] #011Training metrics: mean_squared_error: 0.119 mean_absolute_error: 0.258 \u001b[0m\n",
      "\u001b[34m[10/06/2020 17:16:46 INFO 140130936940352] Epoch: 4, batches: 400, num_examples: 25600, 15796.9 samples/sec, epoch time so far: 0:00:01.620566\u001b[0m\n",
      "\u001b[34m[10/06/2020 17:16:46 INFO 140130936940352] #011Training metrics: mean_squared_error: 0.118 mean_absolute_error: 0.257 \u001b[0m\n",
      "\u001b[34m[10/06/2020 17:16:46 INFO 140130936940352] Epoch: 4, batches: 500, num_examples: 32000, 15822.5 samples/sec, epoch time so far: 0:00:02.022436\u001b[0m\n",
      "\u001b[34m[10/06/2020 17:16:46 INFO 140130936940352] #011Training metrics: mean_squared_error: 0.116 mean_absolute_error: 0.255 \u001b[0m\n",
      "\u001b[34m[10/06/2020 17:16:47 INFO 140130936940352] Epoch: 4, batches: 600, num_examples: 38400, 15836.3 samples/sec, epoch time so far: 0:00:02.424803\u001b[0m\n",
      "\u001b[34m[10/06/2020 17:16:47 INFO 140130936940352] #011Training metrics: mean_squared_error: 0.114 mean_absolute_error: 0.254 \u001b[0m\n",
      "\u001b[34m[10/06/2020 17:16:47 INFO 140130936940352] Epoch: 4, batches: 700, num_examples: 44800, 15819.2 samples/sec, epoch time so far: 0:00:02.831993\u001b[0m\n",
      "\u001b[34m[10/06/2020 17:16:47 INFO 140130936940352] #011Training metrics: mean_squared_error: 0.114 mean_absolute_error: 0.253 \u001b[0m\n",
      "\u001b[34m[10/06/2020 17:16:48 INFO 140130936940352] Epoch: 4, batches: 800, num_examples: 51200, 15726.6 samples/sec, epoch time so far: 0:00:03.255630\u001b[0m\n",
      "\u001b[34m[10/06/2020 17:16:48 INFO 140130936940352] #011Training metrics: mean_squared_error: 0.113 mean_absolute_error: 0.253 \u001b[0m\n",
      "\u001b[34m[10/06/2020 17:16:48 INFO 140130936940352] Epoch: 4, batches: 900, num_examples: 57600, 15736.2 samples/sec, epoch time so far: 0:00:03.660354\u001b[0m\n",
      "\u001b[34m[10/06/2020 17:16:48 INFO 140130936940352] #011Training metrics: mean_squared_error: 0.113 mean_absolute_error: 0.252 \u001b[0m\n",
      "\u001b[34m[10/06/2020 17:16:48 INFO 140130936940352] Epoch: 4, batches: 1000, num_examples: 64000, 15745.0 samples/sec, epoch time so far: 0:00:04.064788\u001b[0m\n",
      "\u001b[34m[10/06/2020 17:16:48 INFO 140130936940352] #011Training metrics: mean_squared_error: 0.112 mean_absolute_error: 0.252 \u001b[0m\n",
      "\u001b[34m[10/06/2020 17:16:49 INFO 140130936940352] Epoch: 4, batches: 1100, num_examples: 70400, 15757.7 samples/sec, epoch time so far: 0:00:04.467671\u001b[0m\n",
      "\u001b[34m[10/06/2020 17:16:49 INFO 140130936940352] #011Training metrics: mean_squared_error: 0.112 mean_absolute_error: 0.252 \u001b[0m\n",
      "\u001b[34m[10/06/2020 17:16:49 INFO 140130936940352] Epoch: 4, batches: 1200, num_examples: 76800, 15720.3 samples/sec, epoch time so far: 0:00:04.885416\u001b[0m\n",
      "\u001b[34m[10/06/2020 17:16:49 INFO 140130936940352] #011Training metrics: mean_squared_error: 0.113 mean_absolute_error: 0.253 \u001b[0m\n",
      "\u001b[34m[10/06/2020 17:16:50 INFO 140130936940352] Epoch: 4, batches: 1300, num_examples: 83200, 15730.8 samples/sec, epoch time so far: 0:00:05.288988\u001b[0m\n",
      "\u001b[34m[10/06/2020 17:16:50 INFO 140130936940352] #011Training metrics: mean_squared_error: 0.113 mean_absolute_error: 0.253 \u001b[0m\n",
      "\u001b[34m[10/06/2020 17:16:50 INFO 140130936940352] Epoch: 4, batches: 1400, num_examples: 89600, 15734.2 samples/sec, epoch time so far: 0:00:05.694614\u001b[0m\n",
      "\u001b[34m[10/06/2020 17:16:50 INFO 140130936940352] #011Training metrics: mean_squared_error: 0.113 mean_absolute_error: 0.253 \u001b[0m\n",
      "\u001b[34m[10/06/2020 17:16:50 INFO 140130936940352] **************\u001b[0m\n",
      "\u001b[34m[10/06/2020 17:16:50 INFO 140130936940352] Completed Epoch: 4, time taken: 0:00:05.759307\u001b[0m\n",
      "\u001b[34m[10/06/2020 17:16:50 INFO 140130936940352] Epoch 4 Training metrics:   mean_squared_error: 0.113 mean_absolute_error: 0.253 \u001b[0m\n",
      "\u001b[34m[10/06/2020 17:16:50 INFO 140130936940352] #quality_metric: host=algo-1, epoch=4, train mean_squared_error <loss>=0.112897691646\u001b[0m\n",
      "\u001b[34m[10/06/2020 17:16:50 INFO 140130936940352] Epoch 4 Validation metrics: mean_squared_error: 0.944 mean_absolute_error: 0.768 \u001b[0m\n",
      "\u001b[34m[10/06/2020 17:16:50 INFO 140130936940352] #quality_metric: host=algo-1, epoch=4, validation mean_squared_error <loss>=0.943977967509\u001b[0m\n",
      "\u001b[34m[10/06/2020 17:16:50 INFO 140130936940352] **************\u001b[0m\n",
      "\u001b[34m[10/06/2020 17:16:50 INFO 140130936940352] patience losses: [0.9652841099210687, 0.9408745487799516, 0.9507235896748465]\u001b[0m\n",
      "\u001b[34m[10/06/2020 17:16:50 INFO 140130936940352] min patience losses: 0.94087454878\u001b[0m\n",
      "\u001b[34m[10/06/2020 17:16:50 INFO 140130936940352] current loss: 0.943977967509\u001b[0m\n",
      "\u001b[34m[10/06/2020 17:16:50 INFO 140130936940352] absolute loss difference: 0.00310341872879\u001b[0m\n",
      "\u001b[34m[10/06/2020 17:16:50 INFO 140130936940352] Bad epoch: loss has not improved (enough). Bad count:2\u001b[0m\n",
      "\u001b[34m#metrics {\"Metrics\": {\"early_stop.time\": {\"count\": 1, \"max\": 0.5540847778320312, \"sum\": 0.5540847778320312, \"min\": 0.5540847778320312}, \"update.time\": {\"count\": 1, \"max\": 5960.383892059326, \"sum\": 5960.383892059326, \"min\": 5960.383892059326}}, \"EndTime\": 1602004610.82753, \"Dimensions\": {\"Host\": \"algo-1\", \"Operation\": \"training\", \"Algorithm\": \"ObjectToVec\"}, \"StartTime\": 1602004604.861966}\n",
      "\u001b[0m\n",
      "\u001b[34m[10/06/2020 17:16:50 INFO 140130936940352] #progress_metric: host=algo-1, completed 25 % of epochs\u001b[0m\n",
      "\u001b[34m#metrics {\"Metrics\": {\"Max Batches Seen Between Resets\": {\"count\": 1, \"max\": 1416, \"sum\": 1416.0, \"min\": 1416}, \"Number of Batches Since Last Reset\": {\"count\": 1, \"max\": 1416, \"sum\": 1416.0, \"min\": 1416}, \"Number of Records Since Last Reset\": {\"count\": 1, \"max\": 90624, \"sum\": 90624.0, \"min\": 90624}, \"Total Batches Seen\": {\"count\": 1, \"max\": 7080, \"sum\": 7080.0, \"min\": 7080}, \"Total Records Seen\": {\"count\": 1, \"max\": 453120, \"sum\": 453120.0, \"min\": 453120}, \"Max Records Seen Between Resets\": {\"count\": 1, \"max\": 90624, \"sum\": 90624.0, \"min\": 90624}, \"Reset Count\": {\"count\": 1, \"max\": 5, \"sum\": 5.0, \"min\": 5}}, \"EndTime\": 1602004610.827846, \"Dimensions\": {\"Host\": \"algo-1\", \"Meta\": \"training_data_iter\", \"Operation\": \"training\", \"Algorithm\": \"ObjectToVec\", \"epoch\": 4}, \"StartTime\": 1602004604.867119}\n",
      "\u001b[0m\n",
      "\u001b[34m[10/06/2020 17:16:50 INFO 140130936940352] #throughput_metric: host=algo-1, train throughput=15203.0835246 records/second\u001b[0m\n",
      "\u001b[34m[10/06/2020 17:16:51 INFO 140130936940352] Epoch: 5, batches: 100, num_examples: 6400, 15925.9 samples/sec, epoch time so far: 0:00:00.401860\u001b[0m\n",
      "\u001b[34m[10/06/2020 17:16:51 INFO 140130936940352] #011Training metrics: mean_squared_error: 0.095 mean_absolute_error: 0.235 \u001b[0m\n",
      "\u001b[34m[10/06/2020 17:16:51 INFO 140130936940352] Epoch: 5, batches: 200, num_examples: 12800, 15840.4 samples/sec, epoch time so far: 0:00:00.808060\u001b[0m\n",
      "\u001b[34m[10/06/2020 17:16:51 INFO 140130936940352] #011Training metrics: mean_squared_error: 0.091 mean_absolute_error: 0.231 \u001b[0m\n",
      "\u001b[34m[10/06/2020 17:16:52 INFO 140130936940352] Epoch: 5, batches: 300, num_examples: 19200, 15848.8 samples/sec, epoch time so far: 0:00:01.211447\u001b[0m\n",
      "\u001b[34m[10/06/2020 17:16:52 INFO 140130936940352] #011Training metrics: mean_squared_error: 0.090 mean_absolute_error: 0.229 \u001b[0m\n",
      "\u001b[34m[10/06/2020 17:16:52 INFO 140130936940352] Epoch: 5, batches: 400, num_examples: 25600, 15858.4 samples/sec, epoch time so far: 0:00:01.614291\u001b[0m\n",
      "\u001b[34m[10/06/2020 17:16:52 INFO 140130936940352] #011Training metrics: mean_squared_error: 0.089 mean_absolute_error: 0.229 \u001b[0m\n",
      "\u001b[34m[10/06/2020 17:16:52 INFO 140130936940352] Epoch: 5, batches: 500, num_examples: 32000, 15665.2 samples/sec, epoch time so far: 0:00:02.042748\u001b[0m\n",
      "\u001b[34m[10/06/2020 17:16:52 INFO 140130936940352] #011Training metrics: mean_squared_error: 0.089 mean_absolute_error: 0.229 \u001b[0m\n",
      "\u001b[34m[10/06/2020 17:16:53 INFO 140130936940352] Epoch: 5, batches: 600, num_examples: 38400, 15588.5 samples/sec, epoch time so far: 0:00:02.463353\u001b[0m\n",
      "\u001b[34m[10/06/2020 17:16:53 INFO 140130936940352] #011Training metrics: mean_squared_error: 0.088 mean_absolute_error: 0.228 \u001b[0m\n",
      "\u001b[34m[10/06/2020 17:16:53 INFO 140130936940352] Epoch: 5, batches: 700, num_examples: 44800, 15633.1 samples/sec, epoch time so far: 0:00:02.865710\u001b[0m\n",
      "\u001b[34m[10/06/2020 17:16:53 INFO 140130936940352] #011Training metrics: mean_squared_error: 0.088 mean_absolute_error: 0.228 \u001b[0m\n",
      "\u001b[34m[10/06/2020 17:16:54 INFO 140130936940352] Epoch: 5, batches: 800, num_examples: 51200, 15645.7 samples/sec, epoch time so far: 0:00:03.272472\u001b[0m\n",
      "\u001b[34m[10/06/2020 17:16:54 INFO 140130936940352] #011Training metrics: mean_squared_error: 0.088 mean_absolute_error: 0.228 \u001b[0m\n",
      "\u001b[34m[10/06/2020 17:16:54 INFO 140130936940352] Epoch: 5, batches: 900, num_examples: 57600, 15659.5 samples/sec, epoch time so far: 0:00:03.678281\u001b[0m\n",
      "\u001b[34m[10/06/2020 17:16:54 INFO 140130936940352] #011Training metrics: mean_squared_error: 0.087 mean_absolute_error: 0.228 \u001b[0m\n",
      "\u001b[34m[10/06/2020 17:16:54 INFO 140130936940352] Epoch: 5, batches: 1000, num_examples: 64000, 15649.8 samples/sec, epoch time so far: 0:00:04.089513\u001b[0m\n",
      "\u001b[34m[10/06/2020 17:16:54 INFO 140130936940352] #011Training metrics: mean_squared_error: 0.087 mean_absolute_error: 0.228 \u001b[0m\n",
      "\u001b[34m[10/06/2020 17:16:55 INFO 140130936940352] Epoch: 5, batches: 1100, num_examples: 70400, 15674.5 samples/sec, epoch time so far: 0:00:04.491376\u001b[0m\n",
      "\u001b[34m[10/06/2020 17:16:55 INFO 140130936940352] #011Training metrics: mean_squared_error: 0.087 mean_absolute_error: 0.227 \u001b[0m\n",
      "\u001b[34m[10/06/2020 17:16:55 INFO 140130936940352] Epoch: 5, batches: 1200, num_examples: 76800, 15684.1 samples/sec, epoch time so far: 0:00:04.896683\u001b[0m\n",
      "\u001b[34m[10/06/2020 17:16:55 INFO 140130936940352] #011Training metrics: mean_squared_error: 0.087 mean_absolute_error: 0.228 \u001b[0m\n",
      "\u001b[34m[10/06/2020 17:16:56 INFO 140130936940352] Epoch: 5, batches: 1300, num_examples: 83200, 15685.8 samples/sec, epoch time so far: 0:00:05.304172\u001b[0m\n",
      "\u001b[34m[10/06/2020 17:16:56 INFO 140130936940352] #011Training metrics: mean_squared_error: 0.087 mean_absolute_error: 0.228 \u001b[0m\n",
      "\u001b[34m[10/06/2020 17:16:56 INFO 140130936940352] Epoch: 5, batches: 1400, num_examples: 89600, 15698.8 samples/sec, epoch time so far: 0:00:05.707451\u001b[0m\n",
      "\u001b[34m[10/06/2020 17:16:56 INFO 140130936940352] #011Training metrics: mean_squared_error: 0.088 mean_absolute_error: 0.228 \u001b[0m\n",
      "\u001b[34m[10/06/2020 17:16:56 INFO 140130936940352] **************\u001b[0m\n",
      "\u001b[34m[10/06/2020 17:16:56 INFO 140130936940352] Completed Epoch: 5, time taken: 0:00:05.772086\u001b[0m\n",
      "\u001b[34m[10/06/2020 17:16:56 INFO 140130936940352] Epoch 5 Training metrics:   mean_squared_error: 0.088 mean_absolute_error: 0.228 \u001b[0m\n",
      "\u001b[34m[10/06/2020 17:16:56 INFO 140130936940352] #quality_metric: host=algo-1, epoch=5, train mean_squared_error <loss>=0.0876883579376\u001b[0m\n",
      "\u001b[34m[10/06/2020 17:16:56 INFO 140130936940352] Epoch 5 Validation metrics: mean_squared_error: 0.940 mean_absolute_error: 0.765 \u001b[0m\n",
      "\u001b[34m[10/06/2020 17:16:56 INFO 140130936940352] #quality_metric: host=algo-1, epoch=5, validation mean_squared_error <loss>=0.940017535477\u001b[0m\n",
      "\u001b[34m[10/06/2020 17:16:56 INFO 140130936940352] **************\u001b[0m\n",
      "\u001b[34m[10/06/2020 17:16:56 INFO 140130936940352] patience losses: [0.9408745487799516, 0.9507235896748465, 0.9439779675087413]\u001b[0m\n",
      "\u001b[34m[10/06/2020 17:16:56 INFO 140130936940352] min patience losses: 0.94087454878\u001b[0m\n",
      "\u001b[34m[10/06/2020 17:16:56 INFO 140130936940352] current loss: 0.940017535477\u001b[0m\n",
      "\u001b[34m[10/06/2020 17:16:56 INFO 140130936940352] absolute loss difference: 0.00085701330288\u001b[0m\n",
      "\u001b[34m[10/06/2020 17:16:56 INFO 140130936940352] Bad epoch: loss has not improved (enough). Bad count:3\u001b[0m\n",
      "\u001b[34m#metrics {\"Metrics\": {\"early_stop.time\": {\"count\": 1, \"max\": 3.009796142578125, \"sum\": 3.009796142578125, \"min\": 3.009796142578125}, \"update.time\": {\"count\": 1, \"max\": 5983.43300819397, \"sum\": 5983.43300819397, \"min\": 5983.43300819397}}, \"EndTime\": 1602004616.816316, \"Dimensions\": {\"Host\": \"algo-1\", \"Operation\": \"training\", \"Algorithm\": \"ObjectToVec\"}, \"StartTime\": 1602004610.82765}\n",
      "\u001b[0m\n",
      "\u001b[34m[10/06/2020 17:16:56 INFO 140130936940352] #progress_metric: host=algo-1, completed 30 % of epochs\u001b[0m\n",
      "\u001b[34m#metrics {\"Metrics\": {\"Max Batches Seen Between Resets\": {\"count\": 1, \"max\": 1416, \"sum\": 1416.0, \"min\": 1416}, \"Number of Batches Since Last Reset\": {\"count\": 1, \"max\": 1416, \"sum\": 1416.0, \"min\": 1416}, \"Number of Records Since Last Reset\": {\"count\": 1, \"max\": 90624, \"sum\": 90624.0, \"min\": 90624}, \"Total Batches Seen\": {\"count\": 1, \"max\": 8496, \"sum\": 8496.0, \"min\": 8496}, \"Total Records Seen\": {\"count\": 1, \"max\": 543744, \"sum\": 543744.0, \"min\": 543744}, \"Max Records Seen Between Resets\": {\"count\": 1, \"max\": 90624, \"sum\": 90624.0, \"min\": 90624}, \"Reset Count\": {\"count\": 1, \"max\": 6, \"sum\": 6.0, \"min\": 6}}, \"EndTime\": 1602004616.816646, \"Dimensions\": {\"Host\": \"algo-1\", \"Meta\": \"training_data_iter\", \"Operation\": \"training\", \"Algorithm\": \"ObjectToVec\", \"epoch\": 5}, \"StartTime\": 1602004610.832852}\n",
      "\u001b[0m\n",
      "\u001b[34m[10/06/2020 17:16:56 INFO 140130936940352] #throughput_metric: host=algo-1, train throughput=15144.5190632 records/second\u001b[0m\n",
      "\u001b[34m[10/06/2020 17:16:57 INFO 140130936940352] Epoch: 6, batches: 100, num_examples: 6400, 15981.3 samples/sec, epoch time so far: 0:00:00.400467\u001b[0m\n",
      "\u001b[34m[10/06/2020 17:16:57 INFO 140130936940352] #011Training metrics: mean_squared_error: 0.087 mean_absolute_error: 0.232 \u001b[0m\n",
      "\u001b[34m[10/06/2020 17:16:57 INFO 140130936940352] Epoch: 6, batches: 200, num_examples: 12800, 15885.9 samples/sec, epoch time so far: 0:00:00.805744\u001b[0m\n",
      "\u001b[34m[10/06/2020 17:16:57 INFO 140130936940352] #011Training metrics: mean_squared_error: 0.085 mean_absolute_error: 0.226 \u001b[0m\n",
      "\u001b[34m[10/06/2020 17:16:58 INFO 140130936940352] Epoch: 6, batches: 300, num_examples: 19200, 15619.4 samples/sec, epoch time so far: 0:00:01.229237\u001b[0m\n",
      "\u001b[34m[10/06/2020 17:16:58 INFO 140130936940352] #011Training metrics: mean_squared_error: 0.083 mean_absolute_error: 0.224 \u001b[0m\n",
      "\u001b[34m[10/06/2020 17:16:58 INFO 140130936940352] Epoch: 6, batches: 400, num_examples: 25600, 15681.5 samples/sec, epoch time so far: 0:00:01.632501\u001b[0m\n",
      "\u001b[34m[10/06/2020 17:16:58 INFO 140130936940352] #011Training metrics: mean_squared_error: 0.083 mean_absolute_error: 0.223 \u001b[0m\n",
      "\u001b[34m[10/06/2020 17:16:58 INFO 140130936940352] Epoch: 6, batches: 500, num_examples: 32000, 15682.9 samples/sec, epoch time so far: 0:00:02.040436\u001b[0m\n",
      "\u001b[34m[10/06/2020 17:16:58 INFO 140130936940352] #011Training metrics: mean_squared_error: 0.083 mean_absolute_error: 0.223 \u001b[0m\n",
      "\u001b[34m[10/06/2020 17:16:59 INFO 140130936940352] Epoch: 6, batches: 600, num_examples: 38400, 15720.3 samples/sec, epoch time so far: 0:00:02.442706\u001b[0m\n",
      "\u001b[34m[10/06/2020 17:16:59 INFO 140130936940352] #011Training metrics: mean_squared_error: 0.082 mean_absolute_error: 0.221 \u001b[0m\n",
      "\u001b[34m[10/06/2020 17:16:59 INFO 140130936940352] Epoch: 6, batches: 700, num_examples: 44800, 15652.7 samples/sec, epoch time so far: 0:00:02.862129\u001b[0m\n",
      "\u001b[34m[10/06/2020 17:16:59 INFO 140130936940352] #011Training metrics: mean_squared_error: 0.082 mean_absolute_error: 0.221 \u001b[0m\n",
      "\u001b[34m[10/06/2020 17:17:00 INFO 140130936940352] Epoch: 6, batches: 800, num_examples: 51200, 15676.2 samples/sec, epoch time so far: 0:00:03.266105\u001b[0m\n",
      "\u001b[34m[10/06/2020 17:17:00 INFO 140130936940352] #011Training metrics: mean_squared_error: 0.082 mean_absolute_error: 0.222 \u001b[0m\n",
      "\u001b[34m[10/06/2020 17:17:00 INFO 140130936940352] Epoch: 6, batches: 900, num_examples: 57600, 15695.9 samples/sec, epoch time so far: 0:00:03.669750\u001b[0m\n",
      "\u001b[34m[10/06/2020 17:17:00 INFO 140130936940352] #011Training metrics: mean_squared_error: 0.082 mean_absolute_error: 0.221 \u001b[0m\n",
      "\u001b[34m[10/06/2020 17:17:00 INFO 140130936940352] Epoch: 6, batches: 1000, num_examples: 64000, 15692.1 samples/sec, epoch time so far: 0:00:04.078474\u001b[0m\n",
      "\u001b[34m[10/06/2020 17:17:00 INFO 140130936940352] #011Training metrics: mean_squared_error: 0.082 mean_absolute_error: 0.221 \u001b[0m\n",
      "\u001b[34m[10/06/2020 17:17:01 INFO 140130936940352] Epoch: 6, batches: 1100, num_examples: 70400, 15716.2 samples/sec, epoch time so far: 0:00:04.479456\u001b[0m\n",
      "\u001b[34m[10/06/2020 17:17:01 INFO 140130936940352] #011Training metrics: mean_squared_error: 0.081 mean_absolute_error: 0.221 \u001b[0m\n",
      "\u001b[34m[10/06/2020 17:17:01 INFO 140130936940352] Epoch: 6, batches: 1200, num_examples: 76800, 15662.7 samples/sec, epoch time so far: 0:00:04.903376\u001b[0m\n",
      "\u001b[34m[10/06/2020 17:17:01 INFO 140130936940352] #011Training metrics: mean_squared_error: 0.081 mean_absolute_error: 0.221 \u001b[0m\n",
      "\u001b[34m[10/06/2020 17:17:02 INFO 140130936940352] Epoch: 6, batches: 1300, num_examples: 83200, 15665.4 samples/sec, epoch time so far: 0:00:05.311070\u001b[0m\n",
      "\u001b[34m[10/06/2020 17:17:02 INFO 140130936940352] #011Training metrics: mean_squared_error: 0.081 mean_absolute_error: 0.221 \u001b[0m\n",
      "\u001b[34m[10/06/2020 17:17:02 INFO 140130936940352] Epoch: 6, batches: 1400, num_examples: 89600, 15675.5 samples/sec, epoch time so far: 0:00:05.715926\u001b[0m\n",
      "\u001b[34m[10/06/2020 17:17:02 INFO 140130936940352] #011Training metrics: mean_squared_error: 0.082 mean_absolute_error: 0.221 \u001b[0m\n",
      "\u001b[34m[10/06/2020 17:17:02 INFO 140130936940352] **************\u001b[0m\n",
      "\u001b[34m[10/06/2020 17:17:02 INFO 140130936940352] Completed Epoch: 6, time taken: 0:00:05.780437\u001b[0m\n",
      "\u001b[34m[10/06/2020 17:17:02 INFO 140130936940352] Epoch 6 Training metrics:   mean_squared_error: 0.082 mean_absolute_error: 0.221 \u001b[0m\n",
      "\u001b[34m[10/06/2020 17:17:02 INFO 140130936940352] #quality_metric: host=algo-1, epoch=6, train mean_squared_error <loss>=0.0816459973306\u001b[0m\n",
      "\u001b[34m[10/06/2020 17:17:02 INFO 140130936940352] Epoch 6 Validation metrics: mean_squared_error: 0.933 mean_absolute_error: 0.760 \u001b[0m\n",
      "\u001b[34m[10/06/2020 17:17:02 INFO 140130936940352] #quality_metric: host=algo-1, epoch=6, validation mean_squared_error <loss>=0.933388093033\u001b[0m\n",
      "\u001b[34m[10/06/2020 17:17:02 INFO 140130936940352] **************\u001b[0m\n",
      "\u001b[34m[10/06/2020 17:17:02 INFO 140130936940352] patience losses: [0.9507235896748465, 0.9439779675087413, 0.9400175354770712]\u001b[0m\n",
      "\u001b[34m[10/06/2020 17:17:02 INFO 140130936940352] min patience losses: 0.940017535477\u001b[0m\n",
      "\u001b[34m[10/06/2020 17:17:02 INFO 140130936940352] current loss: 0.933388093033\u001b[0m\n",
      "\u001b[34m[10/06/2020 17:17:02 INFO 140130936940352] absolute loss difference: 0.00662944244372\u001b[0m\n",
      "\u001b[34m[10/06/2020 17:17:02 INFO 140130936940352] Bad epoch: loss has not improved (enough). Bad count:4\u001b[0m\n",
      "\u001b[34m[10/06/2020 17:17:02 INFO 140130936940352] Bad epochs exceeded patience. Stopping training early!\u001b[0m\n",
      "\u001b[34m[10/06/2020 17:17:02 INFO 140130936940352] Early stopping criterion met! Stopping training at epoch: 6\u001b[0m\n",
      "\u001b[34m#metrics {\"Metrics\": {\"early_stop.time\": {\"count\": 1, \"max\": 3.186941146850586, \"sum\": 3.186941146850586, \"min\": 3.186941146850586}, \"update.time\": {\"count\": 1, \"max\": 5988.564968109131, \"sum\": 5988.564968109131, \"min\": 5988.564968109131}}, \"EndTime\": 1602004622.833673, \"Dimensions\": {\"Host\": \"algo-1\", \"Operation\": \"training\", \"Algorithm\": \"ObjectToVec\"}, \"StartTime\": 1602004616.816441}\n",
      "\u001b[0m\n",
      "\u001b[34m[10/06/2020 17:17:02 INFO 140130936940352] Early stop condition met. Stopping training.\u001b[0m\n",
      "\u001b[34m[10/06/2020 17:17:02 INFO 140130936940352] #progress_metric: host=algo-1, completed 100 % epochs\u001b[0m\n",
      "\u001b[34m#metrics {\"Metrics\": {\"Max Batches Seen Between Resets\": {\"count\": 1, \"max\": 1416, \"sum\": 1416.0, \"min\": 1416}, \"Number of Batches Since Last Reset\": {\"count\": 1, \"max\": 1416, \"sum\": 1416.0, \"min\": 1416}, \"Number of Records Since Last Reset\": {\"count\": 1, \"max\": 90624, \"sum\": 90624.0, \"min\": 90624}, \"Total Batches Seen\": {\"count\": 1, \"max\": 9912, \"sum\": 9912.0, \"min\": 9912}, \"Total Records Seen\": {\"count\": 1, \"max\": 634368, \"sum\": 634368.0, \"min\": 634368}, \"Max Records Seen Between Resets\": {\"count\": 1, \"max\": 90624, \"sum\": 90624.0, \"min\": 90624}, \"Reset Count\": {\"count\": 1, \"max\": 7, \"sum\": 7.0, \"min\": 7}}, \"EndTime\": 1602004622.834043, \"Dimensions\": {\"Host\": \"algo-1\", \"Meta\": \"training_data_iter\", \"Operation\": \"training\", \"Algorithm\": \"ObjectToVec\", \"epoch\": 6}, \"StartTime\": 1602004616.845076}\n",
      "\u001b[0m\n",
      "\u001b[34m[10/06/2020 17:17:02 INFO 140130936940352] #throughput_metric: host=algo-1, train throughput=15131.3907385 records/second\u001b[0m\n",
      "\u001b[34m[10/06/2020 17:17:02 WARNING 140130936940352] wait_for_all_workers will not sync workers since the kv store is not running distributed\u001b[0m\n",
      "\u001b[34m[10/06/2020 17:17:02 INFO 140130936940352] Best model based on epoch 6. Best loss: 0.933\u001b[0m\n",
      "\u001b[34m#metrics {\"Metrics\": {\"finalize.time\": {\"count\": 1, \"max\": 1.1401176452636719, \"sum\": 1.1401176452636719, \"min\": 1.1401176452636719}}, \"EndTime\": 1602004622.835556, \"Dimensions\": {\"Host\": \"algo-1\", \"Operation\": \"training\", \"Algorithm\": \"ObjectToVec\"}, \"StartTime\": 1602004622.833785}\n",
      "\u001b[0m\n",
      "\u001b[34m[10/06/2020 17:17:02 INFO 140130936940352] Serializing model to /opt/ml/model/model_algo-1\u001b[0m\n",
      "\u001b[34m[10/06/2020 17:17:02 INFO 140130936940352] Saved checkpoint to \"/tmp/tmpTm1eRg/state-0001.params\"\u001b[0m\n",
      "\u001b[34m[10/06/2020 17:17:02 INFO 140130936940352] Test data is not provided.\u001b[0m\n",
      "\u001b[34m#metrics {\"Metrics\": {\"totaltime\": {\"count\": 1, \"max\": 51640.745878219604, \"sum\": 51640.745878219604, \"min\": 51640.745878219604}, \"model.serialize.time\": {\"count\": 1, \"max\": 86.9450569152832, \"sum\": 86.9450569152832, \"min\": 86.9450569152832}, \"setuptime\": {\"count\": 1, \"max\": 367.15102195739746, \"sum\": 367.15102195739746, \"min\": 367.15102195739746}}, \"EndTime\": 1602004622.924406, \"Dimensions\": {\"Host\": \"algo-1\", \"Operation\": \"training\", \"Algorithm\": \"ObjectToVec\"}, \"StartTime\": 1602004622.835611}\n",
      "\u001b[0m\n",
      "\n",
      "2020-10-06 17:17:15 Uploading - Uploading generated training model\n",
      "2020-10-06 17:17:15 Completed - Training job completed\n",
      "Training seconds: 123\n",
      "Billable seconds: 123\n"
     ]
    }
   ],
   "source": [
    "## get estimator\n",
    "regressor = sagemaker.estimator.Estimator(container,\n",
    "                                          role, \n",
    "                                          train_instance_count=1, \n",
    "                                          train_instance_type='ml.p2.xlarge',\n",
    "                                          output_path=output_path,\n",
    "                                          sagemaker_session=sess)\n",
    "\n",
    "## set hyperparameters\n",
    "regressor.set_hyperparameters(**hyperparameters)\n",
    "\n",
    "## train the model\n",
    "regressor.fit(input_paths)"
   ]
  },
  {
   "cell_type": "markdown",
   "metadata": {},
   "source": [
    "We have seen that we can upload train (validation) data through the input data channel, and the algorithm will print out train (validation) evaluation metric during training. In addition, the algorithm uses the validation metric to perform early stopping. \n",
    "\n",
    "What if we want to send additional unlabeled data to the algorithm and get predictions from the trained model?\n",
    "This step is called *inference* in the Sagemaker framework. Next, we demonstrate how to use a trained model to perform inference on unseen data points."
   ]
  },
  {
   "cell_type": "markdown",
   "metadata": {},
   "source": [
    "## Inference using trained model"
   ]
  },
  {
   "cell_type": "markdown",
   "metadata": {},
   "source": [
    "Create and deploy the model"
   ]
  },
  {
   "cell_type": "code",
   "execution_count": 23,
   "metadata": {},
   "outputs": [
    {
     "name": "stderr",
     "output_type": "stream",
     "text": [
      "Parameter image will be renamed to image_uri in SageMaker Python SDK v2.\n"
     ]
    }
   ],
   "source": [
    "#import numpy as np\n",
    "from sagemaker.predictor import json_serializer, json_deserializer\n",
    "\n",
    "# create a model using the trained algorithm\n",
    "regression_model = regressor.create_model(\n",
    "                        serializer=json_serializer,\n",
    "                        deserializer=json_deserializer,\n",
    "                        content_type='application/json')"
   ]
  },
  {
   "cell_type": "code",
   "execution_count": 24,
   "metadata": {},
   "outputs": [
    {
     "name": "stdout",
     "output_type": "stream",
     "text": [
      "-------------------!"
     ]
    }
   ],
   "source": [
    "# deploy the model\n",
    "predictor = regression_model.deploy(initial_instance_count=1, instance_type='ml.m4.xlarge')"
   ]
  },
  {
   "cell_type": "markdown",
   "metadata": {},
   "source": [
    "Below we send validation data (without labels) to the deployed endpoint for inference. We will see that the resulting prediction error we get from post-training inference matches the best validation error from the training log in the console above (up to floating point error). If you follow the training instruction and parameter setup, you should get mean squared error on the validation set approximately 0.91."
   ]
  },
  {
   "cell_type": "code",
   "execution_count": 25,
   "metadata": {},
   "outputs": [
    {
     "name": "stdout",
     "output_type": "stream",
     "text": [
      "The mean squared error on validation set is 0.930\n"
     ]
    }
   ],
   "source": [
    "# Send data to the endpoint to get predictions\n",
    "prediction = predictor.predict(valid_r_data)\n",
    "\n",
    "print(\"The mean squared error on validation set is %.3f\" %get_mse_loss(prediction, valid_r_label))"
   ]
  },
  {
   "cell_type": "markdown",
   "metadata": {},
   "source": [
    "### Comparison against popular libraries\n",
    "\n",
    "Below we provide a chart that compares the performance of *Object2Vec* against several algorithms implemented by popular recommendation system libraries (LibRec https://www.librec.net/ and scikit-surprise http://surpriselib.com/). The error metric we use in the chart is **root mean squared** (RMSE) instead of MSE, so that our result can be compared against the reported results in the aforementioned libraries."
   ]
  },
  {
   "cell_type": "markdown",
   "metadata": {},
   "source": [
    "<img src=\"ml-experiment-plot.png\" width=\"400\">"
   ]
  },
  {
   "cell_type": "markdown",
   "metadata": {},
   "source": [
    "# Recommendation task \n",
    "\n",
    "In this section, we showcase how to use *Object2Vec* to recommend movies, using the binarized rating labels. Here, if a movie rating label for a given user is binarized to `1`, then it means that the movie should be recommended to the user; otherwise, the label is binarized to `0`. The binarized data set is already obtained in the preprocessing section, so we will proceed to apply the algorithm."
   ]
  },
  {
   "cell_type": "markdown",
   "metadata": {},
   "source": [
    "We upload the binarized datasets for classification task to S3"
   ]
  },
  {
   "cell_type": "code",
   "execution_count": 26,
   "metadata": {},
   "outputs": [
    {
     "name": "stderr",
     "output_type": "stream",
     "text": [
      "'s3_input' class will be renamed to 'TrainingInput' in SageMaker Python SDK v2.\n",
      "'s3_input' class will be renamed to 'TrainingInput' in SageMaker Python SDK v2.\n"
     ]
    },
    {
     "name": "stdout",
     "output_type": "stream",
     "text": [
      "Uploaded data to s3://fab-sagemaker/object2vec-movielens/input/recommendation/train/train_c.jsonl\n",
      "Uploaded data to s3://fab-sagemaker/object2vec-movielens/input/recommendation/validation/validation_c.jsonl\n"
     ]
    }
   ],
   "source": [
    "for data_name in ['train', 'validation']:\n",
    "    fname = '{}_c.jsonl'.format(data_name)\n",
    "    pre_key = os.path.join(input_prefix, 'recommendation', f\"{data_name}\")\n",
    "    data_path = os.path.join('s3://', bucket, pre_key, fname)\n",
    "    s3_client.upload_file(fname, bucket, os.path.join(pre_key, fname))\n",
    "    input_paths[data_name] = s3_input(data_path, distribution='ShardedByS3Key', content_type='application/jsonlines')\n",
    "    print('Uploaded data to {}'.format(data_path))"
   ]
  },
  {
   "cell_type": "markdown",
   "metadata": {},
   "source": [
    "Since we already get the algorithm image from the regression task, we can directly start training"
   ]
  },
  {
   "cell_type": "code",
   "execution_count": 27,
   "metadata": {},
   "outputs": [],
   "source": [
    "from sagemaker.session import s3_input\n",
    "\n",
    "hyperparameters_c = {\n",
    "    \"_kvstore\": \"device\",\n",
    "    \"_num_gpus\": \"auto\",\n",
    "    \"_num_kv_servers\": \"auto\",\n",
    "    \"bucket_width\": 0,\n",
    "    \"early_stopping_patience\": 3, \n",
    "    \"early_stopping_tolerance\": 0.01,\n",
    "    \"enc0_cnn_filter_width\": 3,\n",
    "    \"enc0_layers\": \"auto\",\n",
    "    \"enc0_max_seq_len\": 1,\n",
    "    \"enc0_network\": \"pooled_embedding\",\n",
    "    \"enc0_token_embedding_dim\": 300,\n",
    "    \"enc0_vocab_size\": 944,\n",
    "    \"enc1_cnn_filter_width\": 3,\n",
    "    \"enc1_layers\": \"auto\",\n",
    "    \"enc1_max_seq_len\": 1,\n",
    "    \"enc1_network\": \"pooled_embedding\",\n",
    "    \"enc1_token_embedding_dim\": 300,\n",
    "    \"enc1_vocab_size\": 1684,\n",
    "    \"enc_dim\": 2048,\n",
    "    \"epochs\": 20,\n",
    "    \"learning_rate\": 0.001,\n",
    "    \"mini_batch_size\": 2048,\n",
    "    \"mlp_activation\": \"relu\",\n",
    "    \"mlp_dim\": 1024,\n",
    "    \"mlp_layers\": 1,\n",
    "    \"num_classes\": 2,\n",
    "    \"optimizer\": \"adam\",\n",
    "    \"output_layer\": \"softmax\"\n",
    "}"
   ]
  },
  {
   "cell_type": "code",
   "execution_count": 28,
   "metadata": {},
   "outputs": [
    {
     "name": "stderr",
     "output_type": "stream",
     "text": [
      "Parameter image_name will be renamed to image_uri in SageMaker Python SDK v2.\n"
     ]
    },
    {
     "name": "stdout",
     "output_type": "stream",
     "text": [
      "2020-10-06 17:34:11 Starting - Starting the training job...\n",
      "2020-10-06 17:34:14 Starting - Launching requested ML instances......\n",
      "2020-10-06 17:35:37 Starting - Preparing the instances for training.........\n",
      "2020-10-06 17:36:56 Downloading - Downloading input data.........\n",
      "2020-10-06 17:38:23 Training - Downloading the training image.\u001b[34mDocker entrypoint called with argument(s): train\u001b[0m\n",
      "\u001b[34mRunning default environment configuration script\u001b[0m\n",
      "\u001b[34m[10/06/2020 17:38:48 INFO 140138172270400] Reading default configuration from /opt/amazon/lib/python2.7/site-packages/algorithm/default-input.json: {u'comparator_list': u'hadamard, concat, abs_diff', u'enc0_vocab_file': u'', u'output_layer': u'softmax', u'enc0_cnn_filter_width': 3, u'epochs': 30, u'mlp_dim': 512, u'enc0_freeze_pretrained_embedding': u'true', u'mlp_layers': 2, u'_num_kv_servers': u'auto', u'weight_decay': 0, u'enc0_pretrained_embedding_file': u'', u'token_embedding_storage_type': u'dense', u'enc0_token_embedding_dim': 300, u'tied_token_embedding_weight': u'false', u'learning_rate': 0.0004, u'enc1_cnn_filter_width': 3, u'negative_sampling_rate': 0, u'enc0_network': u'hcnn', u'enc1_layers': u'auto', u'early_stopping_patience': 3, u'optimizer': u'adam', u'_tuning_objective_metric': u'', u'early_stopping_tolerance': 0.01, u'dropout': 0, u'bucket_width': 0, u'enc_dim': 4096, u'enc1_vocab_file': u'', u'enc1_freeze_pretrained_embedding': u'true', u'enc0_layers': u'auto', u'mini_batch_size': 32, u'enc1_pretrained_embedding_file': u'', u'num_classes': 2, u'_num_gpus': u'auto', u'enc1_token_embedding_dim': 300, u'mlp_activation': u'linear', u'enc1_network': u'enc0', u'_kvstore': u'auto_gpu'}\u001b[0m\n",
      "\u001b[34m[10/06/2020 17:38:48 INFO 140138172270400] Reading provided configuration from /opt/ml/input/config/hyperparameters.json: {u'output_layer': u'softmax', u'enc0_cnn_filter_width': u'3', u'epochs': u'20', u'mlp_dim': u'1024', u'mlp_layers': u'1', u'_num_kv_servers': u'auto', u'mini_batch_size': u'2048', u'enc0_token_embedding_dim': u'300', u'enc1_network': u'pooled_embedding', u'early_stopping_tolerance': u'0.01', u'enc0_network': u'pooled_embedding', u'enc1_layers': u'auto', u'early_stopping_patience': u'3', u'optimizer': u'adam', u'enc1_max_seq_len': u'1', u'enc1_cnn_filter_width': u'3', u'learning_rate': u'0.001', u'bucket_width': u'0', u'enc_dim': u'2048', u'enc0_layers': u'auto', u'enc0_max_seq_len': u'1', u'num_classes': u'2', u'_num_gpus': u'auto', u'mlp_activation': u'relu', u'enc1_token_embedding_dim': u'300', u'_kvstore': u'device', u'enc1_vocab_size': u'1684', u'enc0_vocab_size': u'944'}\u001b[0m\n",
      "\u001b[34m[10/06/2020 17:38:48 INFO 140138172270400] Final configuration: {u'comparator_list': u'hadamard, concat, abs_diff', u'enc0_vocab_file': u'', u'output_layer': u'softmax', u'enc0_cnn_filter_width': u'3', u'epochs': u'20', u'mlp_dim': u'1024', u'enc0_freeze_pretrained_embedding': u'true', u'mlp_layers': u'1', u'_num_kv_servers': u'auto', u'weight_decay': 0, u'enc0_pretrained_embedding_file': u'', u'enc0_max_seq_len': u'1', u'token_embedding_storage_type': u'dense', u'enc0_token_embedding_dim': u'300', u'tied_token_embedding_weight': u'false', u'learning_rate': u'0.001', u'enc1_cnn_filter_width': u'3', u'negative_sampling_rate': 0, u'enc0_network': u'pooled_embedding', u'enc1_layers': u'auto', u'early_stopping_patience': u'3', u'optimizer': u'adam', u'enc1_max_seq_len': u'1', u'_tuning_objective_metric': u'', u'early_stopping_tolerance': u'0.01', u'dropout': 0, u'bucket_width': u'0', u'enc_dim': u'2048', u'enc1_vocab_file': u'', u'enc1_freeze_pretrained_embedding': u'true', u'enc0_layers': u'auto', u'mini_batch_size': u'2048', u'enc1_pretrained_embedding_file': u'', u'num_classes': u'2', u'_num_gpus': u'auto', u'enc1_token_embedding_dim': u'300', u'mlp_activation': u'relu', u'enc1_network': u'pooled_embedding', u'_kvstore': u'device', u'enc1_vocab_size': u'1684', u'enc0_vocab_size': u'944'}\u001b[0m\n",
      "\u001b[34mProcess 1 is a worker.\u001b[0m\n",
      "\u001b[34m[10/06/2020 17:38:48 INFO 140138172270400] Using default worker.\u001b[0m\n",
      "\u001b[34m[10/06/2020 17:38:48 INFO 140138172270400] Loaded iterator creator application/jsonlines for content type ('application/jsonlines', '1.0')\u001b[0m\n",
      "\u001b[34m[10/06/2020 17:38:48 INFO 140138172270400] create_iter params {u'comparator_list': u'hadamard, concat, abs_diff', u'enc0_vocab_file': u'', u'output_layer': u'softmax', u'enc0_cnn_filter_width': u'3', u'epochs': u'20', u'mlp_dim': u'1024', u'enc0_freeze_pretrained_embedding': u'true', u'mlp_layers': u'1', u'_num_kv_servers': u'auto', u'weight_decay': 0, u'enc0_pretrained_embedding_file': u'', u'enc0_max_seq_len': u'1', u'token_embedding_storage_type': u'dense', u'enc0_token_embedding_dim': u'300', u'tied_token_embedding_weight': u'false', u'learning_rate': u'0.001', u'enc1_cnn_filter_width': u'3', u'negative_sampling_rate': 0, u'enc0_network': u'pooled_embedding', u'enc1_layers': u'auto', u'early_stopping_patience': u'3', u'optimizer': u'adam', u'enc1_max_seq_len': u'1', u'_tuning_objective_metric': u'', u'early_stopping_tolerance': u'0.01', u'dropout': 0, u'bucket_width': u'0', u'enc_dim': u'2048', u'enc1_vocab_file': u'', u'enc1_freeze_pretrained_embedding': u'true', u'enc0_layers': u'auto', u'mini_batch_size': u'2048', u'enc1_pretrained_embedding_file': u'', u'num_classes': u'2', u'_num_gpus': u'auto', u'enc1_token_embedding_dim': u'300', u'mlp_activation': u'relu', u'enc1_network': u'pooled_embedding', u'_kvstore': u'device', u'enc1_vocab_size': u'1684', u'enc0_vocab_size': u'944'}\u001b[0m\n",
      "\u001b[34m[10/06/2020 17:38:48 INFO 140138172270400] create_iter content_params {}\u001b[0m\n",
      "\u001b[34m[10/06/2020 17:38:48 INFO 140138172270400] Parameters of encoders: [{u'layers': u'auto', u'vocab_size': u'944', u'network': u'pooled_embedding', u'vocab_file': u'', u'cnn_filter_width': u'3', u'token_embedding_dim': u'300', u'max_seq_len': u'1', u'freeze_pretrained_embedding': u'true', u'pretrained_embedding_file': u''}, {u'layers': u'auto', u'vocab_size': u'1684', u'network': u'pooled_embedding', u'vocab_file': u'', u'cnn_filter_width': u'3', u'token_embedding_dim': u'300', u'max_seq_len': u'1', u'freeze_pretrained_embedding': u'true', u'pretrained_embedding_file': u''}]\u001b[0m\n",
      "\u001b[34m[10/06/2020 17:38:48 INFO 140138172270400] Inconsistent enc_dim and token_embedding_dim found for token-embedding-encoder: 2048 vs 300. Setting token embedding dim to be 2048\u001b[0m\n",
      "\u001b[34m[10/06/2020 17:38:48 INFO 140138172270400] Inconsistent enc_dim and token_embedding_dim found for token-embedding-encoder: 2048 vs 300. Setting token embedding dim to be 2048\u001b[0m\n",
      "\u001b[34m[10/06/2020 17:38:48 INFO 140138172270400] Encoder configs: [{'vocab_size': 944, 'enc_index': 0, 'pretrained_embedding_file_path': None, 'vocab_dict': None, 'token_embedding_dim': 2048, 'vocab_file': '', 'freeze_pretrained_embedding': True, 'num_layers': 1, 'is_train': True, 'dropout': 0.0, 'pretrained_embedding_file': ''}, {'vocab_size': 1684, 'enc_index': 1, 'pretrained_embedding_file_path': None, 'vocab_dict': None, 'token_embedding_dim': 2048, 'vocab_file': '', 'freeze_pretrained_embedding': True, 'num_layers': 1, 'is_train': True, 'dropout': 0.0, 'pretrained_embedding_file': ''}]\u001b[0m\n",
      "\u001b[34m[10/06/2020 17:38:48 INFO 140138172270400] Config: {'comparator_list': ['hadamard', 'concat', 'abs_diff'], 'epochs': 20, 'mini_batch_size': 2048, 'optimizer': 'adam', 'output_layer': 'softmax', 'token_embedding_storage_type': 'dense', 'mlp_dim': 1024, 'early_stopping_tolerance': 0.01, 'dropout': 0.0, 'bucket_width': 0, 'enc_dim': 2048, 'negative_sampling_rate': 0, 'early_stopping_patience': 3, 'learning_rate': 0.001, 'max_seq_lens': [1, 1], 'tied_token_embedding_weight': False, 'enc_configs': [{'vocab_size': 944, 'enc_index': 0, 'pretrained_embedding_file_path': None, 'vocab_dict': None, 'token_embedding_dim': 2048, 'vocab_file': '', 'freeze_pretrained_embedding': True, 'num_layers': 1, 'is_train': True, 'dropout': 0.0, 'pretrained_embedding_file': ''}, {'vocab_size': 1684, 'enc_index': 1, 'pretrained_embedding_file_path': None, 'vocab_dict': None, 'token_embedding_dim': 2048, 'vocab_file': '', 'freeze_pretrained_embedding': True, 'num_layers': 1, 'is_train': True, 'dropout': 0.0, 'pretrained_embedding_file': ''}], 'mlp_layers': 1, 'weight_decay': 0.0, 'mlp_activation': 'relu', 'num_classes': 2}\u001b[0m\n",
      "\u001b[34m[10/06/2020 17:38:48 INFO 140138172270400] use bucketing: False\u001b[0m\n",
      "\u001b[34m[10/06/2020 17:38:48 INFO 140138172270400] Creating data iterator for /opt/ml/input/data/train\u001b[0m\n",
      "\u001b[34m[10/06/2020 17:38:51 INFO 140138172270400] Source words: 90570\u001b[0m\n",
      "\u001b[34m[10/06/2020 17:38:51 INFO 140138172270400] Target words: 90570\u001b[0m\n",
      "\u001b[34m[10/06/2020 17:38:51 INFO 140138172270400] Total: 90570 samples in 1 buckets\u001b[0m\n",
      "\u001b[34m[10/06/2020 17:38:51 INFO 140138172270400] Bucket of (1, 1) : 90570 samples in 44 batches of 2048, approx 2048.0 words/batch\u001b[0m\n",
      "\u001b[34m[10/06/2020 17:38:51 INFO 140138172270400] 0 sentence pairs discarded\u001b[0m\n",
      "\u001b[34m[10/06/2020 17:38:51 INFO 140138172270400] fill up mode: replicate\u001b[0m\n",
      "\u001b[34m[10/06/2020 17:38:51 INFO 140138172270400] \u001b[0m\n",
      "\u001b[34m[10/06/2020 17:38:51 INFO 140138172270400] Negative sampling not used\u001b[0m\n",
      "\u001b[34m[10/06/2020 17:38:51 INFO 140138172270400] Replicating 1590 random sentences from bucket (1, 1) to size it to multiple of 2048\u001b[0m\n",
      "\u001b[34m[10/06/2020 17:38:51 INFO 140138172270400] Bucket batch sizes: [BucketBatchSize(batch_size=2048, average_words_per_batch=2048)]\u001b[0m\n",
      "\u001b[34m[10/06/2020 17:38:51 INFO 140138172270400] create_iter params {u'comparator_list': u'hadamard, concat, abs_diff', u'enc0_vocab_file': u'', u'output_layer': u'softmax', u'enc0_cnn_filter_width': u'3', u'epochs': u'20', u'mlp_dim': u'1024', u'enc0_freeze_pretrained_embedding': u'true', u'mlp_layers': u'1', u'_num_kv_servers': u'auto', u'weight_decay': 0, u'enc0_pretrained_embedding_file': u'', u'enc0_max_seq_len': u'1', u'token_embedding_storage_type': u'dense', u'enc0_token_embedding_dim': u'300', u'tied_token_embedding_weight': u'false', u'learning_rate': u'0.001', u'enc1_cnn_filter_width': u'3', u'negative_sampling_rate': 0, u'enc0_network': u'pooled_embedding', u'enc1_layers': u'auto', u'early_stopping_patience': u'3', u'optimizer': u'adam', u'enc1_max_seq_len': u'1', u'_tuning_objective_metric': u'', u'early_stopping_tolerance': u'0.01', u'dropout': 0, u'bucket_width': u'0', u'enc_dim': u'2048', u'enc1_vocab_file': u'', u'enc1_freeze_pretrained_embedding': u'true', u'enc0_layers': u'auto', u'mini_batch_size': u'2048', u'enc1_pretrained_embedding_file': u'', u'num_classes': u'2', u'_num_gpus': u'auto', u'enc1_token_embedding_dim': u'300', u'mlp_activation': u'relu', u'enc1_network': u'pooled_embedding', u'_kvstore': u'device', u'enc1_vocab_size': u'1684', u'enc0_vocab_size': u'944'}\u001b[0m\n",
      "\u001b[34m[10/06/2020 17:38:51 INFO 140138172270400] create_iter content_params {}\u001b[0m\n",
      "\u001b[34m[10/06/2020 17:38:51 INFO 140138172270400] Parameters of encoders: [{u'layers': u'auto', u'vocab_size': u'944', u'network': u'pooled_embedding', u'vocab_file': u'', u'cnn_filter_width': u'3', u'token_embedding_dim': u'300', u'max_seq_len': u'1', u'freeze_pretrained_embedding': u'true', u'pretrained_embedding_file': u''}, {u'layers': u'auto', u'vocab_size': u'1684', u'network': u'pooled_embedding', u'vocab_file': u'', u'cnn_filter_width': u'3', u'token_embedding_dim': u'300', u'max_seq_len': u'1', u'freeze_pretrained_embedding': u'true', u'pretrained_embedding_file': u''}]\u001b[0m\n",
      "\u001b[34m[10/06/2020 17:38:51 INFO 140138172270400] Inconsistent enc_dim and token_embedding_dim found for token-embedding-encoder: 2048 vs 300. Setting token embedding dim to be 2048\u001b[0m\n",
      "\u001b[34m[10/06/2020 17:38:51 INFO 140138172270400] Inconsistent enc_dim and token_embedding_dim found for token-embedding-encoder: 2048 vs 300. Setting token embedding dim to be 2048\u001b[0m\n",
      "\u001b[34m[10/06/2020 17:38:51 INFO 140138172270400] Encoder configs: [{'vocab_size': 944, 'enc_index': 0, 'pretrained_embedding_file_path': None, 'vocab_dict': None, 'token_embedding_dim': 2048, 'vocab_file': '', 'freeze_pretrained_embedding': True, 'num_layers': 1, 'is_train': True, 'dropout': 0.0, 'pretrained_embedding_file': ''}, {'vocab_size': 1684, 'enc_index': 1, 'pretrained_embedding_file_path': None, 'vocab_dict': None, 'token_embedding_dim': 2048, 'vocab_file': '', 'freeze_pretrained_embedding': True, 'num_layers': 1, 'is_train': True, 'dropout': 0.0, 'pretrained_embedding_file': ''}]\u001b[0m\n",
      "\u001b[34m[10/06/2020 17:38:51 INFO 140138172270400] Config: {'comparator_list': ['hadamard', 'concat', 'abs_diff'], 'epochs': 20, 'mini_batch_size': 2048, 'optimizer': 'adam', 'output_layer': 'softmax', 'token_embedding_storage_type': 'dense', 'mlp_dim': 1024, 'early_stopping_tolerance': 0.01, 'dropout': 0.0, 'bucket_width': 0, 'enc_dim': 2048, 'negative_sampling_rate': 0, 'early_stopping_patience': 3, 'learning_rate': 0.001, 'max_seq_lens': [1, 1], 'tied_token_embedding_weight': False, 'enc_configs': [{'vocab_size': 944, 'enc_index': 0, 'pretrained_embedding_file_path': None, 'vocab_dict': None, 'token_embedding_dim': 2048, 'vocab_file': '', 'freeze_pretrained_embedding': True, 'num_layers': 1, 'is_train': True, 'dropout': 0.0, 'pretrained_embedding_file': ''}, {'vocab_size': 1684, 'enc_index': 1, 'pretrained_embedding_file_path': None, 'vocab_dict': None, 'token_embedding_dim': 2048, 'vocab_file': '', 'freeze_pretrained_embedding': True, 'num_layers': 1, 'is_train': True, 'dropout': 0.0, 'pretrained_embedding_file': ''}], 'mlp_layers': 1, 'weight_decay': 0.0, 'mlp_activation': 'relu', 'num_classes': 2}\u001b[0m\n",
      "\u001b[34m[10/06/2020 17:38:51 INFO 140138172270400] use bucketing: False\u001b[0m\n",
      "\u001b[34m[10/06/2020 17:38:51 INFO 140138172270400] Creating data iterator for /opt/ml/input/data/validation\u001b[0m\n",
      "\u001b[34m[10/06/2020 17:38:51 INFO 140138172270400] Source words: 9430\u001b[0m\n",
      "\u001b[34m[10/06/2020 17:38:51 INFO 140138172270400] Target words: 9430\u001b[0m\n",
      "\u001b[34m[10/06/2020 17:38:51 INFO 140138172270400] Total: 9430 samples in 1 buckets\u001b[0m\n",
      "\u001b[34m[10/06/2020 17:38:51 INFO 140138172270400] Bucket of (1, 1) : 9430 samples in 4 batches of 2048, approx 2048.0 words/batch\u001b[0m\n",
      "\u001b[34m[10/06/2020 17:38:51 INFO 140138172270400] 0 sentence pairs discarded\u001b[0m\n",
      "\u001b[34m[10/06/2020 17:38:51 INFO 140138172270400] fill up mode: replicate\u001b[0m\n",
      "\u001b[34m[10/06/2020 17:38:51 INFO 140138172270400] \u001b[0m\n",
      "\u001b[34m[10/06/2020 17:38:51 INFO 140138172270400] Negative sampling not used\u001b[0m\n",
      "\u001b[34m[10/06/2020 17:38:51 INFO 140138172270400] Replicating 810 random sentences from bucket (1, 1) to size it to multiple of 2048\u001b[0m\n",
      "\u001b[34m[10/06/2020 17:38:51 INFO 140138172270400] Parameters of encoders: [{u'layers': u'auto', u'vocab_size': u'944', u'network': u'pooled_embedding', u'vocab_file': u'', u'cnn_filter_width': u'3', u'token_embedding_dim': u'300', u'max_seq_len': u'1', u'freeze_pretrained_embedding': u'true', u'pretrained_embedding_file': u''}, {u'layers': u'auto', u'vocab_size': u'1684', u'network': u'pooled_embedding', u'vocab_file': u'', u'cnn_filter_width': u'3', u'token_embedding_dim': u'300', u'max_seq_len': u'1', u'freeze_pretrained_embedding': u'true', u'pretrained_embedding_file': u''}]\u001b[0m\n",
      "\u001b[34m[10/06/2020 17:38:51 INFO 140138172270400] Inconsistent enc_dim and token_embedding_dim found for token-embedding-encoder: 2048 vs 300. Setting token embedding dim to be 2048\u001b[0m\n",
      "\u001b[34m[10/06/2020 17:38:51 INFO 140138172270400] Inconsistent enc_dim and token_embedding_dim found for token-embedding-encoder: 2048 vs 300. Setting token embedding dim to be 2048\u001b[0m\n",
      "\u001b[34m[10/06/2020 17:38:51 INFO 140138172270400] Encoder configs: [{'vocab_size': 944, 'enc_index': 0, 'pretrained_embedding_file_path': None, 'vocab_dict': None, 'token_embedding_dim': 2048, 'vocab_file': '', 'freeze_pretrained_embedding': True, 'num_layers': 1, 'is_train': True, 'dropout': 0.0, 'pretrained_embedding_file': ''}, {'vocab_size': 1684, 'enc_index': 1, 'pretrained_embedding_file_path': None, 'vocab_dict': None, 'token_embedding_dim': 2048, 'vocab_file': '', 'freeze_pretrained_embedding': True, 'num_layers': 1, 'is_train': True, 'dropout': 0.0, 'pretrained_embedding_file': ''}]\u001b[0m\n",
      "\u001b[34m[10/06/2020 17:38:51 INFO 140138172270400] Config: {'comparator_list': ['hadamard', 'concat', 'abs_diff'], 'epochs': 20, 'mini_batch_size': 2048, 'optimizer': 'adam', 'output_layer': 'softmax', 'token_embedding_storage_type': 'dense', 'mlp_dim': 1024, 'early_stopping_tolerance': 0.01, 'dropout': 0.0, 'bucket_width': 0, 'enc_dim': 2048, 'negative_sampling_rate': 0, 'early_stopping_patience': 3, 'learning_rate': 0.001, 'max_seq_lens': [1, 1], 'tied_token_embedding_weight': False, 'enc_configs': [{'vocab_size': 944, 'enc_index': 0, 'pretrained_embedding_file_path': None, 'vocab_dict': None, 'token_embedding_dim': 2048, 'vocab_file': '', 'freeze_pretrained_embedding': True, 'num_layers': 1, 'is_train': True, 'dropout': 0.0, 'pretrained_embedding_file': ''}, {'vocab_size': 1684, 'enc_index': 1, 'pretrained_embedding_file_path': None, 'vocab_dict': None, 'token_embedding_dim': 2048, 'vocab_file': '', 'freeze_pretrained_embedding': True, 'num_layers': 1, 'is_train': True, 'dropout': 0.0, 'pretrained_embedding_file': ''}], 'mlp_layers': 1, 'weight_decay': 0.0, 'mlp_activation': 'relu', 'num_classes': 2}\u001b[0m\n",
      "\u001b[34m[10/06/2020 17:38:51 INFO 140138172270400] Creating new state\u001b[0m\n",
      "\u001b[34m[10/06/2020 17:38:51 INFO 140138172270400] params {u'comparator_list': u'hadamard, concat, abs_diff', u'enc0_vocab_file': u'', u'output_layer': u'softmax', u'enc0_cnn_filter_width': u'3', u'epochs': u'20', u'mlp_dim': u'1024', u'enc0_freeze_pretrained_embedding': u'true', u'mlp_layers': u'1', u'_num_kv_servers': u'auto', u'weight_decay': 0, u'enc0_pretrained_embedding_file': u'', u'enc0_max_seq_len': u'1', u'token_embedding_storage_type': u'dense', u'enc0_token_embedding_dim': u'300', u'tied_token_embedding_weight': u'false', u'learning_rate': u'0.001', u'enc1_cnn_filter_width': u'3', u'negative_sampling_rate': 0, u'enc0_network': u'pooled_embedding', u'enc1_layers': u'auto', u'early_stopping_patience': u'3', u'optimizer': u'adam', u'enc1_max_seq_len': u'1', u'_tuning_objective_metric': u'', u'early_stopping_tolerance': u'0.01', u'dropout': 0, u'bucket_width': u'0', u'enc_dim': u'2048', 'default_bucket_key': (1, 1), u'enc1_vocab_file': u'', u'enc1_freeze_pretrained_embedding': u'true', u'enc0_layers': u'auto', u'mini_batch_size': u'2048', u'enc1_pretrained_embedding_file': u'', u'num_classes': u'2', u'_num_gpus': u'auto', u'enc1_token_embedding_dim': u'300', u'mlp_activation': u'relu', u'enc1_network': u'pooled_embedding', u'_kvstore': u'device', u'enc1_vocab_size': u'1684', u'enc0_vocab_size': u'944'}\u001b[0m\n",
      "\u001b[34m[10/06/2020 17:38:51 INFO 140138172270400] default_bucket_key (1, 1)\u001b[0m\n",
      "\u001b[34m[10/06/2020 17:38:51 INFO 140138172270400] nvidia-smi took: 0.0251879692078 secs to identify 1 gpus\u001b[0m\n",
      "\u001b[34m[10/06/2020 17:38:51 INFO 140138172270400] Number of GPUs being used: 1\u001b[0m\n",
      "\u001b[34m[10/06/2020 17:38:51 INFO 140138172270400] context [gpu(0)]\u001b[0m\n",
      "\u001b[34m[10/06/2020 17:38:51 INFO 140138172270400] Create Store: device\u001b[0m\n",
      "\u001b[34m[10/06/2020 17:38:51 INFO 140138172270400] Number of GPUs being used: 1\u001b[0m\n",
      "\u001b[34m[10/06/2020 17:38:51 WARNING 140138172270400] dense token embedding is used in a multi-gpu setting...consider changing 'token_embedding_storage_type' to 'row_sparse'\u001b[0m\n",
      "\u001b[34m[10/06/2020 17:38:51 INFO 140138172270400] data_names: ['source', 'target']\u001b[0m\n",
      "\u001b[34m[10/06/2020 17:38:51 INFO 140138172270400] label_names: ['out_layer_label']\u001b[0m\n",
      "\u001b[34m________________________________________________________________________________________________________________________\u001b[0m\n",
      "\u001b[34mLayer (type)                                        Output Shape            Param #     Previous Layer                  \u001b[0m\n",
      "\u001b[34m========================================================================================================================\u001b[0m\n",
      "\u001b[34msource(null)                                        1                       0                                           \u001b[0m\n",
      "\u001b[34m________________________________________________________________________________________________________________________\u001b[0m\n",
      "\u001b[34membed_0(Embedding)                                  1x2048                  0           source                          \u001b[0m\n",
      "\u001b[34m________________________________________________________________________________________________________________________\u001b[0m\n",
      "\u001b[34m_not_equal_scalar0(_not_equal_scalar)               1                       0           source                          \u001b[0m\n",
      "\u001b[34m________________________________________________________________________________________________________________________\u001b[0m\n",
      "\u001b[34mreshape0(Reshape)                                   1x1                     0           _not_equal_scalar0              \u001b[0m\n",
      "\u001b[34m________________________________________________________________________________________________________________________\u001b[0m\n",
      "\u001b[34mbroadcast_mul0(broadcast_mul)                       1x2048                  0           embed_0                         \n",
      "                                                                                        reshape0                        \u001b[0m\n",
      "\u001b[34m________________________________________________________________________________________________________________________\u001b[0m\n",
      "\u001b[34msum0(sum)                                           2048                    0           broadcast_mul0                  \u001b[0m\n",
      "\u001b[34m________________________________________________________________________________________________________________________\u001b[0m\n",
      "\u001b[34msum1(sum)                                           1                       0           reshape0                        \u001b[0m\n",
      "\u001b[34m________________________________________________________________________________________________________________________\u001b[0m\n",
      "\u001b[34mzeros_like0(zeros_like)                             1                       0           sum1                            \u001b[0m\n",
      "\u001b[34m________________________________________________________________________________________________________________________\u001b[0m\n",
      "\u001b[34m_equal0(_equal)                                     1                       0           sum1                            \n",
      "                                                                                        zeros_like0                     \u001b[0m\n",
      "\u001b[34m________________________________________________________________________________________________________________________\u001b[0m\n",
      "\u001b[34m_plus0(elemwise_add)                                1                       0           sum1                            \n",
      "                                                                                        _equal0                         \u001b[0m\n",
      "\u001b[34m________________________________________________________________________________________________________________________\u001b[0m\n",
      "\u001b[34mbroadcast_div0(broadcast_div)                       2048                    0           sum0                            \n",
      "                                                                                        _plus0                          \u001b[0m\n",
      "\u001b[34m________________________________________________________________________________________________________________________\u001b[0m\n",
      "\u001b[34mdropout0(Dropout)                                   2048                    0           broadcast_div0                  \u001b[0m\n",
      "\u001b[34m________________________________________________________________________________________________________________________\u001b[0m\n",
      "\u001b[34membed_1(Embedding)                                  1x2048                  0                                           \u001b[0m\n",
      "\u001b[34m________________________________________________________________________________________________________________________\u001b[0m\n",
      "\u001b[34m_not_equal_scalar1(_not_equal_scalar)               1                       0                                           \u001b[0m\n",
      "\u001b[34m________________________________________________________________________________________________________________________\u001b[0m\n",
      "\u001b[34mreshape1(Reshape)                                   1x1                     0           _not_equal_scalar1              \u001b[0m\n",
      "\u001b[34m________________________________________________________________________________________________________________________\u001b[0m\n",
      "\u001b[34mbroadcast_mul1(broadcast_mul)                       1x2048                  0           embed_1                         \n",
      "                                                                                        reshape1                        \u001b[0m\n",
      "\u001b[34m________________________________________________________________________________________________________________________\u001b[0m\n",
      "\u001b[34msum2(sum)                                           2048                    0           broadcast_mul1                  \u001b[0m\n",
      "\u001b[34m________________________________________________________________________________________________________________________\u001b[0m\n",
      "\u001b[34msum3(sum)                                           1                       0           reshape1                        \u001b[0m\n",
      "\u001b[34m________________________________________________________________________________________________________________________\u001b[0m\n",
      "\u001b[34mzeros_like1(zeros_like)                             1                       0           sum3                            \u001b[0m\n",
      "\u001b[34m________________________________________________________________________________________________________________________\u001b[0m\n",
      "\u001b[34m_equal1(_equal)                                     1                       0           sum3                            \n",
      "                                                                                        zeros_like1                     \u001b[0m\n",
      "\u001b[34m________________________________________________________________________________________________________________________\u001b[0m\n",
      "\u001b[34m_plus1(elemwise_add)                                1                       0           sum3                            \n",
      "                                                                                        _equal1                         \u001b[0m\n",
      "\u001b[34m________________________________________________________________________________________________________________________\u001b[0m\n",
      "\u001b[34mbroadcast_div1(broadcast_div)                       2048                    0           sum2                            \n",
      "                                                                                        _plus1                          \u001b[0m\n",
      "\u001b[34m________________________________________________________________________________________________________________________\u001b[0m\n",
      "\u001b[34mdropout1(Dropout)                                   2048                    0           broadcast_div1                  \u001b[0m\n",
      "\u001b[34m________________________________________________________________________________________________________________________\u001b[0m\n",
      "\u001b[34m_mul0(elemwise_mul)                                 2048                    0           dropout0                        \n",
      "                                                                                        dropout1                        \u001b[0m\n",
      "\u001b[34m________________________________________________________________________________________________________________________\u001b[0m\n",
      "\u001b[34m_minus0(elemwise_sub)                               2048                    0           dropout0                        \n",
      "                                                                                        dropout1                        \u001b[0m\n",
      "\u001b[34m________________________________________________________________________________________________________________________\u001b[0m\n",
      "\u001b[34mabs0(abs)                                           2048                    0           _minus0                         \u001b[0m\n",
      "\u001b[34m________________________________________________________________________________________________________________________\u001b[0m\n",
      "\u001b[34mconcat0(Concat)                                     8192                    0           _mul0                           \n",
      "                                                                                        dropout0                        \n",
      "                                                                                        dropout1                        \n",
      "                                                                                        abs0                            \u001b[0m\n",
      "\u001b[34m________________________________________________________________________________________________________________________\u001b[0m\n",
      "\u001b[34mmlp_fc0(FullyConnected)                             1024                    8389632     concat0                         \u001b[0m\n",
      "\u001b[34m________________________________________________________________________________________________________________________\u001b[0m\n",
      "\u001b[34mactivation0(Activation)                             1024                    0           mlp_fc0                         \u001b[0m\n",
      "\u001b[34m________________________________________________________________________________________________________________________\u001b[0m\n",
      "\u001b[34mdropout2(Dropout)                                   1024                    0           activation0                     \u001b[0m\n",
      "\u001b[34m________________________________________________________________________________________________________________________\u001b[0m\n",
      "\u001b[34moutput_layer(FullyConnected)                        2                       2050        dropout2                        \u001b[0m\n",
      "\u001b[34m________________________________________________________________________________________________________________________\u001b[0m\n",
      "\u001b[34mout_layer(SoftmaxOutput)                            2                       0           output_layer                    \u001b[0m\n",
      "\u001b[34m========================================================================================================================\u001b[0m\n",
      "\u001b[34mTotal params: 8391682\u001b[0m\n",
      "\u001b[34m________________________________________________________________________________________________________________________\u001b[0m\n",
      "\u001b[34m[10/06/2020 17:38:51 INFO 140138172270400] data_shapes [DataDesc[source,(2048, 1),<type 'numpy.float32'>,NTC], DataDesc[target,(2048, 1),<type 'numpy.float32'>,NTC]]\u001b[0m\n",
      "\u001b[34m[10/06/2020 17:38:51 INFO 140138172270400] label_shapes [DataDesc[out_layer_label,(2048,),<type 'numpy.float32'>,NTC]]\u001b[0m\n",
      "\u001b[34m[10/06/2020 17:38:51 INFO 140138172270400] fixed_param_names: []\u001b[0m\n",
      "\u001b[34m[10/06/2020 17:38:51 INFO 140138172270400] Initialized BucketingPlus Module\u001b[0m\n",
      "\n",
      "2020-10-06 17:39:08 Training - Training image download completed. Training in progress.\u001b[34m[10/06/2020 17:38:58 INFO 140138172270400] arg_params keys for module initialization: []\u001b[0m\n",
      "\u001b[34m[10/06/2020 17:38:58 INFO 140138172270400] all params:['output_layer_weight', 'mlp_fc0_weight', 'mlp_fc0_bias', 'output_layer_bias', 'embed_1_weight', 'embed_0_weight']\u001b[0m\n",
      "\u001b[34m#metrics {\"Metrics\": {\"initialize.time\": {\"count\": 1, \"max\": 6614.054918289185, \"sum\": 6614.054918289185, \"min\": 6614.054918289185}}, \"EndTime\": 1602005938.381629, \"Dimensions\": {\"Host\": \"algo-1\", \"Operation\": \"training\", \"Algorithm\": \"ObjectToVec\"}, \"StartTime\": 1602005928.779217}\n",
      "\u001b[0m\n",
      "\u001b[34m#metrics {\"Metrics\": {\"Max Batches Seen Between Resets\": {\"count\": 1, \"max\": 0, \"sum\": 0.0, \"min\": 0}, \"Number of Batches Since Last Reset\": {\"count\": 1, \"max\": 0, \"sum\": 0.0, \"min\": 0}, \"Number of Records Since Last Reset\": {\"count\": 1, \"max\": 0, \"sum\": 0.0, \"min\": 0}, \"Total Batches Seen\": {\"count\": 1, \"max\": 0, \"sum\": 0.0, \"min\": 0}, \"Total Records Seen\": {\"count\": 1, \"max\": 0, \"sum\": 0.0, \"min\": 0}, \"Max Records Seen Between Resets\": {\"count\": 1, \"max\": 0, \"sum\": 0.0, \"min\": 0}, \"Reset Count\": {\"count\": 1, \"max\": 0, \"sum\": 0.0, \"min\": 0}}, \"EndTime\": 1602005938.381819, \"Dimensions\": {\"Host\": \"algo-1\", \"Meta\": \"init_train_data_iter\", \"Operation\": \"training\", \"Algorithm\": \"ObjectToVec\"}, \"StartTime\": 1602005938.381768}\n",
      "\u001b[0m\n",
      "\u001b[34m[10/06/2020 17:39:02 INFO 140138172270400] **************\u001b[0m\n",
      "\u001b[34m[10/06/2020 17:39:02 INFO 140138172270400] Completed Epoch: 0, time taken: 0:00:04.253893\u001b[0m\n",
      "\u001b[34m[10/06/2020 17:39:02 INFO 140138172270400] Epoch 0 Training metrics:   perplexity: 1.850 cross_entropy: 0.615 accuracy: 0.660 \u001b[0m\n",
      "\u001b[34m[10/06/2020 17:39:02 INFO 140138172270400] #quality_metric: host=algo-1, epoch=0, train cross_entropy <loss>=0.614966249466\u001b[0m\n",
      "\u001b[34m[10/06/2020 17:39:02 INFO 140138172270400] #quality_metric: host=algo-1, epoch=0, train accuracy <score>=0.66025390625\u001b[0m\n",
      "\u001b[34m[10/06/2020 17:39:02 INFO 140138172270400] Epoch 0 Validation metrics: perplexity: 1.793 cross_entropy: 0.584 accuracy: 0.691 \u001b[0m\n",
      "\u001b[34m[10/06/2020 17:39:02 INFO 140138172270400] #quality_metric: host=algo-1, epoch=0, validation cross_entropy <loss>=0.583874464035\u001b[0m\n",
      "\u001b[34m[10/06/2020 17:39:02 INFO 140138172270400] #quality_metric: host=algo-1, epoch=0, validation accuracy <score>=0.6908203125\u001b[0m\n",
      "\u001b[34m[10/06/2020 17:39:02 INFO 140138172270400] **************\u001b[0m\n",
      "\u001b[34m#metrics {\"Metrics\": {\"epochs\": {\"count\": 1, \"max\": 20, \"sum\": 20.0, \"min\": 20}, \"early_stop.time\": {\"count\": 1, \"max\": 0.2980232238769531, \"sum\": 0.2980232238769531, \"min\": 0.2980232238769531}, \"update.time\": {\"count\": 1, \"max\": 4379.306077957153, \"sum\": 4379.306077957153, \"min\": 4379.306077957153}}, \"EndTime\": 1602005942.985924, \"Dimensions\": {\"Host\": \"algo-1\", \"Operation\": \"training\", \"Algorithm\": \"ObjectToVec\"}, \"StartTime\": 1602005938.381711}\n",
      "\u001b[0m\n",
      "\u001b[34m[10/06/2020 17:39:02 INFO 140138172270400] #progress_metric: host=algo-1, completed 5 % of epochs\u001b[0m\n",
      "\u001b[34m#metrics {\"Metrics\": {\"Max Batches Seen Between Resets\": {\"count\": 1, \"max\": 45, \"sum\": 45.0, \"min\": 45}, \"Number of Batches Since Last Reset\": {\"count\": 1, \"max\": 45, \"sum\": 45.0, \"min\": 45}, \"Number of Records Since Last Reset\": {\"count\": 1, \"max\": 92160, \"sum\": 92160.0, \"min\": 92160}, \"Total Batches Seen\": {\"count\": 1, \"max\": 45, \"sum\": 45.0, \"min\": 45}, \"Total Records Seen\": {\"count\": 1, \"max\": 92160, \"sum\": 92160.0, \"min\": 92160}, \"Max Records Seen Between Resets\": {\"count\": 1, \"max\": 92160, \"sum\": 92160.0, \"min\": 92160}, \"Reset Count\": {\"count\": 1, \"max\": 1, \"sum\": 1.0, \"min\": 1}}, \"EndTime\": 1602005942.98622, \"Dimensions\": {\"Host\": \"algo-1\", \"Meta\": \"training_data_iter\", \"Operation\": \"training\", \"Algorithm\": \"ObjectToVec\", \"epoch\": 0}, \"StartTime\": 1602005938.606588}\n",
      "\u001b[0m\n",
      "\u001b[34m[10/06/2020 17:39:02 INFO 140138172270400] #throughput_metric: host=algo-1, train throughput=21041.9841618 records/second\u001b[0m\n",
      "\u001b[34m[10/06/2020 17:39:07 INFO 140138172270400] **************\u001b[0m\n",
      "\u001b[34m[10/06/2020 17:39:07 INFO 140138172270400] Completed Epoch: 1, time taken: 0:00:04.247159\u001b[0m\n",
      "\u001b[34m[10/06/2020 17:39:07 INFO 140138172270400] Epoch 1 Training metrics:   perplexity: 1.723 cross_entropy: 0.544 accuracy: 0.723 \u001b[0m\n",
      "\u001b[34m[10/06/2020 17:39:07 INFO 140138172270400] #quality_metric: host=algo-1, epoch=1, train cross_entropy <loss>=0.544146841102\u001b[0m\n",
      "\u001b[34m[10/06/2020 17:39:07 INFO 140138172270400] #quality_metric: host=algo-1, epoch=1, train accuracy <score>=0.722819010417\u001b[0m\n",
      "\u001b[34m[10/06/2020 17:39:07 INFO 140138172270400] Epoch 1 Validation metrics: perplexity: 1.771 cross_entropy: 0.571 accuracy: 0.703 \u001b[0m\n",
      "\u001b[34m[10/06/2020 17:39:07 INFO 140138172270400] #quality_metric: host=algo-1, epoch=1, validation cross_entropy <loss>=0.571435856819\u001b[0m\n",
      "\u001b[34m[10/06/2020 17:39:07 INFO 140138172270400] #quality_metric: host=algo-1, epoch=1, validation accuracy <score>=0.702734375\u001b[0m\n",
      "\u001b[34m[10/06/2020 17:39:07 INFO 140138172270400] **************\u001b[0m\n",
      "\u001b[34m#metrics {\"Metrics\": {\"early_stop.time\": {\"count\": 1, \"max\": 4.43720817565918, \"sum\": 4.43720817565918, \"min\": 4.43720817565918}, \"update.time\": {\"count\": 1, \"max\": 4373.503923416138, \"sum\": 4373.503923416138, \"min\": 4373.503923416138}}, \"EndTime\": 1602005947.437348, \"Dimensions\": {\"Host\": \"algo-1\", \"Operation\": \"training\", \"Algorithm\": \"ObjectToVec\"}, \"StartTime\": 1602005942.986006}\n",
      "\u001b[0m\n",
      "\u001b[34m[10/06/2020 17:39:07 INFO 140138172270400] #progress_metric: host=algo-1, completed 10 % of epochs\u001b[0m\n",
      "\u001b[34m#metrics {\"Metrics\": {\"Max Batches Seen Between Resets\": {\"count\": 1, \"max\": 45, \"sum\": 45.0, \"min\": 45}, \"Number of Batches Since Last Reset\": {\"count\": 1, \"max\": 45, \"sum\": 45.0, \"min\": 45}, \"Number of Records Since Last Reset\": {\"count\": 1, \"max\": 92160, \"sum\": 92160.0, \"min\": 92160}, \"Total Batches Seen\": {\"count\": 1, \"max\": 90, \"sum\": 90.0, \"min\": 90}, \"Total Records Seen\": {\"count\": 1, \"max\": 184320, \"sum\": 184320.0, \"min\": 184320}, \"Max Records Seen Between Resets\": {\"count\": 1, \"max\": 92160, \"sum\": 92160.0, \"min\": 92160}, \"Reset Count\": {\"count\": 1, \"max\": 2, \"sum\": 2.0, \"min\": 2}}, \"EndTime\": 1602005947.437645, \"Dimensions\": {\"Host\": \"algo-1\", \"Meta\": \"training_data_iter\", \"Operation\": \"training\", \"Algorithm\": \"ObjectToVec\", \"epoch\": 1}, \"StartTime\": 1602005943.063817}\n",
      "\u001b[0m\n",
      "\u001b[34m[10/06/2020 17:39:07 INFO 140138172270400] #throughput_metric: host=algo-1, train throughput=21069.5060056 records/second\u001b[0m\n",
      "\u001b[34m[10/06/2020 17:39:11 INFO 140138172270400] **************\u001b[0m\n",
      "\u001b[34m[10/06/2020 17:39:11 INFO 140138172270400] Completed Epoch: 2, time taken: 0:00:04.251677\u001b[0m\n",
      "\u001b[34m[10/06/2020 17:39:11 INFO 140138172270400] Epoch 2 Training metrics:   perplexity: 1.650 cross_entropy: 0.501 accuracy: 0.754 \u001b[0m\n",
      "\u001b[34m[10/06/2020 17:39:11 INFO 140138172270400] #quality_metric: host=algo-1, epoch=2, train cross_entropy <loss>=0.501038888428\u001b[0m\n",
      "\u001b[34m[10/06/2020 17:39:11 INFO 140138172270400] #quality_metric: host=algo-1, epoch=2, train accuracy <score>=0.753700086806\u001b[0m\n",
      "\u001b[34m[10/06/2020 17:39:11 INFO 140138172270400] Epoch 2 Validation metrics: perplexity: 1.812 cross_entropy: 0.594 accuracy: 0.691 \u001b[0m\n",
      "\u001b[34m[10/06/2020 17:39:11 INFO 140138172270400] #quality_metric: host=algo-1, epoch=2, validation cross_entropy <loss>=0.594305884838\u001b[0m\n",
      "\u001b[34m[10/06/2020 17:39:11 INFO 140138172270400] #quality_metric: host=algo-1, epoch=2, validation accuracy <score>=0.69140625\u001b[0m\n",
      "\u001b[34m[10/06/2020 17:39:11 INFO 140138172270400] **************\u001b[0m\n",
      "\u001b[34m#metrics {\"Metrics\": {\"early_stop.time\": {\"count\": 1, \"max\": 0.024080276489257812, \"sum\": 0.024080276489257812, \"min\": 0.024080276489257812}, \"update.time\": {\"count\": 1, \"max\": 4375.1890659332275, \"sum\": 4375.1890659332275, \"min\": 4375.1890659332275}}, \"EndTime\": 1602005951.921034, \"Dimensions\": {\"Host\": \"algo-1\", \"Operation\": \"training\", \"Algorithm\": \"ObjectToVec\"}, \"StartTime\": 1602005947.43743}\n",
      "\u001b[0m\n",
      "\u001b[34m[10/06/2020 17:39:11 INFO 140138172270400] #progress_metric: host=algo-1, completed 15 % of epochs\u001b[0m\n",
      "\u001b[34m#metrics {\"Metrics\": {\"Max Batches Seen Between Resets\": {\"count\": 1, \"max\": 45, \"sum\": 45.0, \"min\": 45}, \"Number of Batches Since Last Reset\": {\"count\": 1, \"max\": 45, \"sum\": 45.0, \"min\": 45}, \"Number of Records Since Last Reset\": {\"count\": 1, \"max\": 92160, \"sum\": 92160.0, \"min\": 92160}, \"Total Batches Seen\": {\"count\": 1, \"max\": 135, \"sum\": 135.0, \"min\": 135}, \"Total Records Seen\": {\"count\": 1, \"max\": 276480, \"sum\": 276480.0, \"min\": 276480}, \"Max Records Seen Between Resets\": {\"count\": 1, \"max\": 92160, \"sum\": 92160.0, \"min\": 92160}, \"Reset Count\": {\"count\": 1, \"max\": 3, \"sum\": 3.0, \"min\": 3}}, \"EndTime\": 1602005951.921306, \"Dimensions\": {\"Host\": \"algo-1\", \"Meta\": \"training_data_iter\", \"Operation\": \"training\", \"Algorithm\": \"ObjectToVec\", \"epoch\": 2}, \"StartTime\": 1602005947.545812}\n",
      "\u001b[0m\n",
      "\u001b[34m[10/06/2020 17:39:11 INFO 140138172270400] #throughput_metric: host=algo-1, train throughput=21061.5710139 records/second\u001b[0m\n",
      "\u001b[34m[10/06/2020 17:39:16 INFO 140138172270400] **************\u001b[0m\n",
      "\u001b[34m[10/06/2020 17:39:16 INFO 140138172270400] Completed Epoch: 3, time taken: 0:00:04.261660\u001b[0m\n",
      "\u001b[34m[10/06/2020 17:39:16 INFO 140138172270400] Epoch 3 Training metrics:   perplexity: 1.364 cross_entropy: 0.310 accuracy: 0.877 \u001b[0m\n",
      "\u001b[34m[10/06/2020 17:39:16 INFO 140138172270400] #quality_metric: host=algo-1, epoch=3, train cross_entropy <loss>=0.310292234023\u001b[0m\n",
      "\u001b[34m[10/06/2020 17:39:16 INFO 140138172270400] #quality_metric: host=algo-1, epoch=3, train accuracy <score>=0.876605902778\u001b[0m\n",
      "\u001b[34m[10/06/2020 17:39:16 INFO 140138172270400] Epoch 3 Validation metrics: perplexity: 2.154 cross_entropy: 0.767 accuracy: 0.673 \u001b[0m\n",
      "\u001b[34m[10/06/2020 17:39:16 INFO 140138172270400] #quality_metric: host=algo-1, epoch=3, validation cross_entropy <loss>=0.767165410519\u001b[0m\n",
      "\u001b[34m[10/06/2020 17:39:16 INFO 140138172270400] #quality_metric: host=algo-1, epoch=3, validation accuracy <score>=0.6728515625\u001b[0m\n",
      "\u001b[34m[10/06/2020 17:39:16 INFO 140138172270400] **************\u001b[0m\n",
      "\u001b[34m[10/06/2020 17:39:16 INFO 140138172270400] patience losses: [0.5838744640350342, 0.5714358568191529, 0.5943058848381042]\u001b[0m\n",
      "\u001b[34m[10/06/2020 17:39:16 INFO 140138172270400] min patience losses: 0.571435856819\u001b[0m\n",
      "\u001b[34m[10/06/2020 17:39:16 INFO 140138172270400] current loss: 0.767165410519\u001b[0m\n",
      "\u001b[34m[10/06/2020 17:39:16 INFO 140138172270400] absolute loss difference: 0.195729553699\u001b[0m\n",
      "\u001b[34m[10/06/2020 17:39:16 INFO 140138172270400] Bad epoch: loss has not improved (enough). Bad count:1\u001b[0m\n",
      "\u001b[34m#metrics {\"Metrics\": {\"early_stop.time\": {\"count\": 1, \"max\": 0.5288124084472656, \"sum\": 0.5288124084472656, \"min\": 0.5288124084472656}, \"update.time\": {\"count\": 1, \"max\": 4384.482145309448, \"sum\": 4384.482145309448, \"min\": 4384.482145309448}}, \"EndTime\": 1602005956.31066, \"Dimensions\": {\"Host\": \"algo-1\", \"Operation\": \"training\", \"Algorithm\": \"ObjectToVec\"}, \"StartTime\": 1602005951.921112}\n",
      "\u001b[0m\n",
      "\u001b[34m[10/06/2020 17:39:16 INFO 140138172270400] #progress_metric: host=algo-1, completed 20 % of epochs\u001b[0m\n",
      "\u001b[34m#metrics {\"Metrics\": {\"Max Batches Seen Between Resets\": {\"count\": 1, \"max\": 45, \"sum\": 45.0, \"min\": 45}, \"Number of Batches Since Last Reset\": {\"count\": 1, \"max\": 45, \"sum\": 45.0, \"min\": 45}, \"Number of Records Since Last Reset\": {\"count\": 1, \"max\": 92160, \"sum\": 92160.0, \"min\": 92160}, \"Total Batches Seen\": {\"count\": 1, \"max\": 180, \"sum\": 180.0, \"min\": 180}, \"Total Records Seen\": {\"count\": 1, \"max\": 368640, \"sum\": 368640.0, \"min\": 368640}, \"Max Records Seen Between Resets\": {\"count\": 1, \"max\": 92160, \"sum\": 92160.0, \"min\": 92160}, \"Reset Count\": {\"count\": 1, \"max\": 4, \"sum\": 4.0, \"min\": 4}}, \"EndTime\": 1602005956.310938, \"Dimensions\": {\"Host\": \"algo-1\", \"Meta\": \"training_data_iter\", \"Operation\": \"training\", \"Algorithm\": \"ObjectToVec\", \"epoch\": 3}, \"StartTime\": 1602005951.926154}\n",
      "\u001b[0m\n",
      "\u001b[34m[10/06/2020 17:39:16 INFO 140138172270400] #throughput_metric: host=algo-1, train throughput=21017.5449113 records/second\u001b[0m\n",
      "\u001b[34m[10/06/2020 17:39:20 INFO 140138172270400] **************\u001b[0m\n",
      "\u001b[34m[10/06/2020 17:39:20 INFO 140138172270400] Completed Epoch: 4, time taken: 0:00:04.267176\u001b[0m\n",
      "\u001b[34m[10/06/2020 17:39:20 INFO 140138172270400] Epoch 4 Training metrics:   perplexity: 1.068 cross_entropy: 0.066 accuracy: 0.984 \u001b[0m\n",
      "\u001b[34m[10/06/2020 17:39:20 INFO 140138172270400] #quality_metric: host=algo-1, epoch=4, train cross_entropy <loss>=0.0656341308521\u001b[0m\n",
      "\u001b[34m[10/06/2020 17:39:20 INFO 140138172270400] #quality_metric: host=algo-1, epoch=4, train accuracy <score>=0.984049479167\u001b[0m\n",
      "\u001b[34m[10/06/2020 17:39:20 INFO 140138172270400] Epoch 4 Validation metrics: perplexity: 2.591 cross_entropy: 0.952 accuracy: 0.690 \u001b[0m\n",
      "\u001b[34m[10/06/2020 17:39:20 INFO 140138172270400] #quality_metric: host=algo-1, epoch=4, validation cross_entropy <loss>=0.951859939098\u001b[0m\n",
      "\u001b[34m[10/06/2020 17:39:20 INFO 140138172270400] #quality_metric: host=algo-1, epoch=4, validation accuracy <score>=0.68955078125\u001b[0m\n",
      "\u001b[34m[10/06/2020 17:39:20 INFO 140138172270400] **************\u001b[0m\n",
      "\u001b[34m[10/06/2020 17:39:20 INFO 140138172270400] patience losses: [0.5714358568191529, 0.5943058848381042, 0.7671654105186463]\u001b[0m\n",
      "\u001b[34m[10/06/2020 17:39:20 INFO 140138172270400] min patience losses: 0.571435856819\u001b[0m\n",
      "\u001b[34m[10/06/2020 17:39:20 INFO 140138172270400] current loss: 0.951859939098\u001b[0m\n",
      "\u001b[34m[10/06/2020 17:39:20 INFO 140138172270400] absolute loss difference: 0.380424082279\u001b[0m\n",
      "\u001b[34m[10/06/2020 17:39:20 INFO 140138172270400] Bad epoch: loss has not improved (enough). Bad count:2\u001b[0m\n",
      "\u001b[34m#metrics {\"Metrics\": {\"early_stop.time\": {\"count\": 1, \"max\": 0.4589557647705078, \"sum\": 0.4589557647705078, \"min\": 0.4589557647705078}, \"update.time\": {\"count\": 1, \"max\": 4389.220952987671, \"sum\": 4389.220952987671, \"min\": 4389.220952987671}}, \"EndTime\": 1602005960.704023, \"Dimensions\": {\"Host\": \"algo-1\", \"Operation\": \"training\", \"Algorithm\": \"ObjectToVec\"}, \"StartTime\": 1602005956.310747}\n",
      "\u001b[0m\n",
      "\u001b[34m[10/06/2020 17:39:20 INFO 140138172270400] #progress_metric: host=algo-1, completed 25 % of epochs\u001b[0m\n",
      "\u001b[34m#metrics {\"Metrics\": {\"Max Batches Seen Between Resets\": {\"count\": 1, \"max\": 45, \"sum\": 45.0, \"min\": 45}, \"Number of Batches Since Last Reset\": {\"count\": 1, \"max\": 45, \"sum\": 45.0, \"min\": 45}, \"Number of Records Since Last Reset\": {\"count\": 1, \"max\": 92160, \"sum\": 92160.0, \"min\": 92160}, \"Total Batches Seen\": {\"count\": 1, \"max\": 225, \"sum\": 225.0, \"min\": 225}, \"Total Records Seen\": {\"count\": 1, \"max\": 460800, \"sum\": 460800.0, \"min\": 460800}, \"Max Records Seen Between Resets\": {\"count\": 1, \"max\": 92160, \"sum\": 92160.0, \"min\": 92160}, \"Reset Count\": {\"count\": 1, \"max\": 5, \"sum\": 5.0, \"min\": 5}}, \"EndTime\": 1602005960.704321, \"Dimensions\": {\"Host\": \"algo-1\", \"Meta\": \"training_data_iter\", \"Operation\": \"training\", \"Algorithm\": \"ObjectToVec\", \"epoch\": 4}, \"StartTime\": 1602005956.314782}\n",
      "\u001b[0m\n",
      "\u001b[34m[10/06/2020 17:39:20 INFO 140138172270400] #throughput_metric: host=algo-1, train throughput=20994.725596 records/second\u001b[0m\n",
      "\u001b[34m[10/06/2020 17:39:24 INFO 140138172270400] **************\u001b[0m\n",
      "\u001b[34m[10/06/2020 17:39:24 INFO 140138172270400] Completed Epoch: 5, time taken: 0:00:04.258857\u001b[0m\n",
      "\u001b[34m[10/06/2020 17:39:24 INFO 140138172270400] Epoch 5 Training metrics:   perplexity: 1.011 cross_entropy: 0.011 accuracy: 0.999 \u001b[0m\n",
      "\u001b[34m[10/06/2020 17:39:24 INFO 140138172270400] #quality_metric: host=algo-1, epoch=5, train cross_entropy <loss>=0.0108056075043\u001b[0m\n",
      "\u001b[34m[10/06/2020 17:39:24 INFO 140138172270400] #quality_metric: host=algo-1, epoch=5, train accuracy <score>=0.999186197917\u001b[0m\n",
      "\u001b[34m[10/06/2020 17:39:25 INFO 140138172270400] Epoch 5 Validation metrics: perplexity: 2.963 cross_entropy: 1.086 accuracy: 0.693 \u001b[0m\n",
      "\u001b[34m[10/06/2020 17:39:25 INFO 140138172270400] #quality_metric: host=algo-1, epoch=5, validation cross_entropy <loss>=1.08609585762\u001b[0m\n",
      "\u001b[34m[10/06/2020 17:39:25 INFO 140138172270400] #quality_metric: host=algo-1, epoch=5, validation accuracy <score>=0.69306640625\u001b[0m\n",
      "\u001b[34m[10/06/2020 17:39:25 INFO 140138172270400] **************\u001b[0m\n",
      "\u001b[34m[10/06/2020 17:39:25 INFO 140138172270400] patience losses: [0.5943058848381042, 0.7671654105186463, 0.9518599390983582]\u001b[0m\n",
      "\u001b[34m[10/06/2020 17:39:25 INFO 140138172270400] min patience losses: 0.594305884838\u001b[0m\n",
      "\u001b[34m[10/06/2020 17:39:25 INFO 140138172270400] current loss: 1.08609585762\u001b[0m\n",
      "\u001b[34m[10/06/2020 17:39:25 INFO 140138172270400] absolute loss difference: 0.491789972782\u001b[0m\n",
      "\u001b[34m[10/06/2020 17:39:25 INFO 140138172270400] Bad epoch: loss has not improved (enough). Bad count:3\u001b[0m\n",
      "\u001b[34m#metrics {\"Metrics\": {\"early_stop.time\": {\"count\": 1, \"max\": 0.4978179931640625, \"sum\": 0.4978179931640625, \"min\": 0.4978179931640625}, \"update.time\": {\"count\": 1, \"max\": 4382.038116455078, \"sum\": 4382.038116455078, \"min\": 4382.038116455078}}, \"EndTime\": 1602005965.090364, \"Dimensions\": {\"Host\": \"algo-1\", \"Operation\": \"training\", \"Algorithm\": \"ObjectToVec\"}, \"StartTime\": 1602005960.704122}\n",
      "\u001b[0m\n",
      "\u001b[34m[10/06/2020 17:39:25 INFO 140138172270400] #progress_metric: host=algo-1, completed 30 % of epochs\u001b[0m\n",
      "\u001b[34m#metrics {\"Metrics\": {\"Max Batches Seen Between Resets\": {\"count\": 1, \"max\": 45, \"sum\": 45.0, \"min\": 45}, \"Number of Batches Since Last Reset\": {\"count\": 1, \"max\": 45, \"sum\": 45.0, \"min\": 45}, \"Number of Records Since Last Reset\": {\"count\": 1, \"max\": 92160, \"sum\": 92160.0, \"min\": 92160}, \"Total Batches Seen\": {\"count\": 1, \"max\": 270, \"sum\": 270.0, \"min\": 270}, \"Total Records Seen\": {\"count\": 1, \"max\": 552960, \"sum\": 552960.0, \"min\": 552960}, \"Max Records Seen Between Resets\": {\"count\": 1, \"max\": 92160, \"sum\": 92160.0, \"min\": 92160}, \"Reset Count\": {\"count\": 1, \"max\": 6, \"sum\": 6.0, \"min\": 6}}, \"EndTime\": 1602005965.090656, \"Dimensions\": {\"Host\": \"algo-1\", \"Meta\": \"training_data_iter\", \"Operation\": \"training\", \"Algorithm\": \"ObjectToVec\", \"epoch\": 5}, \"StartTime\": 1602005960.708303}\n",
      "\u001b[0m\n",
      "\u001b[34m[10/06/2020 17:39:25 INFO 140138172270400] #throughput_metric: host=algo-1, train throughput=21029.188259 records/second\u001b[0m\n",
      "\u001b[34m[10/06/2020 17:39:29 INFO 140138172270400] **************\u001b[0m\n",
      "\u001b[34m[10/06/2020 17:39:29 INFO 140138172270400] Completed Epoch: 6, time taken: 0:00:04.262909\u001b[0m\n",
      "\u001b[34m[10/06/2020 17:39:29 INFO 140138172270400] Epoch 6 Training metrics:   perplexity: 1.002 cross_entropy: 0.002 accuracy: 1.000 \u001b[0m\n",
      "\u001b[34m[10/06/2020 17:39:29 INFO 140138172270400] #quality_metric: host=algo-1, epoch=6, train cross_entropy <loss>=0.00247540347692\u001b[0m\n",
      "\u001b[34m[10/06/2020 17:39:29 INFO 140138172270400] #quality_metric: host=algo-1, epoch=6, train accuracy <score>=0.999967447917\u001b[0m\n",
      "\u001b[34m[10/06/2020 17:39:29 INFO 140138172270400] Epoch 6 Validation metrics: perplexity: 3.168 cross_entropy: 1.153 accuracy: 0.698 \u001b[0m\n",
      "\u001b[34m[10/06/2020 17:39:29 INFO 140138172270400] #quality_metric: host=algo-1, epoch=6, validation cross_entropy <loss>=1.15314753056\u001b[0m\n",
      "\u001b[34m[10/06/2020 17:39:29 INFO 140138172270400] #quality_metric: host=algo-1, epoch=6, validation accuracy <score>=0.69833984375\u001b[0m\n",
      "\u001b[34m[10/06/2020 17:39:29 INFO 140138172270400] **************\u001b[0m\n",
      "\u001b[34m[10/06/2020 17:39:29 INFO 140138172270400] patience losses: [0.7671654105186463, 0.9518599390983582, 1.0860958576202393]\u001b[0m\n",
      "\u001b[34m[10/06/2020 17:39:29 INFO 140138172270400] min patience losses: 0.767165410519\u001b[0m\n",
      "\u001b[34m[10/06/2020 17:39:29 INFO 140138172270400] current loss: 1.15314753056\u001b[0m\n",
      "\u001b[34m[10/06/2020 17:39:29 INFO 140138172270400] absolute loss difference: 0.385982120037\u001b[0m\n",
      "\u001b[34m[10/06/2020 17:39:29 INFO 140138172270400] Bad epoch: loss has not improved (enough). Bad count:4\u001b[0m\n",
      "\u001b[34m[10/06/2020 17:39:29 INFO 140138172270400] Bad epochs exceeded patience. Stopping training early!\u001b[0m\n",
      "\u001b[34m[10/06/2020 17:39:29 INFO 140138172270400] Early stopping criterion met! Stopping training at epoch: 6\u001b[0m\n",
      "\u001b[34m#metrics {\"Metrics\": {\"early_stop.time\": {\"count\": 1, \"max\": 0.6320476531982422, \"sum\": 0.6320476531982422, \"min\": 0.6320476531982422}, \"update.time\": {\"count\": 1, \"max\": 4388.0720138549805, \"sum\": 4388.0720138549805, \"min\": 4388.0720138549805}}, \"EndTime\": 1602005969.482895, \"Dimensions\": {\"Host\": \"algo-1\", \"Operation\": \"training\", \"Algorithm\": \"ObjectToVec\"}, \"StartTime\": 1602005965.090462}\n",
      "\u001b[0m\n",
      "\u001b[34m[10/06/2020 17:39:29 INFO 140138172270400] Early stop condition met. Stopping training.\u001b[0m\n",
      "\u001b[34m[10/06/2020 17:39:29 INFO 140138172270400] #progress_metric: host=algo-1, completed 100 % epochs\u001b[0m\n",
      "\u001b[34m#metrics {\"Metrics\": {\"Max Batches Seen Between Resets\": {\"count\": 1, \"max\": 45, \"sum\": 45.0, \"min\": 45}, \"Number of Batches Since Last Reset\": {\"count\": 1, \"max\": 45, \"sum\": 45.0, \"min\": 45}, \"Number of Records Since Last Reset\": {\"count\": 1, \"max\": 92160, \"sum\": 92160.0, \"min\": 92160}, \"Total Batches Seen\": {\"count\": 1, \"max\": 315, \"sum\": 315.0, \"min\": 315}, \"Total Records Seen\": {\"count\": 1, \"max\": 645120, \"sum\": 645120.0, \"min\": 645120}, \"Max Records Seen Between Resets\": {\"count\": 1, \"max\": 92160, \"sum\": 92160.0, \"min\": 92160}, \"Reset Count\": {\"count\": 1, \"max\": 7, \"sum\": 7.0, \"min\": 7}}, \"EndTime\": 1602005969.483272, \"Dimensions\": {\"Host\": \"algo-1\", \"Meta\": \"training_data_iter\", \"Operation\": \"training\", \"Algorithm\": \"ObjectToVec\", \"epoch\": 6}, \"StartTime\": 1602005965.094798}\n",
      "\u001b[0m\n",
      "\u001b[34m[10/06/2020 17:39:29 INFO 140138172270400] #throughput_metric: host=algo-1, train throughput=20999.8102717 records/second\u001b[0m\n",
      "\u001b[34m[10/06/2020 17:39:29 WARNING 140138172270400] wait_for_all_workers will not sync workers since the kv store is not running distributed\u001b[0m\n",
      "\u001b[34m[10/06/2020 17:39:29 INFO 140138172270400] Best model based on epoch 1. Best loss: 0.571\u001b[0m\n",
      "\u001b[34m#metrics {\"Metrics\": {\"finalize.time\": {\"count\": 1, \"max\": 1.0390281677246094, \"sum\": 1.0390281677246094, \"min\": 1.0390281677246094}}, \"EndTime\": 1602005969.484675, \"Dimensions\": {\"Host\": \"algo-1\", \"Operation\": \"training\", \"Algorithm\": \"ObjectToVec\"}, \"StartTime\": 1602005969.482999}\n",
      "\u001b[0m\n",
      "\u001b[34m[10/06/2020 17:39:29 INFO 140138172270400] Serializing model to /opt/ml/model/model_algo-1\u001b[0m\n",
      "\u001b[34m[10/06/2020 17:39:29 INFO 140138172270400] Saved checkpoint to \"/tmp/tmpoHdC9r/state-0001.params\"\u001b[0m\n",
      "\u001b[34m[10/06/2020 17:39:29 INFO 140138172270400] Test data is not provided.\u001b[0m\n",
      "\u001b[34m#metrics {\"Metrics\": {\"totaltime\": {\"count\": 1, \"max\": 41385.1101398468, \"sum\": 41385.1101398468, \"min\": 41385.1101398468}, \"model.serialize.time\": {\"count\": 1, \"max\": 210.31808853149414, \"sum\": 210.31808853149414, \"min\": 210.31808853149414}, \"setuptime\": {\"count\": 1, \"max\": 385.33806800842285, \"sum\": 385.33806800842285, \"min\": 385.33806800842285}}, \"EndTime\": 1602005969.700716, \"Dimensions\": {\"Host\": \"algo-1\", \"Operation\": \"training\", \"Algorithm\": \"ObjectToVec\"}, \"StartTime\": 1602005969.48473}\n",
      "\u001b[0m\n",
      "\n",
      "2020-10-06 17:39:34 Uploading - Uploading generated training model\n",
      "2020-10-06 17:39:46 Completed - Training job completed\n",
      "Training seconds: 170\n",
      "Billable seconds: 170\n"
     ]
    }
   ],
   "source": [
    "## get estimator\n",
    "classifier = sagemaker.estimator.Estimator(container,\n",
    "                                    role, \n",
    "                                    train_instance_count=1, \n",
    "                                    train_instance_type='ml.p2.xlarge',\n",
    "                                    output_path=output_path,\n",
    "                                    sagemaker_session=sess)\n",
    "\n",
    "## set hyperparameters\n",
    "classifier.set_hyperparameters(**hyperparameters_c)\n",
    "\n",
    "## train, tune, and test the model\n",
    "classifier.fit(input_paths)"
   ]
  },
  {
   "cell_type": "markdown",
   "metadata": {},
   "source": [
    "Again, we can create, deploy, and validate the model after training"
   ]
  },
  {
   "cell_type": "code",
   "execution_count": 29,
   "metadata": {},
   "outputs": [
    {
     "name": "stderr",
     "output_type": "stream",
     "text": [
      "Parameter image will be renamed to image_uri in SageMaker Python SDK v2.\n"
     ]
    },
    {
     "name": "stdout",
     "output_type": "stream",
     "text": [
      "-------------------!"
     ]
    }
   ],
   "source": [
    "classification_model = classifier.create_model(\n",
    "                        serializer=json_serializer,\n",
    "                        deserializer=json_deserializer,\n",
    "                        content_type='application/json')\n",
    "\n",
    "predictor_2 = classification_model.deploy(initial_instance_count=1, instance_type='ml.m4.xlarge')"
   ]
  },
  {
   "cell_type": "code",
   "execution_count": 30,
   "metadata": {},
   "outputs": [],
   "source": [
    "valid_c_data, valid_c_label = data_list_to_inference_format(copy.deepcopy(validation_data_list), \n",
    "                                                            label_thres=3, binarize=True)\n",
    "predictions = predictor_2.predict(valid_c_data)"
   ]
  },
  {
   "cell_type": "code",
   "execution_count": 31,
   "metadata": {},
   "outputs": [
    {
     "name": "stdout",
     "output_type": "stream",
     "text": [
      "The accuracy on the binarized validation set is 0.703\n"
     ]
    }
   ],
   "source": [
    "def get_class_accuracy(res, labels, thres):\n",
    "    if type(res) is dict:\n",
    "        res = res['predictions']\n",
    "    assert len(res)==len(labels), 'result and label length mismatch!'\n",
    "    accuracy = 0\n",
    "    for row, label in zip(res, labels):\n",
    "        if type(row) is dict:\n",
    "            if row['scores'][1] > thres:\n",
    "                prediction = 1\n",
    "            else: \n",
    "                prediction = 0\n",
    "            if label > thres:\n",
    "                label = 1\n",
    "            else:\n",
    "                label = 0\n",
    "            accuracy += 1 - (prediction - label)**2\n",
    "    return accuracy / float(len(res))\n",
    "\n",
    "print(\"The accuracy on the binarized validation set is %.3f\" %get_class_accuracy(predictions, valid_c_label, 0.5))"
   ]
  },
  {
   "cell_type": "markdown",
   "metadata": {},
   "source": [
    "The accuracy on validation set you would get should be approximately 0.704."
   ]
  },
  {
   "cell_type": "markdown",
   "metadata": {},
   "source": [
    "## Movie retrieval in the embedding space\n",
    "\n",
    "Since *Object2Vec* transforms user and movie ID's into embeddings as part of the training process. After training, it obtains user and movie embeddings in the left and right encoders, respectively. Intuitively, the embeddings should be tuned by the algorithm in a way that facilitates the supervised learning task: since for a specific user, similar movies should have similar ratings, we expect that similar movies should be **close-by** in the embedding space.\n",
    "\n",
    "In this section, we demonstrate how to find the nearest-neighbor (in Euclidean distance) of a given movie ID, among all movie ID's."
   ]
  },
  {
   "cell_type": "code",
   "execution_count": 32,
   "metadata": {},
   "outputs": [],
   "source": [
    "def get_movie_embedding_dict(movie_ids, trained_model):\n",
    "    input_instances = list()\n",
    "    for s_id in movie_ids:\n",
    "        input_instances.append({'in1': [s_id]})\n",
    "    data = {'instances': input_instances}\n",
    "    movie_embeddings = trained_model.predict(data)\n",
    "    embedding_dict = {}\n",
    "    for s_id, row in zip(movie_ids, movie_embeddings['predictions']):\n",
    "        embedding_dict[s_id] = np.array(row['embeddings'])\n",
    "    return embedding_dict\n",
    "\n",
    "\n",
    "def load_movie_id_name_map(item_file):\n",
    "    movieID_name_map = {}\n",
    "    with open(item_file, 'r', encoding=\"ISO-8859-1\") as f:\n",
    "        for row in f.readlines():\n",
    "            row = row.strip()\n",
    "            split = row.split('|')\n",
    "            movie_id = split[0]\n",
    "            movie_name = split[1]\n",
    "            sparse_tags = split[-19:]\n",
    "            movieID_name_map[int(movie_id)] = movie_name \n",
    "    return movieID_name_map\n",
    "\n",
    "            \n",
    "def get_nn_of_movie(movie_id, candidate_movie_ids, embedding_dict):\n",
    "    movie_emb = embedding_dict[movie_id]\n",
    "    min_dist = float('Inf')\n",
    "    best_id = candidate_movie_ids[0]\n",
    "    for idx, m_id in enumerate(candidate_movie_ids):\n",
    "        candidate_emb = embedding_dict[m_id]\n",
    "        curr_dist = np.linalg.norm(candidate_emb - movie_emb)\n",
    "        if curr_dist < min_dist:\n",
    "            best_id = m_id\n",
    "            min_dist = curr_dist\n",
    "    return best_id, min_dist\n",
    "\n",
    "\n",
    "def get_unique_movie_ids(data_list):\n",
    "    unique_movie_ids = set()\n",
    "    for row in data_list:\n",
    "        unique_movie_ids.add(row['in1'][0])\n",
    "    return list(unique_movie_ids)"
   ]
  },
  {
   "cell_type": "code",
   "execution_count": 33,
   "metadata": {},
   "outputs": [],
   "source": [
    "train_data_list = load_csv_data(train_path, '\\t', verbose=False)\n",
    "unique_movie_ids = get_unique_movie_ids(train_data_list)\n",
    "embedding_dict = get_movie_embedding_dict(unique_movie_ids, predictor_2)\n",
    "candidate_movie_ids = unique_movie_ids.copy()"
   ]
  },
  {
   "cell_type": "markdown",
   "metadata": {},
   "source": [
    "Using the script below, you can check out what is the closest movie to any movie in the data set. Last time we ran it, the closest movie to `Terminator, The (1984)` in the embedding space was `Die Hard (1988)`. Note that, the result will likely differ slightly across different runs of the algorithm, due to randomness in initialization of model parameters.\n",
    "\n",
    "- Just plug in the movie id you want to examine \n",
    "   - For example, the movie ID for Terminator is 195; you can find the movie name and ID pair in the `u.item` file\n",
    "- Note that, the result will likely differ across different runs of the algorithm, due to inherent randomness."
   ]
  },
  {
   "cell_type": "code",
   "execution_count": 40,
   "metadata": {
    "tags": [
     "parameters"
    ]
   },
   "outputs": [],
   "source": [
    "movie_id_to_examine = 195 # Customize the movie ID you want to examine"
   ]
  },
  {
   "cell_type": "code",
   "execution_count": 41,
   "metadata": {},
   "outputs": [
    {
     "name": "stdout",
     "output_type": "stream",
     "text": [
      "The closest movie to Terminator, The (1984) in the embedding space is Aliens (1986)\n"
     ]
    }
   ],
   "source": [
    "candidate_movie_ids.remove(movie_id_to_examine)\n",
    "best_id, min_dist = get_nn_of_movie(movie_id_to_examine, candidate_movie_ids, embedding_dict)\n",
    "movieID_name_map = load_movie_id_name_map('ml-100k/u.item')\n",
    "print('The closest movie to {} in the embedding space is {}'.format(movieID_name_map[movie_id_to_examine],\n",
    "                                                                  movieID_name_map[best_id]))\n",
    "candidate_movie_ids.append(movie_id_to_examine)"
   ]
  },
  {
   "cell_type": "markdown",
   "metadata": {},
   "source": [
    "It is recommended to always delete the endpoints used for hosting the model"
   ]
  },
  {
   "cell_type": "code",
   "execution_count": 42,
   "metadata": {},
   "outputs": [],
   "source": [
    "## clean up\n",
    "sess.delete_endpoint(predictor.endpoint)\n",
    "sess.delete_endpoint(predictor_2.endpoint)"
   ]
  },
  {
   "cell_type": "code",
   "execution_count": null,
   "metadata": {},
   "outputs": [],
   "source": []
  }
 ],
 "metadata": {
  "celltoolbar": "Tags",
  "kernelspec": {
   "display_name": "conda_python3",
   "language": "python",
   "name": "conda_python3"
  },
  "language_info": {
   "codemirror_mode": {
    "name": "ipython",
    "version": 3
   },
   "file_extension": ".py",
   "mimetype": "text/x-python",
   "name": "python",
   "nbconvert_exporter": "python",
   "pygments_lexer": "ipython3",
   "version": "3.6.10"
  }
 },
 "nbformat": 4,
 "nbformat_minor": 2
}
