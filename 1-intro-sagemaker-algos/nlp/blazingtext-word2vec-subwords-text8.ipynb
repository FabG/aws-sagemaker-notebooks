{
 "cells": [
  {
   "cell_type": "markdown",
   "metadata": {},
   "source": [
    "## Introduction\n",
    "\n",
    "Word2Vec is a popular algorithm used for generating dense vector representations of words in large corpora using unsupervised learning. These representations are useful for many natural language processing (NLP) tasks like sentiment analysis, named entity recognition and machine translation.  \n",
    "\n",
    "Popular models that learn such representations ignore the morphology of words, by assigning a distinct vector to each word. This is a limitation, especially for languages with large vocabularies and many rare words. *SageMaker BlazingText* can learn vector representations associated with character n-grams; representing words as the sum of these character n-grams representations [1]. This method enables *BlazingText* to generate vectors for out-of-vocabulary (OOV) words, as demonstrated in this notebook."
   ]
  },
  {
   "cell_type": "markdown",
   "metadata": {},
   "source": [
    "Popular tools like [FastText](https://github.com/facebookresearch/fastText) learn subword embeddings to generate OOV word representations, but scale poorly as they can run only on CPUs. BlazingText extends the FastText model to leverage GPUs, thus providing more than 10x speedup, depending on the hardware."
   ]
  },
  {
   "cell_type": "markdown",
   "metadata": {},
   "source": [
    "[1] P. Bojanowski, E. Grave, A. Joulin, T. Mikolov, [Enriching Word Vectors with Subword Information](https://arxiv.org/pdf/1607.04606.pdf)"
   ]
  },
  {
   "cell_type": "markdown",
   "metadata": {},
   "source": [
    "## Setup\n",
    "\n",
    "Let's start by specifying:\n",
    "\n",
    "- The S3 bucket and prefix that you want to use for training and model data. This should be within the same region as the Notebook Instance, training, and hosting. If you don't specify a bucket, SageMaker SDK will create a default bucket following a pre-defined naming convention in the same region. \n",
    "- The IAM role ARN used to give SageMaker access to your data. It can be fetched using the **get_execution_role** method from sagemaker python SDK."
   ]
  },
  {
   "cell_type": "code",
   "execution_count": 1,
   "metadata": {
    "isConfigCell": true
   },
   "outputs": [
    {
     "name": "stdout",
     "output_type": "stream",
     "text": [
      "arn:aws:iam::640463227255:role/service-role/AmazonSageMaker-ExecutionRole-20200822T102773\n",
      "fab-sagemaker\n"
     ]
    }
   ],
   "source": [
    "import sagemaker\n",
    "from sagemaker import get_execution_role\n",
    "import boto3\n",
    "import json\n",
    "\n",
    "sess = sagemaker.Session()\n",
    "\n",
    "role = get_execution_role()\n",
    "print(role) # This is the role that SageMaker would use to leverage AWS resources (S3, CloudWatch) on your behalf\n",
    "\n",
    "#bucket = sess.default_bucket()\n",
    "bucket = 'fab-sagemaker'\n",
    "print(bucket)\n",
    "prefix = 'blazingtext-rareword/subwords' #Replace with the prefix under which you want to store the data if needed"
   ]
  },
  {
   "cell_type": "markdown",
   "metadata": {},
   "source": [
    "### Data Ingestion\n",
    "\n",
    "Next, we download a dataset from the web on which we want to train the word vectors. BlazingText expects a single preprocessed text file with space separated tokens and each line of the file should contain a single sentence.\n",
    "\n",
    "In this example, let us train the vectors on [text8](http://mattmahoney.net/dc/textdata.html) dataset (100 MB), which is a small (already preprocessed) version of Wikipedia dump.  "
   ]
  },
  {
   "cell_type": "code",
   "execution_count": 2,
   "metadata": {},
   "outputs": [
    {
     "name": "stdout",
     "output_type": "stream",
     "text": [
      "--2020-09-30 14:23:14--  http://mattmahoney.net/dc/text8.zip\n",
      "Resolving mattmahoney.net (mattmahoney.net)... 67.195.197.24\n",
      "Connecting to mattmahoney.net (mattmahoney.net)|67.195.197.24|:80... connected.\n",
      "HTTP request sent, awaiting response... 200 OK\n",
      "Length: 31344016 (30M) [application/zip]\n",
      "Saving to: ‘text8.gz’\n",
      "\n",
      "text8.gz            100%[===================>]  29.89M  3.61MB/s    in 8.3s    \n",
      "\n",
      "2020-09-30 14:23:22 (3.59 MB/s) - ‘text8.gz’ saved [31344016/31344016]\n",
      "\n"
     ]
    }
   ],
   "source": [
    "!wget http://mattmahoney.net/dc/text8.zip -O text8.gz"
   ]
  },
  {
   "cell_type": "code",
   "execution_count": 3,
   "metadata": {},
   "outputs": [],
   "source": [
    "# Uncompressing\n",
    "!gzip -d text8.gz -f"
   ]
  },
  {
   "cell_type": "markdown",
   "metadata": {},
   "source": [
    "After the data downloading and uncompressing is complete, we need to upload it to S3 so that it can be consumed by SageMaker to execute training jobs. We'll use Python SDK to upload these two files to the bucket and prefix location that we have set above."
   ]
  },
  {
   "cell_type": "code",
   "execution_count": 4,
   "metadata": {},
   "outputs": [],
   "source": [
    "train_channel = prefix + '/train'\n",
    "\n",
    "sess.upload_data(path='text8', bucket=bucket, key_prefix=train_channel)\n",
    "\n",
    "s3_train_data = 's3://{}/{}'.format(bucket, train_channel)"
   ]
  },
  {
   "cell_type": "markdown",
   "metadata": {},
   "source": [
    "Next we need to setup an output location at S3, where the model artifact will be dumped. These artifacts are also the output of the algorithm's training job."
   ]
  },
  {
   "cell_type": "code",
   "execution_count": 5,
   "metadata": {},
   "outputs": [],
   "source": [
    "s3_output_location = 's3://{}/{}/output'.format(bucket, prefix)"
   ]
  },
  {
   "cell_type": "markdown",
   "metadata": {},
   "source": [
    "## Training Setup\n",
    "Now that we are done with all the setup that is needed, we are ready to train our object detector. To begin, let us create a ``sageMaker.estimator.Estimator`` object. This estimator will launch the training job."
   ]
  },
  {
   "cell_type": "code",
   "execution_count": 6,
   "metadata": {},
   "outputs": [],
   "source": [
    "region_name = boto3.Session().region_name"
   ]
  },
  {
   "cell_type": "code",
   "execution_count": 7,
   "metadata": {},
   "outputs": [
    {
     "name": "stderr",
     "output_type": "stream",
     "text": [
      "'get_image_uri' method will be deprecated in favor of 'ImageURIProvider' class in SageMaker Python SDK v2.\n"
     ]
    },
    {
     "name": "stdout",
     "output_type": "stream",
     "text": [
      "Using SageMaker BlazingText container: 811284229777.dkr.ecr.us-east-1.amazonaws.com/blazingtext:latest (us-east-1)\n"
     ]
    }
   ],
   "source": [
    "container = sagemaker.amazon.amazon_estimator.get_image_uri(region_name, \"blazingtext\", \"latest\")\n",
    "print('Using SageMaker BlazingText container: {} ({})'.format(container, region_name))"
   ]
  },
  {
   "cell_type": "markdown",
   "metadata": {},
   "source": [
    "## Training the BlazingText model for generating word vectors"
   ]
  },
  {
   "cell_type": "markdown",
   "metadata": {},
   "source": [
    "Similar to the original implementation of [Word2Vec](https://arxiv.org/pdf/1301.3781.pdf), SageMaker BlazingText provides an efficient implementation of the continuous bag-of-words (CBOW) and skip-gram architectures using Negative Sampling, on CPUs and additionally on GPU[s]. The GPU implementation uses highly optimized CUDA kernels. To learn more, please refer to [*BlazingText: Scaling and Accelerating Word2Vec using Multiple GPUs*](https://dl.acm.org/citation.cfm?doid=3146347.3146354).\n",
    "\n",
    "\n"
   ]
  },
  {
   "cell_type": "markdown",
   "metadata": {},
   "source": [
    "Besides skip-gram and CBOW, SageMaker BlazingText also supports the \"Batch Skipgram\" mode, which uses efficient mini-batching and matrix-matrix operations ([BLAS Level 3 routines](https://software.intel.com/en-us/mkl-developer-reference-fortran-blas-level-3-routines)). This mode enables distributed word2vec training across multiple CPU nodes, allowing almost linear scale up of word2vec computation to process hundreds of millions of words per second. Please refer to [*Parallelizing Word2Vec in Shared and Distributed Memory*](https://arxiv.org/pdf/1604.04661.pdf) to learn more."
   ]
  },
  {
   "cell_type": "markdown",
   "metadata": {},
   "source": [
    "BlazingText also supports a *supervised* mode for text classification. It extends the FastText text classifier to leverage GPU acceleration using custom CUDA kernels. The model can be trained on more than a billion words in a couple of minutes using a multi-core CPU or a GPU, while achieving performance on par with the state-of-the-art deep learning text classification algorithms. For more information, please refer to [algorithm documentation](https://docs.aws.amazon.com/sagemaker/latest/dg/blazingtext.html) or [the text classification notebook](https://github.com/awslabs/amazon-sagemaker-examples/blob/master/introduction_to_amazon_algorithms/blazingtext_text_classification_dbpedia/blazingtext_text_classification_dbpedia.ipynb)."
   ]
  },
  {
   "cell_type": "markdown",
   "metadata": {},
   "source": [
    "To summarize, the following modes are supported by BlazingText on different types instances:\n",
    "\n",
    "|          Modes         \t| cbow (supports subwords training) \t| skipgram (supports subwords training) \t| batch_skipgram \t| supervised |\n",
    "|:----------------------:\t|:----:\t|:--------:\t|:--------------:\t| :--------------:\t|\n",
    "|   Single CPU instance  \t|   ✔  \t|     ✔    \t|        ✔       \t|  ✔  |\n",
    "|   Single GPU instance  \t|   ✔  \t|     ✔    \t|                \t|  ✔ (Instance with 1 GPU only)  |\n",
    "| Multiple CPU instances \t|      \t|          \t|        ✔       \t|     | |\n",
    "\n",
    "Now, let's define the resource configuration and hyperparameters to train word vectors on *text8* dataset, using \"skipgram\" mode on a `c4.2xlarge` instance.\n"
   ]
  },
  {
   "cell_type": "code",
   "execution_count": 8,
   "metadata": {},
   "outputs": [
    {
     "name": "stderr",
     "output_type": "stream",
     "text": [
      "Parameter image_name will be renamed to image_uri in SageMaker Python SDK v2.\n"
     ]
    }
   ],
   "source": [
    "bt_model = sagemaker.estimator.Estimator(container,\n",
    "                                         role, \n",
    "                                         train_instance_count=1, \n",
    "                                         train_instance_type='ml.c4.2xlarge', # Use of ml.p3.2xlarge is highly recommended for highest speed and cost efficiency\n",
    "                                         train_volume_size = 30,\n",
    "                                         train_max_run = 360000,\n",
    "                                         input_mode= 'File',\n",
    "                                         output_path=s3_output_location,\n",
    "                                         sagemaker_session=sess)"
   ]
  },
  {
   "cell_type": "markdown",
   "metadata": {},
   "source": [
    "Please refer to [algorithm documentation](https://docs.aws.amazon.com/sagemaker/latest/dg/blazingtext_hyperparameters.html) for the complete list of hyperparameters."
   ]
  },
  {
   "cell_type": "code",
   "execution_count": 9,
   "metadata": {},
   "outputs": [],
   "source": [
    "bt_model.set_hyperparameters(mode=\"skipgram\",\n",
    "                             epochs=5,\n",
    "                             min_count=5,\n",
    "                             sampling_threshold=0.0001,\n",
    "                             learning_rate=0.05,\n",
    "                             window_size=5,\n",
    "                             vector_dim=100,\n",
    "                             negative_samples=5,\n",
    "                             subwords=True, # Enables learning of subword embeddings for OOV word vector generation\n",
    "                             min_char=3, # min length of char ngrams\n",
    "                             max_char=6, # max length of char ngrams\n",
    "                             batch_size=11, #  = (2*window_size + 1) (Preferred. Used only if mode is batch_skipgram)\n",
    "                             evaluation=True)# Perform similarity evaluation on WS-353 dataset at the end of training"
   ]
  },
  {
   "cell_type": "markdown",
   "metadata": {},
   "source": [
    "Now that the hyper-parameters are setup, let us prepare the handshake between our data channels and the algorithm. To do this, we need to create the `sagemaker.session.s3_input` objects from our data channels. These objects are then put in a simple dictionary, which the algorithm consumes."
   ]
  },
  {
   "cell_type": "code",
   "execution_count": 10,
   "metadata": {},
   "outputs": [
    {
     "name": "stderr",
     "output_type": "stream",
     "text": [
      "'s3_input' class will be renamed to 'TrainingInput' in SageMaker Python SDK v2.\n"
     ]
    }
   ],
   "source": [
    "train_data = sagemaker.session.s3_input(s3_train_data, distribution='FullyReplicated', \n",
    "                        content_type='text/plain', s3_data_type='S3Prefix')\n",
    "data_channels = {'train': train_data}"
   ]
  },
  {
   "cell_type": "markdown",
   "metadata": {},
   "source": [
    "We have our `Estimator` object, we have set the hyper-parameters for this object and we have our data channels linked with the algorithm. The only  remaining thing to do is to train the algorithm. The following command will train the algorithm. Training the algorithm involves a few steps. Firstly, the instance that we requested while creating the `Estimator` classes is provisioned and is setup with the appropriate libraries. Then, the data from our channels are downloaded into the instance. Once this is done, the training job begins. The provisioning and data downloading will take some time, depending on the size of the data. Therefore it might be a few minutes before we start getting training logs for our training jobs. The data logs will also print out `Spearman's Rho` on some pre-selected validation datasets after the training job has executed. This metric is a proxy for the quality of the algorithm. \n",
    "\n",
    "Once the job has finished a \"Job complete\" message will be printed. The trained model can be found in the S3 bucket that was setup as `output_path` in the estimator."
   ]
  },
  {
   "cell_type": "code",
   "execution_count": 11,
   "metadata": {},
   "outputs": [
    {
     "name": "stdout",
     "output_type": "stream",
     "text": [
      "2020-09-30 14:24:07 Starting - Starting the training job...\n",
      "2020-09-30 14:24:09 Starting - Launching requested ML instances......\n",
      "2020-09-30 14:25:16 Starting - Preparing the instances for training...\n",
      "2020-09-30 14:26:02 Downloading - Downloading input data...\n",
      "2020-09-30 14:26:34 Training - Training image download completed. Training in progress......\u001b[34mArguments: train\u001b[0m\n",
      "\u001b[34m[09/30/2020 14:26:35 WARNING 140173953075008] Loggers have already been setup.\u001b[0m\n",
      "\u001b[34m[09/30/2020 14:26:35 WARNING 140173953075008] Loggers have already been setup.\u001b[0m\n",
      "\u001b[34m[09/30/2020 14:26:35 INFO 140173953075008] nvidia-smi took: 0.0251259803772 secs to identify 0 gpus\u001b[0m\n",
      "\u001b[34m[09/30/2020 14:26:35 INFO 140173953075008] Running single machine CPU BlazingText training using skipgram mode.\u001b[0m\n",
      "\u001b[34m[09/30/2020 14:26:35 INFO 140173953075008] Processing /opt/ml/input/data/train/text8 . File size: 95 MB\u001b[0m\n",
      "\u001b[34mRead 10M words\u001b[0m\n",
      "\u001b[34mRead 17M words\u001b[0m\n",
      "\u001b[34mNumber of words:  71290\u001b[0m\n",
      "\u001b[34m##### Alpha: 0.0490  Progress: 2.06%  Million Words/sec: 0.44 #####\u001b[0m\n",
      "\u001b[34m##### Alpha: 0.0464  Progress: 7.10%  Million Words/sec: 0.54 #####\u001b[0m\n",
      "\u001b[34m##### Alpha: 0.0439  Progress: 12.15%  Million Words/sec: 0.57 #####\u001b[0m\n",
      "\u001b[34m##### Alpha: 0.0414  Progress: 17.20%  Million Words/sec: 0.58 #####\u001b[0m\n",
      "\u001b[34m##### Alpha: 0.0389  Progress: 22.25%  Million Words/sec: 0.58 #####\u001b[0m\n",
      "\u001b[34m##### Alpha: 0.0363  Progress: 27.31%  Million Words/sec: 0.58 #####\u001b[0m\n",
      "\u001b[34m##### Alpha: 0.0338  Progress: 32.36%  Million Words/sec: 0.59 #####\u001b[0m\n",
      "\u001b[34m##### Alpha: 0.0313  Progress: 37.43%  Million Words/sec: 0.59 #####\u001b[0m\n",
      "\u001b[34m##### Alpha: 0.0288  Progress: 42.48%  Million Words/sec: 0.59 #####\u001b[0m\n",
      "\u001b[34m##### Alpha: 0.0262  Progress: 47.52%  Million Words/sec: 0.59 #####\u001b[0m\n",
      "\u001b[34m##### Alpha: 0.0237  Progress: 52.57%  Million Words/sec: 0.59 #####\u001b[0m\n",
      "\u001b[34m##### Alpha: 0.0212  Progress: 57.61%  Million Words/sec: 0.59 #####\u001b[0m\n",
      "\u001b[34m##### Alpha: 0.0187  Progress: 62.66%  Million Words/sec: 0.59 #####\u001b[0m\n",
      "\u001b[34m##### Alpha: 0.0161  Progress: 67.73%  Million Words/sec: 0.59 #####\u001b[0m\n",
      "\u001b[34m##### Alpha: 0.0136  Progress: 72.76%  Million Words/sec: 0.60 #####\u001b[0m\n",
      "\u001b[34m##### Alpha: 0.0111  Progress: 77.77%  Million Words/sec: 0.60 #####\u001b[0m\n",
      "\u001b[34m##### Alpha: 0.0086  Progress: 82.80%  Million Words/sec: 0.60 #####\u001b[0m\n",
      "\u001b[34m##### Alpha: 0.0061  Progress: 87.83%  Million Words/sec: 0.60 #####\u001b[0m\n",
      "\u001b[34m##### Alpha: 0.0036  Progress: 92.88%  Million Words/sec: 0.60 #####\u001b[0m\n",
      "\u001b[34m##### Alpha: 0.0011  Progress: 97.89%  Million Words/sec: 0.60 #####\u001b[0m\n",
      "\u001b[34m##### Alpha: 0.0000  Progress: 100.00%  Million Words/sec: 0.60 #####\u001b[0m\n",
      "\u001b[34mTraining finished.\u001b[0m\n",
      "\u001b[34mAverage throughput in Million words/sec: 0.60\u001b[0m\n",
      "\u001b[34mTotal training time in seconds: 142.54\u001b[0m\n",
      "\u001b[34mEvaluating word embeddings....\u001b[0m\n",
      "\u001b[34mVectors read from: /opt/ml/model/vectors.txt \u001b[0m\n",
      "\u001b[34m{\n",
      "    \"EN-WS-353-ALL.txt\": {\n",
      "        \"not_found\": 2, \n",
      "        \"spearmans_rho\": 0.6445160933709199, \n",
      "        \"total_pairs\": 353\n",
      "    }, \n",
      "    \"EN-WS-353-REL.txt\": {\n",
      "        \"not_found\": 1, \n",
      "        \"spearmans_rho\": 0.6293499856712742, \n",
      "        \"total_pairs\": 252\n",
      "    }, \n",
      "    \"EN-WS-353-SIM.txt\": {\n",
      "        \"not_found\": 1, \n",
      "        \"spearmans_rho\": 0.6792690872508951, \n",
      "        \"total_pairs\": 203\n",
      "    }, \n",
      "    \"mean_rho\": 0.6510450554310298\u001b[0m\n",
      "\u001b[34m}\u001b[0m\n",
      "\u001b[34m[09/30/2020 14:29:14 INFO 140173953075008] #mean_rho: 0.6510450554310298\u001b[0m\n",
      "\n",
      "2020-09-30 14:29:17 Uploading - Uploading generated training model\n",
      "2020-09-30 14:31:19 Completed - Training job completed\n",
      "Training seconds: 317\n",
      "Billable seconds: 317\n"
     ]
    }
   ],
   "source": [
    "bt_model.fit(inputs=data_channels, logs=True)"
   ]
  },
  {
   "cell_type": "markdown",
   "metadata": {},
   "source": [
    "## Hosting / Inference\n",
    "Once the training is done, we can deploy the trained model as an Amazon SageMaker real-time hosted endpoint. This will allow us to make predictions (or inference) from the model. Note that we don't have to host on the same type of instance that we used to train. Because instance endpoints will be up and running for long, it's advisable to choose a cheaper instance for inference."
   ]
  },
  {
   "cell_type": "code",
   "execution_count": 12,
   "metadata": {},
   "outputs": [
    {
     "name": "stderr",
     "output_type": "stream",
     "text": [
      "Parameter image will be renamed to image_uri in SageMaker Python SDK v2.\n"
     ]
    },
    {
     "name": "stdout",
     "output_type": "stream",
     "text": [
      "-------------!"
     ]
    }
   ],
   "source": [
    "bt_endpoint = bt_model.deploy(initial_instance_count = 1,instance_type = 'ml.m4.xlarge')"
   ]
  },
  {
   "cell_type": "markdown",
   "metadata": {},
   "source": [
    "### Getting vector representations for words [including out-of-vocabulary (OOV) words]"
   ]
  },
  {
   "cell_type": "markdown",
   "metadata": {},
   "source": [
    "Since, we trained with **```subwords = \"True\"```**, we can get vector representations for any word - including misspelled words or words which were not there in the training dataset.  \n",
    "If we train without the subwords flag, the training will be much faster but the model won't be able to generate vectors for OOV words. Instead, it will return a vector of zeros for such words."
   ]
  },
  {
   "cell_type": "markdown",
   "metadata": {},
   "source": [
    "#### Use JSON format for inference\n",
    "The payload should contain a list of words with the key as \"**instances**\". BlazingText supports content-type `application/json`."
   ]
  },
  {
   "cell_type": "code",
   "execution_count": 13,
   "metadata": {},
   "outputs": [
    {
     "name": "stdout",
     "output_type": "stream",
     "text": [
      "[{'vector': [-0.22420035302639008, 0.09213653951883316, 0.07770028710365295, -0.1143026351928711, -0.28169047832489014, 0.2916249632835388, -0.07626926898956299, -0.12055645883083344, 0.18164372444152832, -0.18193380534648895, -0.31177955865859985, -0.10832273960113525, 0.14632312953472137, 0.18270665407180786, -0.1030908077955246, -0.2188309282064438, 0.02980758436024189, 0.14786529541015625, -0.17421185970306396, 0.3427400588989258, -0.2179042249917984, 0.007831420749425888, 0.18032045662403107, -0.044718340039253235, 0.11817655712366104, 0.24005015194416046, 0.35110363364219666, 0.5863310694694519, 0.16916900873184204, 0.4698981046676636, 0.4083550274372101, 0.02285112254321575, -0.13026979565620422, -0.01981176994740963, -0.21136006712913513, -0.38675031065940857, 0.1125333234667778, 0.10911744832992554, -0.026836559176445007, -0.18112614750862122, -0.2090863436460495, 0.10104066878557205, 0.02540677599608898, 0.14673872292041779, -0.09167592227458954, -0.21603542566299438, -0.24300700426101685, 0.33841174840927124, -0.07961741834878922, 0.016238072887063026, -0.46011823415756226, 0.22155500948429108, 0.014223461970686913, -0.20619671046733856, 0.15694206953048706, -0.22653049230575562, -0.4956832528114319, -0.12817947566509247, 0.22816473245620728, 0.12524931132793427, 0.06238432228565216, -0.016385262832045555, -0.23322826623916626, 0.029851872473955154, 0.28988656401634216, 0.24259153008460999, 0.542848527431488, 0.03904116898775101, -0.21946413815021515, -0.267643541097641, -0.3280373215675354, 0.12133486568927765, -0.06316809356212616, -0.45126983523368835, 0.16201263666152954, 0.031031906604766846, 0.3590070605278015, 0.035943977534770966, -0.0873948186635971, -0.2327035665512085, -0.16965854167938232, -0.35699427127838135, 0.4190165102481842, 0.31498000025749207, 0.012284812517464161, -0.11308886110782623, 0.01520880963653326, 0.09708186239004135, -0.3046611249446869, -0.24152523279190063, 0.4848408102989197, -0.36389976739883423, -0.17706185579299927, 0.3445006012916565, -0.14885635673999786, -0.30253279209136963, -0.37157097458839417, 0.14411619305610657, 0.143024280667305, 0.2184876799583435], 'word': 'awesome'}, {'vector': [-0.17072755098342896, 0.08224686235189438, -0.0023830849677324295, 0.09403440356254578, -0.23513810336589813, 0.28928735852241516, -0.05819584056735039, 0.013417541980743408, 0.05492844805121422, -0.11826306581497192, -0.24663855135440826, -0.07778327167034149, 0.023538269102573395, 0.06149965897202492, 0.10428999364376068, -0.11509086191654205, -0.0005827186978422105, 0.05510060489177704, -0.03628142178058624, 0.21021521091461182, -0.036645982414484024, 0.2117002308368683, 0.16097226738929749, -0.02105763368308544, 0.11425510048866272, 0.1357896476984024, 0.09625864773988724, 0.3086841404438019, 0.0878271535038948, 0.29449689388275146, 0.3829220235347748, -0.16845162212848663, -0.18607550859451294, 0.13785476982593536, -0.04440588131546974, -0.10120029002428055, 0.012005571275949478, 0.11268876492977142, -0.006906774360686541, -0.0007219792460091412, -0.07515233010053635, -0.1381632387638092, 0.11327150464057922, 0.12767945230007172, -0.1311681717634201, -0.04819732531905174, -0.173404723405838, 0.12512584030628204, -0.09419213235378265, -0.051027391105890274, -0.3001640737056732, 0.11197666823863983, 0.10999321937561035, -0.1269703358411789, 0.02807408943772316, -0.18732990324497223, -0.291642963886261, -0.07167314738035202, 0.06477128714323044, 0.04018096998333931, 0.10381080955266953, 0.06390595436096191, -0.24760223925113678, -0.007721666246652603, 0.19537872076034546, 0.20004339516162872, 0.23979049921035767, -0.09201961010694504, -0.006855165120214224, -0.15667752921581268, -0.26706716418266296, 0.169711172580719, 0.048893239349126816, -0.22869175672531128, -0.05429195612668991, -0.04823828488588333, 0.2103753685951233, 0.04802436754107475, 0.16370628774166107, -0.1663786917924881, -0.048494551330804825, -0.25751927495002747, 0.2044123113155365, 0.24709488451480865, 0.035623978823423386, -0.19144095480442047, 0.047005798667669296, 0.06314796209335327, -0.12267006188631058, -0.07385139167308807, 0.415136456489563, -0.22019633650779724, -0.06795006990432739, 0.11263535171747208, -0.007729982491582632, -0.1585053950548172, -0.22079505026340485, 0.04783647134900093, -0.007516412064433098, 0.2918686866760254], 'word': 'awweeesome'}]\n"
     ]
    }
   ],
   "source": [
    "words = [\"awesome\", \"awweeesome\"]\n",
    "\n",
    "payload = {\"instances\" : words}\n",
    "\n",
    "response = bt_endpoint.predict(json.dumps(payload))\n",
    "\n",
    "vecs = json.loads(response)\n",
    "print(vecs)"
   ]
  },
  {
   "cell_type": "markdown",
   "metadata": {},
   "source": [
    "As expected, we get an n-dimensional vector (where n is vector_dim as specified in hyperparameters) for each of the words."
   ]
  },
  {
   "cell_type": "markdown",
   "metadata": {},
   "source": [
    "### Evaluation"
   ]
  },
  {
   "cell_type": "markdown",
   "metadata": {},
   "source": [
    "We can evaluate the quality of these representations on the task of word similarity / relatedness. We do so by computing Spearman’s rank correlation coefficient (Spearman, 1904) between human judgement and the cosine similarity between the vector representations.  For English, we can use the [rare word dataset (RW)](https://nlp.stanford.edu/~lmthang/morphoNLM/), introduced by Luong et al. (2013)."
   ]
  },
  {
   "cell_type": "code",
   "execution_count": 14,
   "metadata": {},
   "outputs": [
    {
     "name": "stdout",
     "output_type": "stream",
     "text": [
      "--2020-09-30 14:58:43--  http://www-nlp.stanford.edu/~lmthang/morphoNLM/rw.zip\n",
      "Resolving www-nlp.stanford.edu (www-nlp.stanford.edu)... 171.64.67.140\n",
      "Connecting to www-nlp.stanford.edu (www-nlp.stanford.edu)|171.64.67.140|:80... connected.\n",
      "HTTP request sent, awaiting response... 302 Found\n",
      "Location: https://nlp.stanford.edu/~lmthang/morphoNLM/rw.zip [following]\n",
      "--2020-09-30 14:58:43--  https://nlp.stanford.edu/~lmthang/morphoNLM/rw.zip\n",
      "Resolving nlp.stanford.edu (nlp.stanford.edu)... 171.64.67.140\n",
      "Connecting to nlp.stanford.edu (nlp.stanford.edu)|171.64.67.140|:443... connected.\n",
      "HTTP request sent, awaiting response... 200 OK\n",
      "Length: 36102 (35K) [application/zip]\n",
      "Saving to: ‘rw.zip’\n",
      "\n",
      "rw.zip              100%[===================>]  35.26K  --.-KB/s    in 0.1s    \n",
      "\n",
      "2020-09-30 14:58:44 (270 KB/s) - ‘rw.zip’ saved [36102/36102]\n",
      "\n",
      "Archive:  rw.zip\n",
      "   creating: rw/\n",
      "  inflating: rw/README.txt           \n",
      "  inflating: rw/rw.txt               \n"
     ]
    }
   ],
   "source": [
    "!wget http://www-nlp.stanford.edu/~lmthang/morphoNLM/rw.zip\n",
    "!unzip \"rw.zip\"\n",
    "!cut -f 1,2 rw/rw.txt | awk '{print tolower($0)}' | tr '\\t' '\\n' > query_words.txt"
   ]
  },
  {
   "cell_type": "markdown",
   "metadata": {},
   "source": [
    "The above command downloads the RW dataset and dumps all the words for which we need vectors in query_words.txt. Let's read this file and hit the endpoint to get the vectors in batches of 500 words [to respect the 5MB limit of SageMaker hosting.](https://docs.aws.amazon.com/sagemaker/latest/dg/API_runtime_InvokeEndpoint.html#API_runtime_InvokeEndpoint_RequestSyntax)"
   ]
  },
  {
   "cell_type": "code",
   "execution_count": 15,
   "metadata": {},
   "outputs": [],
   "source": [
    "query_words = []\n",
    "with open(\"query_words.txt\") as f:\n",
    "    for line in f.readlines():\n",
    "        query_words.append(line.strip())"
   ]
  },
  {
   "cell_type": "code",
   "execution_count": 16,
   "metadata": {},
   "outputs": [],
   "source": [
    "query_words = list(set(query_words))\n",
    "total_words = len(query_words)\n",
    "vectors = {}"
   ]
  },
  {
   "cell_type": "code",
   "execution_count": 17,
   "metadata": {},
   "outputs": [],
   "source": [
    "import numpy as np\n",
    "import math\n",
    "from scipy import stats\n",
    "\n",
    "batch_size = 500\n",
    "batch_start = 0\n",
    "batch_end = batch_start + batch_size\n",
    "while len(vectors) != total_words:\n",
    "    batch_end = min(batch_end, total_words)\n",
    "    subset_words = query_words[batch_start:batch_end]\n",
    "    payload = {\"instances\" : subset_words}\n",
    "    response = bt_endpoint.predict(json.dumps(payload))\n",
    "    vecs = json.loads(response)\n",
    "    for i in vecs:\n",
    "        arr = np.array(i[\"vector\"], dtype=float)\n",
    "        if np.linalg.norm(arr) == 0:\n",
    "            continue\n",
    "        vectors[i[\"word\"]] = arr\n",
    "    batch_start += batch_size\n",
    "    batch_end += batch_size"
   ]
  },
  {
   "cell_type": "markdown",
   "metadata": {},
   "source": [
    "Now that we have gotten all the vectors, we can compute the Spearman’s rank correlation coefficient between human judgement and the cosine similarity between the vector representations."
   ]
  },
  {
   "cell_type": "code",
   "execution_count": 18,
   "metadata": {},
   "outputs": [
    {
     "name": "stdout",
     "output_type": "stream",
     "text": [
      "Correlation: 39.86901102635609, Dropped words: 0%\n"
     ]
    }
   ],
   "source": [
    "mysim = []\n",
    "gold = []\n",
    "dropped = 0\n",
    "nwords = 0\n",
    "\n",
    "def similarity(v1, v2):\n",
    "    n1 = np.linalg.norm(v1)\n",
    "    n2 = np.linalg.norm(v2)\n",
    "    return np.dot(v1, v2) / n1 / n2\n",
    "\n",
    "fin = open(\"rw/rw.txt\", 'rb')\n",
    "for line in fin:\n",
    "    tline = line.decode('utf8').split()\n",
    "    word1 = tline[0].lower()\n",
    "    word2 = tline[1].lower()\n",
    "    nwords += 1\n",
    "\n",
    "    if (word1 in vectors) and (word2 in vectors):\n",
    "        v1 = vectors[word1]\n",
    "        v2 = vectors[word2]\n",
    "        d = similarity(v1, v2)\n",
    "        mysim.append(d)\n",
    "        gold.append(float(tline[2]))\n",
    "    else:\n",
    "        dropped += 1\n",
    "fin.close()\n",
    "\n",
    "corr = stats.spearmanr(mysim, gold)\n",
    "print(\"Correlation: %s, Dropped words: %s%%\" % (corr[0] * 100, math.ceil(dropped / nwords * 100.0)))\n"
   ]
  },
  {
   "cell_type": "markdown",
   "metadata": {
    "collapsed": true
   },
   "source": [
    "We can expect a Correlation coefficient of ~40, which is pretty good for a small training dataset like text8. For more details, please refer to [Enriching Word Vectors with Subword Information](https://arxiv.org/pdf/1607.04606.pdf)"
   ]
  },
  {
   "cell_type": "markdown",
   "metadata": {},
   "source": [
    "### Stop / Close the Endpoint (Optional)\n",
    "Finally, we should delete the endpoint before we close the notebook."
   ]
  },
  {
   "cell_type": "code",
   "execution_count": 19,
   "metadata": {},
   "outputs": [],
   "source": [
    "sess.delete_endpoint(bt_endpoint.endpoint)"
   ]
  },
  {
   "cell_type": "code",
   "execution_count": null,
   "metadata": {
    "collapsed": true
   },
   "outputs": [],
   "source": []
  }
 ],
 "metadata": {
  "kernelspec": {
   "display_name": "conda_python3",
   "language": "python",
   "name": "conda_python3"
  },
  "language_info": {
   "codemirror_mode": {
    "name": "ipython",
    "version": 3
   },
   "file_extension": ".py",
   "mimetype": "text/x-python",
   "name": "python",
   "nbconvert_exporter": "python",
   "pygments_lexer": "ipython3",
   "version": "3.6.10"
  },
  "notice": "Copyright 2018 Amazon.com, Inc. or its affiliates. All Rights Reserved.  Licensed under the Apache License, Version 2.0 (the \"License\"). You may not use this file except in compliance with the License. A copy of the License is located at http://aws.amazon.com/apache2.0/ or in the \"license\" file accompanying this file. This file is distributed on an \"AS IS\" BASIS, WITHOUT WARRANTIES OR CONDITIONS OF ANY KIND, either express or implied. See the License for the specific language governing permissions and limitations under the License."
 },
 "nbformat": 4,
 "nbformat_minor": 2
}
