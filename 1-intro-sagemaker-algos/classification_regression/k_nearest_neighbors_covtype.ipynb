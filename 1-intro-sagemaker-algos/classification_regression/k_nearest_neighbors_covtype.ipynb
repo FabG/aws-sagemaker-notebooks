{
 "cells": [
  {
   "cell_type": "markdown",
   "metadata": {},
   "source": [
    "# Introduction\n",
    "\n",
    "k-Nearest-Neighbors (kNN) is a simple technique for classification. The idea behind\n",
    "it is that similar data points should have the same class, at least most of the time.\n",
    "This method is very intuitive and has proven itself in many domains including\n",
    "recommendation systems, anomaly detection, image/text classification and more.\n",
    "\n",
    "In what follows we present a detailed example of a multi-class classification objective. The dataset we use contains information collected by the US Geological Survey and the US Forest Service about wilderness areas in northern Colorado. The features are measurements like soil type, elevation, and distance to water, and the labels encode the type of trees - the forest cover type - for each location. The machine learning task is to predict the cover type in a given location using the features. Overall there are seven cover types.\n",
    "\n",
    "The notebook has two sections. In the first, we use Amazon SageMaker's python SDK in order to train a kNN classifier in its simplest setting. We explain the components common to all Amazon SageMaker's algorithms including uploading data to Amazon S3, training a model, and setting up an endpoint for online inference. In the second section we dive deeper into the details of Amazon SageMaker kNN. We explain the different knobs (hyper-parameters) associated with it, and demonstrate how each setting can lead to a somewhat different accuracy and latency at inference time.\n"
   ]
  },
  {
   "cell_type": "markdown",
   "metadata": {
    "collapsed": true
   },
   "source": [
    "# Part 1: Running kNN in 5 minutes\n",
    "\n",
    "## Dataset\n",
    "\n",
    "We're about to work with the UCI Machine Learning Repository Covertype  dataset  ([covtype](https://archive.ics.uci.edu/ml/datasets/covertype)) (copyright Jock A. Blackard and Colorado State University). It's a labeled dataset where each entry describes a geographic area, and the label is a type of forest cover. There are 7 possible labels and we aim to solve the mult-class classification problem using kNN.\n",
    "We begin by downloading the dataset and moving it to a temporary folder."
   ]
  },
  {
   "cell_type": "code",
   "execution_count": 1,
   "metadata": {
    "scrolled": true
   },
   "outputs": [
    {
     "name": "stderr",
     "output_type": "stream",
     "text": [
      "--2020-10-05 11:42:47--  https://archive.ics.uci.edu/ml/machine-learning-databases/covtype/covtype.data.gz\n",
      "Resolving archive.ics.uci.edu (archive.ics.uci.edu)... 128.195.10.252\n",
      "Connecting to archive.ics.uci.edu (archive.ics.uci.edu)|128.195.10.252|:443... connected.\n",
      "HTTP request sent, awaiting response... 200 OK\n",
      "Length: 11240707 (11M) [application/x-httpd-php]\n",
      "Saving to: ‘covtype.data.gz’\n",
      "\n",
      "     0K .......... .......... .......... .......... ..........  0%  384K 28s\n",
      "    50K .......... .......... .......... .......... ..........  0%  793K 21s\n",
      "   100K .......... .......... .......... .......... ..........  1% 41.4M 14s\n",
      "   150K .......... .......... .......... .......... ..........  1%  808K 14s\n",
      "   200K .......... .......... .......... .......... ..........  2% 46.2M 11s\n",
      "   250K .......... .......... .......... .......... ..........  2% 80.9M 9s\n",
      "   300K .......... .......... .......... .......... ..........  3% 57.0M 8s\n",
      "   350K .......... .......... .......... .......... ..........  3% 1.30M 8s\n",
      "   400K .......... .......... .......... .......... ..........  4% 2.04M 7s\n",
      "   450K .......... .......... .......... .......... ..........  4% 82.3M 7s\n",
      "   500K .......... .......... .......... .......... ..........  5% 70.3M 6s\n",
      "   550K .......... .......... .......... .......... ..........  5% 70.6M 6s\n",
      "   600K .......... .......... .......... .......... ..........  5% 72.9M 5s\n",
      "   650K .......... .......... .......... .......... ..........  6% 45.0M 5s\n",
      "   700K .......... .......... .......... .......... ..........  6% 77.0M 4s\n",
      "   750K .......... .......... .......... .......... ..........  7% 58.5M 4s\n",
      "   800K .......... .......... .......... .......... ..........  7%  868K 5s\n",
      "   850K .......... .......... .......... .......... ..........  8% 44.0M 4s\n",
      "   900K .......... .......... .......... .......... ..........  8% 51.3M 4s\n",
      "   950K .......... .......... .......... .......... ..........  9% 54.8M 4s\n",
      "  1000K .......... .......... .......... .......... ..........  9% 49.8M 4s\n",
      "  1050K .......... .......... .......... .......... .......... 10% 51.8M 3s\n",
      "  1100K .......... .......... .......... .......... .......... 10% 39.0M 3s\n",
      "  1150K .......... .......... .......... .......... .......... 10% 63.6M 3s\n",
      "  1200K .......... .......... .......... .......... .......... 11% 53.3M 3s\n",
      "  1250K .......... .......... .......... .......... .......... 11% 61.0M 3s\n",
      "  1300K .......... .......... .......... .......... .......... 12% 46.6M 3s\n",
      "  1350K .......... .......... .......... .......... .......... 12% 71.6M 3s\n",
      "  1400K .......... .......... .......... .......... .......... 13% 61.9M 3s\n",
      "  1450K .......... .......... .......... .......... .......... 13% 74.7M 2s\n",
      "  1500K .......... .......... .......... .......... .......... 14% 70.0M 2s\n",
      "  1550K .......... .......... .......... .......... .......... 14% 58.5M 2s\n",
      "  1600K .......... .......... .......... .......... .......... 15% 1.70M 2s\n",
      "  1650K .......... .......... .......... .......... .......... 15% 2.27M 2s\n",
      "  1700K .......... .......... .......... .......... .......... 15% 58.3M 2s\n",
      "  1750K .......... .......... .......... .......... .......... 16% 31.7M 2s\n",
      "  1800K .......... .......... .......... .......... .......... 16% 60.1M 2s\n",
      "  1850K .......... .......... .......... .......... .......... 17% 52.5M 2s\n",
      "  1900K .......... .......... .......... .......... .......... 17% 56.4M 2s\n",
      "  1950K .......... .......... .......... .......... .......... 18% 18.3M 2s\n",
      "  2000K .......... .......... .......... .......... .......... 18% 23.9M 2s\n",
      "  2050K .......... .......... .......... .......... .......... 19% 78.1M 2s\n",
      "  2100K .......... .......... .......... .......... .......... 19% 57.0M 2s\n",
      "  2150K .......... .......... .......... .......... .......... 20% 78.1M 2s\n",
      "  2200K .......... .......... .......... .......... .......... 20% 57.8M 2s\n",
      "  2250K .......... .......... .......... .......... .......... 20% 75.5M 2s\n",
      "  2300K .......... .......... .......... .......... .......... 21% 74.0M 2s\n",
      "  2350K .......... .......... .......... .......... .......... 21% 74.9M 2s\n",
      "  2400K .......... .......... .......... .......... .......... 22% 58.0M 2s\n",
      "  2450K .......... .......... .......... .......... .......... 22% 78.7M 2s\n",
      "  2500K .......... .......... .......... .......... .......... 23% 76.3M 2s\n",
      "  2550K .......... .......... .......... .......... .......... 23% 71.3M 1s\n",
      "  2600K .......... .......... .......... .......... .......... 24% 78.0M 1s\n",
      "  2650K .......... .......... .......... .......... .......... 24% 56.3M 1s\n",
      "  2700K .......... .......... .......... .......... .......... 25% 81.4M 1s\n",
      "  2750K .......... .......... .......... .......... .......... 25% 74.0M 1s\n",
      "  2800K .......... .......... .......... .......... .......... 25% 72.9M 1s\n",
      "  2850K .......... .......... .......... .......... .......... 26% 55.7M 1s\n",
      "  2900K .......... .......... .......... .......... .......... 26% 74.2M 1s\n",
      "  2950K .......... .......... .......... .......... .......... 27% 66.9M 1s\n",
      "  3000K .......... .......... .......... .......... .......... 27% 60.3M 1s\n",
      "  3050K .......... .......... .......... .......... .......... 28% 65.0M 1s\n",
      "  3100K .......... .......... .......... .......... .......... 28% 3.28M 1s\n",
      "  3150K .......... .......... .......... .......... .......... 29% 2.06M 1s\n",
      "  3200K .......... .......... .......... .......... .......... 29% 33.0M 1s\n",
      "  3250K .......... .......... .......... .......... .......... 30% 61.6M 1s\n",
      "  3300K .......... .......... .......... .......... .......... 30% 34.1M 1s\n",
      "  3350K .......... .......... .......... .......... .......... 30% 44.1M 1s\n",
      "  3400K .......... .......... .......... .......... .......... 31% 57.2M 1s\n",
      "  3450K .......... .......... .......... .......... .......... 31% 21.9M 1s\n",
      "  3500K .......... .......... .......... .......... .......... 32% 24.6M 1s\n",
      "  3550K .......... .......... .......... .......... .......... 32% 56.9M 1s\n",
      "  3600K .......... .......... .......... .......... .......... 33% 46.9M 1s\n",
      "  3650K .......... .......... .......... .......... .......... 33% 55.4M 1s\n",
      "  3700K .......... .......... .......... .......... .......... 34% 44.3M 1s\n",
      "  3750K .......... .......... .......... .......... .......... 34% 50.7M 1s\n",
      "  3800K .......... .......... .......... .......... .......... 35% 72.0M 1s\n",
      "  3850K .......... .......... .......... .......... .......... 35% 61.9M 1s\n",
      "  3900K .......... .......... .......... .......... .......... 35% 70.1M 1s\n",
      "  3950K .......... .......... .......... .......... .......... 36% 57.8M 1s\n",
      "  4000K .......... .......... .......... .......... .......... 36% 78.2M 1s\n",
      "  4050K .......... .......... .......... .......... .......... 37% 80.1M 1s\n",
      "  4100K .......... .......... .......... .......... .......... 37% 70.3M 1s\n",
      "  4150K .......... .......... .......... .......... .......... 38% 71.5M 1s\n",
      "  4200K .......... .......... .......... .......... .......... 38% 81.7M 1s\n",
      "  4250K .......... .......... .......... .......... .......... 39% 61.2M 1s\n",
      "  4300K .......... .......... .......... .......... .......... 39% 68.8M 1s\n",
      "  4350K .......... .......... .......... .......... .......... 40% 69.3M 1s\n",
      "  4400K .......... .......... .......... .......... .......... 40% 75.4M 1s\n",
      "  4450K .......... .......... .......... .......... .......... 40% 42.4M 1s\n",
      "  4500K .......... .......... .......... .......... .......... 41% 78.6M 1s\n",
      "  4550K .......... .......... .......... .......... .......... 41% 76.7M 1s\n",
      "  4600K .......... .......... .......... .......... .......... 42% 3.43M 1s\n",
      "  4650K .......... .......... .......... .......... .......... 42% 27.8M 1s\n",
      "  4700K .......... .......... .......... .......... .......... 43% 2.19M 1s\n",
      "  4750K .......... .......... .......... .......... .......... 43% 28.9M 1s\n",
      "  4800K .......... .......... .......... .......... .......... 44% 49.5M 1s\n",
      "  4850K .......... .......... .......... .......... .......... 44% 34.9M 1s\n",
      "  4900K .......... .......... .......... .......... .......... 45% 41.7M 1s\n",
      "  4950K .......... .......... .......... .......... .......... 45% 55.5M 1s\n",
      "  5000K .......... .......... .......... .......... .......... 46% 28.0M 1s\n",
      "  5050K .......... .......... .......... .......... .......... 46% 27.7M 1s\n",
      "  5100K .......... .......... .......... .......... .......... 46% 35.0M 1s\n",
      "  5150K .......... .......... .......... .......... .......... 47% 40.1M 1s\n",
      "  5200K .......... .......... .......... .......... .......... 47% 57.7M 1s\n",
      "  5250K .......... .......... .......... .......... .......... 48% 48.3M 1s\n",
      "  5300K .......... .......... .......... .......... .......... 48% 54.3M 1s\n",
      "  5350K .......... .......... .......... .......... .......... 49% 45.5M 1s\n",
      "  5400K .......... .......... .......... .......... .......... 49% 60.3M 1s\n",
      "  5450K .......... .......... .......... .......... .......... 50% 69.6M 1s\n",
      "  5500K .......... .......... .......... .......... .......... 50% 63.3M 1s\n",
      "  5550K .......... .......... .......... .......... .......... 51% 59.0M 1s\n",
      "  5600K .......... .......... .......... .......... .......... 51% 78.1M 1s\n",
      "  5650K .......... .......... .......... .......... .......... 51% 76.6M 1s\n",
      "  5700K .......... .......... .......... .......... .......... 52% 51.7M 1s\n",
      "  5750K .......... .......... .......... .......... .......... 52% 54.2M 1s\n",
      "  5800K .......... .......... .......... .......... .......... 53% 40.6M 1s\n",
      "  5850K .......... .......... .......... .......... .......... 53% 47.4M 1s\n",
      "  5900K .......... .......... .......... .......... .......... 54% 47.4M 1s\n",
      "  5950K .......... .......... .......... .......... .......... 54% 50.4M 0s\n",
      "  6000K .......... .......... .......... .......... .......... 55% 37.2M 0s\n",
      "  6050K .......... .......... .......... .......... .......... 55% 46.4M 0s\n",
      "  6100K .......... .......... .......... .......... .......... 56% 4.68M 0s\n",
      "  6150K .......... .......... .......... .......... .......... 56% 29.1M 0s\n",
      "  6200K .......... .......... .......... .......... .......... 56% 2.20M 0s\n",
      "  6250K .......... .......... .......... .......... .......... 57% 21.5M 0s\n",
      "  6300K .......... .......... .......... .......... .......... 57% 36.0M 0s\n",
      "  6350K .......... .......... .......... .......... .......... 58% 49.6M 0s\n",
      "  6400K .......... .......... .......... .......... .......... 58% 47.8M 0s\n",
      "  6450K .......... .......... .......... .......... .......... 59% 51.3M 0s\n",
      "  6500K .......... .......... .......... .......... .......... 59% 26.3M 0s\n",
      "  6550K .......... .......... .......... .......... .......... 60% 29.4M 0s\n",
      "  6600K .......... .......... .......... .......... .......... 60% 77.6M 0s\n",
      "  6650K .......... .......... .......... .......... .......... 61% 26.9M 0s\n",
      "  6700K .......... .......... .......... .......... .......... 61% 38.6M 0s\n",
      "  6750K .......... .......... .......... .......... .......... 61% 42.8M 0s\n",
      "  6800K .......... .......... .......... .......... .......... 62% 45.1M 0s\n",
      "  6850K .......... .......... .......... .......... .......... 62% 50.0M 0s\n",
      "  6900K .......... .......... .......... .......... .......... 63% 40.0M 0s\n",
      "  6950K .......... .......... .......... .......... .......... 63% 48.3M 0s\n",
      "  7000K .......... .......... .......... .......... .......... 64% 48.3M 0s\n",
      "  7050K .......... .......... .......... .......... .......... 64% 46.7M 0s\n",
      "  7100K .......... .......... .......... .......... .......... 65% 40.6M 0s\n",
      "  7150K .......... .......... .......... .......... .......... 65% 52.6M 0s\n",
      "  7200K .......... .......... .......... .......... .......... 66% 88.9M 0s\n",
      "  7250K .......... .......... .......... .......... .......... 66% 65.0M 0s\n",
      "  7300K .......... .......... .......... .......... .......... 66% 58.8M 0s\n",
      "  7350K .......... .......... .......... .......... .......... 67% 38.1M 0s\n",
      "  7400K .......... .......... .......... .......... .......... 67% 34.0M 0s\n",
      "  7450K .......... .......... .......... .......... .......... 68% 40.6M 0s\n",
      "  7500K .......... .......... .......... .......... .......... 68% 64.9M 0s\n",
      "  7550K .......... .......... .......... .......... .......... 69% 43.4M 0s\n",
      "  7600K .......... .......... .......... .......... .......... 69% 70.2M 0s\n",
      "  7650K .......... .......... .......... .......... .......... 70% 5.20M 0s\n",
      "  7700K .......... .......... .......... .......... .......... 70% 2.19M 0s\n",
      "  7750K .......... .......... .......... .......... .......... 71% 56.9M 0s\n",
      "  7800K .......... .......... .......... .......... .......... 71% 27.5M 0s\n",
      "  7850K .......... .......... .......... .......... .......... 71% 21.1M 0s\n",
      "  7900K .......... .......... .......... .......... .......... 72% 44.7M 0s\n",
      "  7950K .......... .......... .......... .......... .......... 72% 46.5M 0s\n",
      "  8000K .......... .......... .......... .......... .......... 73% 32.5M 0s\n",
      "  8050K .......... .......... .......... .......... .......... 73% 11.6M 0s\n",
      "  8100K .......... .......... .......... .......... .......... 74% 92.6M 0s\n",
      "  8150K .......... .......... .......... .......... .......... 74%  131M 0s\n",
      "  8200K .......... .......... .......... .......... .......... 75%  113M 0s\n",
      "  8250K .......... .......... .......... .......... .......... 75% 64.6M 0s\n",
      "  8300K .......... .......... .......... .......... .......... 76% 38.3M 0s\n",
      "  8350K .......... .......... .......... .......... .......... 76% 56.3M 0s\n",
      "  8400K .......... .......... .......... .......... .......... 76% 38.3M 0s\n",
      "  8450K .......... .......... .......... .......... .......... 77% 52.7M 0s\n",
      "  8500K .......... .......... .......... .......... .......... 77% 7.72M 0s\n",
      "  8550K .......... .......... .......... .......... .......... 78% 81.5M 0s\n",
      "  8600K .......... .......... .......... .......... .......... 78% 72.7M 0s\n",
      "  8650K .......... .......... .......... .......... .......... 79% 82.7M 0s\n",
      "  8700K .......... .......... .......... .......... .......... 79% 89.1M 0s\n",
      "  8750K .......... .......... .......... .......... .......... 80% 75.3M 0s\n",
      "  8800K .......... .......... .......... .......... .......... 80% 80.2M 0s\n",
      "  8850K .......... .......... .......... .......... .......... 81% 74.1M 0s\n",
      "  8900K .......... .......... .......... .......... .......... 81% 93.4M 0s\n",
      "  8950K .......... .......... .......... .......... .......... 81% 67.8M 0s\n",
      "  9000K .......... .......... .......... .......... .......... 82% 69.0M 0s\n",
      "  9050K .......... .......... .......... .......... .......... 82% 43.2M 0s\n",
      "  9100K .......... .......... .......... .......... .......... 83% 48.0M 0s\n",
      "  9150K .......... .......... .......... .......... .......... 83% 36.7M 0s\n",
      "  9200K .......... .......... .......... .......... .......... 84% 1.84M 0s\n",
      "  9250K .......... .......... .......... .......... .......... 84% 20.0M 0s\n",
      "  9300K .......... .......... .......... .......... .......... 85% 26.5M 0s\n",
      "  9350K .......... .......... .......... .......... .......... 85% 19.3M 0s\n",
      "  9400K .......... .......... .......... .......... .......... 86% 34.6M 0s\n",
      "  9450K .......... .......... .......... .......... .......... 86% 49.5M 0s\n",
      "  9500K .......... .......... .......... .......... .......... 86% 43.3M 0s\n",
      "  9550K .......... .......... .......... .......... .......... 87% 11.9M 0s\n",
      "  9600K .......... .......... .......... .......... .......... 87% 37.1M 0s\n",
      "  9650K .......... .......... .......... .......... .......... 88% 10.7M 0s\n",
      "  9700K .......... .......... .......... .......... .......... 88%  103M 0s\n",
      "  9750K .......... .......... .......... .......... .......... 89%  101M 0s\n",
      "  9800K .......... .......... .......... .......... .......... 89%  108M 0s\n",
      "  9850K .......... .......... .......... .......... .......... 90% 95.5M 0s\n",
      "  9900K .......... .......... .......... .......... .......... 90%  108M 0s\n",
      "  9950K .......... .......... .......... .......... .......... 91% 73.8M 0s\n",
      " 10000K .......... .......... .......... .......... .......... 91% 13.8M 0s\n",
      " 10050K .......... .......... .......... .......... .......... 92% 41.5M 0s\n",
      " 10100K .......... .......... .......... .......... .......... 92% 50.2M 0s\n",
      " 10150K .......... .......... .......... .......... .......... 92% 37.2M 0s\n",
      " 10200K .......... .......... .......... .......... .......... 93% 55.7M 0s\n",
      " 10250K .......... .......... .......... .......... .......... 93% 50.6M 0s\n",
      " 10300K .......... .......... .......... .......... .......... 94% 39.4M 0s\n",
      " 10350K .......... .......... .......... .......... .......... 94% 42.0M 0s\n",
      " 10400K .......... .......... .......... .......... .......... 95% 50.4M 0s\n",
      " 10450K .......... .......... .......... .......... .......... 95% 44.6M 0s\n",
      " 10500K .......... .......... .......... .......... .......... 96% 40.8M 0s\n",
      " 10550K .......... .......... .......... .......... .......... 96% 54.6M 0s\n",
      " 10600K .......... .......... .......... .......... .......... 97% 33.5M 0s\n",
      " 10650K .......... .......... .......... .......... .......... 97% 80.8M 0s\n",
      " 10700K .......... .......... .......... .......... .......... 97% 16.2M 0s\n",
      " 10750K .......... .......... .......... .......... .......... 98% 2.21M 0s\n",
      " 10800K .......... .......... .......... .......... .......... 98% 25.0M 0s\n",
      " 10850K .......... .......... .......... .......... .......... 99% 43.0M 0s\n",
      " 10900K .......... .......... .......... .......... .......... 99% 22.7M 0s\n",
      " 10950K .......... .......... .......                         100% 20.9M=0.8s\n",
      "\n",
      "2020-10-05 11:42:48 (12.8 MB/s) - ‘covtype.data.gz’ saved [11240707/11240707]\n",
      "\n"
     ]
    }
   ],
   "source": [
    "%%bash\n",
    "\n",
    "wget 'https://archive.ics.uci.edu/ml/machine-learning-databases/covtype/covtype.data.gz'\n",
    "mkdir -p /tmp/covtype/raw\n",
    "mv covtype.data.gz /tmp/covtype/raw/covtype.data.gz \n"
   ]
  },
  {
   "cell_type": "markdown",
   "metadata": {},
   "source": [
    "## Pre-Processing the Data\n",
    "Now that we have the raw data, let's process it. \n",
    "We'll first load the data into numpy arrays, and randomly split it into train and test with a 90/10 split."
   ]
  },
  {
   "cell_type": "code",
   "execution_count": 2,
   "metadata": {
    "nbpresent": {
     "id": "a58fdf0d-32fb-4690-add3-433cc721773d"
    }
   },
   "outputs": [
    {
     "name": "stdout",
     "output_type": "stream",
     "text": [
      "Reading raw data from /tmp/covtype/raw/covtype.data.gz\n"
     ]
    }
   ],
   "source": [
    "import numpy as np\n",
    "import os\n",
    "\n",
    "data_dir = \"/tmp/covtype/\"\n",
    "processed_subdir = \"standardized\"\n",
    "raw_data_file = os.path.join(data_dir, \"raw\", \"covtype.data.gz\")\n",
    "train_features_file = os.path.join(data_dir, processed_subdir, \"train/csv/features.csv\")\n",
    "train_labels_file = os.path.join(data_dir, processed_subdir, \"train/csv/labels.csv\")\n",
    "test_features_file = os.path.join(data_dir, processed_subdir, \"test/csv/features.csv\")\n",
    "test_labels_file = os.path.join(data_dir, processed_subdir, \"test/csv/labels.csv\")\n",
    "\n",
    "# read raw data\n",
    "print(\"Reading raw data from {}\".format(raw_data_file))\n",
    "raw = np.loadtxt(raw_data_file, delimiter=',')\n",
    "\n",
    "# split into train/test with a 90/10 split\n",
    "np.random.seed(0)\n",
    "np.random.shuffle(raw)\n",
    "train_size = int(0.9 * raw.shape[0])\n",
    "train_features = raw[:train_size, :-1]\n",
    "train_labels = raw[:train_size, -1]\n",
    "test_features = raw[train_size:, :-1]\n",
    "test_labels = raw[train_size:, -1]"
   ]
  },
  {
   "cell_type": "markdown",
   "metadata": {},
   "source": [
    "## Upload to Amazon S3\n",
    "Now, since typically the dataset will be large and located in Amazon S3, let's write the data to Amazon S3 in recordio-protobuf format. We first create an io buffer wrapping the data, next we upload it to Amazon S3. Notice that the choice of bucket and prefix should change for different users and different datasets"
   ]
  },
  {
   "cell_type": "code",
   "execution_count": 3,
   "metadata": {},
   "outputs": [
    {
     "name": "stdout",
     "output_type": "stream",
     "text": [
      "train_features shape =  (522910, 54)\n",
      "train_labels shape =  (522910,)\n"
     ]
    },
    {
     "data": {
      "text/plain": [
       "0"
      ]
     },
     "execution_count": 3,
     "metadata": {},
     "output_type": "execute_result"
    }
   ],
   "source": [
    "import io\n",
    "import sagemaker.amazon.common as smac\n",
    "\n",
    "print('train_features shape = ', train_features.shape)\n",
    "print('train_labels shape = ', train_labels.shape)\n",
    "\n",
    "buf = io.BytesIO()\n",
    "smac.write_numpy_to_dense_tensor(buf, train_features, train_labels)\n",
    "buf.seek(0)"
   ]
  },
  {
   "cell_type": "code",
   "execution_count": 4,
   "metadata": {},
   "outputs": [
    {
     "name": "stdout",
     "output_type": "stream",
     "text": [
      "uploaded training data location: s3://fab-sagemaker/knn-covtype/train/recordio-pb-data\n"
     ]
    }
   ],
   "source": [
    "import boto3\n",
    "import os\n",
    "import sagemaker\n",
    "\n",
    "#bucket = sagemaker.Session().default_bucket() # modify to your bucket name\n",
    "bucket = 'fab-sagemaker'\n",
    "prefix = 'knn-covtype'\n",
    "key = 'recordio-pb-data'\n",
    "\n",
    "boto3.resource('s3').Bucket(bucket).Object(os.path.join(prefix, 'train', key)).upload_fileobj(buf)\n",
    "s3_train_data = 's3://{}/{}/train/{}'.format(bucket, prefix, key)\n",
    "print('uploaded training data location: {}'.format(s3_train_data))\n"
   ]
  },
  {
   "cell_type": "markdown",
   "metadata": {},
   "source": [
    "It is also possible to provide test data. This way we can get an evaluation of the performance of the model from the training logs. In order to use this capability let's upload the test data to Amazon S3 as well"
   ]
  },
  {
   "cell_type": "code",
   "execution_count": 5,
   "metadata": {},
   "outputs": [
    {
     "name": "stdout",
     "output_type": "stream",
     "text": [
      "test_features shape =  (58102, 54)\n",
      "test_labels shape =  (58102,)\n",
      "uploaded test data location: s3://fab-sagemaker/knn-covtype/test/recordio-pb-data\n"
     ]
    }
   ],
   "source": [
    "print('test_features shape = ', test_features.shape)\n",
    "print('test_labels shape = ', test_labels.shape)\n",
    "\n",
    "buf = io.BytesIO()\n",
    "smac.write_numpy_to_dense_tensor(buf, test_features, test_labels)\n",
    "buf.seek(0)\n",
    "\n",
    "boto3.resource('s3').Bucket(bucket).Object(os.path.join(prefix, 'test', key)).upload_fileobj(buf)\n",
    "s3_test_data = 's3://{}/{}/test/{}'.format(bucket, prefix, key)\n",
    "print('uploaded test data location: {}'.format(s3_test_data))\n"
   ]
  },
  {
   "cell_type": "markdown",
   "metadata": {},
   "source": [
    "## Training\n",
    "\n",
    "We take a moment to explain at a high level, how Machine Learning training and prediction works in Amazon SageMaker. First, we need to train a model. This is a process that given a labeled dataset and hyper-parameters guiding the training process,  outputs a model. Once the training is done, we set up what is called an **endpoint**. An endpoint is a web service that given a request containing an unlabeled data point, or mini-batch of data points, returns a prediction(s).\n",
    "\n",
    "In Amazon SageMaker the training is done via an object called an **estimator**. When setting up the estimator we specify the location (in Amazon S3) of the training data, the path (again in Amazon S3) to the output directory where the model will be serialized, generic hyper-parameters such as the machine type to use during the training process, and kNN-specific hyper-parameters such as the index type, etc. Once the estimator is initialized, we can call its **fit** method in order to do the actual training.\n",
    "\n",
    "Now that we are ready for training, we start with a convenience function that starts a training job."
   ]
  },
  {
   "cell_type": "code",
   "execution_count": 6,
   "metadata": {},
   "outputs": [],
   "source": [
    "import matplotlib.pyplot as plt\n",
    "\n",
    "import sagemaker\n",
    "from sagemaker import get_execution_role\n",
    "from sagemaker.predictor import csv_serializer, json_deserializer\n",
    "from sagemaker.amazon.amazon_estimator import get_image_uri\n",
    "\n",
    "\n",
    "def trained_estimator_from_hyperparams(s3_train_data, hyperparams, output_path, s3_test_data=None):\n",
    "    \"\"\"\n",
    "    Create an Estimator from the given hyperparams, fit to training data, \n",
    "    and return a deployed predictor\n",
    "    \n",
    "    \"\"\"\n",
    "    # set up the estimator\n",
    "    knn = sagemaker.estimator.Estimator(get_image_uri(boto3.Session().region_name, \"knn\"),\n",
    "        get_execution_role(),\n",
    "        train_instance_count=1,\n",
    "        train_instance_type='ml.m5.2xlarge',\n",
    "        output_path=output_path,\n",
    "        sagemaker_session=sagemaker.Session())\n",
    "    knn.set_hyperparameters(**hyperparams)\n",
    "    \n",
    "    # train a model. fit_input contains the locations of the train and test data\n",
    "    fit_input = {'train': s3_train_data}\n",
    "    if s3_test_data is not None:\n",
    "        fit_input['test'] = s3_test_data\n",
    "    knn.fit(fit_input)\n",
    "    return knn"
   ]
  },
  {
   "cell_type": "markdown",
   "metadata": {},
   "source": [
    "Now, we run the actual training job. For now, we stick to default parameters."
   ]
  },
  {
   "cell_type": "code",
   "execution_count": 7,
   "metadata": {
    "scrolled": false
   },
   "outputs": [
    {
     "name": "stderr",
     "output_type": "stream",
     "text": [
      "'get_image_uri' method will be deprecated in favor of 'ImageURIProvider' class in SageMaker Python SDK v2.\n",
      "Parameter image_name will be renamed to image_uri in SageMaker Python SDK v2.\n",
      "'s3_input' class will be renamed to 'TrainingInput' in SageMaker Python SDK v2.\n",
      "'s3_input' class will be renamed to 'TrainingInput' in SageMaker Python SDK v2.\n"
     ]
    },
    {
     "name": "stdout",
     "output_type": "stream",
     "text": [
      "2020-10-05 11:50:16 Starting - Starting the training job...\n",
      "2020-10-05 11:50:19 Starting - Launching requested ML instances......\n",
      "2020-10-05 11:51:43 Starting - Preparing the instances for training......\n",
      "2020-10-05 11:52:39 Downloading - Downloading input data\n",
      "2020-10-05 11:52:39 Training - Downloading the training image.....\u001b[34mDocker entrypoint called with argument(s): train\u001b[0m\n",
      "\u001b[34mRunning default environment configuration script\u001b[0m\n",
      "\u001b[34m[10/05/2020 11:53:31 INFO 139990883903296] Reading default configuration from /opt/amazon/lib/python2.7/site-packages/algorithm/resources/default-conf.json: {u'index_metric': u'L2', u'_tuning_objective_metric': u'', u'_num_gpus': u'auto', u'_log_level': u'info', u'feature_dim': u'auto', u'faiss_index_ivf_nlists': u'auto', u'epochs': u'1', u'index_type': u'faiss.Flat', u'_faiss_index_nprobe': u'5', u'_kvstore': u'dist_async', u'_num_kv_servers': u'1', u'mini_batch_size': u'5000'}\u001b[0m\n",
      "\u001b[34m[10/05/2020 11:53:31 INFO 139990883903296] Merging with provided configuration from /opt/ml/input/config/hyperparameters.json: {u'sample_size': u'200000', u'feature_dim': u'54', u'predictor_type': u'classifier', u'k': u'10'}\u001b[0m\n",
      "\u001b[34m[10/05/2020 11:53:31 INFO 139990883903296] Final configuration: {u'index_metric': u'L2', u'predictor_type': u'classifier', u'_tuning_objective_metric': u'', u'_num_gpus': u'auto', u'_log_level': u'info', u'feature_dim': u'54', u'faiss_index_ivf_nlists': u'auto', u'sample_size': u'200000', u'epochs': u'1', u'index_type': u'faiss.Flat', u'_faiss_index_nprobe': u'5', u'_kvstore': u'dist_async', u'_num_kv_servers': u'1', u'mini_batch_size': u'5000', u'k': u'10'}\u001b[0m\n",
      "\u001b[34m[10/05/2020 11:53:31 WARNING 139990883903296] Loggers have already been setup.\u001b[0m\n",
      "\u001b[34m[10/05/2020 11:53:31 INFO 139990883903296] Launching parameter server for role scheduler\u001b[0m\n",
      "\u001b[34m[10/05/2020 11:53:31 INFO 139990883903296] {'ECS_CONTAINER_METADATA_URI': 'http://169.254.170.2/v3/4c6929b2-151f-4201-b31d-23376d94f5be', 'ECS_CONTAINER_METADATA_URI_V4': 'http://169.254.170.2/v4/4c6929b2-151f-4201-b31d-23376d94f5be', 'PROTOCOL_BUFFERS_PYTHON_IMPLEMENTATION_VERSION': '2', 'PATH': '/opt/amazon/bin:/usr/local/nvidia/bin:/usr/local/sbin:/usr/local/bin:/usr/sbin:/usr/bin:/sbin:/bin:/opt/amazon/bin:/opt/amazon/bin', 'SAGEMAKER_HTTP_PORT': '8080', 'HOME': '/root', 'PYTHONUNBUFFERED': 'TRUE', 'CANONICAL_ENVROOT': '/opt/amazon', 'LD_LIBRARY_PATH': '/opt/amazon/lib/python2.7/site-packages/cv2/../../../../lib:/usr/local/nvidia/lib64:/opt/amazon/lib', 'LANG': 'en_US.utf8', 'DMLC_INTERFACE': 'eth0', 'SHLVL': '1', 'AWS_REGION': 'us-east-1', 'SAGEMAKER_METRICS_DIRECTORY': '/opt/ml/output/metrics/sagemaker', 'NVIDIA_VISIBLE_DEVICES': 'void', 'TRAINING_JOB_NAME': 'knn-2020-10-05-11-50-15-924', 'PROTOCOL_BUFFERS_PYTHON_IMPLEMENTATION': 'cpp', 'ENVROOT': '/opt/amazon', 'SAGEMAKER_DATA_PATH': '/opt/ml', 'NVIDIA_DRIVER_CAPABILITIES': 'compute,utility', 'NVIDIA_REQUIRE_CUDA': 'cuda>=9.0', 'OMP_NUM_THREADS': '4', 'HOSTNAME': 'ip-10-0-199-250.ec2.internal', 'AWS_CONTAINER_CREDENTIALS_RELATIVE_URI': '/v2/credentials/7fd38acd-d5ee-4392-ac85-36d0a5e01587', 'PWD': '/', 'TRAINING_JOB_ARN': 'arn:aws:sagemaker:us-east-1:640463227255:training-job/knn-2020-10-05-11-50-15-924', 'AWS_EXECUTION_ENV': 'AWS_ECS_EC2'}\u001b[0m\n",
      "\u001b[34m[10/05/2020 11:53:31 INFO 139990883903296] envs={'ECS_CONTAINER_METADATA_URI': 'http://169.254.170.2/v3/4c6929b2-151f-4201-b31d-23376d94f5be', 'ECS_CONTAINER_METADATA_URI_V4': 'http://169.254.170.2/v4/4c6929b2-151f-4201-b31d-23376d94f5be', 'PROTOCOL_BUFFERS_PYTHON_IMPLEMENTATION_VERSION': '2', 'DMLC_NUM_WORKER': '1', 'DMLC_PS_ROOT_PORT': '9000', 'PATH': '/opt/amazon/bin:/usr/local/nvidia/bin:/usr/local/sbin:/usr/local/bin:/usr/sbin:/usr/bin:/sbin:/bin:/opt/amazon/bin:/opt/amazon/bin', 'SAGEMAKER_HTTP_PORT': '8080', 'HOME': '/root', 'PYTHONUNBUFFERED': 'TRUE', 'CANONICAL_ENVROOT': '/opt/amazon', 'LD_LIBRARY_PATH': '/opt/amazon/lib/python2.7/site-packages/cv2/../../../../lib:/usr/local/nvidia/lib64:/opt/amazon/lib', 'LANG': 'en_US.utf8', 'DMLC_INTERFACE': 'eth0', 'SHLVL': '1', 'DMLC_PS_ROOT_URI': '10.0.199.250', 'AWS_REGION': 'us-east-1', 'SAGEMAKER_METRICS_DIRECTORY': '/opt/ml/output/metrics/sagemaker', 'NVIDIA_VISIBLE_DEVICES': 'void', 'TRAINING_JOB_NAME': 'knn-2020-10-05-11-50-15-924', 'PROTOCOL_BUFFERS_PYTHON_IMPLEMENTATION': 'cpp', 'ENVROOT': '/opt/amazon', 'SAGEMAKER_DATA_PATH': '/opt/ml', 'NVIDIA_DRIVER_CAPABILITIES': 'compute,utility', 'NVIDIA_REQUIRE_CUDA': 'cuda>=9.0', 'OMP_NUM_THREADS': '4', 'HOSTNAME': 'ip-10-0-199-250.ec2.internal', 'AWS_CONTAINER_CREDENTIALS_RELATIVE_URI': '/v2/credentials/7fd38acd-d5ee-4392-ac85-36d0a5e01587', 'DMLC_ROLE': 'scheduler', 'PWD': '/', 'DMLC_NUM_SERVER': '1', 'TRAINING_JOB_ARN': 'arn:aws:sagemaker:us-east-1:640463227255:training-job/knn-2020-10-05-11-50-15-924', 'AWS_EXECUTION_ENV': 'AWS_ECS_EC2'}\u001b[0m\n",
      "\u001b[34m[10/05/2020 11:53:31 INFO 139990883903296] Launching parameter server for role server\u001b[0m\n",
      "\u001b[34m[10/05/2020 11:53:31 INFO 139990883903296] {'ECS_CONTAINER_METADATA_URI': 'http://169.254.170.2/v3/4c6929b2-151f-4201-b31d-23376d94f5be', 'ECS_CONTAINER_METADATA_URI_V4': 'http://169.254.170.2/v4/4c6929b2-151f-4201-b31d-23376d94f5be', 'PROTOCOL_BUFFERS_PYTHON_IMPLEMENTATION_VERSION': '2', 'PATH': '/opt/amazon/bin:/usr/local/nvidia/bin:/usr/local/sbin:/usr/local/bin:/usr/sbin:/usr/bin:/sbin:/bin:/opt/amazon/bin:/opt/amazon/bin', 'SAGEMAKER_HTTP_PORT': '8080', 'HOME': '/root', 'PYTHONUNBUFFERED': 'TRUE', 'CANONICAL_ENVROOT': '/opt/amazon', 'LD_LIBRARY_PATH': '/opt/amazon/lib/python2.7/site-packages/cv2/../../../../lib:/usr/local/nvidia/lib64:/opt/amazon/lib', 'LANG': 'en_US.utf8', 'DMLC_INTERFACE': 'eth0', 'SHLVL': '1', 'AWS_REGION': 'us-east-1', 'SAGEMAKER_METRICS_DIRECTORY': '/opt/ml/output/metrics/sagemaker', 'NVIDIA_VISIBLE_DEVICES': 'void', 'TRAINING_JOB_NAME': 'knn-2020-10-05-11-50-15-924', 'PROTOCOL_BUFFERS_PYTHON_IMPLEMENTATION': 'cpp', 'ENVROOT': '/opt/amazon', 'SAGEMAKER_DATA_PATH': '/opt/ml', 'NVIDIA_DRIVER_CAPABILITIES': 'compute,utility', 'NVIDIA_REQUIRE_CUDA': 'cuda>=9.0', 'OMP_NUM_THREADS': '4', 'HOSTNAME': 'ip-10-0-199-250.ec2.internal', 'AWS_CONTAINER_CREDENTIALS_RELATIVE_URI': '/v2/credentials/7fd38acd-d5ee-4392-ac85-36d0a5e01587', 'PWD': '/', 'TRAINING_JOB_ARN': 'arn:aws:sagemaker:us-east-1:640463227255:training-job/knn-2020-10-05-11-50-15-924', 'AWS_EXECUTION_ENV': 'AWS_ECS_EC2'}\u001b[0m\n",
      "\u001b[34m[10/05/2020 11:53:31 INFO 139990883903296] envs={'ECS_CONTAINER_METADATA_URI': 'http://169.254.170.2/v3/4c6929b2-151f-4201-b31d-23376d94f5be', 'ECS_CONTAINER_METADATA_URI_V4': 'http://169.254.170.2/v4/4c6929b2-151f-4201-b31d-23376d94f5be', 'PROTOCOL_BUFFERS_PYTHON_IMPLEMENTATION_VERSION': '2', 'DMLC_NUM_WORKER': '1', 'DMLC_PS_ROOT_PORT': '9000', 'PATH': '/opt/amazon/bin:/usr/local/nvidia/bin:/usr/local/sbin:/usr/local/bin:/usr/sbin:/usr/bin:/sbin:/bin:/opt/amazon/bin:/opt/amazon/bin', 'SAGEMAKER_HTTP_PORT': '8080', 'HOME': '/root', 'PYTHONUNBUFFERED': 'TRUE', 'CANONICAL_ENVROOT': '/opt/amazon', 'LD_LIBRARY_PATH': '/opt/amazon/lib/python2.7/site-packages/cv2/../../../../lib:/usr/local/nvidia/lib64:/opt/amazon/lib', 'LANG': 'en_US.utf8', 'DMLC_INTERFACE': 'eth0', 'SHLVL': '1', 'DMLC_PS_ROOT_URI': '10.0.199.250', 'AWS_REGION': 'us-east-1', 'SAGEMAKER_METRICS_DIRECTORY': '/opt/ml/output/metrics/sagemaker', 'NVIDIA_VISIBLE_DEVICES': 'void', 'TRAINING_JOB_NAME': 'knn-2020-10-05-11-50-15-924', 'PROTOCOL_BUFFERS_PYTHON_IMPLEMENTATION': 'cpp', 'ENVROOT': '/opt/amazon', 'SAGEMAKER_DATA_PATH': '/opt/ml', 'NVIDIA_DRIVER_CAPABILITIES': 'compute,utility', 'NVIDIA_REQUIRE_CUDA': 'cuda>=9.0', 'OMP_NUM_THREADS': '4', 'HOSTNAME': 'ip-10-0-199-250.ec2.internal', 'AWS_CONTAINER_CREDENTIALS_RELATIVE_URI': '/v2/credentials/7fd38acd-d5ee-4392-ac85-36d0a5e01587', 'DMLC_ROLE': 'server', 'PWD': '/', 'DMLC_NUM_SERVER': '1', 'TRAINING_JOB_ARN': 'arn:aws:sagemaker:us-east-1:640463227255:training-job/knn-2020-10-05-11-50-15-924', 'AWS_EXECUTION_ENV': 'AWS_ECS_EC2'}\u001b[0m\n",
      "\u001b[34m[10/05/2020 11:53:31 INFO 139990883903296] Environment: {'ECS_CONTAINER_METADATA_URI': 'http://169.254.170.2/v3/4c6929b2-151f-4201-b31d-23376d94f5be', 'ECS_CONTAINER_METADATA_URI_V4': 'http://169.254.170.2/v4/4c6929b2-151f-4201-b31d-23376d94f5be', 'PROTOCOL_BUFFERS_PYTHON_IMPLEMENTATION_VERSION': '2', 'DMLC_PS_ROOT_PORT': '9000', 'DMLC_NUM_WORKER': '1', 'SAGEMAKER_HTTP_PORT': '8080', 'PATH': '/opt/amazon/bin:/usr/local/nvidia/bin:/usr/local/sbin:/usr/local/bin:/usr/sbin:/usr/bin:/sbin:/bin:/opt/amazon/bin:/opt/amazon/bin', 'PYTHONUNBUFFERED': 'TRUE', 'CANONICAL_ENVROOT': '/opt/amazon', 'LD_LIBRARY_PATH': '/opt/amazon/lib/python2.7/site-packages/cv2/../../../../lib:/usr/local/nvidia/lib64:/opt/amazon/lib', 'LANG': 'en_US.utf8', 'DMLC_INTERFACE': 'eth0', 'SHLVL': '1', 'DMLC_PS_ROOT_URI': '10.0.199.250', 'AWS_REGION': 'us-east-1', 'SAGEMAKER_METRICS_DIRECTORY': '/opt/ml/output/metrics/sagemaker', 'NVIDIA_VISIBLE_DEVICES': 'void', 'TRAINING_JOB_NAME': 'knn-2020-10-05-11-50-15-924', 'HOME': '/root', 'PROTOCOL_BUFFERS_PYTHON_IMPLEMENTATION': 'cpp', 'ENVROOT': '/opt/amazon', 'SAGEMAKER_DATA_PATH': '/opt/ml', 'NVIDIA_DRIVER_CAPABILITIES': 'compute,utility', 'NVIDIA_REQUIRE_CUDA': 'cuda>=9.0', 'OMP_NUM_THREADS': '4', 'HOSTNAME': 'ip-10-0-199-250.ec2.internal', 'AWS_CONTAINER_CREDENTIALS_RELATIVE_URI': '/v2/credentials/7fd38acd-d5ee-4392-ac85-36d0a5e01587', 'DMLC_ROLE': 'worker', 'PWD': '/', 'DMLC_NUM_SERVER': '1', 'TRAINING_JOB_ARN': 'arn:aws:sagemaker:us-east-1:640463227255:training-job/knn-2020-10-05-11-50-15-924', 'AWS_EXECUTION_ENV': 'AWS_ECS_EC2'}\u001b[0m\n",
      "\u001b[34mProcess 66 is a shell:scheduler.\u001b[0m\n",
      "\u001b[34mProcess 76 is a shell:server.\u001b[0m\n",
      "\u001b[34mProcess 1 is a worker.\u001b[0m\n",
      "\u001b[34m[10/05/2020 11:53:31 INFO 139990883903296] Using default worker.\u001b[0m\n",
      "\u001b[34m[10/05/2020 11:53:31 INFO 139990883903296] Checkpoint loading and saving are disabled.\u001b[0m\n",
      "\u001b[34m[2020-10-05 11:53:31.519] [tensorio] [warning] TensorIO is already initialized; ignoring the initialization routine.\u001b[0m\n",
      "\u001b[34m[10/05/2020 11:53:31 INFO 139990883903296] nvidia-smi took: 0.0251729488373 secs to identify 0 gpus\u001b[0m\n",
      "\u001b[34m[10/05/2020 11:53:31 INFO 139990883903296] Create Store: dist_async\u001b[0m\n",
      "\u001b[34m[10/05/2020 11:53:32 ERROR 139990883903296] nvidia-smi: failed to run (127): /bin/sh: nvidia-smi: command not found\u001b[0m\n",
      "\u001b[34m[10/05/2020 11:53:32 INFO 139990883903296] Using per-worker sample size = 200000 (Available virtual memory = 30627569664 bytes, GPU free memory = 0 bytes, number of workers = 1). If an out-of-memory error occurs, choose a larger instance type, use dimension reduction, decrease sample_size, and/or decrease mini_batch_size.\u001b[0m\n",
      "\u001b[34m#metrics {\"Metrics\": {\"Max Batches Seen Between Resets\": {\"count\": 1, \"max\": 0, \"sum\": 0.0, \"min\": 0}, \"Number of Batches Since Last Reset\": {\"count\": 1, \"max\": 0, \"sum\": 0.0, \"min\": 0}, \"Number of Records Since Last Reset\": {\"count\": 1, \"max\": 0, \"sum\": 0.0, \"min\": 0}, \"Total Batches Seen\": {\"count\": 1, \"max\": 0, \"sum\": 0.0, \"min\": 0}, \"Total Records Seen\": {\"count\": 1, \"max\": 0, \"sum\": 0.0, \"min\": 0}, \"Max Records Seen Between Resets\": {\"count\": 1, \"max\": 0, \"sum\": 0.0, \"min\": 0}, \"Reset Count\": {\"count\": 1, \"max\": 0, \"sum\": 0.0, \"min\": 0}}, \"EndTime\": 1601898812.487528, \"Dimensions\": {\"Host\": \"algo-1\", \"Meta\": \"init_train_data_iter\", \"Operation\": \"training\", \"Algorithm\": \"AWS/KNN\"}, \"StartTime\": 1601898812.487487}\n",
      "\u001b[0m\n",
      "\u001b[34m[2020-10-05 11:53:32.490] [tensorio] [info] epoch_stats={\"data_pipeline\": \"/opt/ml/input/data/train\", \"epoch\": 0, \"duration\": 991, \"num_examples\": 1, \"num_bytes\": 2420000}\u001b[0m\n",
      "\n",
      "2020-10-05 11:53:43 Uploading - Uploading generated training model\u001b[34m[2020-10-05 11:53:33.726] [tensorio] [info] epoch_stats={\"data_pipeline\": \"/opt/ml/input/data/train\", \"epoch\": 1, \"duration\": 1236, \"num_examples\": 105, \"num_bytes\": 253088440}\u001b[0m\n",
      "\u001b[34m[10/05/2020 11:53:33 INFO 139990883903296] push reservoir to kv... 1 num_workers 0 rank\u001b[0m\n",
      "\u001b[34m[10/05/2020 11:53:33 INFO 139990883903296] ...done (200000)\u001b[0m\n",
      "\u001b[34m[10/05/2020 11:53:33 INFO 139990883903296] #progress_metric: host=algo-1, completed 100 % of epochs\u001b[0m\n",
      "\u001b[34m#metrics {\"Metrics\": {\"Max Batches Seen Between Resets\": {\"count\": 1, \"max\": 105, \"sum\": 105.0, \"min\": 105}, \"Number of Batches Since Last Reset\": {\"count\": 1, \"max\": 105, \"sum\": 105.0, \"min\": 105}, \"Number of Records Since Last Reset\": {\"count\": 1, \"max\": 522910, \"sum\": 522910.0, \"min\": 522910}, \"Total Batches Seen\": {\"count\": 1, \"max\": 105, \"sum\": 105.0, \"min\": 105}, \"Total Records Seen\": {\"count\": 1, \"max\": 522910, \"sum\": 522910.0, \"min\": 522910}, \"Max Records Seen Between Resets\": {\"count\": 1, \"max\": 522910, \"sum\": 522910.0, \"min\": 522910}, \"Reset Count\": {\"count\": 1, \"max\": 1, \"sum\": 1.0, \"min\": 1}}, \"EndTime\": 1601898813.807215, \"Dimensions\": {\"Host\": \"algo-1\", \"Meta\": \"training_data_iter\", \"Operation\": \"training\", \"Algorithm\": \"AWS/KNN\", \"epoch\": 0}, \"StartTime\": 1601898812.490665}\n",
      "\u001b[0m\n",
      "\u001b[34m[10/05/2020 11:53:33 INFO 139990883903296] #throughput_metric: host=algo-1, train throughput=397136.499228 records/second\u001b[0m\n",
      "\u001b[34m[10/05/2020 11:53:33 INFO 139990883903296] pulled row count... worker 0 rows 200000\u001b[0m\n",
      "\u001b[34m[10/05/2020 11:53:34 INFO 139990883903296] pulled... worker 0 data (200000, 54) labels (200000,) nans 0\u001b[0m\n",
      "\u001b[34m[10/05/2020 11:53:34 INFO 139990883903296] calling index.train...\u001b[0m\n",
      "\u001b[34m[10/05/2020 11:53:34 INFO 139990883903296] ...done calling index.train\u001b[0m\n",
      "\u001b[34m[10/05/2020 11:53:34 INFO 139990883903296] calling index.add...\u001b[0m\n",
      "\u001b[34m[10/05/2020 11:53:34 INFO 139990883903296] ...done calling index.add\u001b[0m\n",
      "\u001b[34m#metrics {\"Metrics\": {\"epochs\": {\"count\": 1, \"max\": 1, \"sum\": 1.0, \"min\": 1}, \"model.serialize.time\": {\"count\": 1, \"max\": 24.512052536010742, \"sum\": 24.512052536010742, \"min\": 24.512052536010742}, \"finalize.time\": {\"count\": 1, \"max\": 237.75911331176758, \"sum\": 237.75911331176758, \"min\": 237.75911331176758}, \"initialize.time\": {\"count\": 1, \"max\": 949.023962020874, \"sum\": 949.023962020874, \"min\": 949.023962020874}, \"update.time\": {\"count\": 1, \"max\": 1316.2989616394043, \"sum\": 1316.2989616394043, \"min\": 1316.2989616394043}}, \"EndTime\": 1601898814.069844, \"Dimensions\": {\"Host\": \"algo-1\", \"Operation\": \"training\", \"Algorithm\": \"AWS/KNN\"}, \"StartTime\": 1601898811.498999}\n",
      "\u001b[0m\n",
      "\u001b[34m[2020-10-05 11:53:42.686] [tensorio] [info] epoch_stats={\"data_pipeline\": \"/opt/ml/input/data/test\", \"epoch\": 0, \"duration\": 11167, \"num_examples\": 12, \"num_bytes\": 28121368}\u001b[0m\n",
      "\u001b[34m#metrics {\"Metrics\": {\"Max Batches Seen Between Resets\": {\"count\": 1, \"max\": 12, \"sum\": 12.0, \"min\": 12}, \"Number of Batches Since Last Reset\": {\"count\": 1, \"max\": 12, \"sum\": 12.0, \"min\": 12}, \"Number of Records Since Last Reset\": {\"count\": 1, \"max\": 58102, \"sum\": 58102.0, \"min\": 58102}, \"Total Batches Seen\": {\"count\": 1, \"max\": 12, \"sum\": 12.0, \"min\": 12}, \"Total Records Seen\": {\"count\": 1, \"max\": 58102, \"sum\": 58102.0, \"min\": 58102}, \"Max Records Seen Between Resets\": {\"count\": 1, \"max\": 58102, \"sum\": 58102.0, \"min\": 58102}, \"Reset Count\": {\"count\": 1, \"max\": 0, \"sum\": 0.0, \"min\": 0}}, \"EndTime\": 1601898822.700097, \"Dimensions\": {\"Host\": \"algo-1\", \"Meta\": \"test_data_iter\", \"Operation\": \"training\", \"Algorithm\": \"AWS/KNN\"}, \"StartTime\": 1601898814.070412}\n",
      "\u001b[0m\n",
      "\u001b[34m[10/05/2020 11:53:42 INFO 139990883903296] #test_score (algo-1) : ('accuracy', 0.9221369316030429)\u001b[0m\n",
      "\u001b[34m[10/05/2020 11:53:42 INFO 139990883903296] #test_score (algo-1) : ('macro_f_1.000', nan)\u001b[0m\n",
      "\u001b[34m[10/05/2020 11:53:42 INFO 139990883903296] #quality_metric: host=algo-1, test accuracy <score>=0.922136931603\u001b[0m\n",
      "\u001b[34m[10/05/2020 11:53:42 INFO 139990883903296] #quality_metric: host=algo-1, test macro_f_1.000 <score>=nan\u001b[0m\n",
      "\u001b[34m#metrics {\"Metrics\": {\"totaltime\": {\"count\": 1, \"max\": 11600.950002670288, \"sum\": 11600.950002670288, \"min\": 11600.950002670288}, \"setuptime\": {\"count\": 1, \"max\": 28.59210968017578, \"sum\": 28.59210968017578, \"min\": 28.59210968017578}}, \"EndTime\": 1601898822.702835, \"Dimensions\": {\"Host\": \"algo-1\", \"Operation\": \"training\", \"Algorithm\": \"AWS/KNN\"}, \"StartTime\": 1601898814.069925}\n",
      "\u001b[0m\n",
      "\n",
      "2020-10-05 11:53:50 Completed - Training job completed\n",
      "Training seconds: 89\n",
      "Billable seconds: 89\n"
     ]
    }
   ],
   "source": [
    "hyperparams = {\n",
    "    'feature_dim': 54,\n",
    "    'k': 10,\n",
    "    'sample_size': 200000,\n",
    "    'predictor_type': 'classifier' \n",
    "}\n",
    "output_path = 's3://' + bucket + '/' + prefix + '/default_example/output'\n",
    "knn_estimator = trained_estimator_from_hyperparams(s3_train_data, hyperparams, output_path, \n",
    "                                                   s3_test_data=s3_test_data)"
   ]
  },
  {
   "cell_type": "markdown",
   "metadata": {},
   "source": [
    "Notice that we mentioned a test set in the training job. When a test set is provided the training job doesn't just produce a model but also applies it to the test set and reports the accuracy. In the logs you can view the accuracy of the model on the test set.\n",
    "accuracy = 92.21 %"
   ]
  },
  {
   "cell_type": "markdown",
   "metadata": {},
   "source": [
    "## Setting up the endpoint\n",
    "\n",
    "Now that we have a trained model, we are ready to run inference. The **knn_estimator** object above contains all the information we need for hosting the model. Below we provide a convenience function that given an estimator, sets up and endpoint that hosts the model. Other than the estimator object, we provide it with a name (string) for the estimator, and an **instance_type**. The **instance_type** is the machine type that will host the model. It is not restricted in any way by the parameter settings of the training job."
   ]
  },
  {
   "cell_type": "code",
   "execution_count": 8,
   "metadata": {},
   "outputs": [],
   "source": [
    "def predictor_from_estimator(knn_estimator, estimator_name, instance_type, endpoint_name=None): \n",
    "    knn_predictor = knn_estimator.deploy(initial_instance_count=1, instance_type=instance_type,\n",
    "                                        endpoint_name=endpoint_name)\n",
    "    knn_predictor.content_type = 'text/csv'\n",
    "    knn_predictor.serializer = csv_serializer\n",
    "    knn_predictor.deserializer = json_deserializer\n",
    "    return knn_predictor"
   ]
  },
  {
   "cell_type": "code",
   "execution_count": 9,
   "metadata": {},
   "outputs": [
    {
     "name": "stderr",
     "output_type": "stream",
     "text": [
      "Parameter image will be renamed to image_uri in SageMaker Python SDK v2.\n"
     ]
    },
    {
     "name": "stdout",
     "output_type": "stream",
     "text": [
      "setting up the endpoint..\n",
      "-------------------!"
     ]
    }
   ],
   "source": [
    "import time\n",
    "\n",
    "instance_type = 'ml.m4.xlarge'\n",
    "model_name = 'knn_%s'% instance_type\n",
    "endpoint_name = 'knn-ml-m4-xlarge-%s'% (str(time.time()).replace('.','-'))\n",
    "print('setting up the endpoint..')\n",
    "predictor = predictor_from_estimator(knn_estimator, model_name, instance_type, endpoint_name=endpoint_name)"
   ]
  },
  {
   "cell_type": "markdown",
   "metadata": {},
   "source": [
    "## Inference\n",
    "\n",
    "Now that we have our predictor, let's use it on our test dataset. The following code runs on the test dataset, computes the accuracy and the average latency. It splits up the data into 100 batches, each of size roughly 500. Then, each batch is given to the inference service to obtain predictions. Once we have all predictions, we compute their accuracy given the true labels of the test set.\n"
   ]
  },
  {
   "cell_type": "code",
   "execution_count": 10,
   "metadata": {},
   "outputs": [
    {
     "name": "stdout",
     "output_type": "stream",
     "text": [
      "data split into 100 batches, of size 582.\n",
      "time required for predicting 58102 data point: 47.56 seconds\n",
      "accuracy of model: 92.2%\n"
     ]
    }
   ],
   "source": [
    "\n",
    "batches = np.array_split(test_features, 100)\n",
    "print('data split into 100 batches, of size %d.' % batches[0].shape[0])\n",
    "\n",
    "# obtain an np array with the predictions for the entire test set\n",
    "start_time = time.time()\n",
    "predictions = []\n",
    "for batch in batches:\n",
    "    result = predictor.predict(batch)\n",
    "    cur_predictions = np.array([result['predictions'][i]['predicted_label'] for i in range(len(result['predictions']))])\n",
    "    predictions.append(cur_predictions)\n",
    "predictions = np.concatenate(predictions)\n",
    "run_time = time.time() - start_time\n",
    "\n",
    "test_size = test_labels.shape[0]\n",
    "num_correct = sum(predictions == test_labels)\n",
    "accuracy = num_correct / float(test_size)\n",
    "print('time required for predicting %d data point: %.2f seconds' % (test_size, run_time))\n",
    "print('accuracy of model: %.1f%%' % (accuracy * 100) )"
   ]
  },
  {
   "cell_type": "markdown",
   "metadata": {},
   "source": [
    "## Deleting the endpoint\n",
    "\n",
    "We're now done with the example except a final clean-up act. By setting up the endpoint we started a machine in the cloud and as long as it's not deleted the machine is still up and we are paying for it. Once the endpoint is no longer necessary, we delete it. The following code does exactly that."
   ]
  },
  {
   "cell_type": "code",
   "execution_count": 11,
   "metadata": {},
   "outputs": [
    {
     "name": "stdout",
     "output_type": "stream",
     "text": [
      "Deleted knn-ml-m4-xlarge-1601899227-6721659\n"
     ]
    }
   ],
   "source": [
    "def delete_endpoint(predictor):\n",
    "    try:\n",
    "        boto3.client('sagemaker').delete_endpoint(EndpointName=predictor.endpoint)\n",
    "        print('Deleted {}'.format(predictor.endpoint))\n",
    "    except:\n",
    "        print('Already deleted: {}'.format(predictor.endpoint))\n",
    "\n",
    "delete_endpoint(predictor)\n",
    "            "
   ]
  },
  {
   "cell_type": "markdown",
   "metadata": {},
   "source": [
    "## Conclusion\n",
    "\n",
    "We've seen how to both train and host an inference endpoint for kNN. With absolutely zero tuning we obtain an accuracy of 92.2% on the covtype dataset. As a point of reference for grasping the prediction power of the kNN model, a linear model will achieve roughly 72.8% accuracy. There are several advanced issues that we did not discuss. In the next section we will deep-dive into issues such as run-time / latency, and tuning the model while taking into account both the accuracy and its run-time efficiency."
   ]
  },
  {
   "cell_type": "markdown",
   "metadata": {},
   "source": [
    "# Part 2: Deep dive, Tuning kNN \n",
    "\n",
    "Now that we managed to run a simple example we move to a more advanced one. We keep the objective of classifying the covtype data set but now see how to explore the different options of the kNN algorithm. In what follows we will review different solvers for the kNN problem, different instance types for hosting the model, and a verbose prediction option that allows tuning the k value of the model after training"
   ]
  },
  {
   "cell_type": "markdown",
   "metadata": {},
   "source": [
    "## Train and Predict in Amazon SageMaker\n",
    "\n",
    "Below we copy, for convenience the function we set for training an estimator. The function has an optional value of the location of a test set. If one is given, the training job will apply the model on a test set and report the accuracy in the logs. This way, it is possible to obtain the quality of a model without setting up an endpoint and applying it to a test set. Though the function accepts hyper-parameters for the training job, we mention two hyper-parameters that we fixed inside the function.\n",
    "* **train_instance_count**: This is the number of machines used for the training process. For large datasets we may want to use multiple machines. In our case the entire dataset is rather small (~100MB) so we use only a single machine.\n",
    "* **train_instance_type**: This is the machine type used for training. We use the recommended type for training of 'ml.m5.2xlarge'. In cases where we have a large test set, it may be preferable to use a GPU machine or a CPU compute optimized machine such 'ml.c5.2xlarge' as the compute resource required for running inference on the test set may be considerable.\n"
   ]
  },
  {
   "cell_type": "code",
   "execution_count": 12,
   "metadata": {},
   "outputs": [],
   "source": [
    "import matplotlib.pyplot as plt\n",
    "\n",
    "import sagemaker\n",
    "from sagemaker import get_execution_role\n",
    "from sagemaker.predictor import csv_serializer, json_deserializer\n",
    "from sagemaker.amazon.amazon_estimator import get_image_uri\n",
    "\n",
    "\n",
    "def trained_estimator_from_hyperparams(s3_train_data, hyperparams, output_path, s3_test_data=None):\n",
    "    \"\"\"\n",
    "    Create an Estimator from the given hyperparams, fit to training data, \n",
    "    and return a deployed predictor\n",
    "    \n",
    "    \"\"\"\n",
    "\n",
    "    # set up the estimator\n",
    "    knn = sagemaker.estimator.Estimator(get_image_uri(boto3.Session().region_name, \"knn\"),\n",
    "        get_execution_role(),\n",
    "        train_instance_count=1,\n",
    "        train_instance_type='ml.m5.2xlarge',\n",
    "        output_path=output_path,\n",
    "        sagemaker_session=sagemaker.Session())\n",
    "    knn.set_hyperparameters(**hyperparams)\n",
    "    \n",
    "    # train a model. fit_input contains the locations of the train and test data\n",
    "    fit_input = {'train': s3_train_data}\n",
    "    if s3_test_data is not None:\n",
    "        fit_input['test'] = s3_test_data\n",
    "    knn.fit(fit_input)\n",
    "    return knn"
   ]
  },
  {
   "cell_type": "markdown",
   "metadata": {},
   "source": [
    "The function above returns the estimator object after running the **fit** method. The object contains all the information needed to set up an endpoint. The function below gets as input a fitted estimator and uses it to set up an endpoint. An important parameter this function receives is **instance_type**. The endpoint can be set on any machine type, regardless of the one used in training. \n",
    "\n",
    "In kNN, inference can be somewhat slow as it involves computing the distance from the given feature vector to all data points. For that reason, one might want to set up a compute optimized endpoint either on CPU (c5.xlarge) or GPU (p2.xlarge). In what follows we will set endpoints for both machine types and compare their performances."
   ]
  },
  {
   "cell_type": "code",
   "execution_count": 13,
   "metadata": {},
   "outputs": [],
   "source": [
    "def predictor_from_hyperparams(knn_estimator, estimator_name, instance_type, endpoint_name=None): \n",
    "    knn_predictor = knn_estimator.deploy(initial_instance_count=1, instance_type=instance_type,\n",
    "                                        endpoint_name=endpoint_name)\n",
    "    knn_predictor.content_type = 'text/csv'\n",
    "    knn_predictor.serializer = csv_serializer\n",
    "    knn_predictor.deserializer = json_deserializer\n",
    "    return knn_predictor"
   ]
  },
  {
   "cell_type": "markdown",
   "metadata": {},
   "source": [
    "## Launching the Training Jobs\n",
    "\n",
    "We're now ready to launch the training jobs. We'll train two different models, based on two different [FAISS indexes](TODO: point to our hyperparameter documentation). One will have a **IndexFlatL2** index, meaning it will find the nearest neighbors with a brute force approach. The other will use an **IndexIVFPQ** index that both uses a cell-probe method to avoid computing all the distances, and a product quantization method that improves the run-time of each distance calculation. For both classifiers, we use the L2 distance. It's also possible to use cosine distance but we do not explore that option here. Intuitively, the first index is accurate but may suffer from larger latencies / slower throughput. The second index is faster but may give less accurate responses, resulting in a lower accuracy/F1 score. \n",
    "\n",
    "We stop to mention an important parameter for Amazon SageMaker kNN, the **sample_size**. This parameter determines how many points from the data set should be used for building the model. Using all the data points is tempting and definitely can't hurt the quality of the outputs but is often either infeasible or simply too costly. Moreover, it can often be unnecessary in the sense that you may get the same accuracy with 200K points as you would with 2M points. In that case, there is simply no need to build a model with 2M points. In this example we use a sample of 200K points out of the potential ~450K in the training set."
   ]
  },
  {
   "cell_type": "code",
   "execution_count": 14,
   "metadata": {
    "scrolled": true
   },
   "outputs": [
    {
     "name": "stderr",
     "output_type": "stream",
     "text": [
      "'get_image_uri' method will be deprecated in favor of 'ImageURIProvider' class in SageMaker Python SDK v2.\n",
      "Parameter image_name will be renamed to image_uri in SageMaker Python SDK v2.\n",
      "'s3_input' class will be renamed to 'TrainingInput' in SageMaker Python SDK v2.\n",
      "'s3_input' class will be renamed to 'TrainingInput' in SageMaker Python SDK v2.\n"
     ]
    },
    {
     "name": "stdout",
     "output_type": "stream",
     "text": [
      "2020-10-05 12:17:24 Starting - Starting the training job...\n",
      "2020-10-05 12:17:27 Starting - Launching requested ML instances......\n",
      "2020-10-05 12:18:31 Starting - Preparing the instances for training...\n",
      "2020-10-05 12:19:07 Downloading - Downloading input data...\n",
      "2020-10-05 12:19:28 Training - Downloading the training image.\u001b[34mDocker entrypoint called with argument(s): train\u001b[0m\n",
      "\u001b[34mRunning default environment configuration script\u001b[0m\n",
      "\u001b[34m[10/05/2020 12:20:00 INFO 139878090184512] Reading default configuration from /opt/amazon/lib/python2.7/site-packages/algorithm/resources/default-conf.json: {u'index_metric': u'L2', u'_tuning_objective_metric': u'', u'_num_gpus': u'auto', u'_log_level': u'info', u'feature_dim': u'auto', u'faiss_index_ivf_nlists': u'auto', u'epochs': u'1', u'index_type': u'faiss.Flat', u'_faiss_index_nprobe': u'5', u'_kvstore': u'dist_async', u'_num_kv_servers': u'1', u'mini_batch_size': u'5000'}\u001b[0m\n",
      "\u001b[34m[10/05/2020 12:20:00 INFO 139878090184512] Merging with provided configuration from /opt/ml/input/config/hyperparameters.json: {u'sample_size': u'200000', u'feature_dim': u'54', u'predictor_type': u'classifier', u'k': u'100'}\u001b[0m\n",
      "\u001b[34m[10/05/2020 12:20:00 INFO 139878090184512] Final configuration: {u'index_metric': u'L2', u'predictor_type': u'classifier', u'_tuning_objective_metric': u'', u'_num_gpus': u'auto', u'_log_level': u'info', u'feature_dim': u'54', u'faiss_index_ivf_nlists': u'auto', u'sample_size': u'200000', u'epochs': u'1', u'index_type': u'faiss.Flat', u'_faiss_index_nprobe': u'5', u'_kvstore': u'dist_async', u'_num_kv_servers': u'1', u'mini_batch_size': u'5000', u'k': u'100'}\u001b[0m\n",
      "\u001b[34m[10/05/2020 12:20:00 WARNING 139878090184512] Loggers have already been setup.\u001b[0m\n",
      "\u001b[34m[10/05/2020 12:20:00 INFO 139878090184512] Launching parameter server for role scheduler\u001b[0m\n",
      "\u001b[34m[10/05/2020 12:20:00 INFO 139878090184512] {'ECS_CONTAINER_METADATA_URI': 'http://169.254.170.2/v3/eb7c491c-eee5-4281-b49b-12d1e1fd85ed', 'ECS_CONTAINER_METADATA_URI_V4': 'http://169.254.170.2/v4/eb7c491c-eee5-4281-b49b-12d1e1fd85ed', 'PROTOCOL_BUFFERS_PYTHON_IMPLEMENTATION_VERSION': '2', 'PATH': '/opt/amazon/bin:/usr/local/nvidia/bin:/usr/local/sbin:/usr/local/bin:/usr/sbin:/usr/bin:/sbin:/bin:/opt/amazon/bin:/opt/amazon/bin', 'SAGEMAKER_HTTP_PORT': '8080', 'HOME': '/root', 'PYTHONUNBUFFERED': 'TRUE', 'CANONICAL_ENVROOT': '/opt/amazon', 'LD_LIBRARY_PATH': '/opt/amazon/lib/python2.7/site-packages/cv2/../../../../lib:/usr/local/nvidia/lib64:/opt/amazon/lib', 'LANG': 'en_US.utf8', 'DMLC_INTERFACE': 'eth0', 'SHLVL': '1', 'AWS_REGION': 'us-east-1', 'SAGEMAKER_METRICS_DIRECTORY': '/opt/ml/output/metrics/sagemaker', 'NVIDIA_VISIBLE_DEVICES': 'void', 'TRAINING_JOB_NAME': 'knn-2020-10-05-12-17-24-684', 'PROTOCOL_BUFFERS_PYTHON_IMPLEMENTATION': 'cpp', 'ENVROOT': '/opt/amazon', 'SAGEMAKER_DATA_PATH': '/opt/ml', 'NVIDIA_DRIVER_CAPABILITIES': 'compute,utility', 'NVIDIA_REQUIRE_CUDA': 'cuda>=9.0', 'OMP_NUM_THREADS': '4', 'HOSTNAME': 'ip-10-0-84-48.ec2.internal', 'AWS_CONTAINER_CREDENTIALS_RELATIVE_URI': '/v2/credentials/fd23f7af-52b7-4538-b929-0a2047bcb442', 'PWD': '/', 'TRAINING_JOB_ARN': 'arn:aws:sagemaker:us-east-1:640463227255:training-job/knn-2020-10-05-12-17-24-684', 'AWS_EXECUTION_ENV': 'AWS_ECS_EC2'}\u001b[0m\n",
      "\u001b[34m[10/05/2020 12:20:00 INFO 139878090184512] envs={'ECS_CONTAINER_METADATA_URI': 'http://169.254.170.2/v3/eb7c491c-eee5-4281-b49b-12d1e1fd85ed', 'ECS_CONTAINER_METADATA_URI_V4': 'http://169.254.170.2/v4/eb7c491c-eee5-4281-b49b-12d1e1fd85ed', 'PROTOCOL_BUFFERS_PYTHON_IMPLEMENTATION_VERSION': '2', 'DMLC_NUM_WORKER': '1', 'DMLC_PS_ROOT_PORT': '9000', 'PATH': '/opt/amazon/bin:/usr/local/nvidia/bin:/usr/local/sbin:/usr/local/bin:/usr/sbin:/usr/bin:/sbin:/bin:/opt/amazon/bin:/opt/amazon/bin', 'SAGEMAKER_HTTP_PORT': '8080', 'HOME': '/root', 'PYTHONUNBUFFERED': 'TRUE', 'CANONICAL_ENVROOT': '/opt/amazon', 'LD_LIBRARY_PATH': '/opt/amazon/lib/python2.7/site-packages/cv2/../../../../lib:/usr/local/nvidia/lib64:/opt/amazon/lib', 'LANG': 'en_US.utf8', 'DMLC_INTERFACE': 'eth0', 'SHLVL': '1', 'DMLC_PS_ROOT_URI': '10.0.84.48', 'AWS_REGION': 'us-east-1', 'SAGEMAKER_METRICS_DIRECTORY': '/opt/ml/output/metrics/sagemaker', 'NVIDIA_VISIBLE_DEVICES': 'void', 'TRAINING_JOB_NAME': 'knn-2020-10-05-12-17-24-684', 'PROTOCOL_BUFFERS_PYTHON_IMPLEMENTATION': 'cpp', 'ENVROOT': '/opt/amazon', 'SAGEMAKER_DATA_PATH': '/opt/ml', 'NVIDIA_DRIVER_CAPABILITIES': 'compute,utility', 'NVIDIA_REQUIRE_CUDA': 'cuda>=9.0', 'OMP_NUM_THREADS': '4', 'HOSTNAME': 'ip-10-0-84-48.ec2.internal', 'AWS_CONTAINER_CREDENTIALS_RELATIVE_URI': '/v2/credentials/fd23f7af-52b7-4538-b929-0a2047bcb442', 'DMLC_ROLE': 'scheduler', 'PWD': '/', 'DMLC_NUM_SERVER': '1', 'TRAINING_JOB_ARN': 'arn:aws:sagemaker:us-east-1:640463227255:training-job/knn-2020-10-05-12-17-24-684', 'AWS_EXECUTION_ENV': 'AWS_ECS_EC2'}\u001b[0m\n",
      "\u001b[34m[10/05/2020 12:20:00 INFO 139878090184512] Launching parameter server for role server\u001b[0m\n",
      "\u001b[34m[10/05/2020 12:20:00 INFO 139878090184512] {'ECS_CONTAINER_METADATA_URI': 'http://169.254.170.2/v3/eb7c491c-eee5-4281-b49b-12d1e1fd85ed', 'ECS_CONTAINER_METADATA_URI_V4': 'http://169.254.170.2/v4/eb7c491c-eee5-4281-b49b-12d1e1fd85ed', 'PROTOCOL_BUFFERS_PYTHON_IMPLEMENTATION_VERSION': '2', 'PATH': '/opt/amazon/bin:/usr/local/nvidia/bin:/usr/local/sbin:/usr/local/bin:/usr/sbin:/usr/bin:/sbin:/bin:/opt/amazon/bin:/opt/amazon/bin', 'SAGEMAKER_HTTP_PORT': '8080', 'HOME': '/root', 'PYTHONUNBUFFERED': 'TRUE', 'CANONICAL_ENVROOT': '/opt/amazon', 'LD_LIBRARY_PATH': '/opt/amazon/lib/python2.7/site-packages/cv2/../../../../lib:/usr/local/nvidia/lib64:/opt/amazon/lib', 'LANG': 'en_US.utf8', 'DMLC_INTERFACE': 'eth0', 'SHLVL': '1', 'AWS_REGION': 'us-east-1', 'SAGEMAKER_METRICS_DIRECTORY': '/opt/ml/output/metrics/sagemaker', 'NVIDIA_VISIBLE_DEVICES': 'void', 'TRAINING_JOB_NAME': 'knn-2020-10-05-12-17-24-684', 'PROTOCOL_BUFFERS_PYTHON_IMPLEMENTATION': 'cpp', 'ENVROOT': '/opt/amazon', 'SAGEMAKER_DATA_PATH': '/opt/ml', 'NVIDIA_DRIVER_CAPABILITIES': 'compute,utility', 'NVIDIA_REQUIRE_CUDA': 'cuda>=9.0', 'OMP_NUM_THREADS': '4', 'HOSTNAME': 'ip-10-0-84-48.ec2.internal', 'AWS_CONTAINER_CREDENTIALS_RELATIVE_URI': '/v2/credentials/fd23f7af-52b7-4538-b929-0a2047bcb442', 'PWD': '/', 'TRAINING_JOB_ARN': 'arn:aws:sagemaker:us-east-1:640463227255:training-job/knn-2020-10-05-12-17-24-684', 'AWS_EXECUTION_ENV': 'AWS_ECS_EC2'}\u001b[0m\n",
      "\u001b[34m[10/05/2020 12:20:00 INFO 139878090184512] envs={'ECS_CONTAINER_METADATA_URI': 'http://169.254.170.2/v3/eb7c491c-eee5-4281-b49b-12d1e1fd85ed', 'ECS_CONTAINER_METADATA_URI_V4': 'http://169.254.170.2/v4/eb7c491c-eee5-4281-b49b-12d1e1fd85ed', 'PROTOCOL_BUFFERS_PYTHON_IMPLEMENTATION_VERSION': '2', 'DMLC_NUM_WORKER': '1', 'DMLC_PS_ROOT_PORT': '9000', 'PATH': '/opt/amazon/bin:/usr/local/nvidia/bin:/usr/local/sbin:/usr/local/bin:/usr/sbin:/usr/bin:/sbin:/bin:/opt/amazon/bin:/opt/amazon/bin', 'SAGEMAKER_HTTP_PORT': '8080', 'HOME': '/root', 'PYTHONUNBUFFERED': 'TRUE', 'CANONICAL_ENVROOT': '/opt/amazon', 'LD_LIBRARY_PATH': '/opt/amazon/lib/python2.7/site-packages/cv2/../../../../lib:/usr/local/nvidia/lib64:/opt/amazon/lib', 'LANG': 'en_US.utf8', 'DMLC_INTERFACE': 'eth0', 'SHLVL': '1', 'DMLC_PS_ROOT_URI': '10.0.84.48', 'AWS_REGION': 'us-east-1', 'SAGEMAKER_METRICS_DIRECTORY': '/opt/ml/output/metrics/sagemaker', 'NVIDIA_VISIBLE_DEVICES': 'void', 'TRAINING_JOB_NAME': 'knn-2020-10-05-12-17-24-684', 'PROTOCOL_BUFFERS_PYTHON_IMPLEMENTATION': 'cpp', 'ENVROOT': '/opt/amazon', 'SAGEMAKER_DATA_PATH': '/opt/ml', 'NVIDIA_DRIVER_CAPABILITIES': 'compute,utility', 'NVIDIA_REQUIRE_CUDA': 'cuda>=9.0', 'OMP_NUM_THREADS': '4', 'HOSTNAME': 'ip-10-0-84-48.ec2.internal', 'AWS_CONTAINER_CREDENTIALS_RELATIVE_URI': '/v2/credentials/fd23f7af-52b7-4538-b929-0a2047bcb442', 'DMLC_ROLE': 'server', 'PWD': '/', 'DMLC_NUM_SERVER': '1', 'TRAINING_JOB_ARN': 'arn:aws:sagemaker:us-east-1:640463227255:training-job/knn-2020-10-05-12-17-24-684', 'AWS_EXECUTION_ENV': 'AWS_ECS_EC2'}\u001b[0m\n",
      "\u001b[34m[10/05/2020 12:20:00 INFO 139878090184512] Environment: {'ECS_CONTAINER_METADATA_URI': 'http://169.254.170.2/v3/eb7c491c-eee5-4281-b49b-12d1e1fd85ed', 'ECS_CONTAINER_METADATA_URI_V4': 'http://169.254.170.2/v4/eb7c491c-eee5-4281-b49b-12d1e1fd85ed', 'PROTOCOL_BUFFERS_PYTHON_IMPLEMENTATION_VERSION': '2', 'DMLC_PS_ROOT_PORT': '9000', 'DMLC_NUM_WORKER': '1', 'SAGEMAKER_HTTP_PORT': '8080', 'PATH': '/opt/amazon/bin:/usr/local/nvidia/bin:/usr/local/sbin:/usr/local/bin:/usr/sbin:/usr/bin:/sbin:/bin:/opt/amazon/bin:/opt/amazon/bin', 'PYTHONUNBUFFERED': 'TRUE', 'CANONICAL_ENVROOT': '/opt/amazon', 'LD_LIBRARY_PATH': '/opt/amazon/lib/python2.7/site-packages/cv2/../../../../lib:/usr/local/nvidia/lib64:/opt/amazon/lib', 'LANG': 'en_US.utf8', 'DMLC_INTERFACE': 'eth0', 'SHLVL': '1', 'DMLC_PS_ROOT_URI': '10.0.84.48', 'AWS_REGION': 'us-east-1', 'SAGEMAKER_METRICS_DIRECTORY': '/opt/ml/output/metrics/sagemaker', 'NVIDIA_VISIBLE_DEVICES': 'void', 'TRAINING_JOB_NAME': 'knn-2020-10-05-12-17-24-684', 'HOME': '/root', 'PROTOCOL_BUFFERS_PYTHON_IMPLEMENTATION': 'cpp', 'ENVROOT': '/opt/amazon', 'SAGEMAKER_DATA_PATH': '/opt/ml', 'NVIDIA_DRIVER_CAPABILITIES': 'compute,utility', 'NVIDIA_REQUIRE_CUDA': 'cuda>=9.0', 'OMP_NUM_THREADS': '4', 'HOSTNAME': 'ip-10-0-84-48.ec2.internal', 'AWS_CONTAINER_CREDENTIALS_RELATIVE_URI': '/v2/credentials/fd23f7af-52b7-4538-b929-0a2047bcb442', 'DMLC_ROLE': 'worker', 'PWD': '/', 'DMLC_NUM_SERVER': '1', 'TRAINING_JOB_ARN': 'arn:aws:sagemaker:us-east-1:640463227255:training-job/knn-2020-10-05-12-17-24-684', 'AWS_EXECUTION_ENV': 'AWS_ECS_EC2'}\u001b[0m\n",
      "\u001b[34mProcess 66 is a shell:scheduler.\u001b[0m\n",
      "\u001b[34mProcess 76 is a shell:server.\u001b[0m\n",
      "\u001b[34mProcess 1 is a worker.\u001b[0m\n",
      "\u001b[34m[10/05/2020 12:20:00 INFO 139878090184512] Using default worker.\u001b[0m\n",
      "\u001b[34m[10/05/2020 12:20:00 INFO 139878090184512] Checkpoint loading and saving are disabled.\u001b[0m\n",
      "\u001b[34m[2020-10-05 12:20:00.710] [tensorio] [warning] TensorIO is already initialized; ignoring the initialization routine.\u001b[0m\n",
      "\u001b[34m[10/05/2020 12:20:00 INFO 139878090184512] nvidia-smi took: 0.0251898765564 secs to identify 0 gpus\u001b[0m\n",
      "\u001b[34m[10/05/2020 12:20:00 INFO 139878090184512] Create Store: dist_async\u001b[0m\n",
      "\u001b[34m[10/05/2020 12:20:01 ERROR 139878090184512] nvidia-smi: failed to run (127): /bin/sh: nvidia-smi: command not found\u001b[0m\n",
      "\u001b[34m[10/05/2020 12:20:01 INFO 139878090184512] Using per-worker sample size = 200000 (Available virtual memory = 30625533952 bytes, GPU free memory = 0 bytes, number of workers = 1). If an out-of-memory error occurs, choose a larger instance type, use dimension reduction, decrease sample_size, and/or decrease mini_batch_size.\u001b[0m\n",
      "\u001b[34m#metrics {\"Metrics\": {\"Max Batches Seen Between Resets\": {\"count\": 1, \"max\": 0, \"sum\": 0.0, \"min\": 0}, \"Number of Batches Since Last Reset\": {\"count\": 1, \"max\": 0, \"sum\": 0.0, \"min\": 0}, \"Number of Records Since Last Reset\": {\"count\": 1, \"max\": 0, \"sum\": 0.0, \"min\": 0}, \"Total Batches Seen\": {\"count\": 1, \"max\": 0, \"sum\": 0.0, \"min\": 0}, \"Total Records Seen\": {\"count\": 1, \"max\": 0, \"sum\": 0.0, \"min\": 0}, \"Max Records Seen Between Resets\": {\"count\": 1, \"max\": 0, \"sum\": 0.0, \"min\": 0}, \"Reset Count\": {\"count\": 1, \"max\": 0, \"sum\": 0.0, \"min\": 0}}, \"EndTime\": 1601900401.83062, \"Dimensions\": {\"Host\": \"algo-1\", \"Meta\": \"init_train_data_iter\", \"Operation\": \"training\", \"Algorithm\": \"AWS/KNN\"}, \"StartTime\": 1601900401.830577}\n",
      "\u001b[0m\n",
      "\u001b[34m[2020-10-05 12:20:01.833] [tensorio] [info] epoch_stats={\"data_pipeline\": \"/opt/ml/input/data/train\", \"epoch\": 0, \"duration\": 1142, \"num_examples\": 1, \"num_bytes\": 2420000}\u001b[0m\n",
      "\u001b[34m[2020-10-05 12:20:03.105] [tensorio] [info] epoch_stats={\"data_pipeline\": \"/opt/ml/input/data/train\", \"epoch\": 1, \"duration\": 1271, \"num_examples\": 105, \"num_bytes\": 253088440}\u001b[0m\n",
      "\u001b[34m[10/05/2020 12:20:03 INFO 139878090184512] push reservoir to kv... 1 num_workers 0 rank\u001b[0m\n",
      "\u001b[34m[10/05/2020 12:20:03 INFO 139878090184512] ...done (200000)\u001b[0m\n",
      "\u001b[34m[10/05/2020 12:20:03 INFO 139878090184512] #progress_metric: host=algo-1, completed 100 % of epochs\u001b[0m\n",
      "\u001b[34m#metrics {\"Metrics\": {\"Max Batches Seen Between Resets\": {\"count\": 1, \"max\": 105, \"sum\": 105.0, \"min\": 105}, \"Number of Batches Since Last Reset\": {\"count\": 1, \"max\": 105, \"sum\": 105.0, \"min\": 105}, \"Number of Records Since Last Reset\": {\"count\": 1, \"max\": 522910, \"sum\": 522910.0, \"min\": 522910}, \"Total Batches Seen\": {\"count\": 1, \"max\": 105, \"sum\": 105.0, \"min\": 105}, \"Total Records Seen\": {\"count\": 1, \"max\": 522910, \"sum\": 522910.0, \"min\": 522910}, \"Max Records Seen Between Resets\": {\"count\": 1, \"max\": 522910, \"sum\": 522910.0, \"min\": 522910}, \"Reset Count\": {\"count\": 1, \"max\": 1, \"sum\": 1.0, \"min\": 1}}, \"EndTime\": 1601900403.18816, \"Dimensions\": {\"Host\": \"algo-1\", \"Meta\": \"training_data_iter\", \"Operation\": \"training\", \"Algorithm\": \"AWS/KNN\", \"epoch\": 0}, \"StartTime\": 1601900401.833863}\n",
      "\u001b[0m\n",
      "\u001b[34m[10/05/2020 12:20:03 INFO 139878090184512] #throughput_metric: host=algo-1, train throughput=386068.692995 records/second\u001b[0m\n",
      "\u001b[34m[10/05/2020 12:20:03 INFO 139878090184512] pulled row count... worker 0 rows 200000\u001b[0m\n",
      "\u001b[34m[10/05/2020 12:20:03 INFO 139878090184512] pulled... worker 0 data (200000, 54) labels (200000,) nans 0\u001b[0m\n",
      "\u001b[34m[10/05/2020 12:20:03 INFO 139878090184512] calling index.train...\u001b[0m\n",
      "\u001b[34m[10/05/2020 12:20:03 INFO 139878090184512] ...done calling index.train\u001b[0m\n",
      "\u001b[34m[10/05/2020 12:20:03 INFO 139878090184512] calling index.add...\u001b[0m\n",
      "\u001b[34m[10/05/2020 12:20:03 INFO 139878090184512] ...done calling index.add\u001b[0m\n",
      "\u001b[34m#metrics {\"Metrics\": {\"epochs\": {\"count\": 1, \"max\": 1, \"sum\": 1.0, \"min\": 1}, \"model.serialize.time\": {\"count\": 1, \"max\": 25.207042694091797, \"sum\": 25.207042694091797, \"min\": 25.207042694091797}, \"finalize.time\": {\"count\": 1, \"max\": 237.15591430664062, \"sum\": 237.15591430664062, \"min\": 237.15591430664062}, \"initialize.time\": {\"count\": 1, \"max\": 1105.903148651123, \"sum\": 1105.903148651123, \"min\": 1105.903148651123}, \"update.time\": {\"count\": 1, \"max\": 1354.0139198303223, \"sum\": 1354.0139198303223, \"min\": 1354.0139198303223}}, \"EndTime\": 1601900403.45091, \"Dimensions\": {\"Host\": \"algo-1\", \"Operation\": \"training\", \"Algorithm\": \"AWS/KNN\"}, \"StartTime\": 1601900400.690039}\n",
      "\u001b[0m\n",
      "\n",
      "2020-10-05 12:20:25 Uploading - Uploading generated training model\n",
      "2020-10-05 12:20:25 Completed - Training job completed\n",
      "\u001b[34m[2020-10-05 12:20:13.268] [tensorio] [info] epoch_stats={\"data_pipeline\": \"/opt/ml/input/data/test\", \"epoch\": 0, \"duration\": 12557, \"num_examples\": 12, \"num_bytes\": 28121368}\u001b[0m\n",
      "\u001b[34m#metrics {\"Metrics\": {\"Max Batches Seen Between Resets\": {\"count\": 1, \"max\": 12, \"sum\": 12.0, \"min\": 12}, \"Number of Batches Since Last Reset\": {\"count\": 1, \"max\": 12, \"sum\": 12.0, \"min\": 12}, \"Number of Records Since Last Reset\": {\"count\": 1, \"max\": 58102, \"sum\": 58102.0, \"min\": 58102}, \"Total Batches Seen\": {\"count\": 1, \"max\": 12, \"sum\": 12.0, \"min\": 12}, \"Total Records Seen\": {\"count\": 1, \"max\": 58102, \"sum\": 58102.0, \"min\": 58102}, \"Max Records Seen Between Resets\": {\"count\": 1, \"max\": 58102, \"sum\": 58102.0, \"min\": 58102}, \"Reset Count\": {\"count\": 1, \"max\": 0, \"sum\": 0.0, \"min\": 0}}, \"EndTime\": 1601900413.279984, \"Dimensions\": {\"Host\": \"algo-1\", \"Meta\": \"test_data_iter\", \"Operation\": \"training\", \"Algorithm\": \"AWS/KNN\"}, \"StartTime\": 1601900403.451467}\n",
      "\u001b[0m\n",
      "\u001b[34m[10/05/2020 12:20:13 INFO 139878090184512] #test_score (algo-1) : ('accuracy', 0.8120202402671165)\u001b[0m\n",
      "\u001b[34m[10/05/2020 12:20:13 INFO 139878090184512] #test_score (algo-1) : ('macro_f_1.000', nan)\u001b[0m\n",
      "\u001b[34m[10/05/2020 12:20:13 INFO 139878090184512] #quality_metric: host=algo-1, test accuracy <score>=0.812020240267\u001b[0m\n",
      "\u001b[34m[10/05/2020 12:20:13 INFO 139878090184512] #quality_metric: host=algo-1, test macro_f_1.000 <score>=nan\u001b[0m\n",
      "\u001b[34m#metrics {\"Metrics\": {\"totaltime\": {\"count\": 1, \"max\": 12994.484901428223, \"sum\": 12994.484901428223, \"min\": 12994.484901428223}, \"setuptime\": {\"count\": 1, \"max\": 27.777910232543945, \"sum\": 27.777910232543945, \"min\": 27.777910232543945}}, \"EndTime\": 1601900413.284084, \"Dimensions\": {\"Host\": \"algo-1\", \"Operation\": \"training\", \"Algorithm\": \"AWS/KNN\"}, \"StartTime\": 1601900403.450992}\n",
      "\u001b[0m\n",
      "Training seconds: 78\n",
      "Billable seconds: 78\n"
     ]
    }
   ],
   "source": [
    "hyperparams_flat_l2 = {\n",
    "    'feature_dim': 54,\n",
    "    'k': 100,\n",
    "    'sample_size': 200000,\n",
    "    'predictor_type': 'classifier' \n",
    "    # NOTE: The default distance is L2 and index is Flat, so we don't list them here\n",
    "}\n",
    "output_path_flat_l2 = 's3://' + bucket + '/' + prefix + '/flat_l2/output'\n",
    "knn_estimator_flat_l2 = trained_estimator_from_hyperparams(s3_train_data, hyperparams_flat_l2, output_path_flat_l2, \n",
    "                                                           s3_test_data=s3_test_data)"
   ]
  },
  {
   "cell_type": "code",
   "execution_count": 15,
   "metadata": {},
   "outputs": [
    {
     "name": "stderr",
     "output_type": "stream",
     "text": [
      "'get_image_uri' method will be deprecated in favor of 'ImageURIProvider' class in SageMaker Python SDK v2.\n",
      "Parameter image_name will be renamed to image_uri in SageMaker Python SDK v2.\n",
      "'s3_input' class will be renamed to 'TrainingInput' in SageMaker Python SDK v2.\n",
      "'s3_input' class will be renamed to 'TrainingInput' in SageMaker Python SDK v2.\n"
     ]
    },
    {
     "name": "stdout",
     "output_type": "stream",
     "text": [
      "2020-10-05 12:22:00 Starting - Starting the training job...\n",
      "2020-10-05 12:22:03 Starting - Launching requested ML instances......\n",
      "2020-10-05 12:23:08 Starting - Preparing the instances for training...\n",
      "2020-10-05 12:23:47 Downloading - Downloading input data......\n",
      "2020-10-05 12:24:53 Training - Downloading the training image..\u001b[34mDocker entrypoint called with argument(s): train\u001b[0m\n",
      "\u001b[34mRunning default environment configuration script\u001b[0m\n",
      "\u001b[34m[10/05/2020 12:25:12 INFO 139703167903552] Reading default configuration from /opt/amazon/lib/python2.7/site-packages/algorithm/resources/default-conf.json: {u'index_metric': u'L2', u'_tuning_objective_metric': u'', u'_num_gpus': u'auto', u'_log_level': u'info', u'feature_dim': u'auto', u'faiss_index_ivf_nlists': u'auto', u'epochs': u'1', u'index_type': u'faiss.Flat', u'_faiss_index_nprobe': u'5', u'_kvstore': u'dist_async', u'_num_kv_servers': u'1', u'mini_batch_size': u'5000'}\u001b[0m\n",
      "\u001b[34m[10/05/2020 12:25:12 INFO 139703167903552] Merging with provided configuration from /opt/ml/input/config/hyperparameters.json: {u'sample_size': u'500000', u'feature_dim': u'54', u'predictor_type': u'classifier', u'k': u'100'}\u001b[0m\n",
      "\u001b[34m[10/05/2020 12:25:12 INFO 139703167903552] Final configuration: {u'index_metric': u'L2', u'predictor_type': u'classifier', u'_tuning_objective_metric': u'', u'_num_gpus': u'auto', u'_log_level': u'info', u'feature_dim': u'54', u'faiss_index_ivf_nlists': u'auto', u'sample_size': u'500000', u'epochs': u'1', u'index_type': u'faiss.Flat', u'_faiss_index_nprobe': u'5', u'_kvstore': u'dist_async', u'_num_kv_servers': u'1', u'mini_batch_size': u'5000', u'k': u'100'}\u001b[0m\n",
      "\u001b[34m[10/05/2020 12:25:12 WARNING 139703167903552] Loggers have already been setup.\u001b[0m\n",
      "\u001b[34m[10/05/2020 12:25:12 INFO 139703167903552] Launching parameter server for role scheduler\u001b[0m\n",
      "\u001b[34m[10/05/2020 12:25:12 INFO 139703167903552] {'ECS_CONTAINER_METADATA_URI': 'http://169.254.170.2/v3/5cfb01c6-7f3f-4993-97e1-3ff1cd701e4d', 'ECS_CONTAINER_METADATA_URI_V4': 'http://169.254.170.2/v4/5cfb01c6-7f3f-4993-97e1-3ff1cd701e4d', 'PROTOCOL_BUFFERS_PYTHON_IMPLEMENTATION_VERSION': '2', 'PATH': '/opt/amazon/bin:/usr/local/nvidia/bin:/usr/local/sbin:/usr/local/bin:/usr/sbin:/usr/bin:/sbin:/bin:/opt/amazon/bin:/opt/amazon/bin', 'SAGEMAKER_HTTP_PORT': '8080', 'HOME': '/root', 'PYTHONUNBUFFERED': 'TRUE', 'CANONICAL_ENVROOT': '/opt/amazon', 'LD_LIBRARY_PATH': '/opt/amazon/lib/python2.7/site-packages/cv2/../../../../lib:/usr/local/nvidia/lib64:/opt/amazon/lib', 'LANG': 'en_US.utf8', 'DMLC_INTERFACE': 'eth0', 'SHLVL': '1', 'AWS_REGION': 'us-east-1', 'SAGEMAKER_METRICS_DIRECTORY': '/opt/ml/output/metrics/sagemaker', 'NVIDIA_VISIBLE_DEVICES': 'void', 'TRAINING_JOB_NAME': 'knn-2020-10-05-12-22-00-175', 'PROTOCOL_BUFFERS_PYTHON_IMPLEMENTATION': 'cpp', 'ENVROOT': '/opt/amazon', 'SAGEMAKER_DATA_PATH': '/opt/ml', 'NVIDIA_DRIVER_CAPABILITIES': 'compute,utility', 'NVIDIA_REQUIRE_CUDA': 'cuda>=9.0', 'OMP_NUM_THREADS': '4', 'HOSTNAME': 'ip-10-0-97-106.ec2.internal', 'AWS_CONTAINER_CREDENTIALS_RELATIVE_URI': '/v2/credentials/27dafb66-e9f7-4dd8-9411-e098177205fe', 'PWD': '/', 'TRAINING_JOB_ARN': 'arn:aws:sagemaker:us-east-1:640463227255:training-job/knn-2020-10-05-12-22-00-175', 'AWS_EXECUTION_ENV': 'AWS_ECS_EC2'}\u001b[0m\n",
      "\u001b[34m[10/05/2020 12:25:12 INFO 139703167903552] envs={'ECS_CONTAINER_METADATA_URI': 'http://169.254.170.2/v3/5cfb01c6-7f3f-4993-97e1-3ff1cd701e4d', 'ECS_CONTAINER_METADATA_URI_V4': 'http://169.254.170.2/v4/5cfb01c6-7f3f-4993-97e1-3ff1cd701e4d', 'PROTOCOL_BUFFERS_PYTHON_IMPLEMENTATION_VERSION': '2', 'DMLC_NUM_WORKER': '1', 'DMLC_PS_ROOT_PORT': '9000', 'PATH': '/opt/amazon/bin:/usr/local/nvidia/bin:/usr/local/sbin:/usr/local/bin:/usr/sbin:/usr/bin:/sbin:/bin:/opt/amazon/bin:/opt/amazon/bin', 'SAGEMAKER_HTTP_PORT': '8080', 'HOME': '/root', 'PYTHONUNBUFFERED': 'TRUE', 'CANONICAL_ENVROOT': '/opt/amazon', 'LD_LIBRARY_PATH': '/opt/amazon/lib/python2.7/site-packages/cv2/../../../../lib:/usr/local/nvidia/lib64:/opt/amazon/lib', 'LANG': 'en_US.utf8', 'DMLC_INTERFACE': 'eth0', 'SHLVL': '1', 'DMLC_PS_ROOT_URI': '10.0.97.106', 'AWS_REGION': 'us-east-1', 'SAGEMAKER_METRICS_DIRECTORY': '/opt/ml/output/metrics/sagemaker', 'NVIDIA_VISIBLE_DEVICES': 'void', 'TRAINING_JOB_NAME': 'knn-2020-10-05-12-22-00-175', 'PROTOCOL_BUFFERS_PYTHON_IMPLEMENTATION': 'cpp', 'ENVROOT': '/opt/amazon', 'SAGEMAKER_DATA_PATH': '/opt/ml', 'NVIDIA_DRIVER_CAPABILITIES': 'compute,utility', 'NVIDIA_REQUIRE_CUDA': 'cuda>=9.0', 'OMP_NUM_THREADS': '4', 'HOSTNAME': 'ip-10-0-97-106.ec2.internal', 'AWS_CONTAINER_CREDENTIALS_RELATIVE_URI': '/v2/credentials/27dafb66-e9f7-4dd8-9411-e098177205fe', 'DMLC_ROLE': 'scheduler', 'PWD': '/', 'DMLC_NUM_SERVER': '1', 'TRAINING_JOB_ARN': 'arn:aws:sagemaker:us-east-1:640463227255:training-job/knn-2020-10-05-12-22-00-175', 'AWS_EXECUTION_ENV': 'AWS_ECS_EC2'}\u001b[0m\n",
      "\u001b[34m[10/05/2020 12:25:12 INFO 139703167903552] Launching parameter server for role server\u001b[0m\n",
      "\u001b[34m[10/05/2020 12:25:12 INFO 139703167903552] {'ECS_CONTAINER_METADATA_URI': 'http://169.254.170.2/v3/5cfb01c6-7f3f-4993-97e1-3ff1cd701e4d', 'ECS_CONTAINER_METADATA_URI_V4': 'http://169.254.170.2/v4/5cfb01c6-7f3f-4993-97e1-3ff1cd701e4d', 'PROTOCOL_BUFFERS_PYTHON_IMPLEMENTATION_VERSION': '2', 'PATH': '/opt/amazon/bin:/usr/local/nvidia/bin:/usr/local/sbin:/usr/local/bin:/usr/sbin:/usr/bin:/sbin:/bin:/opt/amazon/bin:/opt/amazon/bin', 'SAGEMAKER_HTTP_PORT': '8080', 'HOME': '/root', 'PYTHONUNBUFFERED': 'TRUE', 'CANONICAL_ENVROOT': '/opt/amazon', 'LD_LIBRARY_PATH': '/opt/amazon/lib/python2.7/site-packages/cv2/../../../../lib:/usr/local/nvidia/lib64:/opt/amazon/lib', 'LANG': 'en_US.utf8', 'DMLC_INTERFACE': 'eth0', 'SHLVL': '1', 'AWS_REGION': 'us-east-1', 'SAGEMAKER_METRICS_DIRECTORY': '/opt/ml/output/metrics/sagemaker', 'NVIDIA_VISIBLE_DEVICES': 'void', 'TRAINING_JOB_NAME': 'knn-2020-10-05-12-22-00-175', 'PROTOCOL_BUFFERS_PYTHON_IMPLEMENTATION': 'cpp', 'ENVROOT': '/opt/amazon', 'SAGEMAKER_DATA_PATH': '/opt/ml', 'NVIDIA_DRIVER_CAPABILITIES': 'compute,utility', 'NVIDIA_REQUIRE_CUDA': 'cuda>=9.0', 'OMP_NUM_THREADS': '4', 'HOSTNAME': 'ip-10-0-97-106.ec2.internal', 'AWS_CONTAINER_CREDENTIALS_RELATIVE_URI': '/v2/credentials/27dafb66-e9f7-4dd8-9411-e098177205fe', 'PWD': '/', 'TRAINING_JOB_ARN': 'arn:aws:sagemaker:us-east-1:640463227255:training-job/knn-2020-10-05-12-22-00-175', 'AWS_EXECUTION_ENV': 'AWS_ECS_EC2'}\u001b[0m\n",
      "\u001b[34m[10/05/2020 12:25:12 INFO 139703167903552] envs={'ECS_CONTAINER_METADATA_URI': 'http://169.254.170.2/v3/5cfb01c6-7f3f-4993-97e1-3ff1cd701e4d', 'ECS_CONTAINER_METADATA_URI_V4': 'http://169.254.170.2/v4/5cfb01c6-7f3f-4993-97e1-3ff1cd701e4d', 'PROTOCOL_BUFFERS_PYTHON_IMPLEMENTATION_VERSION': '2', 'DMLC_NUM_WORKER': '1', 'DMLC_PS_ROOT_PORT': '9000', 'PATH': '/opt/amazon/bin:/usr/local/nvidia/bin:/usr/local/sbin:/usr/local/bin:/usr/sbin:/usr/bin:/sbin:/bin:/opt/amazon/bin:/opt/amazon/bin', 'SAGEMAKER_HTTP_PORT': '8080', 'HOME': '/root', 'PYTHONUNBUFFERED': 'TRUE', 'CANONICAL_ENVROOT': '/opt/amazon', 'LD_LIBRARY_PATH': '/opt/amazon/lib/python2.7/site-packages/cv2/../../../../lib:/usr/local/nvidia/lib64:/opt/amazon/lib', 'LANG': 'en_US.utf8', 'DMLC_INTERFACE': 'eth0', 'SHLVL': '1', 'DMLC_PS_ROOT_URI': '10.0.97.106', 'AWS_REGION': 'us-east-1', 'SAGEMAKER_METRICS_DIRECTORY': '/opt/ml/output/metrics/sagemaker', 'NVIDIA_VISIBLE_DEVICES': 'void', 'TRAINING_JOB_NAME': 'knn-2020-10-05-12-22-00-175', 'PROTOCOL_BUFFERS_PYTHON_IMPLEMENTATION': 'cpp', 'ENVROOT': '/opt/amazon', 'SAGEMAKER_DATA_PATH': '/opt/ml', 'NVIDIA_DRIVER_CAPABILITIES': 'compute,utility', 'NVIDIA_REQUIRE_CUDA': 'cuda>=9.0', 'OMP_NUM_THREADS': '4', 'HOSTNAME': 'ip-10-0-97-106.ec2.internal', 'AWS_CONTAINER_CREDENTIALS_RELATIVE_URI': '/v2/credentials/27dafb66-e9f7-4dd8-9411-e098177205fe', 'DMLC_ROLE': 'server', 'PWD': '/', 'DMLC_NUM_SERVER': '1', 'TRAINING_JOB_ARN': 'arn:aws:sagemaker:us-east-1:640463227255:training-job/knn-2020-10-05-12-22-00-175', 'AWS_EXECUTION_ENV': 'AWS_ECS_EC2'}\u001b[0m\n",
      "\u001b[34m[10/05/2020 12:25:12 INFO 139703167903552] Environment: {'ECS_CONTAINER_METADATA_URI': 'http://169.254.170.2/v3/5cfb01c6-7f3f-4993-97e1-3ff1cd701e4d', 'ECS_CONTAINER_METADATA_URI_V4': 'http://169.254.170.2/v4/5cfb01c6-7f3f-4993-97e1-3ff1cd701e4d', 'PROTOCOL_BUFFERS_PYTHON_IMPLEMENTATION_VERSION': '2', 'DMLC_PS_ROOT_PORT': '9000', 'DMLC_NUM_WORKER': '1', 'SAGEMAKER_HTTP_PORT': '8080', 'PATH': '/opt/amazon/bin:/usr/local/nvidia/bin:/usr/local/sbin:/usr/local/bin:/usr/sbin:/usr/bin:/sbin:/bin:/opt/amazon/bin:/opt/amazon/bin', 'PYTHONUNBUFFERED': 'TRUE', 'CANONICAL_ENVROOT': '/opt/amazon', 'LD_LIBRARY_PATH': '/opt/amazon/lib/python2.7/site-packages/cv2/../../../../lib:/usr/local/nvidia/lib64:/opt/amazon/lib', 'LANG': 'en_US.utf8', 'DMLC_INTERFACE': 'eth0', 'SHLVL': '1', 'DMLC_PS_ROOT_URI': '10.0.97.106', 'AWS_REGION': 'us-east-1', 'SAGEMAKER_METRICS_DIRECTORY': '/opt/ml/output/metrics/sagemaker', 'NVIDIA_VISIBLE_DEVICES': 'void', 'TRAINING_JOB_NAME': 'knn-2020-10-05-12-22-00-175', 'HOME': '/root', 'PROTOCOL_BUFFERS_PYTHON_IMPLEMENTATION': 'cpp', 'ENVROOT': '/opt/amazon', 'SAGEMAKER_DATA_PATH': '/opt/ml', 'NVIDIA_DRIVER_CAPABILITIES': 'compute,utility', 'NVIDIA_REQUIRE_CUDA': 'cuda>=9.0', 'OMP_NUM_THREADS': '4', 'HOSTNAME': 'ip-10-0-97-106.ec2.internal', 'AWS_CONTAINER_CREDENTIALS_RELATIVE_URI': '/v2/credentials/27dafb66-e9f7-4dd8-9411-e098177205fe', 'DMLC_ROLE': 'worker', 'PWD': '/', 'DMLC_NUM_SERVER': '1', 'TRAINING_JOB_ARN': 'arn:aws:sagemaker:us-east-1:640463227255:training-job/knn-2020-10-05-12-22-00-175', 'AWS_EXECUTION_ENV': 'AWS_ECS_EC2'}\u001b[0m\n",
      "\u001b[34mProcess 67 is a shell:scheduler.\u001b[0m\n",
      "\u001b[34mProcess 77 is a shell:server.\u001b[0m\n",
      "\u001b[34mProcess 1 is a worker.\u001b[0m\n",
      "\u001b[34m[10/05/2020 12:25:12 INFO 139703167903552] Using default worker.\u001b[0m\n",
      "\u001b[34m[10/05/2020 12:25:13 INFO 139703167903552] Checkpoint loading and saving are disabled.\u001b[0m\n",
      "\u001b[34m[2020-10-05 12:25:13.543] [tensorio] [warning] TensorIO is already initialized; ignoring the initialization routine.\u001b[0m\n",
      "\u001b[34m[10/05/2020 12:25:13 INFO 139703167903552] nvidia-smi took: 0.0251770019531 secs to identify 0 gpus\u001b[0m\n",
      "\u001b[34m[10/05/2020 12:25:13 INFO 139703167903552] Create Store: dist_async\u001b[0m\n",
      "\u001b[34m[10/05/2020 12:25:13 ERROR 139703167903552] nvidia-smi: failed to run (127): /bin/sh: nvidia-smi: command not found\u001b[0m\n",
      "\u001b[34m[10/05/2020 12:25:13 INFO 139703167903552] Using per-worker sample size = 500000 (Available virtual memory = 30983512064 bytes, GPU free memory = 0 bytes, number of workers = 1). If an out-of-memory error occurs, choose a larger instance type, use dimension reduction, decrease sample_size, and/or decrease mini_batch_size.\u001b[0m\n",
      "\u001b[34m#metrics {\"Metrics\": {\"Max Batches Seen Between Resets\": {\"count\": 1, \"max\": 0, \"sum\": 0.0, \"min\": 0}, \"Number of Batches Since Last Reset\": {\"count\": 1, \"max\": 0, \"sum\": 0.0, \"min\": 0}, \"Number of Records Since Last Reset\": {\"count\": 1, \"max\": 0, \"sum\": 0.0, \"min\": 0}, \"Total Batches Seen\": {\"count\": 1, \"max\": 0, \"sum\": 0.0, \"min\": 0}, \"Total Records Seen\": {\"count\": 1, \"max\": 0, \"sum\": 0.0, \"min\": 0}, \"Max Records Seen Between Resets\": {\"count\": 1, \"max\": 0, \"sum\": 0.0, \"min\": 0}, \"Reset Count\": {\"count\": 1, \"max\": 0, \"sum\": 0.0, \"min\": 0}}, \"EndTime\": 1601900714.431774, \"Dimensions\": {\"Host\": \"algo-1\", \"Meta\": \"init_train_data_iter\", \"Operation\": \"training\", \"Algorithm\": \"AWS/KNN\"}, \"StartTime\": 1601900714.43173}\n",
      "\u001b[0m\n",
      "\u001b[34m[2020-10-05 12:25:14.434] [tensorio] [info] epoch_stats={\"data_pipeline\": \"/opt/ml/input/data/train\", \"epoch\": 0, \"duration\": 905, \"num_examples\": 1, \"num_bytes\": 2420000}\u001b[0m\n",
      "\u001b[34m[2020-10-05 12:25:15.675] [tensorio] [info] epoch_stats={\"data_pipeline\": \"/opt/ml/input/data/train\", \"epoch\": 1, \"duration\": 1240, \"num_examples\": 105, \"num_bytes\": 253088440}\u001b[0m\n",
      "\u001b[34m[10/05/2020 12:25:15 INFO 139703167903552] push reservoir to kv... 1 num_workers 0 rank\u001b[0m\n",
      "\u001b[34m[10/05/2020 12:25:15 INFO 139703167903552] ...done (500000)\u001b[0m\n",
      "\u001b[34m[10/05/2020 12:25:15 INFO 139703167903552] #progress_metric: host=algo-1, completed 100 % of epochs\u001b[0m\n",
      "\u001b[34m#metrics {\"Metrics\": {\"Max Batches Seen Between Resets\": {\"count\": 1, \"max\": 105, \"sum\": 105.0, \"min\": 105}, \"Number of Batches Since Last Reset\": {\"count\": 1, \"max\": 105, \"sum\": 105.0, \"min\": 105}, \"Number of Records Since Last Reset\": {\"count\": 1, \"max\": 522910, \"sum\": 522910.0, \"min\": 522910}, \"Total Batches Seen\": {\"count\": 1, \"max\": 105, \"sum\": 105.0, \"min\": 105}, \"Total Records Seen\": {\"count\": 1, \"max\": 522910, \"sum\": 522910.0, \"min\": 522910}, \"Max Records Seen Between Resets\": {\"count\": 1, \"max\": 522910, \"sum\": 522910.0, \"min\": 522910}, \"Reset Count\": {\"count\": 1, \"max\": 1, \"sum\": 1.0, \"min\": 1}}, \"EndTime\": 1601900715.897802, \"Dimensions\": {\"Host\": \"algo-1\", \"Meta\": \"training_data_iter\", \"Operation\": \"training\", \"Algorithm\": \"AWS/KNN\", \"epoch\": 0}, \"StartTime\": 1601900714.434848}\n",
      "\u001b[0m\n",
      "\u001b[34m[10/05/2020 12:25:15 INFO 139703167903552] #throughput_metric: host=algo-1, train throughput=357398.684671 records/second\u001b[0m\n",
      "\u001b[34m[10/05/2020 12:25:15 INFO 139703167903552] pulled row count... worker 0 rows 500000\u001b[0m\n",
      "\u001b[34m[10/05/2020 12:25:16 INFO 139703167903552] pulled... worker 0 data (500000, 54) labels (500000,) nans 0\u001b[0m\n",
      "\u001b[34m[10/05/2020 12:25:16 INFO 139703167903552] calling index.train...\u001b[0m\n",
      "\u001b[34m[10/05/2020 12:25:16 INFO 139703167903552] ...done calling index.train\u001b[0m\n",
      "\u001b[34m[10/05/2020 12:25:16 INFO 139703167903552] calling index.add...\u001b[0m\n",
      "\u001b[34m[10/05/2020 12:25:16 INFO 139703167903552] ...done calling index.add\u001b[0m\n",
      "\u001b[34m#metrics {\"Metrics\": {\"epochs\": {\"count\": 1, \"max\": 1, \"sum\": 1.0, \"min\": 1}, \"model.serialize.time\": {\"count\": 1, \"max\": 62.89100646972656, \"sum\": 62.89100646972656, \"min\": 62.89100646972656}, \"finalize.time\": {\"count\": 1, \"max\": 651.0848999023438, \"sum\": 651.0848999023438, \"min\": 651.0848999023438}, \"initialize.time\": {\"count\": 1, \"max\": 870.5689907073975, \"sum\": 870.5689907073975, \"min\": 870.5689907073975}, \"update.time\": {\"count\": 1, \"max\": 1462.651014328003, \"sum\": 1462.651014328003, \"min\": 1462.651014328003}}, \"EndTime\": 1601900716.612145, \"Dimensions\": {\"Host\": \"algo-1\", \"Operation\": \"training\", \"Algorithm\": \"AWS/KNN\"}, \"StartTime\": 1601900713.528743}\n",
      "\u001b[0m\n",
      "\n",
      "2020-10-05 12:25:08 Training - Training image download completed. Training in progress.\u001b[34m[2020-10-05 12:25:38.545] [tensorio] [info] epoch_stats={\"data_pipeline\": \"/opt/ml/input/data/test\", \"epoch\": 0, \"duration\": 25001, \"num_examples\": 12, \"num_bytes\": 28121368}\u001b[0m\n",
      "\u001b[34m#metrics {\"Metrics\": {\"Max Batches Seen Between Resets\": {\"count\": 1, \"max\": 12, \"sum\": 12.0, \"min\": 12}, \"Number of Batches Since Last Reset\": {\"count\": 1, \"max\": 12, \"sum\": 12.0, \"min\": 12}, \"Number of Records Since Last Reset\": {\"count\": 1, \"max\": 58102, \"sum\": 58102.0, \"min\": 58102}, \"Total Batches Seen\": {\"count\": 1, \"max\": 12, \"sum\": 12.0, \"min\": 12}, \"Total Records Seen\": {\"count\": 1, \"max\": 58102, \"sum\": 58102.0, \"min\": 58102}, \"Max Records Seen Between Resets\": {\"count\": 1, \"max\": 58102, \"sum\": 58102.0, \"min\": 58102}, \"Reset Count\": {\"count\": 1, \"max\": 0, \"sum\": 0.0, \"min\": 0}}, \"EndTime\": 1601900738.556925, \"Dimensions\": {\"Host\": \"algo-1\", \"Meta\": \"test_data_iter\", \"Operation\": \"training\", \"Algorithm\": \"AWS/KNN\"}, \"StartTime\": 1601900716.612707}\n",
      "\u001b[0m\n",
      "\u001b[34m[10/05/2020 12:25:38 INFO 139703167903552] #test_score (algo-1) : ('accuracy', 0.8716395304808785)\u001b[0m\n",
      "\u001b[34m[10/05/2020 12:25:38 INFO 139703167903552] #test_score (algo-1) : ('macro_f_1.000', nan)\u001b[0m\n",
      "\u001b[34m[10/05/2020 12:25:38 INFO 139703167903552] #quality_metric: host=algo-1, test accuracy <score>=0.871639530481\u001b[0m\n",
      "\u001b[34m[10/05/2020 12:25:38 INFO 139703167903552] #quality_metric: host=algo-1, test macro_f_1.000 <score>=nan\u001b[0m\n",
      "\u001b[34m#metrics {\"Metrics\": {\"totaltime\": {\"count\": 1, \"max\": 25678.472995758057, \"sum\": 25678.472995758057, \"min\": 25678.472995758057}, \"setuptime\": {\"count\": 1, \"max\": 31.284093856811523, \"sum\": 31.284093856811523, \"min\": 31.284093856811523}}, \"EndTime\": 1601900738.562643, \"Dimensions\": {\"Host\": \"algo-1\", \"Operation\": \"training\", \"Algorithm\": \"AWS/KNN\"}, \"StartTime\": 1601900716.612226}\n",
      "\u001b[0m\n",
      "\n",
      "2020-10-05 12:25:51 Uploading - Uploading generated training model\n",
      "2020-10-05 12:25:51 Completed - Training job completed\n",
      "Training seconds: 124\n",
      "Billable seconds: 124\n"
     ]
    }
   ],
   "source": [
    "hyperparams_flat_l2_large = {\n",
    "    'feature_dim': 54,\n",
    "    'k': 100,\n",
    "    'sample_size': 500000,\n",
    "    'predictor_type': 'classifier' \n",
    "}\n",
    "output_path_flat_l2_large = 's3://' + bucket + '/' + prefix + '/flat_l2_large/output'\n",
    "knn_estimator_flat_l2_large = trained_estimator_from_hyperparams(s3_train_data, hyperparams_flat_l2_large, \n",
    "                                                                 output_path_flat_l2_large, s3_test_data=s3_test_data)"
   ]
  },
  {
   "cell_type": "code",
   "execution_count": 16,
   "metadata": {
    "scrolled": true
   },
   "outputs": [
    {
     "name": "stderr",
     "output_type": "stream",
     "text": [
      "'get_image_uri' method will be deprecated in favor of 'ImageURIProvider' class in SageMaker Python SDK v2.\n",
      "Parameter image_name will be renamed to image_uri in SageMaker Python SDK v2.\n",
      "'s3_input' class will be renamed to 'TrainingInput' in SageMaker Python SDK v2.\n",
      "'s3_input' class will be renamed to 'TrainingInput' in SageMaker Python SDK v2.\n"
     ]
    },
    {
     "name": "stdout",
     "output_type": "stream",
     "text": [
      "2020-10-05 12:26:17 Starting - Starting the training job...\n",
      "2020-10-05 12:26:20 Starting - Launching requested ML instances......\n",
      "2020-10-05 12:27:26 Starting - Preparing the instances for training...\n",
      "2020-10-05 12:28:17 Downloading - Downloading input data...\n",
      "2020-10-05 12:28:43 Training - Downloading the training image..\u001b[34mDocker entrypoint called with argument(s): train\u001b[0m\n",
      "\u001b[34mRunning default environment configuration script\u001b[0m\n",
      "\u001b[34m[10/05/2020 12:29:01 INFO 140318796220224] Reading default configuration from /opt/amazon/lib/python2.7/site-packages/algorithm/resources/default-conf.json: {u'index_metric': u'L2', u'_tuning_objective_metric': u'', u'_num_gpus': u'auto', u'_log_level': u'info', u'feature_dim': u'auto', u'faiss_index_ivf_nlists': u'auto', u'epochs': u'1', u'index_type': u'faiss.Flat', u'_faiss_index_nprobe': u'5', u'_kvstore': u'dist_async', u'_num_kv_servers': u'1', u'mini_batch_size': u'5000'}\u001b[0m\n",
      "\u001b[34m[10/05/2020 12:29:01 INFO 140318796220224] Merging with provided configuration from /opt/ml/input/config/hyperparameters.json: {u'faiss_index_pq_m': u'8', u'predictor_type': u'classifier', u'index_type': u'faiss.IVFPQ', u'k': u'100', u'sample_size': u'200000', u'feature_dim': u'54', u'index_metric': u'L2', u'faiss_index_ivf_nlists': u'500'}\u001b[0m\n",
      "\u001b[34m[10/05/2020 12:29:01 INFO 140318796220224] Final configuration: {u'index_metric': u'L2', u'predictor_type': u'classifier', u'_tuning_objective_metric': u'', u'_num_gpus': u'auto', u'_log_level': u'info', u'feature_dim': u'54', u'faiss_index_ivf_nlists': u'500', u'sample_size': u'200000', u'epochs': u'1', u'index_type': u'faiss.IVFPQ', u'_faiss_index_nprobe': u'5', u'faiss_index_pq_m': u'8', u'_kvstore': u'dist_async', u'_num_kv_servers': u'1', u'mini_batch_size': u'5000', u'k': u'100'}\u001b[0m\n",
      "\u001b[34m[10/05/2020 12:29:01 WARNING 140318796220224] Loggers have already been setup.\u001b[0m\n",
      "\u001b[34m[10/05/2020 12:29:01 INFO 140318796220224] Launching parameter server for role scheduler\u001b[0m\n",
      "\u001b[34m[10/05/2020 12:29:01 INFO 140318796220224] {'ECS_CONTAINER_METADATA_URI': 'http://169.254.170.2/v3/1f5908a7-df7d-4f66-be8d-cc087aa002a2', 'ECS_CONTAINER_METADATA_URI_V4': 'http://169.254.170.2/v4/1f5908a7-df7d-4f66-be8d-cc087aa002a2', 'PROTOCOL_BUFFERS_PYTHON_IMPLEMENTATION_VERSION': '2', 'PATH': '/opt/amazon/bin:/usr/local/nvidia/bin:/usr/local/sbin:/usr/local/bin:/usr/sbin:/usr/bin:/sbin:/bin:/opt/amazon/bin:/opt/amazon/bin', 'SAGEMAKER_HTTP_PORT': '8080', 'HOME': '/root', 'PYTHONUNBUFFERED': 'TRUE', 'CANONICAL_ENVROOT': '/opt/amazon', 'LD_LIBRARY_PATH': '/opt/amazon/lib/python2.7/site-packages/cv2/../../../../lib:/usr/local/nvidia/lib64:/opt/amazon/lib', 'LANG': 'en_US.utf8', 'DMLC_INTERFACE': 'eth0', 'SHLVL': '1', 'AWS_REGION': 'us-east-1', 'SAGEMAKER_METRICS_DIRECTORY': '/opt/ml/output/metrics/sagemaker', 'NVIDIA_VISIBLE_DEVICES': 'void', 'TRAINING_JOB_NAME': 'knn-2020-10-05-12-26-16-912', 'PROTOCOL_BUFFERS_PYTHON_IMPLEMENTATION': 'cpp', 'ENVROOT': '/opt/amazon', 'SAGEMAKER_DATA_PATH': '/opt/ml', 'NVIDIA_DRIVER_CAPABILITIES': 'compute,utility', 'NVIDIA_REQUIRE_CUDA': 'cuda>=9.0', 'OMP_NUM_THREADS': '4', 'HOSTNAME': 'ip-10-2-80-182.ec2.internal', 'AWS_CONTAINER_CREDENTIALS_RELATIVE_URI': '/v2/credentials/ef2ca267-3232-4820-86e7-f885ce9233a0', 'PWD': '/', 'TRAINING_JOB_ARN': 'arn:aws:sagemaker:us-east-1:640463227255:training-job/knn-2020-10-05-12-26-16-912', 'AWS_EXECUTION_ENV': 'AWS_ECS_EC2'}\u001b[0m\n",
      "\u001b[34m[10/05/2020 12:29:01 INFO 140318796220224] envs={'ECS_CONTAINER_METADATA_URI': 'http://169.254.170.2/v3/1f5908a7-df7d-4f66-be8d-cc087aa002a2', 'ECS_CONTAINER_METADATA_URI_V4': 'http://169.254.170.2/v4/1f5908a7-df7d-4f66-be8d-cc087aa002a2', 'PROTOCOL_BUFFERS_PYTHON_IMPLEMENTATION_VERSION': '2', 'DMLC_NUM_WORKER': '1', 'DMLC_PS_ROOT_PORT': '9000', 'PATH': '/opt/amazon/bin:/usr/local/nvidia/bin:/usr/local/sbin:/usr/local/bin:/usr/sbin:/usr/bin:/sbin:/bin:/opt/amazon/bin:/opt/amazon/bin', 'SAGEMAKER_HTTP_PORT': '8080', 'HOME': '/root', 'PYTHONUNBUFFERED': 'TRUE', 'CANONICAL_ENVROOT': '/opt/amazon', 'LD_LIBRARY_PATH': '/opt/amazon/lib/python2.7/site-packages/cv2/../../../../lib:/usr/local/nvidia/lib64:/opt/amazon/lib', 'LANG': 'en_US.utf8', 'DMLC_INTERFACE': 'eth0', 'SHLVL': '1', 'DMLC_PS_ROOT_URI': '10.2.80.182', 'AWS_REGION': 'us-east-1', 'SAGEMAKER_METRICS_DIRECTORY': '/opt/ml/output/metrics/sagemaker', 'NVIDIA_VISIBLE_DEVICES': 'void', 'TRAINING_JOB_NAME': 'knn-2020-10-05-12-26-16-912', 'PROTOCOL_BUFFERS_PYTHON_IMPLEMENTATION': 'cpp', 'ENVROOT': '/opt/amazon', 'SAGEMAKER_DATA_PATH': '/opt/ml', 'NVIDIA_DRIVER_CAPABILITIES': 'compute,utility', 'NVIDIA_REQUIRE_CUDA': 'cuda>=9.0', 'OMP_NUM_THREADS': '4', 'HOSTNAME': 'ip-10-2-80-182.ec2.internal', 'AWS_CONTAINER_CREDENTIALS_RELATIVE_URI': '/v2/credentials/ef2ca267-3232-4820-86e7-f885ce9233a0', 'DMLC_ROLE': 'scheduler', 'PWD': '/', 'DMLC_NUM_SERVER': '1', 'TRAINING_JOB_ARN': 'arn:aws:sagemaker:us-east-1:640463227255:training-job/knn-2020-10-05-12-26-16-912', 'AWS_EXECUTION_ENV': 'AWS_ECS_EC2'}\u001b[0m\n",
      "\u001b[34m[10/05/2020 12:29:01 INFO 140318796220224] Launching parameter server for role server\u001b[0m\n",
      "\u001b[34m[10/05/2020 12:29:01 INFO 140318796220224] {'ECS_CONTAINER_METADATA_URI': 'http://169.254.170.2/v3/1f5908a7-df7d-4f66-be8d-cc087aa002a2', 'ECS_CONTAINER_METADATA_URI_V4': 'http://169.254.170.2/v4/1f5908a7-df7d-4f66-be8d-cc087aa002a2', 'PROTOCOL_BUFFERS_PYTHON_IMPLEMENTATION_VERSION': '2', 'PATH': '/opt/amazon/bin:/usr/local/nvidia/bin:/usr/local/sbin:/usr/local/bin:/usr/sbin:/usr/bin:/sbin:/bin:/opt/amazon/bin:/opt/amazon/bin', 'SAGEMAKER_HTTP_PORT': '8080', 'HOME': '/root', 'PYTHONUNBUFFERED': 'TRUE', 'CANONICAL_ENVROOT': '/opt/amazon', 'LD_LIBRARY_PATH': '/opt/amazon/lib/python2.7/site-packages/cv2/../../../../lib:/usr/local/nvidia/lib64:/opt/amazon/lib', 'LANG': 'en_US.utf8', 'DMLC_INTERFACE': 'eth0', 'SHLVL': '1', 'AWS_REGION': 'us-east-1', 'SAGEMAKER_METRICS_DIRECTORY': '/opt/ml/output/metrics/sagemaker', 'NVIDIA_VISIBLE_DEVICES': 'void', 'TRAINING_JOB_NAME': 'knn-2020-10-05-12-26-16-912', 'PROTOCOL_BUFFERS_PYTHON_IMPLEMENTATION': 'cpp', 'ENVROOT': '/opt/amazon', 'SAGEMAKER_DATA_PATH': '/opt/ml', 'NVIDIA_DRIVER_CAPABILITIES': 'compute,utility', 'NVIDIA_REQUIRE_CUDA': 'cuda>=9.0', 'OMP_NUM_THREADS': '4', 'HOSTNAME': 'ip-10-2-80-182.ec2.internal', 'AWS_CONTAINER_CREDENTIALS_RELATIVE_URI': '/v2/credentials/ef2ca267-3232-4820-86e7-f885ce9233a0', 'PWD': '/', 'TRAINING_JOB_ARN': 'arn:aws:sagemaker:us-east-1:640463227255:training-job/knn-2020-10-05-12-26-16-912', 'AWS_EXECUTION_ENV': 'AWS_ECS_EC2'}\u001b[0m\n",
      "\u001b[34m[10/05/2020 12:29:01 INFO 140318796220224] envs={'ECS_CONTAINER_METADATA_URI': 'http://169.254.170.2/v3/1f5908a7-df7d-4f66-be8d-cc087aa002a2', 'ECS_CONTAINER_METADATA_URI_V4': 'http://169.254.170.2/v4/1f5908a7-df7d-4f66-be8d-cc087aa002a2', 'PROTOCOL_BUFFERS_PYTHON_IMPLEMENTATION_VERSION': '2', 'DMLC_NUM_WORKER': '1', 'DMLC_PS_ROOT_PORT': '9000', 'PATH': '/opt/amazon/bin:/usr/local/nvidia/bin:/usr/local/sbin:/usr/local/bin:/usr/sbin:/usr/bin:/sbin:/bin:/opt/amazon/bin:/opt/amazon/bin', 'SAGEMAKER_HTTP_PORT': '8080', 'HOME': '/root', 'PYTHONUNBUFFERED': 'TRUE', 'CANONICAL_ENVROOT': '/opt/amazon', 'LD_LIBRARY_PATH': '/opt/amazon/lib/python2.7/site-packages/cv2/../../../../lib:/usr/local/nvidia/lib64:/opt/amazon/lib', 'LANG': 'en_US.utf8', 'DMLC_INTERFACE': 'eth0', 'SHLVL': '1', 'DMLC_PS_ROOT_URI': '10.2.80.182', 'AWS_REGION': 'us-east-1', 'SAGEMAKER_METRICS_DIRECTORY': '/opt/ml/output/metrics/sagemaker', 'NVIDIA_VISIBLE_DEVICES': 'void', 'TRAINING_JOB_NAME': 'knn-2020-10-05-12-26-16-912', 'PROTOCOL_BUFFERS_PYTHON_IMPLEMENTATION': 'cpp', 'ENVROOT': '/opt/amazon', 'SAGEMAKER_DATA_PATH': '/opt/ml', 'NVIDIA_DRIVER_CAPABILITIES': 'compute,utility', 'NVIDIA_REQUIRE_CUDA': 'cuda>=9.0', 'OMP_NUM_THREADS': '4', 'HOSTNAME': 'ip-10-2-80-182.ec2.internal', 'AWS_CONTAINER_CREDENTIALS_RELATIVE_URI': '/v2/credentials/ef2ca267-3232-4820-86e7-f885ce9233a0', 'DMLC_ROLE': 'server', 'PWD': '/', 'DMLC_NUM_SERVER': '1', 'TRAINING_JOB_ARN': 'arn:aws:sagemaker:us-east-1:640463227255:training-job/knn-2020-10-05-12-26-16-912', 'AWS_EXECUTION_ENV': 'AWS_ECS_EC2'}\u001b[0m\n",
      "\u001b[34m[10/05/2020 12:29:01 INFO 140318796220224] Environment: {'ECS_CONTAINER_METADATA_URI': 'http://169.254.170.2/v3/1f5908a7-df7d-4f66-be8d-cc087aa002a2', 'ECS_CONTAINER_METADATA_URI_V4': 'http://169.254.170.2/v4/1f5908a7-df7d-4f66-be8d-cc087aa002a2', 'PROTOCOL_BUFFERS_PYTHON_IMPLEMENTATION_VERSION': '2', 'DMLC_PS_ROOT_PORT': '9000', 'DMLC_NUM_WORKER': '1', 'SAGEMAKER_HTTP_PORT': '8080', 'PATH': '/opt/amazon/bin:/usr/local/nvidia/bin:/usr/local/sbin:/usr/local/bin:/usr/sbin:/usr/bin:/sbin:/bin:/opt/amazon/bin:/opt/amazon/bin', 'PYTHONUNBUFFERED': 'TRUE', 'CANONICAL_ENVROOT': '/opt/amazon', 'LD_LIBRARY_PATH': '/opt/amazon/lib/python2.7/site-packages/cv2/../../../../lib:/usr/local/nvidia/lib64:/opt/amazon/lib', 'LANG': 'en_US.utf8', 'DMLC_INTERFACE': 'eth0', 'SHLVL': '1', 'DMLC_PS_ROOT_URI': '10.2.80.182', 'AWS_REGION': 'us-east-1', 'SAGEMAKER_METRICS_DIRECTORY': '/opt/ml/output/metrics/sagemaker', 'NVIDIA_VISIBLE_DEVICES': 'void', 'TRAINING_JOB_NAME': 'knn-2020-10-05-12-26-16-912', 'HOME': '/root', 'PROTOCOL_BUFFERS_PYTHON_IMPLEMENTATION': 'cpp', 'ENVROOT': '/opt/amazon', 'SAGEMAKER_DATA_PATH': '/opt/ml', 'NVIDIA_DRIVER_CAPABILITIES': 'compute,utility', 'NVIDIA_REQUIRE_CUDA': 'cuda>=9.0', 'OMP_NUM_THREADS': '4', 'HOSTNAME': 'ip-10-2-80-182.ec2.internal', 'AWS_CONTAINER_CREDENTIALS_RELATIVE_URI': '/v2/credentials/ef2ca267-3232-4820-86e7-f885ce9233a0', 'DMLC_ROLE': 'worker', 'PWD': '/', 'DMLC_NUM_SERVER': '1', 'TRAINING_JOB_ARN': 'arn:aws:sagemaker:us-east-1:640463227255:training-job/knn-2020-10-05-12-26-16-912', 'AWS_EXECUTION_ENV': 'AWS_ECS_EC2'}\u001b[0m\n",
      "\u001b[34mProcess 66 is a shell:scheduler.\u001b[0m\n",
      "\u001b[34mProcess 77 is a shell:server.\u001b[0m\n",
      "\u001b[34mProcess 1 is a worker.\u001b[0m\n",
      "\u001b[34m[10/05/2020 12:29:01 INFO 140318796220224] Using default worker.\u001b[0m\n",
      "\u001b[34m[10/05/2020 12:29:01 INFO 140318796220224] Checkpoint loading and saving are disabled.\u001b[0m\n",
      "\u001b[34m[2020-10-05 12:29:01.887] [tensorio] [warning] TensorIO is already initialized; ignoring the initialization routine.\u001b[0m\n",
      "\u001b[34m[10/05/2020 12:29:01 INFO 140318796220224] nvidia-smi took: 0.0251750946045 secs to identify 0 gpus\u001b[0m\n",
      "\u001b[34m[10/05/2020 12:29:01 INFO 140318796220224] Create Store: dist_async\u001b[0m\n",
      "\u001b[34m[10/05/2020 12:29:02 ERROR 140318796220224] nvidia-smi: failed to run (127): /bin/sh: nvidia-smi: command not found\u001b[0m\n",
      "\u001b[34m[10/05/2020 12:29:02 INFO 140318796220224] Using per-worker sample size = 200000 (Available virtual memory = 30973796352 bytes, GPU free memory = 0 bytes, number of workers = 1). If an out-of-memory error occurs, choose a larger instance type, use dimension reduction, decrease sample_size, and/or decrease mini_batch_size.\u001b[0m\n",
      "\u001b[34m#metrics {\"Metrics\": {\"Max Batches Seen Between Resets\": {\"count\": 1, \"max\": 0, \"sum\": 0.0, \"min\": 0}, \"Number of Batches Since Last Reset\": {\"count\": 1, \"max\": 0, \"sum\": 0.0, \"min\": 0}, \"Number of Records Since Last Reset\": {\"count\": 1, \"max\": 0, \"sum\": 0.0, \"min\": 0}, \"Total Batches Seen\": {\"count\": 1, \"max\": 0, \"sum\": 0.0, \"min\": 0}, \"Total Records Seen\": {\"count\": 1, \"max\": 0, \"sum\": 0.0, \"min\": 0}, \"Max Records Seen Between Resets\": {\"count\": 1, \"max\": 0, \"sum\": 0.0, \"min\": 0}, \"Reset Count\": {\"count\": 1, \"max\": 0, \"sum\": 0.0, \"min\": 0}}, \"EndTime\": 1601900942.880808, \"Dimensions\": {\"Host\": \"algo-1\", \"Meta\": \"init_train_data_iter\", \"Operation\": \"training\", \"Algorithm\": \"AWS/KNN\"}, \"StartTime\": 1601900942.880765}\n",
      "\u001b[0m\n",
      "\u001b[34m[2020-10-05 12:29:02.883] [tensorio] [info] epoch_stats={\"data_pipeline\": \"/opt/ml/input/data/train\", \"epoch\": 0, \"duration\": 1015, \"num_examples\": 1, \"num_bytes\": 2420000}\u001b[0m\n",
      "\n",
      "2020-10-05 12:28:58 Training - Training image download completed. Training in progress.\u001b[34m[2020-10-05 12:29:04.102] [tensorio] [info] epoch_stats={\"data_pipeline\": \"/opt/ml/input/data/train\", \"epoch\": 1, \"duration\": 1219, \"num_examples\": 105, \"num_bytes\": 253088440}\u001b[0m\n",
      "\u001b[34m[10/05/2020 12:29:04 INFO 140318796220224] push reservoir to kv... 1 num_workers 0 rank\u001b[0m\n",
      "\u001b[34m[10/05/2020 12:29:04 INFO 140318796220224] ...done (200000)\u001b[0m\n",
      "\u001b[34m[10/05/2020 12:29:04 INFO 140318796220224] #progress_metric: host=algo-1, completed 100 % of epochs\u001b[0m\n",
      "\u001b[34m#metrics {\"Metrics\": {\"Max Batches Seen Between Resets\": {\"count\": 1, \"max\": 105, \"sum\": 105.0, \"min\": 105}, \"Number of Batches Since Last Reset\": {\"count\": 1, \"max\": 105, \"sum\": 105.0, \"min\": 105}, \"Number of Records Since Last Reset\": {\"count\": 1, \"max\": 522910, \"sum\": 522910.0, \"min\": 522910}, \"Total Batches Seen\": {\"count\": 1, \"max\": 105, \"sum\": 105.0, \"min\": 105}, \"Total Records Seen\": {\"count\": 1, \"max\": 522910, \"sum\": 522910.0, \"min\": 522910}, \"Max Records Seen Between Resets\": {\"count\": 1, \"max\": 522910, \"sum\": 522910.0, \"min\": 522910}, \"Reset Count\": {\"count\": 1, \"max\": 1, \"sum\": 1.0, \"min\": 1}}, \"EndTime\": 1601900944.197467, \"Dimensions\": {\"Host\": \"algo-1\", \"Meta\": \"training_data_iter\", \"Operation\": \"training\", \"Algorithm\": \"AWS/KNN\", \"epoch\": 0}, \"StartTime\": 1601900942.883576}\n",
      "\u001b[0m\n",
      "\u001b[34m[10/05/2020 12:29:04 INFO 140318796220224] #throughput_metric: host=algo-1, train throughput=397941.296049 records/second\u001b[0m\n",
      "\u001b[34m[10/05/2020 12:29:04 INFO 140318796220224] pulled row count... worker 0 rows 200000\u001b[0m\n",
      "\u001b[34m[10/05/2020 12:29:04 INFO 140318796220224] pulled... worker 0 data (200000, 56) labels (200000,) nans 0\u001b[0m\n",
      "\u001b[34m[10/05/2020 12:29:04 INFO 140318796220224] calling index.train...\u001b[0m\n",
      "\u001b[34m[10/05/2020 12:29:14 INFO 140318796220224] ...done calling index.train\u001b[0m\n",
      "\u001b[34m[10/05/2020 12:29:14 INFO 140318796220224] calling index.add...\u001b[0m\n",
      "\u001b[34m[10/05/2020 12:29:17 INFO 140318796220224] ...done calling index.add\u001b[0m\n",
      "\u001b[34m#metrics {\"Metrics\": {\"epochs\": {\"count\": 1, \"max\": 1, \"sum\": 1.0, \"min\": 1}, \"model.serialize.time\": {\"count\": 1, \"max\": 5.89299201965332, \"sum\": 5.89299201965332, \"min\": 5.89299201965332}, \"finalize.time\": {\"count\": 1, \"max\": 12934.594869613647, \"sum\": 12934.594869613647, \"min\": 12934.594869613647}, \"initialize.time\": {\"count\": 1, \"max\": 971.9030857086182, \"sum\": 971.9030857086182, \"min\": 971.9030857086182}, \"update.time\": {\"count\": 1, \"max\": 1313.6181831359863, \"sum\": 1313.6181831359863, \"min\": 1313.6181831359863}}, \"EndTime\": 1601900957.138338, \"Dimensions\": {\"Host\": \"algo-1\", \"Operation\": \"training\", \"Algorithm\": \"AWS/KNN\"}, \"StartTime\": 1601900941.86729}\n",
      "\u001b[0m\n",
      "\u001b[34m[2020-10-05 12:29:19.715] [tensorio] [info] epoch_stats={\"data_pipeline\": \"/opt/ml/input/data/test\", \"epoch\": 0, \"duration\": 17827, \"num_examples\": 12, \"num_bytes\": 28121368}\u001b[0m\n",
      "\u001b[34m#metrics {\"Metrics\": {\"Max Batches Seen Between Resets\": {\"count\": 1, \"max\": 12, \"sum\": 12.0, \"min\": 12}, \"Number of Batches Since Last Reset\": {\"count\": 1, \"max\": 12, \"sum\": 12.0, \"min\": 12}, \"Number of Records Since Last Reset\": {\"count\": 1, \"max\": 58102, \"sum\": 58102.0, \"min\": 58102}, \"Total Batches Seen\": {\"count\": 1, \"max\": 12, \"sum\": 12.0, \"min\": 12}, \"Total Records Seen\": {\"count\": 1, \"max\": 58102, \"sum\": 58102.0, \"min\": 58102}, \"Max Records Seen Between Resets\": {\"count\": 1, \"max\": 58102, \"sum\": 58102.0, \"min\": 58102}, \"Reset Count\": {\"count\": 1, \"max\": 0, \"sum\": 0.0, \"min\": 0}}, \"EndTime\": 1601900959.724866, \"Dimensions\": {\"Host\": \"algo-1\", \"Meta\": \"test_data_iter\", \"Operation\": \"training\", \"Algorithm\": \"AWS/KNN\"}, \"StartTime\": 1601900957.139036}\n",
      "\u001b[0m\n",
      "\u001b[34m[10/05/2020 12:29:19 INFO 140318796220224] #test_score (algo-1) : ('accuracy', 0.8045161956559155)\u001b[0m\n",
      "\u001b[34m[10/05/2020 12:29:19 INFO 140318796220224] #test_score (algo-1) : ('macro_f_1.000', nan)\u001b[0m\n",
      "\u001b[34m[10/05/2020 12:29:19 INFO 140318796220224] #quality_metric: host=algo-1, test accuracy <score>=0.804516195656\u001b[0m\n",
      "\u001b[34m[10/05/2020 12:29:19 INFO 140318796220224] #quality_metric: host=algo-1, test macro_f_1.000 <score>=nan\u001b[0m\n",
      "\u001b[34m#metrics {\"Metrics\": {\"totaltime\": {\"count\": 1, \"max\": 18276.890993118286, \"sum\": 18276.890993118286, \"min\": 18276.890993118286}, \"setuptime\": {\"count\": 1, \"max\": 29.014110565185547, \"sum\": 29.014110565185547, \"min\": 29.014110565185547}}, \"EndTime\": 1601900959.727994, \"Dimensions\": {\"Host\": \"algo-1\", \"Operation\": \"training\", \"Algorithm\": \"AWS/KNN\"}, \"StartTime\": 1601900957.138442}\n",
      "\u001b[0m\n",
      "\n",
      "2020-10-05 12:29:31 Uploading - Uploading generated training model\n",
      "2020-10-05 12:29:31 Completed - Training job completed\n",
      "Training seconds: 74\n",
      "Billable seconds: 74\n"
     ]
    }
   ],
   "source": [
    "hyperparams_ivfpq_l2 = {\n",
    "    'feature_dim': 54,\n",
    "    'k': 100,\n",
    "    'sample_size': 200000,\n",
    "    'predictor_type': 'classifier',\n",
    "    'index_type': 'faiss.IVFPQ',\n",
    "    'index_metric': 'L2',\n",
    "    'faiss_index_ivf_nlists': 500, \n",
    "    'faiss_index_pq_m': '8'\n",
    "    # number of distinct quantizers. In our case dim=54, so every quantizer will code up to 7 numbers.\n",
    "    # Each block of (up to) 7 numbers will be coded into a single byte.\n",
    "}\n",
    "output_path_ivfpq_l2 = 's3://' + bucket + '/' + prefix + '/ivfpq_l2/output'\n",
    "knn_estimator_ivfpq_l2 = trained_estimator_from_hyperparams(s3_train_data, hyperparams_ivfpq_l2, output_path_ivfpq_l2, \n",
    "                                                           s3_test_data=s3_test_data)"
   ]
  },
  {
   "cell_type": "code",
   "execution_count": 17,
   "metadata": {},
   "outputs": [
    {
     "name": "stderr",
     "output_type": "stream",
     "text": [
      "'get_image_uri' method will be deprecated in favor of 'ImageURIProvider' class in SageMaker Python SDK v2.\n",
      "Parameter image_name will be renamed to image_uri in SageMaker Python SDK v2.\n",
      "'s3_input' class will be renamed to 'TrainingInput' in SageMaker Python SDK v2.\n",
      "'s3_input' class will be renamed to 'TrainingInput' in SageMaker Python SDK v2.\n"
     ]
    },
    {
     "name": "stdout",
     "output_type": "stream",
     "text": [
      "2020-10-05 12:32:45 Starting - Starting the training job...\n",
      "2020-10-05 12:32:47 Starting - Launching requested ML instances......\n",
      "2020-10-05 12:33:51 Starting - Preparing the instances for training...\n",
      "2020-10-05 12:34:35 Downloading - Downloading input data...\n",
      "2020-10-05 12:35:13 Training - Training image download completed. Training in progress..\u001b[34mDocker entrypoint called with argument(s): train\u001b[0m\n",
      "\u001b[34mRunning default environment configuration script\u001b[0m\n",
      "\u001b[34m[10/05/2020 12:35:17 INFO 139693222913856] Reading default configuration from /opt/amazon/lib/python2.7/site-packages/algorithm/resources/default-conf.json: {u'index_metric': u'L2', u'_tuning_objective_metric': u'', u'_num_gpus': u'auto', u'_log_level': u'info', u'feature_dim': u'auto', u'faiss_index_ivf_nlists': u'auto', u'epochs': u'1', u'index_type': u'faiss.Flat', u'_faiss_index_nprobe': u'5', u'_kvstore': u'dist_async', u'_num_kv_servers': u'1', u'mini_batch_size': u'5000'}\u001b[0m\n",
      "\u001b[34m[10/05/2020 12:35:17 INFO 139693222913856] Merging with provided configuration from /opt/ml/input/config/hyperparameters.json: {u'faiss_index_pq_m': u'8', u'predictor_type': u'classifier', u'index_type': u'faiss.IVFPQ', u'k': u'100', u'sample_size': u'500000', u'feature_dim': u'54', u'index_metric': u'L2', u'faiss_index_ivf_nlists': u'700'}\u001b[0m\n",
      "\u001b[34m[10/05/2020 12:35:17 INFO 139693222913856] Final configuration: {u'index_metric': u'L2', u'predictor_type': u'classifier', u'_tuning_objective_metric': u'', u'_num_gpus': u'auto', u'_log_level': u'info', u'feature_dim': u'54', u'faiss_index_ivf_nlists': u'700', u'sample_size': u'500000', u'epochs': u'1', u'index_type': u'faiss.IVFPQ', u'_faiss_index_nprobe': u'5', u'faiss_index_pq_m': u'8', u'_kvstore': u'dist_async', u'_num_kv_servers': u'1', u'mini_batch_size': u'5000', u'k': u'100'}\u001b[0m\n",
      "\u001b[34m[10/05/2020 12:35:17 WARNING 139693222913856] Loggers have already been setup.\u001b[0m\n",
      "\u001b[34m[10/05/2020 12:35:17 INFO 139693222913856] Launching parameter server for role scheduler\u001b[0m\n",
      "\u001b[34m[10/05/2020 12:35:17 INFO 139693222913856] {'ECS_CONTAINER_METADATA_URI': 'http://169.254.170.2/v3/5d73a7f8-e0e9-4c9a-adbb-09f920eb93f5', 'ECS_CONTAINER_METADATA_URI_V4': 'http://169.254.170.2/v4/5d73a7f8-e0e9-4c9a-adbb-09f920eb93f5', 'PROTOCOL_BUFFERS_PYTHON_IMPLEMENTATION_VERSION': '2', 'PATH': '/opt/amazon/bin:/usr/local/nvidia/bin:/usr/local/sbin:/usr/local/bin:/usr/sbin:/usr/bin:/sbin:/bin:/opt/amazon/bin:/opt/amazon/bin', 'SAGEMAKER_HTTP_PORT': '8080', 'HOME': '/root', 'PYTHONUNBUFFERED': 'TRUE', 'CANONICAL_ENVROOT': '/opt/amazon', 'LD_LIBRARY_PATH': '/opt/amazon/lib/python2.7/site-packages/cv2/../../../../lib:/usr/local/nvidia/lib64:/opt/amazon/lib', 'LANG': 'en_US.utf8', 'DMLC_INTERFACE': 'eth0', 'SHLVL': '1', 'AWS_REGION': 'us-east-1', 'SAGEMAKER_METRICS_DIRECTORY': '/opt/ml/output/metrics/sagemaker', 'NVIDIA_VISIBLE_DEVICES': 'void', 'TRAINING_JOB_NAME': 'knn-2020-10-05-12-32-44-860', 'PROTOCOL_BUFFERS_PYTHON_IMPLEMENTATION': 'cpp', 'ENVROOT': '/opt/amazon', 'SAGEMAKER_DATA_PATH': '/opt/ml', 'NVIDIA_DRIVER_CAPABILITIES': 'compute,utility', 'NVIDIA_REQUIRE_CUDA': 'cuda>=9.0', 'OMP_NUM_THREADS': '4', 'HOSTNAME': 'ip-10-0-92-67.ec2.internal', 'AWS_CONTAINER_CREDENTIALS_RELATIVE_URI': '/v2/credentials/1762c9f2-42d6-421f-b770-52b39675a5cc', 'PWD': '/', 'TRAINING_JOB_ARN': 'arn:aws:sagemaker:us-east-1:640463227255:training-job/knn-2020-10-05-12-32-44-860', 'AWS_EXECUTION_ENV': 'AWS_ECS_EC2'}\u001b[0m\n",
      "\u001b[34m[10/05/2020 12:35:17 INFO 139693222913856] envs={'ECS_CONTAINER_METADATA_URI': 'http://169.254.170.2/v3/5d73a7f8-e0e9-4c9a-adbb-09f920eb93f5', 'ECS_CONTAINER_METADATA_URI_V4': 'http://169.254.170.2/v4/5d73a7f8-e0e9-4c9a-adbb-09f920eb93f5', 'PROTOCOL_BUFFERS_PYTHON_IMPLEMENTATION_VERSION': '2', 'DMLC_NUM_WORKER': '1', 'DMLC_PS_ROOT_PORT': '9000', 'PATH': '/opt/amazon/bin:/usr/local/nvidia/bin:/usr/local/sbin:/usr/local/bin:/usr/sbin:/usr/bin:/sbin:/bin:/opt/amazon/bin:/opt/amazon/bin', 'SAGEMAKER_HTTP_PORT': '8080', 'HOME': '/root', 'PYTHONUNBUFFERED': 'TRUE', 'CANONICAL_ENVROOT': '/opt/amazon', 'LD_LIBRARY_PATH': '/opt/amazon/lib/python2.7/site-packages/cv2/../../../../lib:/usr/local/nvidia/lib64:/opt/amazon/lib', 'LANG': 'en_US.utf8', 'DMLC_INTERFACE': 'eth0', 'SHLVL': '1', 'DMLC_PS_ROOT_URI': '10.0.92.67', 'AWS_REGION': 'us-east-1', 'SAGEMAKER_METRICS_DIRECTORY': '/opt/ml/output/metrics/sagemaker', 'NVIDIA_VISIBLE_DEVICES': 'void', 'TRAINING_JOB_NAME': 'knn-2020-10-05-12-32-44-860', 'PROTOCOL_BUFFERS_PYTHON_IMPLEMENTATION': 'cpp', 'ENVROOT': '/opt/amazon', 'SAGEMAKER_DATA_PATH': '/opt/ml', 'NVIDIA_DRIVER_CAPABILITIES': 'compute,utility', 'NVIDIA_REQUIRE_CUDA': 'cuda>=9.0', 'OMP_NUM_THREADS': '4', 'HOSTNAME': 'ip-10-0-92-67.ec2.internal', 'AWS_CONTAINER_CREDENTIALS_RELATIVE_URI': '/v2/credentials/1762c9f2-42d6-421f-b770-52b39675a5cc', 'DMLC_ROLE': 'scheduler', 'PWD': '/', 'DMLC_NUM_SERVER': '1', 'TRAINING_JOB_ARN': 'arn:aws:sagemaker:us-east-1:640463227255:training-job/knn-2020-10-05-12-32-44-860', 'AWS_EXECUTION_ENV': 'AWS_ECS_EC2'}\u001b[0m\n",
      "\u001b[34m[10/05/2020 12:35:17 INFO 139693222913856] Launching parameter server for role server\u001b[0m\n",
      "\u001b[34m[10/05/2020 12:35:17 INFO 139693222913856] {'ECS_CONTAINER_METADATA_URI': 'http://169.254.170.2/v3/5d73a7f8-e0e9-4c9a-adbb-09f920eb93f5', 'ECS_CONTAINER_METADATA_URI_V4': 'http://169.254.170.2/v4/5d73a7f8-e0e9-4c9a-adbb-09f920eb93f5', 'PROTOCOL_BUFFERS_PYTHON_IMPLEMENTATION_VERSION': '2', 'PATH': '/opt/amazon/bin:/usr/local/nvidia/bin:/usr/local/sbin:/usr/local/bin:/usr/sbin:/usr/bin:/sbin:/bin:/opt/amazon/bin:/opt/amazon/bin', 'SAGEMAKER_HTTP_PORT': '8080', 'HOME': '/root', 'PYTHONUNBUFFERED': 'TRUE', 'CANONICAL_ENVROOT': '/opt/amazon', 'LD_LIBRARY_PATH': '/opt/amazon/lib/python2.7/site-packages/cv2/../../../../lib:/usr/local/nvidia/lib64:/opt/amazon/lib', 'LANG': 'en_US.utf8', 'DMLC_INTERFACE': 'eth0', 'SHLVL': '1', 'AWS_REGION': 'us-east-1', 'SAGEMAKER_METRICS_DIRECTORY': '/opt/ml/output/metrics/sagemaker', 'NVIDIA_VISIBLE_DEVICES': 'void', 'TRAINING_JOB_NAME': 'knn-2020-10-05-12-32-44-860', 'PROTOCOL_BUFFERS_PYTHON_IMPLEMENTATION': 'cpp', 'ENVROOT': '/opt/amazon', 'SAGEMAKER_DATA_PATH': '/opt/ml', 'NVIDIA_DRIVER_CAPABILITIES': 'compute,utility', 'NVIDIA_REQUIRE_CUDA': 'cuda>=9.0', 'OMP_NUM_THREADS': '4', 'HOSTNAME': 'ip-10-0-92-67.ec2.internal', 'AWS_CONTAINER_CREDENTIALS_RELATIVE_URI': '/v2/credentials/1762c9f2-42d6-421f-b770-52b39675a5cc', 'PWD': '/', 'TRAINING_JOB_ARN': 'arn:aws:sagemaker:us-east-1:640463227255:training-job/knn-2020-10-05-12-32-44-860', 'AWS_EXECUTION_ENV': 'AWS_ECS_EC2'}\u001b[0m\n",
      "\u001b[34m[10/05/2020 12:35:17 INFO 139693222913856] envs={'ECS_CONTAINER_METADATA_URI': 'http://169.254.170.2/v3/5d73a7f8-e0e9-4c9a-adbb-09f920eb93f5', 'ECS_CONTAINER_METADATA_URI_V4': 'http://169.254.170.2/v4/5d73a7f8-e0e9-4c9a-adbb-09f920eb93f5', 'PROTOCOL_BUFFERS_PYTHON_IMPLEMENTATION_VERSION': '2', 'DMLC_NUM_WORKER': '1', 'DMLC_PS_ROOT_PORT': '9000', 'PATH': '/opt/amazon/bin:/usr/local/nvidia/bin:/usr/local/sbin:/usr/local/bin:/usr/sbin:/usr/bin:/sbin:/bin:/opt/amazon/bin:/opt/amazon/bin', 'SAGEMAKER_HTTP_PORT': '8080', 'HOME': '/root', 'PYTHONUNBUFFERED': 'TRUE', 'CANONICAL_ENVROOT': '/opt/amazon', 'LD_LIBRARY_PATH': '/opt/amazon/lib/python2.7/site-packages/cv2/../../../../lib:/usr/local/nvidia/lib64:/opt/amazon/lib', 'LANG': 'en_US.utf8', 'DMLC_INTERFACE': 'eth0', 'SHLVL': '1', 'DMLC_PS_ROOT_URI': '10.0.92.67', 'AWS_REGION': 'us-east-1', 'SAGEMAKER_METRICS_DIRECTORY': '/opt/ml/output/metrics/sagemaker', 'NVIDIA_VISIBLE_DEVICES': 'void', 'TRAINING_JOB_NAME': 'knn-2020-10-05-12-32-44-860', 'PROTOCOL_BUFFERS_PYTHON_IMPLEMENTATION': 'cpp', 'ENVROOT': '/opt/amazon', 'SAGEMAKER_DATA_PATH': '/opt/ml', 'NVIDIA_DRIVER_CAPABILITIES': 'compute,utility', 'NVIDIA_REQUIRE_CUDA': 'cuda>=9.0', 'OMP_NUM_THREADS': '4', 'HOSTNAME': 'ip-10-0-92-67.ec2.internal', 'AWS_CONTAINER_CREDENTIALS_RELATIVE_URI': '/v2/credentials/1762c9f2-42d6-421f-b770-52b39675a5cc', 'DMLC_ROLE': 'server', 'PWD': '/', 'DMLC_NUM_SERVER': '1', 'TRAINING_JOB_ARN': 'arn:aws:sagemaker:us-east-1:640463227255:training-job/knn-2020-10-05-12-32-44-860', 'AWS_EXECUTION_ENV': 'AWS_ECS_EC2'}\u001b[0m\n",
      "\u001b[34m[10/05/2020 12:35:17 INFO 139693222913856] Environment: {'ECS_CONTAINER_METADATA_URI': 'http://169.254.170.2/v3/5d73a7f8-e0e9-4c9a-adbb-09f920eb93f5', 'ECS_CONTAINER_METADATA_URI_V4': 'http://169.254.170.2/v4/5d73a7f8-e0e9-4c9a-adbb-09f920eb93f5', 'PROTOCOL_BUFFERS_PYTHON_IMPLEMENTATION_VERSION': '2', 'DMLC_PS_ROOT_PORT': '9000', 'DMLC_NUM_WORKER': '1', 'SAGEMAKER_HTTP_PORT': '8080', 'PATH': '/opt/amazon/bin:/usr/local/nvidia/bin:/usr/local/sbin:/usr/local/bin:/usr/sbin:/usr/bin:/sbin:/bin:/opt/amazon/bin:/opt/amazon/bin', 'PYTHONUNBUFFERED': 'TRUE', 'CANONICAL_ENVROOT': '/opt/amazon', 'LD_LIBRARY_PATH': '/opt/amazon/lib/python2.7/site-packages/cv2/../../../../lib:/usr/local/nvidia/lib64:/opt/amazon/lib', 'LANG': 'en_US.utf8', 'DMLC_INTERFACE': 'eth0', 'SHLVL': '1', 'DMLC_PS_ROOT_URI': '10.0.92.67', 'AWS_REGION': 'us-east-1', 'SAGEMAKER_METRICS_DIRECTORY': '/opt/ml/output/metrics/sagemaker', 'NVIDIA_VISIBLE_DEVICES': 'void', 'TRAINING_JOB_NAME': 'knn-2020-10-05-12-32-44-860', 'HOME': '/root', 'PROTOCOL_BUFFERS_PYTHON_IMPLEMENTATION': 'cpp', 'ENVROOT': '/opt/amazon', 'SAGEMAKER_DATA_PATH': '/opt/ml', 'NVIDIA_DRIVER_CAPABILITIES': 'compute,utility', 'NVIDIA_REQUIRE_CUDA': 'cuda>=9.0', 'OMP_NUM_THREADS': '4', 'HOSTNAME': 'ip-10-0-92-67.ec2.internal', 'AWS_CONTAINER_CREDENTIALS_RELATIVE_URI': '/v2/credentials/1762c9f2-42d6-421f-b770-52b39675a5cc', 'DMLC_ROLE': 'worker', 'PWD': '/', 'DMLC_NUM_SERVER': '1', 'TRAINING_JOB_ARN': 'arn:aws:sagemaker:us-east-1:640463227255:training-job/knn-2020-10-05-12-32-44-860', 'AWS_EXECUTION_ENV': 'AWS_ECS_EC2'}\u001b[0m\n",
      "\u001b[34mProcess 66 is a shell:scheduler.\u001b[0m\n",
      "\u001b[34mProcess 77 is a shell:server.\u001b[0m\n",
      "\u001b[34mProcess 1 is a worker.\u001b[0m\n",
      "\u001b[34m[10/05/2020 12:35:17 INFO 139693222913856] Using default worker.\u001b[0m\n",
      "\u001b[34m[10/05/2020 12:35:17 INFO 139693222913856] Checkpoint loading and saving are disabled.\u001b[0m\n",
      "\u001b[34m[2020-10-05 12:35:17.964] [tensorio] [warning] TensorIO is already initialized; ignoring the initialization routine.\u001b[0m\n",
      "\u001b[34m[10/05/2020 12:35:18 INFO 139693222913856] nvidia-smi took: 0.025171995163 secs to identify 0 gpus\u001b[0m\n",
      "\u001b[34m[10/05/2020 12:35:18 INFO 139693222913856] Create Store: dist_async\u001b[0m\n",
      "\u001b[34m[10/05/2020 12:35:18 ERROR 139693222913856] nvidia-smi: failed to run (127): /bin/sh: nvidia-smi: command not found\u001b[0m\n",
      "\u001b[34m[10/05/2020 12:35:18 INFO 139693222913856] Using per-worker sample size = 500000 (Available virtual memory = 31011168256 bytes, GPU free memory = 0 bytes, number of workers = 1). If an out-of-memory error occurs, choose a larger instance type, use dimension reduction, decrease sample_size, and/or decrease mini_batch_size.\u001b[0m\n",
      "\u001b[34m#metrics {\"Metrics\": {\"Max Batches Seen Between Resets\": {\"count\": 1, \"max\": 0, \"sum\": 0.0, \"min\": 0}, \"Number of Batches Since Last Reset\": {\"count\": 1, \"max\": 0, \"sum\": 0.0, \"min\": 0}, \"Number of Records Since Last Reset\": {\"count\": 1, \"max\": 0, \"sum\": 0.0, \"min\": 0}, \"Total Batches Seen\": {\"count\": 1, \"max\": 0, \"sum\": 0.0, \"min\": 0}, \"Total Records Seen\": {\"count\": 1, \"max\": 0, \"sum\": 0.0, \"min\": 0}, \"Max Records Seen Between Resets\": {\"count\": 1, \"max\": 0, \"sum\": 0.0, \"min\": 0}, \"Reset Count\": {\"count\": 1, \"max\": 0, \"sum\": 0.0, \"min\": 0}}, \"EndTime\": 1601901318.733742, \"Dimensions\": {\"Host\": \"algo-1\", \"Meta\": \"init_train_data_iter\", \"Operation\": \"training\", \"Algorithm\": \"AWS/KNN\"}, \"StartTime\": 1601901318.733697}\n",
      "\u001b[0m\n",
      "\u001b[34m[2020-10-05 12:35:18.737] [tensorio] [info] epoch_stats={\"data_pipeline\": \"/opt/ml/input/data/train\", \"epoch\": 0, \"duration\": 785, \"num_examples\": 1, \"num_bytes\": 2420000}\u001b[0m\n",
      "\u001b[34m[2020-10-05 12:35:19.981] [tensorio] [info] epoch_stats={\"data_pipeline\": \"/opt/ml/input/data/train\", \"epoch\": 1, \"duration\": 1244, \"num_examples\": 105, \"num_bytes\": 253088440}\u001b[0m\n",
      "\u001b[34m[10/05/2020 12:35:19 INFO 139693222913856] push reservoir to kv... 1 num_workers 0 rank\u001b[0m\n",
      "\u001b[34m[10/05/2020 12:35:20 INFO 139693222913856] ...done (500000)\u001b[0m\n",
      "\u001b[34m[10/05/2020 12:35:20 INFO 139693222913856] #progress_metric: host=algo-1, completed 100 % of epochs\u001b[0m\n",
      "\u001b[34m#metrics {\"Metrics\": {\"Max Batches Seen Between Resets\": {\"count\": 1, \"max\": 105, \"sum\": 105.0, \"min\": 105}, \"Number of Batches Since Last Reset\": {\"count\": 1, \"max\": 105, \"sum\": 105.0, \"min\": 105}, \"Number of Records Since Last Reset\": {\"count\": 1, \"max\": 522910, \"sum\": 522910.0, \"min\": 522910}, \"Total Batches Seen\": {\"count\": 1, \"max\": 105, \"sum\": 105.0, \"min\": 105}, \"Total Records Seen\": {\"count\": 1, \"max\": 522910, \"sum\": 522910.0, \"min\": 522910}, \"Max Records Seen Between Resets\": {\"count\": 1, \"max\": 522910, \"sum\": 522910.0, \"min\": 522910}, \"Reset Count\": {\"count\": 1, \"max\": 1, \"sum\": 1.0, \"min\": 1}}, \"EndTime\": 1601901320.205519, \"Dimensions\": {\"Host\": \"algo-1\", \"Meta\": \"training_data_iter\", \"Operation\": \"training\", \"Algorithm\": \"AWS/KNN\", \"epoch\": 0}, \"StartTime\": 1601901318.737153}\n",
      "\u001b[0m\n",
      "\u001b[34m[10/05/2020 12:35:20 INFO 139693222913856] #throughput_metric: host=algo-1, train throughput=356079.839504 records/second\u001b[0m\n",
      "\u001b[34m[10/05/2020 12:35:20 INFO 139693222913856] pulled row count... worker 0 rows 500000\u001b[0m\n",
      "\u001b[34m[10/05/2020 12:35:20 INFO 139693222913856] pulled... worker 0 data (500000, 56) labels (500000,) nans 0\u001b[0m\n",
      "\u001b[34m[10/05/2020 12:35:20 INFO 139693222913856] calling index.train...\u001b[0m\n",
      "\u001b[34m[10/05/2020 12:35:31 INFO 139693222913856] ...done calling index.train\u001b[0m\n",
      "\u001b[34m[10/05/2020 12:35:31 INFO 139693222913856] calling index.add...\u001b[0m\n",
      "\n",
      "2020-10-05 12:35:44 Uploading - Uploading generated training model\u001b[34m[10/05/2020 12:35:38 INFO 139693222913856] ...done calling index.add\u001b[0m\n",
      "\u001b[34m#metrics {\"Metrics\": {\"epochs\": {\"count\": 1, \"max\": 1, \"sum\": 1.0, \"min\": 1}, \"model.serialize.time\": {\"count\": 1, \"max\": 10.951995849609375, \"sum\": 10.951995849609375, \"min\": 10.951995849609375}, \"finalize.time\": {\"count\": 1, \"max\": 18202.985048294067, \"sum\": 18202.985048294067, \"min\": 18202.985048294067}, \"initialize.time\": {\"count\": 1, \"max\": 747.3869323730469, \"sum\": 747.3869323730469, \"min\": 747.3869323730469}, \"update.time\": {\"count\": 1, \"max\": 1468.0759906768799, \"sum\": 1468.0759906768799, \"min\": 1468.0759906768799}}, \"EndTime\": 1601901338.419853, \"Dimensions\": {\"Host\": \"algo-1\", \"Operation\": \"training\", \"Algorithm\": \"AWS/KNN\"}, \"StartTime\": 1601901317.950359}\n",
      "\u001b[0m\n",
      "\u001b[34m[2020-10-05 12:35:41.346] [tensorio] [info] epoch_stats={\"data_pipeline\": \"/opt/ml/input/data/test\", \"epoch\": 0, \"duration\": 23381, \"num_examples\": 12, \"num_bytes\": 28121368}\u001b[0m\n",
      "\u001b[34m#metrics {\"Metrics\": {\"Max Batches Seen Between Resets\": {\"count\": 1, \"max\": 12, \"sum\": 12.0, \"min\": 12}, \"Number of Batches Since Last Reset\": {\"count\": 1, \"max\": 12, \"sum\": 12.0, \"min\": 12}, \"Number of Records Since Last Reset\": {\"count\": 1, \"max\": 58102, \"sum\": 58102.0, \"min\": 58102}, \"Total Batches Seen\": {\"count\": 1, \"max\": 12, \"sum\": 12.0, \"min\": 12}, \"Total Records Seen\": {\"count\": 1, \"max\": 58102, \"sum\": 58102.0, \"min\": 58102}, \"Max Records Seen Between Resets\": {\"count\": 1, \"max\": 58102, \"sum\": 58102.0, \"min\": 58102}, \"Reset Count\": {\"count\": 1, \"max\": 0, \"sum\": 0.0, \"min\": 0}}, \"EndTime\": 1601901341.357382, \"Dimensions\": {\"Host\": \"algo-1\", \"Meta\": \"test_data_iter\", \"Operation\": \"training\", \"Algorithm\": \"AWS/KNN\"}, \"StartTime\": 1601901338.420458}\n",
      "\u001b[0m\n",
      "\u001b[34m[10/05/2020 12:35:41 INFO 139693222913856] #test_score (algo-1) : ('accuracy', 0.861571030257134)\u001b[0m\n",
      "\u001b[34m[10/05/2020 12:35:41 INFO 139693222913856] #test_score (algo-1) : ('macro_f_1.000', nan)\u001b[0m\n",
      "\u001b[34m[10/05/2020 12:35:41 INFO 139693222913856] #quality_metric: host=algo-1, test accuracy <score>=0.861571030257\u001b[0m\n",
      "\u001b[34m[10/05/2020 12:35:41 INFO 139693222913856] #quality_metric: host=algo-1, test macro_f_1.000 <score>=nan\u001b[0m\n",
      "\u001b[34m#metrics {\"Metrics\": {\"totaltime\": {\"count\": 1, \"max\": 24189.32008743286, \"sum\": 24189.32008743286, \"min\": 24189.32008743286}, \"setuptime\": {\"count\": 1, \"max\": 33.79392623901367, \"sum\": 33.79392623901367, \"min\": 33.79392623901367}}, \"EndTime\": 1601901341.359372, \"Dimensions\": {\"Host\": \"algo-1\", \"Operation\": \"training\", \"Algorithm\": \"AWS/KNN\"}, \"StartTime\": 1601901338.419933}\n",
      "\u001b[0m\n",
      "\n",
      "2020-10-05 12:35:51 Completed - Training job completed\n",
      "Training seconds: 76\n",
      "Billable seconds: 76\n"
     ]
    }
   ],
   "source": [
    "hyperparams_ivfpq_l2_large = {\n",
    "    'feature_dim': 54,\n",
    "    'k': 100,\n",
    "    'sample_size': 500000,\n",
    "    'predictor_type': 'classifier',\n",
    "    'index_type': 'faiss.IVFPQ',\n",
    "    'index_metric': 'L2',\n",
    "    'faiss_index_ivf_nlists': 700, \n",
    "    'faiss_index_pq_m': '8'\n",
    "}\n",
    "output_path_ivfpq_l2_large = 's3://' + bucket + '/' + prefix + '/ivfpq_l2_large/output'\n",
    "knn_estimator_ivfpq_l2_large = trained_estimator_from_hyperparams(s3_train_data, hyperparams_ivfpq_l2_large, \n",
    "                                                                  output_path_ivfpq_l2_large, s3_test_data=s3_test_data)"
   ]
  },
  {
   "cell_type": "markdown",
   "metadata": {},
   "source": [
    "## Evaluation\n",
    "\n",
    "Before we set up the endpoints we take a moment to discuss ways of using them. The typical way of using an endpoint is the following: We feed it an input point and recieve a prediction. For kNN we additionally support another verbose API allowing for a more detailed response. With that API, instead of recieving only a prediction we recieve an ordered list of the labels corresponding to the nearest neighbors, along with their distances. \n",
    "\n",
    "A manual inspection of this list allows us to perform multiple tasks:\n",
    "* Tune k: By taking a majority vote over a prefix of the list we obtain the prediction for multiple values of k\n",
    "* Ranking / multi-label: Sometimes, we do not wish to predict a single class rather output a ranking of possible classes. An example for this would be image tagging where the labels are tags and the input vectors represent images.\n",
    "\n",
    "In what follows we focus on tuning k with this API. We begin with an **evaluate** function that measures both the output quality and latency of an endpoint. The code below contains this function along with auxiliary functions used by it. For reporting the quality we use the verbose API to obtain the predictions for multiple k values. For the latency we use the non-verbose API."
   ]
  },
  {
   "cell_type": "code",
   "execution_count": 18,
   "metadata": {},
   "outputs": [],
   "source": [
    "from scipy import stats\n",
    "import matplotlib.pyplot as plt\n",
    "from sklearn.metrics import f1_score, accuracy_score\n",
    "import time\n",
    "\n",
    "def scores_for_ks(test_labels, knn_labels, ks):\n",
    "    f1_weight = []\n",
    "    f1_macro = []\n",
    "    f1_micro = []\n",
    "    acc = []\n",
    "    for k in ks:\n",
    "        pred_k = stats.mode(knn_labels[:,:k], axis=1)[0].reshape((-1,))\n",
    "        f1_weight.append(f1_score(test_labels, pred_k, average='weighted'))\n",
    "        f1_macro.append(f1_score(test_labels, pred_k, average='macro'))\n",
    "        f1_micro.append(f1_score(test_labels, pred_k, average='micro'))\n",
    "        acc.append(accuracy_score(test_labels, pred_k))\n",
    "    return {'f1_weight': f1_weight, 'f1_macro': f1_macro, 'f1_micro': f1_micro, 'accuracy': acc, }\n",
    "\n",
    "def plot_prediction_quality(scores, ks):\n",
    "    colors = ['r-', 'b-', 'g-','y-'][:len(scores)]\n",
    "    for (k,v), color in zip(scores.items(), colors):\n",
    "        plt.plot(ks, v, color, label=k)\n",
    "    plt.legend()\n",
    "    plt.xlabel('k')\n",
    "    plt.ylabel('prediction quality')\n",
    "    plt.show()\n",
    "\n",
    "def evaluate_quality(predictor, test_features, test_labels, model_name, verbose=True, num_batches=100):\n",
    "    \"\"\"\n",
    "    Evaluate quality metrics of a model on a test set. \n",
    "    \"\"\"\n",
    "    # tune the predictor to provide the verbose response\n",
    "    predictor.accept = 'application/json; verbose=true'\n",
    "    \n",
    "    # split the test data set into num_batches batches and evaluate using prediction endpoint. \n",
    "    print('running prediction (quality)...')\n",
    "    batches = np.array_split(test_features, num_batches)\n",
    "    knn_labels = []\n",
    "    for batch in batches:\n",
    "        pred_result = predictor.predict(batch)\n",
    "        cur_knn_labels = np.array([pred_result['predictions'][i]['labels'] for i in range(len(pred_result['predictions']))])\n",
    "        knn_labels.append(cur_knn_labels)\n",
    "    knn_labels = np.concatenate(knn_labels)\n",
    "    print('running prediction (quality)... done')\n",
    "\n",
    "    # figure out different k values\n",
    "    top_k = knn_labels.shape[1]\n",
    "    ks = range(1, top_k+1)\n",
    "    \n",
    "    # compute scores for the quality of the model for each value of k\n",
    "    print('computing scores for all values of k... ')\n",
    "    quality_scores = scores_for_ks(test_labels, knn_labels, ks)\n",
    "    print('computing scores for all values of k... done')\n",
    "    if verbose:\n",
    "        plot_prediction_quality(quality_scores, ks)\n",
    "    \n",
    "    return quality_scores\n",
    "\n",
    "def evaluate_latency(predictor, test_features, test_labels, model_name, verbose=True, num_batches=100):\n",
    "    \"\"\"\n",
    "    Evaluate the run-time of a model on a test set.\n",
    "    \"\"\"\n",
    "    # tune the predictor to provide the non-verbose response\n",
    "    predictor.accept = 'application/json'\n",
    "    \n",
    "    # latency for large batches:\n",
    "    # split the test data set into num_batches batches and evaluate the latencies of the calls to endpoint. \n",
    "    print('running prediction (latency)...')\n",
    "    batches = np.array_split(test_features, num_batches)\n",
    "    test_preds = []\n",
    "    latency_sum = 0\n",
    "    for batch in batches:\n",
    "        start = time.time()\n",
    "        pred_batch = predictor.predict(batch)\n",
    "        latency_sum += time.time() - start\n",
    "    latency_mean = latency_sum / float(num_batches)\n",
    "    avg_batch_size = test_features.shape[0] / num_batches\n",
    "    \n",
    "    # estimate the latency for a batch of size 1\n",
    "    latencies = []\n",
    "    attempts = 2000\n",
    "    for i in range(attempts):\n",
    "        start = time.time()\n",
    "        pred_batch = predictor.predict(test_features[i].reshape((1,-1)))\n",
    "        latencies.append(time.time() - start)\n",
    "\n",
    "    latencies = sorted(latencies)\n",
    "    latency1_mean = sum(latencies) / float(attempts)\n",
    "    latency1_p90 = latencies[int(attempts*0.9)]\n",
    "    latency1_p99 = latencies[int(attempts*0.99)]\n",
    "    print('running prediction (latency)... done')\n",
    "    \n",
    "    if verbose:\n",
    "        print(\"{:<11} {:.3f}\".format('Latency (ms, batch size %d):' % avg_batch_size, latency_mean * 1000))\n",
    "        print(\"{:<11} {:.3f}\".format('Latency (ms) mean for single item:', latency1_mean * 1000))\n",
    "        print(\"{:<11} {:.3f}\".format('Latency (ms) p90 for single item:', latency1_p90 * 1000))\n",
    "        print(\"{:<11} {:.3f}\".format('Latency (ms) p99 for single item:', latency1_p99 * 1000))\n",
    "        \n",
    "    return {'Latency': latency_mean, 'Latency1_mean': latency1_mean, 'Latency1_p90': latency1_p90, \n",
    "            'Latency1_p99': latency1_p99}\n",
    "\n",
    "def evaluate(predictor, test_features, test_labels, model_name, verbose=True, num_batches=100):\n",
    "    eval_result_q = evaluate_quality(pred, test_features, test_labels, model_name=model_name, verbose=verbose, num_batches=num_batches)\n",
    "    eval_result_l = evaluate_latency(pred, test_features, test_labels, model_name=model_name, verbose=verbose, num_batches=num_batches)\n",
    "    return dict(list(eval_result_q.items()) + list(eval_result_l.items()))\n",
    "    \n",
    "    "
   ]
  },
  {
   "cell_type": "markdown",
   "metadata": {},
   "source": [
    "We are now ready to set up the endpoints. The following code will set up 4 endpoints, one for every option of cpu/gpu machine and Flat/IVFPQ index. For a gpu machine we use *ml.p2.xlarge* and for cpu we use *ml.c5.xlarge*. For cases where latency is not an issue, or the dataset is very small, we recommend using *ml.m4.xlarge* machines, as they are cheaper than the machines mentioned above. For the purpose of these notebook, we restrict our attention to compute optimized machines as we are also optimizing for latency. After setting an endpoint we evaluate it and then delete it. If you requires to keep using an endpoint, do not delete it until you are done with it."
   ]
  },
  {
   "cell_type": "code",
   "execution_count": 19,
   "metadata": {},
   "outputs": [
    {
     "name": "stderr",
     "output_type": "stream",
     "text": [
      "Parameter image will be renamed to image_uri in SageMaker Python SDK v2.\n"
     ]
    },
    {
     "name": "stdout",
     "output_type": "stream",
     "text": [
      "\n",
      "setting up endpoint for instance_type=ml.c5.xlarge, index_type=flat_l2\n",
      "-------------!\n",
      "running prediction (quality)...\n",
      "running prediction (quality)... done\n",
      "computing scores for all values of k... \n",
      "computing scores for all values of k... done\n"
     ]
    },
    {
     "data": {
      "image/png": "[encoded data removed]",
      "text/plain": [
       "<Figure size 432x288 with 1 Axes>"
      ]
     },
     "metadata": {
      "needs_background": "light"
     },
     "output_type": "display_data"
    },
    {
     "name": "stdout",
     "output_type": "stream",
     "text": [
      "running prediction (latency)...\n"
     ]
    },
    {
     "name": "stderr",
     "output_type": "stream",
     "text": [
      "Parameter image will be renamed to image_uri in SageMaker Python SDK v2.\n"
     ]
    },
    {
     "name": "stdout",
     "output_type": "stream",
     "text": [
      "running prediction (latency)... done\n",
      "Latency (ms, batch size 581): 334.019\n",
      "Latency (ms) mean for single item: 19.289\n",
      "Latency (ms) p90 for single item: 20.438\n",
      "Latency (ms) p99 for single item: 25.660\n",
      "Deleted knn-latency-flat-l2-ml-c5-xlarge-1601901428-9878042\n",
      "\n",
      "setting up endpoint for instance_type=ml.p2.xlarge, index_type=flat_l2\n"
     ]
    },
    {
     "name": "stderr",
     "output_type": "stream",
     "text": [
      "Using already existing model: knn-2020-10-05-12-17-24-684\n"
     ]
    },
    {
     "ename": "ResourceLimitExceeded",
     "evalue": "An error occurred (ResourceLimitExceeded) when calling the CreateEndpoint operation: The account-level service limit 'ml.p2.xlarge for endpoint usage' is 0 Instances, with current utilization of 0 Instances and a request delta of 1 Instances. Please contact AWS support to request an increase for this limit.",
     "output_type": "error",
     "traceback": [
      "\u001b[0;31m---------------------------------------------------------------------------\u001b[0m",
      "\u001b[0;31mResourceLimitExceeded\u001b[0m                     Traceback (most recent call last)",
      "\u001b[0;32m<ipython-input-19-443f98d8466d>\u001b[0m in \u001b[0;36m<module>\u001b[0;34m\u001b[0m\n\u001b[1;32m     15\u001b[0m                                                str(time.time()).replace('.','-'))\n\u001b[1;32m     16\u001b[0m         \u001b[0mprint\u001b[0m\u001b[0;34m(\u001b[0m\u001b[0;34m'\\nsetting up endpoint for instance_type=%s, index_type=%s'\u001b[0m \u001b[0;34m%\u001b[0m\u001b[0;34m(\u001b[0m\u001b[0minstance_type\u001b[0m\u001b[0;34m,\u001b[0m \u001b[0mindex\u001b[0m\u001b[0;34m)\u001b[0m\u001b[0;34m)\u001b[0m\u001b[0;34m\u001b[0m\u001b[0;34m\u001b[0m\u001b[0m\n\u001b[0;32m---> 17\u001b[0;31m         \u001b[0mpred\u001b[0m \u001b[0;34m=\u001b[0m \u001b[0mpredictor_from_hyperparams\u001b[0m\u001b[0;34m(\u001b[0m\u001b[0mestimator\u001b[0m\u001b[0;34m,\u001b[0m \u001b[0mindex\u001b[0m\u001b[0;34m,\u001b[0m \u001b[0minstance_type\u001b[0m\u001b[0;34m,\u001b[0m \u001b[0mendpoint_name\u001b[0m\u001b[0;34m=\u001b[0m\u001b[0mendpoint_name\u001b[0m\u001b[0;34m)\u001b[0m\u001b[0;34m\u001b[0m\u001b[0;34m\u001b[0m\u001b[0m\n\u001b[0m\u001b[1;32m     18\u001b[0m         \u001b[0mprint\u001b[0m\u001b[0;34m(\u001b[0m\u001b[0;34m''\u001b[0m\u001b[0;34m)\u001b[0m\u001b[0;34m\u001b[0m\u001b[0;34m\u001b[0m\u001b[0m\n\u001b[1;32m     19\u001b[0m         \u001b[0meval_result\u001b[0m \u001b[0;34m=\u001b[0m \u001b[0mevaluate\u001b[0m\u001b[0;34m(\u001b[0m\u001b[0mpred\u001b[0m\u001b[0;34m,\u001b[0m \u001b[0mtest_features\u001b[0m\u001b[0;34m,\u001b[0m \u001b[0mtest_labels\u001b[0m\u001b[0;34m,\u001b[0m \u001b[0mmodel_name\u001b[0m\u001b[0;34m=\u001b[0m\u001b[0mmodel_name\u001b[0m\u001b[0;34m,\u001b[0m \u001b[0mverbose\u001b[0m\u001b[0;34m=\u001b[0m\u001b[0;32mTrue\u001b[0m\u001b[0;34m)\u001b[0m\u001b[0;34m\u001b[0m\u001b[0;34m\u001b[0m\u001b[0m\n",
      "\u001b[0;32m<ipython-input-13-cc34d06678e1>\u001b[0m in \u001b[0;36mpredictor_from_hyperparams\u001b[0;34m(knn_estimator, estimator_name, instance_type, endpoint_name)\u001b[0m\n\u001b[1;32m      1\u001b[0m \u001b[0;32mdef\u001b[0m \u001b[0mpredictor_from_hyperparams\u001b[0m\u001b[0;34m(\u001b[0m\u001b[0mknn_estimator\u001b[0m\u001b[0;34m,\u001b[0m \u001b[0mestimator_name\u001b[0m\u001b[0;34m,\u001b[0m \u001b[0minstance_type\u001b[0m\u001b[0;34m,\u001b[0m \u001b[0mendpoint_name\u001b[0m\u001b[0;34m=\u001b[0m\u001b[0;32mNone\u001b[0m\u001b[0;34m)\u001b[0m\u001b[0;34m:\u001b[0m\u001b[0;34m\u001b[0m\u001b[0;34m\u001b[0m\u001b[0m\n\u001b[1;32m      2\u001b[0m     knn_predictor = knn_estimator.deploy(initial_instance_count=1, instance_type=instance_type,\n\u001b[0;32m----> 3\u001b[0;31m                                         endpoint_name=endpoint_name)\n\u001b[0m\u001b[1;32m      4\u001b[0m     \u001b[0mknn_predictor\u001b[0m\u001b[0;34m.\u001b[0m\u001b[0mcontent_type\u001b[0m \u001b[0;34m=\u001b[0m \u001b[0;34m'text/csv'\u001b[0m\u001b[0;34m\u001b[0m\u001b[0;34m\u001b[0m\u001b[0m\n\u001b[1;32m      5\u001b[0m     \u001b[0mknn_predictor\u001b[0m\u001b[0;34m.\u001b[0m\u001b[0mserializer\u001b[0m \u001b[0;34m=\u001b[0m \u001b[0mcsv_serializer\u001b[0m\u001b[0;34m\u001b[0m\u001b[0;34m\u001b[0m\u001b[0m\n",
      "\u001b[0;32m~/anaconda3/envs/python3/lib/python3.6/site-packages/sagemaker/estimator.py\u001b[0m in \u001b[0;36mdeploy\u001b[0;34m(self, initial_instance_count, instance_type, accelerator_type, endpoint_name, use_compiled_model, update_endpoint, wait, model_name, kms_key, data_capture_config, tags, **kwargs)\u001b[0m\n\u001b[1;32m    743\u001b[0m             \u001b[0mwait\u001b[0m\u001b[0;34m=\u001b[0m\u001b[0mwait\u001b[0m\u001b[0;34m,\u001b[0m\u001b[0;34m\u001b[0m\u001b[0;34m\u001b[0m\u001b[0m\n\u001b[1;32m    744\u001b[0m             \u001b[0mkms_key\u001b[0m\u001b[0;34m=\u001b[0m\u001b[0mkms_key\u001b[0m\u001b[0;34m,\u001b[0m\u001b[0;34m\u001b[0m\u001b[0;34m\u001b[0m\u001b[0m\n\u001b[0;32m--> 745\u001b[0;31m             \u001b[0mdata_capture_config\u001b[0m\u001b[0;34m=\u001b[0m\u001b[0mdata_capture_config\u001b[0m\u001b[0;34m,\u001b[0m\u001b[0;34m\u001b[0m\u001b[0;34m\u001b[0m\u001b[0m\n\u001b[0m\u001b[1;32m    746\u001b[0m         )\n\u001b[1;32m    747\u001b[0m \u001b[0;34m\u001b[0m\u001b[0m\n",
      "\u001b[0;32m~/anaconda3/envs/python3/lib/python3.6/site-packages/sagemaker/model.py\u001b[0m in \u001b[0;36mdeploy\u001b[0;34m(self, initial_instance_count, instance_type, accelerator_type, endpoint_name, update_endpoint, tags, kms_key, wait, data_capture_config)\u001b[0m\n\u001b[1;32m    577\u001b[0m                 \u001b[0mkms_key\u001b[0m\u001b[0;34m=\u001b[0m\u001b[0mkms_key\u001b[0m\u001b[0;34m,\u001b[0m\u001b[0;34m\u001b[0m\u001b[0;34m\u001b[0m\u001b[0m\n\u001b[1;32m    578\u001b[0m                 \u001b[0mwait\u001b[0m\u001b[0;34m=\u001b[0m\u001b[0mwait\u001b[0m\u001b[0;34m,\u001b[0m\u001b[0;34m\u001b[0m\u001b[0;34m\u001b[0m\u001b[0m\n\u001b[0;32m--> 579\u001b[0;31m                 \u001b[0mdata_capture_config_dict\u001b[0m\u001b[0;34m=\u001b[0m\u001b[0mdata_capture_config_dict\u001b[0m\u001b[0;34m,\u001b[0m\u001b[0;34m\u001b[0m\u001b[0;34m\u001b[0m\u001b[0m\n\u001b[0m\u001b[1;32m    580\u001b[0m             )\n\u001b[1;32m    581\u001b[0m \u001b[0;34m\u001b[0m\u001b[0m\n",
      "\u001b[0;32m~/anaconda3/envs/python3/lib/python3.6/site-packages/sagemaker/session.py\u001b[0m in \u001b[0;36mendpoint_from_production_variants\u001b[0;34m(self, name, production_variants, tags, kms_key, wait, data_capture_config_dict)\u001b[0m\n\u001b[1;32m   2903\u001b[0m \u001b[0;34m\u001b[0m\u001b[0m\n\u001b[1;32m   2904\u001b[0m             \u001b[0mself\u001b[0m\u001b[0;34m.\u001b[0m\u001b[0msagemaker_client\u001b[0m\u001b[0;34m.\u001b[0m\u001b[0mcreate_endpoint_config\u001b[0m\u001b[0;34m(\u001b[0m\u001b[0;34m**\u001b[0m\u001b[0mconfig_options\u001b[0m\u001b[0;34m)\u001b[0m\u001b[0;34m\u001b[0m\u001b[0;34m\u001b[0m\u001b[0m\n\u001b[0;32m-> 2905\u001b[0;31m         \u001b[0;32mreturn\u001b[0m \u001b[0mself\u001b[0m\u001b[0;34m.\u001b[0m\u001b[0mcreate_endpoint\u001b[0m\u001b[0;34m(\u001b[0m\u001b[0mendpoint_name\u001b[0m\u001b[0;34m=\u001b[0m\u001b[0mname\u001b[0m\u001b[0;34m,\u001b[0m \u001b[0mconfig_name\u001b[0m\u001b[0;34m=\u001b[0m\u001b[0mname\u001b[0m\u001b[0;34m,\u001b[0m \u001b[0mtags\u001b[0m\u001b[0;34m=\u001b[0m\u001b[0mtags\u001b[0m\u001b[0;34m,\u001b[0m \u001b[0mwait\u001b[0m\u001b[0;34m=\u001b[0m\u001b[0mwait\u001b[0m\u001b[0;34m)\u001b[0m\u001b[0;34m\u001b[0m\u001b[0;34m\u001b[0m\u001b[0m\n\u001b[0m\u001b[1;32m   2906\u001b[0m \u001b[0;34m\u001b[0m\u001b[0m\n\u001b[1;32m   2907\u001b[0m     \u001b[0;32mdef\u001b[0m \u001b[0mexpand_role\u001b[0m\u001b[0;34m(\u001b[0m\u001b[0mself\u001b[0m\u001b[0;34m,\u001b[0m \u001b[0mrole\u001b[0m\u001b[0;34m)\u001b[0m\u001b[0;34m:\u001b[0m\u001b[0;34m\u001b[0m\u001b[0;34m\u001b[0m\u001b[0m\n",
      "\u001b[0;32m~/anaconda3/envs/python3/lib/python3.6/site-packages/sagemaker/session.py\u001b[0m in \u001b[0;36mcreate_endpoint\u001b[0;34m(self, endpoint_name, config_name, tags, wait)\u001b[0m\n\u001b[1;32m   2420\u001b[0m \u001b[0;34m\u001b[0m\u001b[0m\n\u001b[1;32m   2421\u001b[0m         self.sagemaker_client.create_endpoint(\n\u001b[0;32m-> 2422\u001b[0;31m             \u001b[0mEndpointName\u001b[0m\u001b[0;34m=\u001b[0m\u001b[0mendpoint_name\u001b[0m\u001b[0;34m,\u001b[0m \u001b[0mEndpointConfigName\u001b[0m\u001b[0;34m=\u001b[0m\u001b[0mconfig_name\u001b[0m\u001b[0;34m,\u001b[0m \u001b[0mTags\u001b[0m\u001b[0;34m=\u001b[0m\u001b[0mtags\u001b[0m\u001b[0;34m\u001b[0m\u001b[0;34m\u001b[0m\u001b[0m\n\u001b[0m\u001b[1;32m   2423\u001b[0m         )\n\u001b[1;32m   2424\u001b[0m         \u001b[0;32mif\u001b[0m \u001b[0mwait\u001b[0m\u001b[0;34m:\u001b[0m\u001b[0;34m\u001b[0m\u001b[0;34m\u001b[0m\u001b[0m\n",
      "\u001b[0;32m~/anaconda3/envs/python3/lib/python3.6/site-packages/botocore/client.py\u001b[0m in \u001b[0;36m_api_call\u001b[0;34m(self, *args, **kwargs)\u001b[0m\n\u001b[1;32m    335\u001b[0m                     \"%s() only accepts keyword arguments.\" % py_operation_name)\n\u001b[1;32m    336\u001b[0m             \u001b[0;31m# The \"self\" in this scope is referring to the BaseClient.\u001b[0m\u001b[0;34m\u001b[0m\u001b[0;34m\u001b[0m\u001b[0;34m\u001b[0m\u001b[0m\n\u001b[0;32m--> 337\u001b[0;31m             \u001b[0;32mreturn\u001b[0m \u001b[0mself\u001b[0m\u001b[0;34m.\u001b[0m\u001b[0m_make_api_call\u001b[0m\u001b[0;34m(\u001b[0m\u001b[0moperation_name\u001b[0m\u001b[0;34m,\u001b[0m \u001b[0mkwargs\u001b[0m\u001b[0;34m)\u001b[0m\u001b[0;34m\u001b[0m\u001b[0;34m\u001b[0m\u001b[0m\n\u001b[0m\u001b[1;32m    338\u001b[0m \u001b[0;34m\u001b[0m\u001b[0m\n\u001b[1;32m    339\u001b[0m         \u001b[0m_api_call\u001b[0m\u001b[0;34m.\u001b[0m\u001b[0m__name__\u001b[0m \u001b[0;34m=\u001b[0m \u001b[0mstr\u001b[0m\u001b[0;34m(\u001b[0m\u001b[0mpy_operation_name\u001b[0m\u001b[0;34m)\u001b[0m\u001b[0;34m\u001b[0m\u001b[0;34m\u001b[0m\u001b[0m\n",
      "\u001b[0;32m~/anaconda3/envs/python3/lib/python3.6/site-packages/botocore/client.py\u001b[0m in \u001b[0;36m_make_api_call\u001b[0;34m(self, operation_name, api_params)\u001b[0m\n\u001b[1;32m    654\u001b[0m             \u001b[0merror_code\u001b[0m \u001b[0;34m=\u001b[0m \u001b[0mparsed_response\u001b[0m\u001b[0;34m.\u001b[0m\u001b[0mget\u001b[0m\u001b[0;34m(\u001b[0m\u001b[0;34m\"Error\"\u001b[0m\u001b[0;34m,\u001b[0m \u001b[0;34m{\u001b[0m\u001b[0;34m}\u001b[0m\u001b[0;34m)\u001b[0m\u001b[0;34m.\u001b[0m\u001b[0mget\u001b[0m\u001b[0;34m(\u001b[0m\u001b[0;34m\"Code\"\u001b[0m\u001b[0;34m)\u001b[0m\u001b[0;34m\u001b[0m\u001b[0;34m\u001b[0m\u001b[0m\n\u001b[1;32m    655\u001b[0m             \u001b[0merror_class\u001b[0m \u001b[0;34m=\u001b[0m \u001b[0mself\u001b[0m\u001b[0;34m.\u001b[0m\u001b[0mexceptions\u001b[0m\u001b[0;34m.\u001b[0m\u001b[0mfrom_code\u001b[0m\u001b[0;34m(\u001b[0m\u001b[0merror_code\u001b[0m\u001b[0;34m)\u001b[0m\u001b[0;34m\u001b[0m\u001b[0;34m\u001b[0m\u001b[0m\n\u001b[0;32m--> 656\u001b[0;31m             \u001b[0;32mraise\u001b[0m \u001b[0merror_class\u001b[0m\u001b[0;34m(\u001b[0m\u001b[0mparsed_response\u001b[0m\u001b[0;34m,\u001b[0m \u001b[0moperation_name\u001b[0m\u001b[0;34m)\u001b[0m\u001b[0;34m\u001b[0m\u001b[0;34m\u001b[0m\u001b[0m\n\u001b[0m\u001b[1;32m    657\u001b[0m         \u001b[0;32melse\u001b[0m\u001b[0;34m:\u001b[0m\u001b[0;34m\u001b[0m\u001b[0;34m\u001b[0m\u001b[0m\n\u001b[1;32m    658\u001b[0m             \u001b[0;32mreturn\u001b[0m \u001b[0mparsed_response\u001b[0m\u001b[0;34m\u001b[0m\u001b[0;34m\u001b[0m\u001b[0m\n",
      "\u001b[0;31mResourceLimitExceeded\u001b[0m: An error occurred (ResourceLimitExceeded) when calling the CreateEndpoint operation: The account-level service limit 'ml.p2.xlarge for endpoint usage' is 0 Instances, with current utilization of 0 Instances and a request delta of 1 Instances. Please contact AWS support to request an increase for this limit."
     ]
    }
   ],
   "source": [
    "import time\n",
    "\n",
    "instance_types = ['ml.c5.xlarge', 'ml.p2.xlarge']\n",
    "index2estimator = {'flat_l2': knn_estimator_flat_l2, 'ivfpq_l2': knn_estimator_ivfpq_l2,\n",
    "                  'flat_l2_large': knn_estimator_flat_l2_large, 'ivfpq_l2_large': knn_estimator_ivfpq_l2_large}\n",
    "\n",
    "eval_results = {}\n",
    "\n",
    "for index in index2estimator:\n",
    "    estimator = index2estimator[index]\n",
    "    eval_results[index] = {}\n",
    "    for instance_type in instance_types:\n",
    "        model_name = 'knn_%s_%s'%(index, instance_type)\n",
    "        endpoint_name = 'knn-latency-%s-%s-%s'%(index.replace('_','-'), instance_type.replace('.','-'),\n",
    "                                               str(time.time()).replace('.','-'))\n",
    "        print('\\nsetting up endpoint for instance_type=%s, index_type=%s' %(instance_type, index))\n",
    "        pred = predictor_from_hyperparams(estimator, index, instance_type, endpoint_name=endpoint_name)\n",
    "        print('')\n",
    "        eval_result = evaluate(pred, test_features, test_labels, model_name=model_name, verbose=True)        \n",
    "        eval_result['instance'] = instance_type \n",
    "        eval_result['index'] = index \n",
    "        eval_results[index][instance_type] = eval_result\n",
    "        delete_endpoint(pred)"
   ]
  },
  {
   "cell_type": "markdown",
   "metadata": {},
   "source": [
    "Looking at the plots it seems that the performance is best for small values of k. Let's view some values in a table to get a clear comparison. Below is a table with rows representing the models and columns, the different measurements. We highlight for every model any accuracy score that is at most 0.25% (relative) away from the maximum accuracy among the different values of k"
   ]
  },
  {
   "cell_type": "code",
   "execution_count": 20,
   "metadata": {},
   "outputs": [
    {
     "data": {
      "text/html": [
       "<style  type=\"text/css\" >\n",
       "    #T_34177dca_070a_11eb_860b_0121a9bb3cddrow0_col0 {\n",
       "            background-color:  yellow;\n",
       "        }</style><table id=\"T_34177dca_070a_11eb_860b_0121a9bb3cdd\" ><thead>    <tr>        <th class=\"blank level0\" ></th>        <th class=\"col_heading level0 col0\" >acc_1</th>        <th class=\"col_heading level0 col1\" >acc_2</th>        <th class=\"col_heading level0 col2\" >acc_3</th>        <th class=\"col_heading level0 col3\" >acc_4</th>        <th class=\"col_heading level0 col4\" >acc_5</th>        <th class=\"col_heading level0 col5\" >acc_6</th>        <th class=\"col_heading level0 col6\" >acc_7</th>        <th class=\"col_heading level0 col7\" >acc_8</th>        <th class=\"col_heading level0 col8\" >acc_9</th>        <th class=\"col_heading level0 col9\" >acc_10</th>        <th class=\"col_heading level0 col10\" >acc_11</th>        <th class=\"col_heading level0 col11\" >acc_12</th>    </tr></thead><tbody>\n",
       "                <tr>\n",
       "                        <th id=\"T_34177dca_070a_11eb_860b_0121a9bb3cddlevel0_row0\" class=\"row_heading level0 row0\" >flat_l2_ml.c5.xlarge</th>\n",
       "                        <td id=\"T_34177dca_070a_11eb_860b_0121a9bb3cddrow0_col0\" class=\"data row0 col0\" >95.000000</td>\n",
       "                        <td id=\"T_34177dca_070a_11eb_860b_0121a9bb3cddrow0_col1\" class=\"data row0 col1\" >93.900000</td>\n",
       "                        <td id=\"T_34177dca_070a_11eb_860b_0121a9bb3cddrow0_col2\" class=\"data row0 col2\" >94.300000</td>\n",
       "                        <td id=\"T_34177dca_070a_11eb_860b_0121a9bb3cddrow0_col3\" class=\"data row0 col3\" >93.600000</td>\n",
       "                        <td id=\"T_34177dca_070a_11eb_860b_0121a9bb3cddrow0_col4\" class=\"data row0 col4\" >93.800000</td>\n",
       "                        <td id=\"T_34177dca_070a_11eb_860b_0121a9bb3cddrow0_col5\" class=\"data row0 col5\" >93.200000</td>\n",
       "                        <td id=\"T_34177dca_070a_11eb_860b_0121a9bb3cddrow0_col6\" class=\"data row0 col6\" >93.200000</td>\n",
       "                        <td id=\"T_34177dca_070a_11eb_860b_0121a9bb3cddrow0_col7\" class=\"data row0 col7\" >92.700000</td>\n",
       "                        <td id=\"T_34177dca_070a_11eb_860b_0121a9bb3cddrow0_col8\" class=\"data row0 col8\" >92.500000</td>\n",
       "                        <td id=\"T_34177dca_070a_11eb_860b_0121a9bb3cddrow0_col9\" class=\"data row0 col9\" >92.200000</td>\n",
       "                        <td id=\"T_34177dca_070a_11eb_860b_0121a9bb3cddrow0_col10\" class=\"data row0 col10\" >92.100000</td>\n",
       "                        <td id=\"T_34177dca_070a_11eb_860b_0121a9bb3cddrow0_col11\" class=\"data row0 col11\" >91.700000</td>\n",
       "            </tr>\n",
       "    </tbody></table>"
      ],
      "text/plain": [
       "<pandas.io.formats.style.Styler at 0x7f05c0aab588>"
      ]
     },
     "execution_count": 20,
     "metadata": {},
     "output_type": "execute_result"
    }
   ],
   "source": [
    "import pandas as pd\n",
    "\n",
    "k_range = range(1, 13)\n",
    "df_index = []\n",
    "data = []\n",
    "columns_lat = ['latency1K', 'latency1_mean', 'latency1_p90', 'latency1_p99']\n",
    "columns_acc = ['acc_%d' % k for k in k_range]\n",
    "columns = columns_lat + columns_acc\n",
    "\n",
    "for index, index_res in eval_results.items():\n",
    "    for instance, res in index_res.items():\n",
    "        # for sample size?\n",
    "        df_index.append(index+'_'+instance)\n",
    "        latencies = np.array([res['Latency'], res['Latency1_mean'], res['Latency1_p90'], res['Latency1_p99']])\n",
    "        row = np.concatenate([latencies*10,\n",
    "                             res['accuracy'][k_range[0] - 1:k_range[-1] ]])\n",
    "        row *= 100\n",
    "        data.append(row)\n",
    "\n",
    "df = pd.DataFrame(index=df_index, data=data, columns=columns)\n",
    "df_acc = df[columns_acc]\n",
    "df_lat = df[columns_lat]\n",
    "\n",
    "def highlight_apx_max(row):\n",
    "    '''\n",
    "    highlight the aproximate best (max or min) in a Series yellow.\n",
    "    '''\n",
    "    max_val = row.max()\n",
    "    colors = ['background-color: yellow' if cur_val >= max_val * 0.9975 else '' for cur_val in row]\n",
    "        \n",
    "    return colors\n",
    "\n",
    "df_acc.round(decimals=1).style.apply(highlight_apx_max, axis=1)"
   ]
  },
  {
   "cell_type": "markdown",
   "metadata": {},
   "source": [
    "Let's review the latencies. We'll highlight the latencies that are much worse (20% more) than the median value"
   ]
  },
  {
   "cell_type": "code",
   "execution_count": 21,
   "metadata": {},
   "outputs": [
    {
     "data": {
      "text/html": [
       "<style  type=\"text/css\" >\n",
       "</style><table id=\"T_3690df42_070a_11eb_860b_0121a9bb3cdd\" ><thead>    <tr>        <th class=\"blank level0\" ></th>        <th class=\"col_heading level0 col0\" >latency1K</th>        <th class=\"col_heading level0 col1\" >latency1_mean</th>        <th class=\"col_heading level0 col2\" >latency1_p90</th>        <th class=\"col_heading level0 col3\" >latency1_p99</th>    </tr></thead><tbody>\n",
       "                <tr>\n",
       "                        <th id=\"T_3690df42_070a_11eb_860b_0121a9bb3cddlevel0_row0\" class=\"row_heading level0 row0\" >flat_l2_ml.c5.xlarge</th>\n",
       "                        <td id=\"T_3690df42_070a_11eb_860b_0121a9bb3cddrow0_col0\" class=\"data row0 col0\" >334.000000</td>\n",
       "                        <td id=\"T_3690df42_070a_11eb_860b_0121a9bb3cddrow0_col1\" class=\"data row0 col1\" >19.300000</td>\n",
       "                        <td id=\"T_3690df42_070a_11eb_860b_0121a9bb3cddrow0_col2\" class=\"data row0 col2\" >20.400000</td>\n",
       "                        <td id=\"T_3690df42_070a_11eb_860b_0121a9bb3cddrow0_col3\" class=\"data row0 col3\" >25.700000</td>\n",
       "            </tr>\n",
       "    </tbody></table>"
      ],
      "text/plain": [
       "<pandas.io.formats.style.Styler at 0x7f05c325f908>"
      ]
     },
     "execution_count": 21,
     "metadata": {},
     "output_type": "execute_result"
    }
   ],
   "source": [
    "def highlight_far_from_min(row):\n",
    "    '''\n",
    "    highlight the aproximate best (max or min) in a Series yellow.\n",
    "    '''\n",
    "    med_val = row.median()\n",
    "    colors = ['background-color: red' if cur_val >= med_val * 1.2 else '' for cur_val in row]\n",
    "        \n",
    "    return colors\n",
    "\n",
    "df_lat.round(decimals=1).style.apply(highlight_far_from_min, axis=0)"
   ]
  },
  {
   "cell_type": "markdown",
   "metadata": {},
   "source": [
    "#### Accuracy\n",
    "\n",
    "For optimizing accuracy, the results show that for some of the models, k=1 yields the best results. We may want to play it safe and choose a larger value for k. The reason is that if the data slightly changes over time, the results associated with small values of k tend to change faster than those of larger values of k. A reasonable compromise could be choosing k=5. Not surprisingly, the accuracy becomes better if we choose a larger training set and if we use a brute-force index. This leads to 97% accuracy. For comparison, a linear model trained on the covtype dataset achieves roughly 72% accuracy. This is a pretty solid demonstration of the power of the kNN classifier.\n",
    "If we are willing to get slightly less accurate results but at higher speed, we could choose either a large dataset with an approximate index **IVFPQ_l2_large_XX**, or a smaller sample size **flat_l2_ml_XX**. Both achieve roughly 93%-95% precision, yet have much more favorable latency scores.\n",
    "\n",
    "\n",
    "#### Latency\n",
    "\n",
    "We can see a single-query mean latency of under 10ms in most setting and under 20ms in the remaining. Some of this can likely be attributed to typical system overheads, so results may become better over time. One exception is for **flat_l2_large_ml.c5.xlarge**, where we pay for using an exact solution on a large dataset by having a latency of about 25ms. There is much more variance in the latency for a batch of roughly 1K points as the relative overhead there is lower. There, the slowest yet most accurate model requires roughly 360ms to return an answer while for the approximate versions we get over X5 speedup. If one would like to have the best accuracy but reduce latency, another option is to use a GPU machine. **flat_l2_large_ml.p2.xlarge** enjoys the best accuracy while keeping the latency for 1K points at less than 90ms and singe-query p90 latency at 14.2ms. The downside is the dollar cost, since a *ml.p2.xlarge* machine is more expensive than a *ml.c5.xlarge* machine. \n"
   ]
  },
  {
   "cell_type": "markdown",
   "metadata": {},
   "source": [
    "## Concluding Remarks\n",
    "\n",
    "We've seen how to both train and host an inference endpoint for kNN. We've shown the ease of tuning a kNN algorithm and how to experiment with the different parameters, both those required at training and at inference. The experiment on the covtype dataset demonstrates the power of the simple procedure of kNN, especially when considering the final accuracy score of 96.8%, say, compared to linear model that achieves 72.8% accuracy. We explored the tradeoffs between an approximate index, subsampling the data, and using high vs low cost machines. The answer is case dependent and should fit the needs of the particular setup. "
   ]
  }
 ],
 "metadata": {
  "kernelspec": {
   "display_name": "conda_python3",
   "language": "python",
   "name": "conda_python3"
  },
  "language_info": {
   "codemirror_mode": {
    "name": "ipython",
    "version": 3
   },
   "file_extension": ".py",
   "mimetype": "text/x-python",
   "name": "python",
   "nbconvert_exporter": "python",
   "pygments_lexer": "ipython3",
   "version": "3.6.10"
  },
  "notice": "Copyright 2018 Amazon.com, Inc. or its affiliates. All Rights Reserved. Licensed under the Apache License, Version 2.0 (the \"License\"). You may not use this file except in compliance with the License. A copy of the License is located at http://aws.amazon.com/apache2.0/ or in the \"license\" file accompanying this file. This file is distributed on an \"AS IS\" BASIS, WITHOUT WARRANTIES OR CONDITIONS OF ANY KIND, either express or implied. See the License for the specific language governing permissions and limitations under the License."
 },
 "nbformat": 4,
 "nbformat_minor": 2
}
