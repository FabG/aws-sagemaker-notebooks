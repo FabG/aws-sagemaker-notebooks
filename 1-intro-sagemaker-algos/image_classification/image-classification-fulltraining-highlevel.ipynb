{
 "cells": [
  {
   "cell_type": "markdown",
   "metadata": {},
   "source": [
    "# End-to-End Multiclass Image Classification Example\n",
    "1. [Introduction](#Introduction)\n",
    "2. [Prerequisites and Preprocessing](#Prequisites-and-Preprocessing)\n",
    "  1. [Permissions and environment variables](#Permissions-and-environment-variables)\n",
    "  2. [Prepare the data](#Prepare-the-data)\n",
    "3. [Training the model](#Training-the-model)\n",
    "  1. [Training parameters](#Training-parameters)\n",
    "  2. [Start the training](#Start-the-training)\n",
    "4. [Compile](#Compile)\n",
    "5. [Inference](#Inference)"
   ]
  },
  {
   "cell_type": "markdown",
   "metadata": {},
   "source": [
    "## Introduction\n",
    "\n",
    "Welcome to our end-to-end example of distributed image classification algorithm. In this demo, we will use the Amazon sagemaker image classification algorithm to train on the [caltech-256 dataset](http://www.vision.caltech.edu/Image_Datasets/Caltech256/). \n",
    "\n",
    "To get started, we need to set up the environment with a few prerequisite steps, for permissions, configurations, and so on."
   ]
  },
  {
   "cell_type": "markdown",
   "metadata": {},
   "source": [
    "## Prequisites and Preprocessing\n",
    "\n",
    "### Permissions and environment variables\n",
    "\n",
    "Here we set up the linkage and authentication to AWS services. There are three parts to this:\n",
    "\n",
    "* The roles used to give learning and hosting access to your data. This will automatically be obtained from the role used to start the notebook\n",
    "* The S3 bucket that you want to use for training and model data\n",
    "* The Amazon sagemaker image classification docker image which need not be changed"
   ]
  },
  {
   "cell_type": "code",
   "execution_count": 1,
   "metadata": {},
   "outputs": [
    {
     "name": "stdout",
     "output_type": "stream",
     "text": [
      "arn:aws:iam::640463227255:role/service-role/AmazonSageMaker-ExecutionRole-20200822T102773\n",
      "CPU times: user 804 ms, sys: 85.7 ms, total: 890 ms\n",
      "Wall time: 3.03 s\n"
     ]
    }
   ],
   "source": [
    "%%time\n",
    "import sagemaker\n",
    "from sagemaker import get_execution_role\n",
    "\n",
    "role = get_execution_role()\n",
    "print(role)\n",
    "\n",
    "sess = sagemaker.Session()\n",
    "#bucket=sess.default_bucket()\n",
    "bucket = 'fab-sagemaker'\n",
    "prefix = 'ic-fulltraining'"
   ]
  },
  {
   "cell_type": "code",
   "execution_count": 2,
   "metadata": {},
   "outputs": [
    {
     "name": "stderr",
     "output_type": "stream",
     "text": [
      "'get_image_uri' method will be deprecated in favor of 'ImageURIProvider' class in SageMaker Python SDK v2.\n"
     ]
    },
    {
     "name": "stdout",
     "output_type": "stream",
     "text": [
      "811284229777.dkr.ecr.us-east-1.amazonaws.com/image-classification:latest\n"
     ]
    }
   ],
   "source": [
    "from sagemaker.amazon.amazon_estimator import get_image_uri\n",
    "\n",
    "training_image = get_image_uri(sess.boto_region_name, 'image-classification', repo_version=\"latest\")\n",
    "print (training_image)"
   ]
  },
  {
   "cell_type": "markdown",
   "metadata": {},
   "source": [
    "### Data preparation\n",
    "Download the data and transfer to S3 for use in training. In this demo, we are using [Caltech-256](http://www.vision.caltech.edu/Image_Datasets/Caltech256/) dataset, which contains 30608 images of 256 objects. For the training and validation data, we follow the splitting scheme in this MXNet [example](https://github.com/apache/incubator-mxnet/blob/master/example/image-classification/data/caltech256.sh). In particular, it randomly selects 60 images per class for training, and uses the remaining data for validation. The algorithm takes `RecordIO` file as input. The user can also provide the image files as input, which will be converted into `RecordIO` format using MXNet's [im2rec](https://mxnet.incubator.apache.org/how_to/recordio.html?highlight=im2rec) tool. It takes around 50 seconds to converted the entire Caltech-256 dataset (~1.2GB) on a p2.xlarge instance. However, for this demo, we will use record io format. "
   ]
  },
  {
   "cell_type": "code",
   "execution_count": 3,
   "metadata": {},
   "outputs": [],
   "source": [
    "import os \n",
    "import urllib.request\n",
    "import boto3\n",
    "\n",
    "def download(url):\n",
    "    filename = url.split(\"/\")[-1]\n",
    "    if not os.path.exists(filename):\n",
    "        urllib.request.urlretrieve(url, filename)\n",
    "\n",
    "        \n",
    "def upload_to_s3(channel, file):\n",
    "    s3 = boto3.resource('s3')\n",
    "    data = open(file, \"rb\")\n",
    "    key = channel + '/' + file\n",
    "    s3.Bucket(bucket).put_object(Key=key, Body=data)\n",
    "\n",
    "\n",
    "# caltech-256\n",
    "download('http://data.mxnet.io/data/caltech-256/caltech-256-60-train.rec')\n",
    "download('http://data.mxnet.io/data/caltech-256/caltech-256-60-val.rec')"
   ]
  },
  {
   "cell_type": "code",
   "execution_count": 4,
   "metadata": {},
   "outputs": [],
   "source": [
    "# Four channels: train, validation, train_lst, and validation_lst\n",
    "s3train = 's3://{}/{}/train/'.format(bucket, prefix)\n",
    "s3validation = 's3://{}/{}/validation/'.format(bucket, prefix)\n",
    "\n",
    "# upload the lst files to train and validation channels\n",
    "!aws s3 cp caltech-256-60-train.rec $s3train --quiet\n",
    "!aws s3 cp caltech-256-60-val.rec $s3validation --quiet"
   ]
  },
  {
   "cell_type": "markdown",
   "metadata": {},
   "source": [
    "\n",
    "\n",
    "Once we have the data available in the correct format for training, the next step is to actually train the model using the data. After setting training parameters, we kick off training, and poll for status until training is completed.\n"
   ]
  },
  {
   "cell_type": "markdown",
   "metadata": {},
   "source": [
    "## Training the model\n",
    "\n",
    "Now that we are done with all the setup that is needed, we are ready to train our object detector. To begin, let us create a ``sageMaker.estimator.Estimator`` object. This estimator will launch the training job.\n",
    "### Training parameters\n",
    "There are two kinds of parameters that need to be set for training. The first one are the parameters for the training job. These include:\n",
    "\n",
    "* **Training instance count**: This is the number of instances on which to run the training. When the number of instances is greater than one, then the image classification algorithm will run in distributed settings. \n",
    "* **Training instance type**: This indicates the type of machine on which to run the training. Typically, we use GPU instances for these training \n",
    "* **Output path**: This the s3 folder in which the training output is stored\n"
   ]
  },
  {
   "cell_type": "code",
   "execution_count": 5,
   "metadata": {},
   "outputs": [
    {
     "name": "stderr",
     "output_type": "stream",
     "text": [
      "Parameter image_name will be renamed to image_uri in SageMaker Python SDK v2.\n"
     ]
    }
   ],
   "source": [
    "s3_output_location = 's3://{}/{}/output'.format(bucket, prefix)\n",
    "ic = sagemaker.estimator.Estimator(training_image,\n",
    "                                         role, \n",
    "                                         train_instance_count=1, \n",
    "                                         train_instance_type='ml.p2.xlarge',\n",
    "                                         train_volume_size = 50,\n",
    "                                         train_max_run = 360000,\n",
    "                                         input_mode= 'File',\n",
    "                                         output_path=s3_output_location,\n",
    "                                         sagemaker_session=sess)"
   ]
  },
  {
   "cell_type": "markdown",
   "metadata": {},
   "source": [
    "Apart from the above set of parameters, there are hyperparameters that are specific to the algorithm. These are:\n",
    "\n",
    "* **num_layers**: The number of layers (depth) for the network. We use 18 in this samples but other values such as 50, 152 can be used.\n",
    "* **image_shape**: The input image dimensions,'num_channels, height, width', for the network. It should be no larger than the actual image size. The number of channels should be same as the actual image.\n",
    "* **num_classes**: This is the number of output classes for the new dataset. Imagenet was trained with 1000 output classes but the number of output classes can be changed for fine-tuning. For caltech, we use 257 because it has 256 object categories + 1 clutter class.\n",
    "* **num_training_samples**: This is the total number of training samples. It is set to 15240 for caltech dataset with the current split.\n",
    "* **mini_batch_size**: The number of training samples used for each mini batch. In distributed training, the number of training samples used per batch will be N * mini_batch_size where N is the number of hosts on which training is run.\n",
    "* **epochs**: Number of training epochs.\n",
    "* **learning_rate**: Learning rate for training.\n",
    "* **top_k**: Report the top-k accuracy during training.\n",
    "* **precision_dtype**: Training datatype precision (default: float32). If set to 'float16', the training will be done in mixed_precision mode and will be faster than float32 mode\n"
   ]
  },
  {
   "cell_type": "code",
   "execution_count": 6,
   "metadata": {},
   "outputs": [],
   "source": [
    "ic.set_hyperparameters(num_layers=18,\n",
    "                             image_shape = \"3,224,224\",\n",
    "                             num_classes=257,\n",
    "                             num_training_samples=15420,\n",
    "                             mini_batch_size=128,\n",
    "                             epochs=5,\n",
    "                             learning_rate=0.01,\n",
    "                             top_k=2,\n",
    "                             precision_dtype='float32')"
   ]
  },
  {
   "cell_type": "markdown",
   "metadata": {},
   "source": [
    "## Input data specification\n",
    "Set the data type and channels used for training"
   ]
  },
  {
   "cell_type": "code",
   "execution_count": 7,
   "metadata": {},
   "outputs": [
    {
     "name": "stderr",
     "output_type": "stream",
     "text": [
      "'s3_input' class will be renamed to 'TrainingInput' in SageMaker Python SDK v2.\n",
      "'s3_input' class will be renamed to 'TrainingInput' in SageMaker Python SDK v2.\n"
     ]
    }
   ],
   "source": [
    "train_data = sagemaker.session.s3_input(s3train, distribution='FullyReplicated', \n",
    "                        content_type='application/x-recordio', s3_data_type='S3Prefix')\n",
    "validation_data = sagemaker.session.s3_input(s3validation, distribution='FullyReplicated', \n",
    "                             content_type='application/x-recordio', s3_data_type='S3Prefix')\n",
    "\n",
    "data_channels = {'train': train_data, 'validation': validation_data}"
   ]
  },
  {
   "cell_type": "markdown",
   "metadata": {},
   "source": [
    "## Start the training\n",
    "Start training by calling the fit method in the estimator"
   ]
  },
  {
   "cell_type": "code",
   "execution_count": null,
   "metadata": {
    "scrolled": true
   },
   "outputs": [
    {
     "name": "stdout",
     "output_type": "stream",
     "text": [
      "2020-10-03 15:13:21 Starting - Starting the training job...\n",
      "2020-10-03 15:13:23 Starting - Launching requested ML instances......\n",
      "2020-10-03 15:14:26 Starting - Preparing the instances for training.........\n",
      "2020-10-03 15:15:57 Downloading - Downloading input data...\n",
      "2020-10-03 15:16:34 Training - Downloading the training image......\n",
      "2020-10-03 15:17:53 Training - Training image download completed. Training in progress..\u001b[34mDocker entrypoint called with argument(s): train\u001b[0m\n",
      "\u001b[34m[10/03/2020 15:17:56 INFO 140260202010432] Reading default configuration from /opt/amazon/lib/python2.7/site-packages/image_classification/default-input.json: {u'beta_1': 0.9, u'gamma': 0.9, u'beta_2': 0.999, u'optimizer': u'sgd', u'use_pretrained_model': 0, u'eps': 1e-08, u'epochs': 30, u'lr_scheduler_factor': 0.1, u'num_layers': 152, u'image_shape': u'3,224,224', u'precision_dtype': u'float32', u'mini_batch_size': 32, u'weight_decay': 0.0001, u'learning_rate': 0.1, u'momentum': 0}\u001b[0m\n",
      "\u001b[34m[10/03/2020 15:17:56 INFO 140260202010432] Merging with provided configuration from /opt/ml/input/config/hyperparameters.json: {u'learning_rate': u'0.01', u'top_k': u'2', u'precision_dtype': u'float32', u'epochs': u'5', u'num_training_samples': u'15420', u'num_layers': u'18', u'mini_batch_size': u'128', u'image_shape': u'3,224,224', u'num_classes': u'257'}\u001b[0m\n",
      "\u001b[34m[10/03/2020 15:17:56 INFO 140260202010432] Final configuration: {u'top_k': u'2', u'optimizer': u'sgd', u'learning_rate': u'0.01', u'epochs': u'5', u'lr_scheduler_factor': 0.1, u'num_layers': u'18', u'precision_dtype': u'float32', u'mini_batch_size': u'128', u'num_classes': u'257', u'beta_1': 0.9, u'beta_2': 0.999, u'use_pretrained_model': 0, u'eps': 1e-08, u'weight_decay': 0.0001, u'momentum': 0, u'image_shape': u'3,224,224', u'gamma': 0.9, u'num_training_samples': u'15420'}\u001b[0m\n",
      "\u001b[34m[10/03/2020 15:17:56 INFO 140260202010432] Searching for .rec files in /opt/ml/input/data/train.\u001b[0m\n",
      "\u001b[34m[10/03/2020 15:17:56 INFO 140260202010432] Searching for .rec files in /opt/ml/input/data/validation.\u001b[0m\n",
      "\u001b[34m[10/03/2020 15:17:57 INFO 140260202010432] use_pretrained_model: 0\u001b[0m\n",
      "\u001b[34m[10/03/2020 15:17:57 INFO 140260202010432] multi_label: 0\u001b[0m\n",
      "\u001b[34m[10/03/2020 15:17:57 INFO 140260202010432] Performing random weight initialization\u001b[0m\n",
      "\u001b[34m[10/03/2020 15:17:57 INFO 140260202010432] ---- Parameters ----\u001b[0m\n",
      "\u001b[34m[10/03/2020 15:17:57 INFO 140260202010432] num_layers: 18\u001b[0m\n",
      "\u001b[34m[10/03/2020 15:17:57 INFO 140260202010432] data type: <type 'numpy.float32'>\u001b[0m\n",
      "\u001b[34m[10/03/2020 15:17:57 INFO 140260202010432] epochs: 5\u001b[0m\n",
      "\u001b[34m[10/03/2020 15:17:57 INFO 140260202010432] optimizer: sgd\u001b[0m\n",
      "\u001b[34m[10/03/2020 15:17:57 INFO 140260202010432] momentum: 0.9\u001b[0m\n",
      "\u001b[34m[10/03/2020 15:17:57 INFO 140260202010432] weight_decay: 0.0001\u001b[0m\n",
      "\u001b[34m[10/03/2020 15:17:57 INFO 140260202010432] learning_rate: 0.01\u001b[0m\n",
      "\u001b[34m[10/03/2020 15:17:57 INFO 140260202010432] num_training_samples: 15420\u001b[0m\n",
      "\u001b[34m[10/03/2020 15:17:57 INFO 140260202010432] mini_batch_size: 128\u001b[0m\n",
      "\u001b[34m[10/03/2020 15:17:57 INFO 140260202010432] image_shape: 3,224,224\u001b[0m\n",
      "\u001b[34m[10/03/2020 15:17:57 INFO 140260202010432] num_classes: 257\u001b[0m\n",
      "\u001b[34m[10/03/2020 15:17:57 INFO 140260202010432] augmentation_type: None\u001b[0m\n",
      "\u001b[34m[10/03/2020 15:17:57 INFO 140260202010432] kv_store: device\u001b[0m\n",
      "\u001b[34m[10/03/2020 15:17:57 INFO 140260202010432] top_k: 2\u001b[0m\n",
      "\u001b[34m[10/03/2020 15:17:57 INFO 140260202010432] checkpoint_frequency not set, will store the best model\u001b[0m\n",
      "\u001b[34m[10/03/2020 15:17:57 INFO 140260202010432] --------------------\u001b[0m\n",
      "\u001b[34m[10/03/2020 15:17:57 INFO 140260202010432] Setting number of threads: 3\u001b[0m\n",
      "\u001b[34m[15:18:08] /opt/brazil-pkg-cache/packages/AIAlgorithmsMXNet/AIAlgorithmsMXNet-1.3.x_ecl_Cuda_10.1.x.3437.0/AL2012/generic-flavor/src/src/operator/nn/./cudnn/./cudnn_algoreg-inl.h:97: Running performance tests to find the best convolution algorithm, this can take a while... (setting env variable MXNET_CUDNN_AUTOTUNE_DEFAULT to 0 to disable)\u001b[0m\n",
      "\u001b[34m[10/03/2020 15:18:29 INFO 140260202010432] Epoch[0] Batch [20]#011Speed: 114.308 samples/sec#011accuracy=0.004836#011top_k_accuracy_2=0.010417\u001b[0m\n",
      "\u001b[34m[10/03/2020 15:18:45 INFO 140260202010432] Epoch[0] Batch [40]#011Speed: 134.012 samples/sec#011accuracy=0.009718#011top_k_accuracy_2=0.016387\u001b[0m\n",
      "\u001b[34m[10/03/2020 15:19:01 INFO 140260202010432] Epoch[0] Batch [60]#011Speed: 142.041 samples/sec#011accuracy=0.014985#011top_k_accuracy_2=0.025487\u001b[0m\n",
      "\u001b[34m[10/03/2020 15:19:17 INFO 140260202010432] Epoch[0] Batch [80]#011Speed: 146.354 samples/sec#011accuracy=0.018711#011top_k_accuracy_2=0.032118\u001b[0m\n",
      "\u001b[34m[10/03/2020 15:19:33 INFO 140260202010432] Epoch[0] Batch [100]#011Speed: 149.034 samples/sec#011accuracy=0.023360#011top_k_accuracy_2=0.038598\u001b[0m\n",
      "\u001b[34m[10/03/2020 15:19:48 INFO 140260202010432] Epoch[0] Train-accuracy=0.026237\u001b[0m\n",
      "\u001b[34m[10/03/2020 15:19:48 INFO 140260202010432] Epoch[0] Train-top_k_accuracy_2=0.043424\u001b[0m\n",
      "\u001b[34m[10/03/2020 15:19:48 INFO 140260202010432] Epoch[0] Time cost=101.043\u001b[0m\n",
      "\u001b[34m[10/03/2020 15:20:18 INFO 140260202010432] Epoch[0] Validation-accuracy=0.056723\u001b[0m\n",
      "\u001b[34m[10/03/2020 15:20:18 INFO 140260202010432] Storing the best model with validation accuracy: 0.056723\u001b[0m\n",
      "\u001b[34m[10/03/2020 15:20:19 INFO 140260202010432] Saved checkpoint to \"/opt/ml/model/image-classification-0001.params\"\u001b[0m\n",
      "\u001b[34m[10/03/2020 15:20:35 INFO 140260202010432] Epoch[1] Batch [20]#011Speed: 157.068 samples/sec#011accuracy=0.050223#011top_k_accuracy_2=0.087798\u001b[0m\n",
      "\u001b[34m[10/03/2020 15:20:51 INFO 140260202010432] Epoch[1] Batch [40]#011Speed: 158.186 samples/sec#011accuracy=0.056974#011top_k_accuracy_2=0.090701\u001b[0m\n",
      "\u001b[34m[10/03/2020 15:21:07 INFO 140260202010432] Epoch[1] Batch [60]#011Speed: 158.574 samples/sec#011accuracy=0.058145#011top_k_accuracy_2=0.091957\u001b[0m\n",
      "\u001b[34m[10/03/2020 15:21:23 INFO 140260202010432] Epoch[1] Batch [80]#011Speed: 158.769 samples/sec#011accuracy=0.063079#011top_k_accuracy_2=0.097994\u001b[0m\n",
      "\u001b[34m[10/03/2020 15:21:39 INFO 140260202010432] Epoch[1] Batch [100]#011Speed: 158.882 samples/sec#011accuracy=0.065671#011top_k_accuracy_2=0.100480\u001b[0m\n",
      "\u001b[34m[10/03/2020 15:21:55 INFO 140260202010432] Epoch[1] Train-accuracy=0.070312\u001b[0m\n",
      "\u001b[34m[10/03/2020 15:21:55 INFO 140260202010432] Epoch[1] Train-top_k_accuracy_2=0.106706\u001b[0m\n",
      "\u001b[34m[10/03/2020 15:21:55 INFO 140260202010432] Epoch[1] Time cost=95.822\u001b[0m\n",
      "\u001b[34m[10/03/2020 15:22:24 INFO 140260202010432] Epoch[1] Validation-accuracy=0.120667\u001b[0m\n",
      "\u001b[34m[10/03/2020 15:22:24 INFO 140260202010432] Storing the best model with validation accuracy: 0.120667\u001b[0m\n",
      "\u001b[34m[10/03/2020 15:22:24 INFO 140260202010432] Saved checkpoint to \"/opt/ml/model/image-classification-0002.params\"\u001b[0m\n",
      "\u001b[34m[10/03/2020 15:22:41 INFO 140260202010432] Epoch[2] Batch [20]#011Speed: 157.083 samples/sec#011accuracy=0.083705#011top_k_accuracy_2=0.129464\u001b[0m\n",
      "\u001b[34m[10/03/2020 15:22:57 INFO 140260202010432] Epoch[2] Batch [40]#011Speed: 158.223 samples/sec#011accuracy=0.092988#011top_k_accuracy_2=0.137005\u001b[0m\n",
      "\u001b[34m[10/03/2020 15:23:13 INFO 140260202010432] Epoch[2] Batch [60]#011Speed: 158.595 samples/sec#011accuracy=0.094006#011top_k_accuracy_2=0.141137\u001b[0m\n",
      "\u001b[34m[10/03/2020 15:23:29 INFO 140260202010432] Epoch[2] Batch [80]#011Speed: 158.809 samples/sec#011accuracy=0.099730#011top_k_accuracy_2=0.148920\u001b[0m\n",
      "\u001b[34m[10/03/2020 15:23:45 INFO 140260202010432] Epoch[2] Batch [100]#011Speed: 158.921 samples/sec#011accuracy=0.102413#011top_k_accuracy_2=0.152073\u001b[0m\n",
      "\u001b[34m[10/03/2020 15:24:00 INFO 140260202010432] Epoch[2] Train-accuracy=0.105599\u001b[0m\n",
      "\u001b[34m[10/03/2020 15:24:00 INFO 140260202010432] Epoch[2] Train-top_k_accuracy_2=0.155859\u001b[0m\n",
      "\u001b[34m[10/03/2020 15:24:00 INFO 140260202010432] Epoch[2] Time cost=95.802\u001b[0m\n",
      "\u001b[34m[10/03/2020 15:24:30 INFO 140260202010432] Epoch[2] Validation-accuracy=0.157640\u001b[0m\n",
      "\u001b[34m[10/03/2020 15:24:30 INFO 140260202010432] Storing the best model with validation accuracy: 0.157640\u001b[0m\n",
      "\u001b[34m[10/03/2020 15:24:30 INFO 140260202010432] Saved checkpoint to \"/opt/ml/model/image-classification-0003.params\"\u001b[0m\n",
      "\u001b[34m[10/03/2020 15:24:46 INFO 140260202010432] Epoch[3] Batch [20]#011Speed: 157.194 samples/sec#011accuracy=0.113467#011top_k_accuracy_2=0.176339\u001b[0m\n",
      "\u001b[34m[10/03/2020 15:25:02 INFO 140260202010432] Epoch[3] Batch [40]#011Speed: 158.443 samples/sec#011accuracy=0.121189#011top_k_accuracy_2=0.180831\u001b[0m\n",
      "\u001b[34m[10/03/2020 15:25:19 INFO 140260202010432] Epoch[3] Batch [60]#011Speed: 158.769 samples/sec#011accuracy=0.124488#011top_k_accuracy_2=0.185067\u001b[0m\n",
      "\u001b[34m[10/03/2020 15:25:35 INFO 140260202010432] Epoch[3] Batch [80]#011Speed: 158.923 samples/sec#011accuracy=0.130883#011top_k_accuracy_2=0.192323\u001b[0m\n",
      "\u001b[34m[10/03/2020 15:25:51 INFO 140260202010432] Epoch[3] Batch [100]#011Speed: 159.015 samples/sec#011accuracy=0.134592#011top_k_accuracy_2=0.196937\u001b[0m\n",
      "\u001b[34m[10/03/2020 15:26:06 INFO 140260202010432] Epoch[3] Train-accuracy=0.137956\u001b[0m\n",
      "\u001b[34m[10/03/2020 15:26:06 INFO 140260202010432] Epoch[3] Train-top_k_accuracy_2=0.201172\u001b[0m\n",
      "\u001b[34m[10/03/2020 15:26:06 INFO 140260202010432] Epoch[3] Time cost=95.750\u001b[0m\n",
      "\u001b[34m[10/03/2020 15:26:35 INFO 140260202010432] Epoch[3] Validation-accuracy=0.187172\u001b[0m\n",
      "\u001b[34m[10/03/2020 15:26:35 INFO 140260202010432] Storing the best model with validation accuracy: 0.187172\u001b[0m\n",
      "\u001b[34m[10/03/2020 15:26:36 INFO 140260202010432] Saved checkpoint to \"/opt/ml/model/image-classification-0004.params\"\u001b[0m\n",
      "\u001b[34m[10/03/2020 15:26:52 INFO 140260202010432] Epoch[4] Batch [20]#011Speed: 157.282 samples/sec#011accuracy=0.155134#011top_k_accuracy_2=0.210193\u001b[0m\n",
      "\u001b[34m[10/03/2020 15:27:08 INFO 140260202010432] Epoch[4] Batch [40]#011Speed: 158.364 samples/sec#011accuracy=0.156250#011top_k_accuracy_2=0.217988\u001b[0m\n",
      "\u001b[34m[10/03/2020 15:27:24 INFO 140260202010432] Epoch[4] Batch [60]#011Speed: 158.721 samples/sec#011accuracy=0.158299#011top_k_accuracy_2=0.226434\u001b[0m\n",
      "\u001b[34m[10/03/2020 15:27:40 INFO 140260202010432] Epoch[4] Batch [80]#011Speed: 158.873 samples/sec#011accuracy=0.165799#011top_k_accuracy_2=0.235725\u001b[0m\n",
      "\u001b[34m[10/03/2020 15:27:56 INFO 140260202010432] Epoch[4] Batch [100]#011Speed: 158.977 samples/sec#011accuracy=0.167930#011top_k_accuracy_2=0.238165\u001b[0m\n",
      "\u001b[34m[10/03/2020 15:28:11 INFO 140260202010432] Epoch[4] Train-accuracy=0.171615\u001b[0m\n",
      "\u001b[34m[10/03/2020 15:28:11 INFO 140260202010432] Epoch[4] Train-top_k_accuracy_2=0.242773\u001b[0m\n",
      "\u001b[34m[10/03/2020 15:28:11 INFO 140260202010432] Epoch[4] Time cost=95.769\u001b[0m\n",
      "\u001b[34m[10/03/2020 15:28:41 INFO 140260202010432] Epoch[4] Validation-accuracy=0.202731\u001b[0m\n",
      "\u001b[34m[10/03/2020 15:28:41 INFO 140260202010432] Storing the best model with validation accuracy: 0.202731\u001b[0m\n",
      "\u001b[34m[10/03/2020 15:28:41 INFO 140260202010432] Saved checkpoint to \"/opt/ml/model/image-classification-0005.params\"\u001b[0m\n",
      "\n",
      "2020-10-03 15:28:58 Uploading - Uploading generated training model\n",
      "2020-10-03 15:28:58 Completed - Training job completed\n",
      "Training seconds: 781\n",
      "Billable seconds: 781\n"
     ]
    }
   ],
   "source": [
    "ic.fit(inputs=data_channels, logs=True)"
   ]
  },
  {
   "cell_type": "markdown",
   "metadata": {},
   "source": [
    "# Compile\n",
    "\n",
    "***\n",
    "\n",
    "[Amazon SageMaker Neo](https://aws.amazon.com/sagemaker/neo/) optimizes models to run up to twice as fast, with no loss in accuracy. When calling `compile_model()` function, we specify the target instance family (m4) as well as the S3 bucket to which the compiled model would be stored."
   ]
  },
  {
   "cell_type": "code",
   "execution_count": null,
   "metadata": {},
   "outputs": [
    {
     "name": "stderr",
     "output_type": "stream",
     "text": [
      "Parameter image will be renamed to image_uri in SageMaker Python SDK v2.\n",
      "Parameter image will be renamed to image_uri in SageMaker Python SDK v2.\n"
     ]
    },
    {
     "name": "stdout",
     "output_type": "stream",
     "text": [
      "?..*"
     ]
    },
    {
     "ename": "UnexpectedStatusException",
     "evalue": "Error for Compilation job compilation-image-classification-2020-10-03-15-29-17-973: Failed. Reason: ClientError: CompilationError: Failed to compile MXNet model: key `softmax_label` is missing in `args` ",
     "output_type": "error",
     "traceback": [
      "\u001b[0;31m---------------------------------------------------------------------------\u001b[0m",
      "\u001b[0;31mUnexpectedStatusException\u001b[0m                 Traceback (most recent call last)",
      "\u001b[0;32m<ipython-input-9-6ebaea4d6017>\u001b[0m in \u001b[0;36m<module>\u001b[0;34m\u001b[0m\n\u001b[1;32m      7\u001b[0m                                     \u001b[0minput_shape\u001b[0m\u001b[0;34m=\u001b[0m\u001b[0;34m{\u001b[0m\u001b[0;34m'data'\u001b[0m\u001b[0;34m:\u001b[0m \u001b[0;34m[\u001b[0m\u001b[0;36m1\u001b[0m\u001b[0;34m,\u001b[0m \u001b[0;36m3\u001b[0m\u001b[0;34m,\u001b[0m \u001b[0;36m224\u001b[0m\u001b[0;34m,\u001b[0m \u001b[0;36m224\u001b[0m\u001b[0;34m]\u001b[0m\u001b[0;34m}\u001b[0m\u001b[0;34m,\u001b[0m  \u001b[0;31m# Batch size 1, 3 channels, 224x224 Images.\u001b[0m\u001b[0;34m\u001b[0m\u001b[0;34m\u001b[0m\u001b[0m\n\u001b[1;32m      8\u001b[0m                                     \u001b[0moutput_path\u001b[0m\u001b[0;34m=\u001b[0m\u001b[0moutput_path\u001b[0m\u001b[0;34m,\u001b[0m\u001b[0;34m\u001b[0m\u001b[0;34m\u001b[0m\u001b[0m\n\u001b[0;32m----> 9\u001b[0;31m                                     framework='mxnet', framework_version='1.2.1')\n\u001b[0m\u001b[1;32m     10\u001b[0m     \u001b[0moptimized_ic\u001b[0m\u001b[0;34m.\u001b[0m\u001b[0mimage\u001b[0m \u001b[0;34m=\u001b[0m \u001b[0mget_image_uri\u001b[0m\u001b[0;34m(\u001b[0m\u001b[0msess\u001b[0m\u001b[0;34m.\u001b[0m\u001b[0mboto_region_name\u001b[0m\u001b[0;34m,\u001b[0m \u001b[0;34m'image-classification-neo'\u001b[0m\u001b[0;34m,\u001b[0m \u001b[0mrepo_version\u001b[0m\u001b[0;34m=\u001b[0m\u001b[0;34m\"latest\"\u001b[0m\u001b[0;34m)\u001b[0m\u001b[0;34m\u001b[0m\u001b[0;34m\u001b[0m\u001b[0m\n\u001b[1;32m     11\u001b[0m     \u001b[0moptimized_ic\u001b[0m\u001b[0;34m.\u001b[0m\u001b[0mname\u001b[0m \u001b[0;34m=\u001b[0m \u001b[0;34m'deployed-image-classification'\u001b[0m\u001b[0;34m\u001b[0m\u001b[0;34m\u001b[0m\u001b[0m\n",
      "\u001b[0;32m~/anaconda3/envs/python3/lib/python3.6/site-packages/sagemaker/estimator.py\u001b[0m in \u001b[0;36mcompile_model\u001b[0;34m(self, target_instance_family, input_shape, output_path, framework, framework_version, compile_max_run, tags, target_platform_os, target_platform_arch, target_platform_accelerator, compiler_options, **kwargs)\u001b[0m\n\u001b[1;32m    588\u001b[0m             \u001b[0mtarget_platform_arch\u001b[0m\u001b[0;34m=\u001b[0m\u001b[0mtarget_platform_arch\u001b[0m\u001b[0;34m,\u001b[0m\u001b[0;34m\u001b[0m\u001b[0;34m\u001b[0m\u001b[0m\n\u001b[1;32m    589\u001b[0m             \u001b[0mtarget_platform_accelerator\u001b[0m\u001b[0;34m=\u001b[0m\u001b[0mtarget_platform_accelerator\u001b[0m\u001b[0;34m,\u001b[0m\u001b[0;34m\u001b[0m\u001b[0;34m\u001b[0m\u001b[0m\n\u001b[0;32m--> 590\u001b[0;31m             \u001b[0mcompiler_options\u001b[0m\u001b[0;34m=\u001b[0m\u001b[0mcompiler_options\u001b[0m\u001b[0;34m,\u001b[0m\u001b[0;34m\u001b[0m\u001b[0;34m\u001b[0m\u001b[0m\n\u001b[0m\u001b[1;32m    591\u001b[0m         )\n\u001b[1;32m    592\u001b[0m         \u001b[0;32mreturn\u001b[0m \u001b[0mself\u001b[0m\u001b[0;34m.\u001b[0m\u001b[0m_compiled_models\u001b[0m\u001b[0;34m[\u001b[0m\u001b[0mtarget_instance_family\u001b[0m\u001b[0;34m]\u001b[0m\u001b[0;34m\u001b[0m\u001b[0;34m\u001b[0m\u001b[0m\n",
      "\u001b[0;32m~/anaconda3/envs/python3/lib/python3.6/site-packages/sagemaker/model.py\u001b[0m in \u001b[0;36mcompile\u001b[0;34m(self, target_instance_family, input_shape, output_path, role, tags, job_name, compile_max_run, framework, framework_version, target_platform_os, target_platform_arch, target_platform_accelerator, compiler_options)\u001b[0m\n\u001b[1;32m    434\u001b[0m         )\n\u001b[1;32m    435\u001b[0m         \u001b[0mself\u001b[0m\u001b[0;34m.\u001b[0m\u001b[0msagemaker_session\u001b[0m\u001b[0;34m.\u001b[0m\u001b[0mcompile_model\u001b[0m\u001b[0;34m(\u001b[0m\u001b[0;34m**\u001b[0m\u001b[0mconfig\u001b[0m\u001b[0;34m)\u001b[0m\u001b[0;34m\u001b[0m\u001b[0;34m\u001b[0m\u001b[0m\n\u001b[0;32m--> 436\u001b[0;31m         \u001b[0mjob_status\u001b[0m \u001b[0;34m=\u001b[0m \u001b[0mself\u001b[0m\u001b[0;34m.\u001b[0m\u001b[0msagemaker_session\u001b[0m\u001b[0;34m.\u001b[0m\u001b[0mwait_for_compilation_job\u001b[0m\u001b[0;34m(\u001b[0m\u001b[0mjob_name\u001b[0m\u001b[0;34m)\u001b[0m\u001b[0;34m\u001b[0m\u001b[0;34m\u001b[0m\u001b[0m\n\u001b[0m\u001b[1;32m    437\u001b[0m         \u001b[0mself\u001b[0m\u001b[0;34m.\u001b[0m\u001b[0mmodel_data\u001b[0m \u001b[0;34m=\u001b[0m \u001b[0mjob_status\u001b[0m\u001b[0;34m[\u001b[0m\u001b[0;34m\"ModelArtifacts\"\u001b[0m\u001b[0;34m]\u001b[0m\u001b[0;34m[\u001b[0m\u001b[0;34m\"S3ModelArtifacts\"\u001b[0m\u001b[0;34m]\u001b[0m\u001b[0;34m\u001b[0m\u001b[0;34m\u001b[0m\u001b[0m\n\u001b[1;32m    438\u001b[0m         \u001b[0;32mif\u001b[0m \u001b[0mtarget_instance_family\u001b[0m \u001b[0;32mis\u001b[0m \u001b[0;32mnot\u001b[0m \u001b[0;32mNone\u001b[0m\u001b[0;34m:\u001b[0m\u001b[0;34m\u001b[0m\u001b[0;34m\u001b[0m\u001b[0m\n",
      "\u001b[0;32m~/anaconda3/envs/python3/lib/python3.6/site-packages/sagemaker/session.py\u001b[0m in \u001b[0;36mwait_for_compilation_job\u001b[0;34m(self, job, poll)\u001b[0m\n\u001b[1;32m   2575\u001b[0m         \"\"\"\n\u001b[1;32m   2576\u001b[0m         \u001b[0mdesc\u001b[0m \u001b[0;34m=\u001b[0m \u001b[0m_wait_until\u001b[0m\u001b[0;34m(\u001b[0m\u001b[0;32mlambda\u001b[0m\u001b[0;34m:\u001b[0m \u001b[0m_compilation_job_status\u001b[0m\u001b[0;34m(\u001b[0m\u001b[0mself\u001b[0m\u001b[0;34m.\u001b[0m\u001b[0msagemaker_client\u001b[0m\u001b[0;34m,\u001b[0m \u001b[0mjob\u001b[0m\u001b[0;34m)\u001b[0m\u001b[0;34m,\u001b[0m \u001b[0mpoll\u001b[0m\u001b[0;34m)\u001b[0m\u001b[0;34m\u001b[0m\u001b[0;34m\u001b[0m\u001b[0m\n\u001b[0;32m-> 2577\u001b[0;31m         \u001b[0mself\u001b[0m\u001b[0;34m.\u001b[0m\u001b[0m_check_job_status\u001b[0m\u001b[0;34m(\u001b[0m\u001b[0mjob\u001b[0m\u001b[0;34m,\u001b[0m \u001b[0mdesc\u001b[0m\u001b[0;34m,\u001b[0m \u001b[0;34m\"CompilationJobStatus\"\u001b[0m\u001b[0;34m)\u001b[0m\u001b[0;34m\u001b[0m\u001b[0;34m\u001b[0m\u001b[0m\n\u001b[0m\u001b[1;32m   2578\u001b[0m         \u001b[0;32mreturn\u001b[0m \u001b[0mdesc\u001b[0m\u001b[0;34m\u001b[0m\u001b[0;34m\u001b[0m\u001b[0m\n\u001b[1;32m   2579\u001b[0m \u001b[0;34m\u001b[0m\u001b[0m\n",
      "\u001b[0;32m~/anaconda3/envs/python3/lib/python3.6/site-packages/sagemaker/session.py\u001b[0m in \u001b[0;36m_check_job_status\u001b[0;34m(self, job, desc, status_key_name)\u001b[0m\n\u001b[1;32m   2669\u001b[0m                 ),\n\u001b[1;32m   2670\u001b[0m                 \u001b[0mallowed_statuses\u001b[0m\u001b[0;34m=\u001b[0m\u001b[0;34m[\u001b[0m\u001b[0;34m\"Completed\"\u001b[0m\u001b[0;34m,\u001b[0m \u001b[0;34m\"Stopped\"\u001b[0m\u001b[0;34m]\u001b[0m\u001b[0;34m,\u001b[0m\u001b[0;34m\u001b[0m\u001b[0;34m\u001b[0m\u001b[0m\n\u001b[0;32m-> 2671\u001b[0;31m                 \u001b[0mactual_status\u001b[0m\u001b[0;34m=\u001b[0m\u001b[0mstatus\u001b[0m\u001b[0;34m,\u001b[0m\u001b[0;34m\u001b[0m\u001b[0;34m\u001b[0m\u001b[0m\n\u001b[0m\u001b[1;32m   2672\u001b[0m             )\n\u001b[1;32m   2673\u001b[0m \u001b[0;34m\u001b[0m\u001b[0m\n",
      "\u001b[0;31mUnexpectedStatusException\u001b[0m: Error for Compilation job compilation-image-classification-2020-10-03-15-29-17-973: Failed. Reason: ClientError: CompilationError: Failed to compile MXNet model: key `softmax_label` is missing in `args` "
     ]
    }
   ],
   "source": [
    "optimized_ic = ic\n",
    "if ic.create_model().check_neo_region(boto3.Session().region_name) is False:\n",
    "    print('Neo is not currently supported in', boto3.Session().region_name)\n",
    "else:\n",
    "    output_path = '/'.join(ic.output_path.split('/')[:-1])\n",
    "    optimized_ic = ic.compile_model(target_instance_family='ml_m4', \n",
    "                                    input_shape={'data': [1, 3, 224, 224]},  # Batch size 1, 3 channels, 224x224 Images.\n",
    "                                    output_path=output_path,\n",
    "                                    framework='mxnet', framework_version='1.2.1')\n",
    "    optimized_ic.image = get_image_uri(sess.boto_region_name, 'image-classification-neo', repo_version=\"latest\")\n",
    "    optimized_ic.name = 'deployed-image-classification'"
   ]
  },
  {
   "cell_type": "markdown",
   "metadata": {},
   "source": [
    "# Inference\n",
    "\n",
    "***\n",
    "\n",
    "A trained model does nothing on its own. We now want to use the model to perform inference. For this example, that means predicting the topic mixture representing a given document. You can deploy the created model by using the deploy method in the estimator"
   ]
  },
  {
   "cell_type": "code",
   "execution_count": null,
   "metadata": {},
   "outputs": [],
   "source": [
    "ic_classifier = optimized_ic.deploy(initial_instance_count = 1,\n",
    "                                          instance_type = 'ml.m4.xlarge')"
   ]
  },
  {
   "cell_type": "markdown",
   "metadata": {},
   "source": [
    "### Download test image"
   ]
  },
  {
   "cell_type": "code",
   "execution_count": null,
   "metadata": {},
   "outputs": [],
   "source": [
    "!wget -O /tmp/test.jpg http://www.vision.caltech.edu/Image_Datasets/Caltech256/images/008.bathtub/008_0007.jpg\n",
    "file_name = '/tmp/test.jpg'\n",
    "# test image\n",
    "from IPython.display import Image\n",
    "Image(file_name)  "
   ]
  },
  {
   "cell_type": "markdown",
   "metadata": {},
   "source": [
    "### Evaluation\n",
    "\n",
    "Evaluate the image through the network for inteference. The network outputs class probabilities and typically, one selects the class with the maximum probability as the final class output.\n",
    "\n",
    "**Note:** The output class detected by the network may not be accurate in this example. To limit the time taken and cost of training, we have trained the model only for 5 epochs. If the network is trained for more epochs (say 20), then the output class will be more accurate."
   ]
  },
  {
   "cell_type": "code",
   "execution_count": null,
   "metadata": {},
   "outputs": [],
   "source": [
    "import json\n",
    "import numpy as np\n",
    "\n",
    "with open(file_name, 'rb') as f:\n",
    "    payload = f.read()\n",
    "    payload = bytearray(payload)\n",
    "    \n",
    "ic_classifier.content_type = 'application/x-image'\n",
    "result = json.loads(ic_classifier.predict(payload))\n",
    "# the result will output the probabilities for all classes\n",
    "# find the class with maximum probability and print the class index\n",
    "index = np.argmax(result)\n",
    "object_categories = ['ak47', 'american-flag', 'backpack', 'baseball-bat', 'baseball-glove', 'basketball-hoop', 'bat', 'bathtub', 'bear', 'beer-mug', 'billiards', 'binoculars', 'birdbath', 'blimp', 'bonsai-101', 'boom-box', 'bowling-ball', 'bowling-pin', 'boxing-glove', 'brain-101', 'breadmaker', 'buddha-101', 'bulldozer', 'butterfly', 'cactus', 'cake', 'calculator', 'camel', 'cannon', 'canoe', 'car-tire', 'cartman', 'cd', 'centipede', 'cereal-box', 'chandelier-101', 'chess-board', 'chimp', 'chopsticks', 'cockroach', 'coffee-mug', 'coffin', 'coin', 'comet', 'computer-keyboard', 'computer-monitor', 'computer-mouse', 'conch', 'cormorant', 'covered-wagon', 'cowboy-hat', 'crab-101', 'desk-globe', 'diamond-ring', 'dice', 'dog', 'dolphin-101', 'doorknob', 'drinking-straw', 'duck', 'dumb-bell', 'eiffel-tower', 'electric-guitar-101', 'elephant-101', 'elk', 'ewer-101', 'eyeglasses', 'fern', 'fighter-jet', 'fire-extinguisher', 'fire-hydrant', 'fire-truck', 'fireworks', 'flashlight', 'floppy-disk', 'football-helmet', 'french-horn', 'fried-egg', 'frisbee', 'frog', 'frying-pan', 'galaxy', 'gas-pump', 'giraffe', 'goat', 'golden-gate-bridge', 'goldfish', 'golf-ball', 'goose', 'gorilla', 'grand-piano-101', 'grapes', 'grasshopper', 'guitar-pick', 'hamburger', 'hammock', 'harmonica', 'harp', 'harpsichord', 'hawksbill-101', 'head-phones', 'helicopter-101', 'hibiscus', 'homer-simpson', 'horse', 'horseshoe-crab', 'hot-air-balloon', 'hot-dog', 'hot-tub', 'hourglass', 'house-fly', 'human-skeleton', 'hummingbird', 'ibis-101', 'ice-cream-cone', 'iguana', 'ipod', 'iris', 'jesus-christ', 'joy-stick', 'kangaroo-101', 'kayak', 'ketch-101', 'killer-whale', 'knife', 'ladder', 'laptop-101', 'lathe', 'leopards-101', 'license-plate', 'lightbulb', 'light-house', 'lightning', 'llama-101', 'mailbox', 'mandolin', 'mars', 'mattress', 'megaphone', 'menorah-101', 'microscope', 'microwave', 'minaret', 'minotaur', 'motorbikes-101', 'mountain-bike', 'mushroom', 'mussels', 'necktie', 'octopus', 'ostrich', 'owl', 'palm-pilot', 'palm-tree', 'paperclip', 'paper-shredder', 'pci-card', 'penguin', 'people', 'pez-dispenser', 'photocopier', 'picnic-table', 'playing-card', 'porcupine', 'pram', 'praying-mantis', 'pyramid', 'raccoon', 'radio-telescope', 'rainbow', 'refrigerator', 'revolver-101', 'rifle', 'rotary-phone', 'roulette-wheel', 'saddle', 'saturn', 'school-bus', 'scorpion-101', 'screwdriver', 'segway', 'self-propelled-lawn-mower', 'sextant', 'sheet-music', 'skateboard', 'skunk', 'skyscraper', 'smokestack', 'snail', 'snake', 'sneaker', 'snowmobile', 'soccer-ball', 'socks', 'soda-can', 'spaghetti', 'speed-boat', 'spider', 'spoon', 'stained-glass', 'starfish-101', 'steering-wheel', 'stirrups', 'sunflower-101', 'superman', 'sushi', 'swan', 'swiss-army-knife', 'sword', 'syringe', 'tambourine', 'teapot', 'teddy-bear', 'teepee', 'telephone-box', 'tennis-ball', 'tennis-court', 'tennis-racket', 'theodolite', 'toaster', 'tomato', 'tombstone', 'top-hat', 'touring-bike', 'tower-pisa', 'traffic-light', 'treadmill', 'triceratops', 'tricycle', 'trilobite-101', 'tripod', 't-shirt', 'tuning-fork', 'tweezer', 'umbrella-101', 'unicorn', 'vcr', 'video-projector', 'washing-machine', 'watch-101', 'waterfall', 'watermelon', 'welding-mask', 'wheelbarrow', 'windmill', 'wine-bottle', 'xylophone', 'yarmulke', 'yo-yo', 'zebra', 'airplanes-101', 'car-side-101', 'faces-easy-101', 'greyhound', 'tennis-shoes', 'toad', 'clutter']\n",
    "print(\"Result: label - \" + object_categories[index] + \", probability - \" + str(result[index]))"
   ]
  },
  {
   "cell_type": "markdown",
   "metadata": {},
   "source": [
    "### Clean up\n",
    "\n",
    "\n",
    "When we're done with the endpoint, we can just delete it and the backing instances will be released. Uncomment and run the following cell to delete the endpoint and model"
   ]
  },
  {
   "cell_type": "code",
   "execution_count": null,
   "metadata": {},
   "outputs": [],
   "source": [
    "ic_classifier.delete_endpoint()"
   ]
  },
  {
   "cell_type": "code",
   "execution_count": null,
   "metadata": {},
   "outputs": [],
   "source": []
  }
 ],
 "metadata": {
  "kernelspec": {
   "display_name": "conda_python3",
   "language": "python",
   "name": "conda_python3"
  },
  "notice": "Copyright 2018 Amazon.com, Inc. or its affiliates. All Rights Reserved.  Licensed under the Apache License, Version 2.0 (the \"License\"). You may not use this file except in compliance with the License. A copy of the License is located at http://aws.amazon.com/apache2.0/ or in the \"license\" file accompanying this file. This file is distributed on an \"AS IS\" BASIS, WITHOUT WARRANTIES OR CONDITIONS OF ANY KIND, either express or implied. See the License for the specific language governing permissions and limitations under the License."
 },
 "nbformat": 4,
 "nbformat_minor": 2
}
